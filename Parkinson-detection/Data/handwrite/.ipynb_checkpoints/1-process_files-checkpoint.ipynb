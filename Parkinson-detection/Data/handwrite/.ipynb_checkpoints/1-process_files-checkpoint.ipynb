{
 "cells": [
  {
   "cell_type": "markdown",
   "metadata": {},
   "source": [
    "# Process_files\n",
    "\n",
    "Iremos realizar um pré-processamento nos dados."
   ]
  },
  {
   "cell_type": "code",
   "execution_count": null,
   "metadata": {},
   "outputs": [],
   "source": [
    "import os\n",
    "import numpy as np\n",
    "import pandas as pd"
   ]
  },
  {
   "cell_type": "code",
   "execution_count": null,
   "metadata": {},
   "outputs": [],
   "source": [
    "'''Read data about control group'''\n",
    "def read_control():\n",
    "    #Path to data\n",
    "    data_path = os.getcwd() + '/control/'\n",
    "\n",
    "    #List files in data_patabsh\n",
    "    filenames = os.listdir(data_path)\n",
    "\n",
    "    #Dataframe with all control's people\n",
    "    df_control = pd.DataFrame()\n",
    "\n",
    "    for file in filenames:\n",
    "        #Read data\n",
    "        df = pd.read_csv(data_path + file,sep=';',header=None,names=['X','Y','Z','pressure','gripAngle','timestamp','test_id'])\n",
    "\n",
    "        #Set an id \n",
    "        df['id'] = file.split('.')[0]\n",
    "\n",
    "        #Set that the person does not have parkinson\n",
    "        df['parkinson'] = False\n",
    "\n",
    "        #Concat results\n",
    "        df_control = pd.concat([df_control,df],axis=0)\n",
    "        \n",
    "    return df_control\n",
    "        \n",
    "'''Read data about parkinson group'''\n",
    "def read_parkinson():\n",
    "    #Path to data\n",
    "    data_path = os.getcwd() + '/parkinson/'\n",
    "\n",
    "    #List files in data_patabsh\n",
    "    filenames = os.listdir(data_path)\n",
    "\n",
    "    #Dataframe with all control's people\n",
    "    df_parkinson = pd.DataFrame()\n",
    "\n",
    "    for file in filenames:\n",
    "        #Read data\n",
    "        df = pd.read_csv(data_path + file,sep=';',header=None,names=['X','Y','Z','pressure','gripAngle','timestamp','test_id'])\n",
    "\n",
    "        #Set an id \n",
    "        df['id'] = file.split('.')[0]\n",
    "\n",
    "        #Set that the person does not have parkinson\n",
    "        df['parkinson'] = True\n",
    "\n",
    "        #Concat results\n",
    "        df_parkinson = pd.concat([df_parkinson,df],axis=0)\n",
    "    \n",
    "    return df_parkinson"
   ]
  },
  {
   "cell_type": "code",
   "execution_count": null,
   "metadata": {},
   "outputs": [],
   "source": [
    "#Read two datasets\n",
    "df_control = read_control()\n",
    "df_parkinson = read_parkinson()\n",
    "\n",
    "#Concat two datasets\n",
    "df_parkinson = pd.concat([df_parkinson,df_control])\n",
    "\n",
    "#This column it's not necessary\n",
    "del df_parkinson['Z']\n",
    "\n",
    "#Fix columns position\n",
    "df_parkinson = df_parkinson.loc[:,['id','test_id','X','Y','pressure','gripAngle','timestamp','parkinson']]\n",
    "\n",
    "#Sort values\n",
    "df_parkinson.sort_values(['id','test_id','timestamp'],inplace=True)\n",
    "\n",
    "#Save result\n",
    "df_parkinson.to_csv('parkinson_hw.csv',index=False)"
   ]
  }
 ],
 "metadata": {
  "kernelspec": {
   "display_name": "Python 3",
   "language": "python",
   "name": "python3"
  },
  "language_info": {
   "codemirror_mode": {
    "name": "ipython",
    "version": 3
   },
   "file_extension": ".py",
   "mimetype": "text/x-python",
   "name": "python",
   "nbconvert_exporter": "python",
   "pygments_lexer": "ipython3",
   "version": "3.7.1"
  }
 },
 "nbformat": 4,
 "nbformat_minor": 2
}
