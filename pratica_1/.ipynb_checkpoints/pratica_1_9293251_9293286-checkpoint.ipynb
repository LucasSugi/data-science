{
 "cells": [
  {
   "cell_type": "markdown",
   "metadata": {},
   "source": [
    "# Dataset utilizado: diabetes\n",
    "\n",
    "### Lucas Yudi Sugi - 9293251\n",
    "### Kelvin Guilherme de Oliveira - 9293286"
   ]
  },
  {
   "cell_type": "markdown",
   "metadata": {},
   "source": [
    "Inicialmente iremos avaliar graficamente o dataset para ter um melhor entendimento do mesmo."
   ]
  },
  {
   "cell_type": "code",
   "execution_count": 1,
   "metadata": {},
   "outputs": [
    {
     "data": {
      "text/html": [
       "<div>\n",
       "<style scoped>\n",
       "    .dataframe tbody tr th:only-of-type {\n",
       "        vertical-align: middle;\n",
       "    }\n",
       "\n",
       "    .dataframe tbody tr th {\n",
       "        vertical-align: top;\n",
       "    }\n",
       "\n",
       "    .dataframe thead th {\n",
       "        text-align: right;\n",
       "    }\n",
       "</style>\n",
       "<table border=\"1\" class=\"dataframe\">\n",
       "  <thead>\n",
       "    <tr style=\"text-align: right;\">\n",
       "      <th></th>\n",
       "      <th>AGE</th>\n",
       "      <th>SEX</th>\n",
       "      <th>BMI</th>\n",
       "      <th>BP</th>\n",
       "      <th>S1</th>\n",
       "      <th>S2</th>\n",
       "      <th>S3</th>\n",
       "      <th>S4</th>\n",
       "      <th>S5</th>\n",
       "      <th>S6</th>\n",
       "      <th>Y</th>\n",
       "    </tr>\n",
       "  </thead>\n",
       "  <tbody>\n",
       "    <tr>\n",
       "      <th>0</th>\n",
       "      <td>59</td>\n",
       "      <td>2</td>\n",
       "      <td>32.1</td>\n",
       "      <td>101.0</td>\n",
       "      <td>157</td>\n",
       "      <td>93.2</td>\n",
       "      <td>38.0</td>\n",
       "      <td>4.0</td>\n",
       "      <td>4.8598</td>\n",
       "      <td>87</td>\n",
       "      <td>151</td>\n",
       "    </tr>\n",
       "    <tr>\n",
       "      <th>1</th>\n",
       "      <td>48</td>\n",
       "      <td>1</td>\n",
       "      <td>21.6</td>\n",
       "      <td>87.0</td>\n",
       "      <td>183</td>\n",
       "      <td>103.2</td>\n",
       "      <td>70.0</td>\n",
       "      <td>3.0</td>\n",
       "      <td>3.8918</td>\n",
       "      <td>69</td>\n",
       "      <td>75</td>\n",
       "    </tr>\n",
       "    <tr>\n",
       "      <th>2</th>\n",
       "      <td>72</td>\n",
       "      <td>2</td>\n",
       "      <td>30.5</td>\n",
       "      <td>93.0</td>\n",
       "      <td>156</td>\n",
       "      <td>93.6</td>\n",
       "      <td>41.0</td>\n",
       "      <td>4.0</td>\n",
       "      <td>4.6728</td>\n",
       "      <td>85</td>\n",
       "      <td>141</td>\n",
       "    </tr>\n",
       "    <tr>\n",
       "      <th>3</th>\n",
       "      <td>24</td>\n",
       "      <td>1</td>\n",
       "      <td>25.3</td>\n",
       "      <td>84.0</td>\n",
       "      <td>198</td>\n",
       "      <td>131.4</td>\n",
       "      <td>40.0</td>\n",
       "      <td>5.0</td>\n",
       "      <td>4.8903</td>\n",
       "      <td>89</td>\n",
       "      <td>206</td>\n",
       "    </tr>\n",
       "    <tr>\n",
       "      <th>4</th>\n",
       "      <td>50</td>\n",
       "      <td>1</td>\n",
       "      <td>23.0</td>\n",
       "      <td>101.0</td>\n",
       "      <td>192</td>\n",
       "      <td>125.4</td>\n",
       "      <td>52.0</td>\n",
       "      <td>4.0</td>\n",
       "      <td>4.2905</td>\n",
       "      <td>80</td>\n",
       "      <td>135</td>\n",
       "    </tr>\n",
       "  </tbody>\n",
       "</table>\n",
       "</div>"
      ],
      "text/plain": [
       "   AGE  SEX   BMI     BP   S1     S2    S3   S4      S5  S6    Y\n",
       "0   59    2  32.1  101.0  157   93.2  38.0  4.0  4.8598  87  151\n",
       "1   48    1  21.6   87.0  183  103.2  70.0  3.0  3.8918  69   75\n",
       "2   72    2  30.5   93.0  156   93.6  41.0  4.0  4.6728  85  141\n",
       "3   24    1  25.3   84.0  198  131.4  40.0  5.0  4.8903  89  206\n",
       "4   50    1  23.0  101.0  192  125.4  52.0  4.0  4.2905  80  135"
      ]
     },
     "execution_count": 1,
     "metadata": {},
     "output_type": "execute_result"
    }
   ],
   "source": [
    "#Importando todos os modulos necessarios para a analise exploratoria de dados\n",
    "import pandas as pd\n",
    "import numpy as np\n",
    "import matplotlib.pyplot as plt\n",
    "import warnings\n",
    "warnings.filterwarnings(\"ignore\")\n",
    "%matplotlib inline\n",
    "\n",
    "#Leitura do dataset com o pandas\n",
    "dataset = pd.read_table('./datasets/diabetes/diabetes.tab.txt')\n",
    "\n",
    "#Mostrando dataset (Apenas uma parte)\n",
    "dataset.head()"
   ]
  },
  {
   "cell_type": "markdown",
   "metadata": {},
   "source": [
    "A partir da análise anterior e da leitura do site https://www4.stat.ncsu.edu/~boos/var.select/diabetes.html podemos identificar qual será o objetivo da análise assim como quais serão os atributos de interesse.\n",
    "\n",
    "Desse modo, temos como objetivo entender melhor nosso dataset realizando limpezas, transformações, descobertas de insights e etc para que os algoritmos de machine learning possam fazer melhores previsões.\n",
    "\n",
    "Definido o objetivo, as seguintes perguntas foram formuladas: <br>\n",
    "1 - Como a progressão da doença é impactada pelo sexo do paciente. <br>\n",
    "2 - Como a progressão da doença é impactada pela faixa etária do paciente. <br>\n",
    "3 - Qual medida está mais correlacionada com a progressão da doença. <br>\n",
    "\n",
    "Para que se possa avaliar tais perguntas, os seguintes atributos foram considerados: <br>\n",
    "Age - Numérico <br>\n",
    "Sex - Simbólico categórico <br>\n",
    "Ldl (S1) - Numérico intervalar <br>\n",
    "Hdl (S2) - Numérico racional / Numérico intervalar <br>\n",
    "Glu (S3) - Numérico intervalar <br>\n",
    "\n",
    "Para os atributos Age,Ldl,Hdl,Glu as operações que fazem sentindo são média,moda, correlação, entre outras estatísticas. Para o gênero, faz sentido realizar uma contagem, por exemplo.\n",
    "\n",
    "Deve-se salientar que tais atributos foram escolhidos, por acreditarmos que eles representam melhor o problema. Isso foi possível, após entendermos um pouco como que funciona a diabete (https://pt.wikipedia.org/wiki/Diabetes_mellitus). Ou seja, após a análise do domínio do problema, avaliamos que estes atributos são os que mais afetam a diabete."
   ]
  },
  {
   "cell_type": "markdown",
   "metadata": {},
   "source": [
    "-------------------------------------------------------------------------------------------------------------------"
   ]
  },
  {
   "cell_type": "markdown",
   "metadata": {},
   "source": [
    "Iremos agora realizar uma análise exploratória dos dados na tentativa de responder as perguntas realizadas. Inicialmente iremos verificar a relação entre os genêros com a progressão de diabete por meio da média e desvio padrão. Isso nos ajudará a responder a questão 1."
   ]
  },
  {
   "cell_type": "code",
   "execution_count": null,
   "metadata": {},
   "outputs": [],
   "source": [
    "#Extração da coluna SEX com filtro para cada genero\n",
    "male = dataset[dataset.SEX == 1].Y\n",
    "female = dataset[dataset.SEX == 2].Y\n",
    "\n",
    "print(\"Progressao media e desvio padrao de diabetes para os homens: \" + str(male.mean()) + \" \" + str(male.std()))\n",
    "print(\"Progressao media e desvio padrao de diabetes para as mulheres: \" + str(female.mean())+\" \" +str(female.std()))"
   ]
  },
  {
   "cell_type": "markdown",
   "metadata": {},
   "source": [
    "Realizado a análise para o genêro, iremos verificar a relação entre os outros atributos. Para isso é necessário extrair apenas o necessário do dataset."
   ]
  },
  {
   "cell_type": "code",
   "execution_count": null,
   "metadata": {},
   "outputs": [],
   "source": [
    "#Extracao dos atributos necessários\n",
    "diabete = dataset.iloc[:,[0,4,5,6]].copy()\n",
    "\n",
    "#Renomeando columnas\n",
    "diabete.columns = ['AGE','LDL','HDL','GLU']\n",
    "\n",
    "#Novo dataset\n",
    "diabete.head()"
   ]
  },
  {
   "cell_type": "code",
   "execution_count": null,
   "metadata": {},
   "outputs": [],
   "source": [
    "#Extracao da classe\n",
    "target = dataset.iloc[:,[10]].copy()\n",
    "\n",
    "#Target ou classe\n",
    "target.head()"
   ]
  },
  {
   "cell_type": "markdown",
   "metadata": {},
   "source": [
    "Com a extração dos dados realizados, nós iremos graficamente analisar a correlação entre os atributos e a variavel resposta(target). Isso porque é com esta medida estatística que será possível responder as questões 2 e 3 feitas anteriormente."
   ]
  },
  {
   "cell_type": "code",
   "execution_count": null,
   "metadata": {},
   "outputs": [],
   "source": [
    "#Avaliando a idade com a progressao da doenca\n",
    "plt.scatter(diabete.AGE.values,target.Y.values)\n",
    "plt.xlabel('Idade')\n",
    "plt.ylabel('Medida de rogressao de diabete')\n",
    "plt.show()\n",
    "\n",
    "#Avaliando o LDL com a progressao da doenca\n",
    "plt.scatter(diabete.LDL.values,target.Y.values)\n",
    "plt.xlabel('LDL')\n",
    "plt.ylabel('Medida de rogressao de diabete')\n",
    "plt.show()\n",
    "\n",
    "#Avaliando o HDL com a progressao da doenca\n",
    "plt.scatter(diabete.HDL.values,target.Y.values)\n",
    "plt.xlabel('HDL')\n",
    "plt.ylabel('Medida de rogressao de diabete')\n",
    "plt.show()\n",
    "\n",
    "#Avaliando o GLU com a progressao da doenca\n",
    "plt.scatter(diabete.GLU.values,target.Y.values)\n",
    "plt.xlabel('GLU')\n",
    "plt.ylabel('Medida de rogressao de diabete')\n",
    "plt.show()"
   ]
  },
  {
   "cell_type": "markdown",
   "metadata": {},
   "source": [
    "Vamos analisar também numericamente"
   ]
  },
  {
   "cell_type": "code",
   "execution_count": null,
   "metadata": {},
   "outputs": [],
   "source": [
    "print(\"Correlacao entre idade e diabete \" + str(np.corrcoef(diabete.AGE.values,target.Y.values)[0,1]))\n",
    "print(\"Correlacao entre LDL e diabete \" + str(np.corrcoef(diabete.HDL.values,target.Y.values)[0,1]))\n",
    "print(\"Correlacao entre HDL e diabete \" + str(np.corrcoef(diabete.LDL.values,target.Y.values)[0,1]))\n",
    "print(\"Correlacao entre GLU e diabete \" + str(np.corrcoef(diabete.GLU.values,target.Y.values)[0,1]))"
   ]
  },
  {
   "cell_type": "markdown",
   "metadata": {},
   "source": [
    "Com a análise feita anteriormente, podemos inicialmente realizar as seguintes hipóteses para as questões:\n",
    "\n",
    "1)Como a média da progressão de diabete é muito similar entre os dois genêros assim como o seu desvio padrão é relativamente próximo, podemos inferir que o genêro não possui relação com a doença.\n",
    "2)A partir do gráfico a das medidas de correlação fica claro que não há uma relação muito forte entre idade e diabete.\n",
    "3)A partir do gráfico e das medidas de correlação verificamos que a medida GLU é aquela que possui mais dependência com a progressão da doença (quase -0.40). Entretanto, tal correlação é negativa, o que nos indica que quanto maior o nível de glutamina no sangue, menor é a probabilidade da doença se desenvolver."
   ]
  },
  {
   "cell_type": "markdown",
   "metadata": {},
   "source": [
    "-------------------------------------------------------------------------------------------------------------------"
   ]
  },
  {
   "cell_type": "markdown",
   "metadata": {},
   "source": [
    "O dataset não possui nenhum problema de \"missing values\" ou outliers, por ser um dataset que já foi estudado e tratado há bastante tempo. Por causa disso, não houve problemas em analisar o conjunto."
   ]
  },
  {
   "cell_type": "markdown",
   "metadata": {},
   "source": [
    "-------------------------------------------------------------------------------------------------------------------"
   ]
  },
  {
   "cell_type": "markdown",
   "metadata": {},
   "source": [
    "## Dataset utilizado: Cadastro matrículas região sudeste sp 2012\n",
    "\n",
    "1) Baseado na descrição do conjunto de dados formule algumas hipótese, perguntas que você acha que\n",
    "podem ser respondidas com este conjunto de dados. Tente formular até 3 questões. Numere\n",
    "cada questão.\n",
    "\n",
    "2) Escolha 5 atributos que você acha representar bem o problema e faça uma análise dos tipos de\n",
    "atributos e quais operações fazem sentido para cada um. Justifique a escolha desses atributos no\n",
    "contexto do conjunto de dados e com relação às hipótese/questões levantadas na pergunta 1.\n",
    "\n",
    "3) Faça uma análise exploratória com as medidas vistas em aula (média, mediana, moda, ...) nos\n",
    "atributos anteriormente selecionados. Explique o porque você usou tal medida e como ela ajuda no\n",
    "entendimento do conjunto de dados. Sinta-se livre para utilizar outras medidas, mas explique porque\n",
    "você está usando elas. Se achar necessário, pode utilizar mais atributos na análise\n",
    "\n",
    "4) Após a análise exploratória reanalise as hipóteses/questões e comente se elas já podem ser\n",
    "respondidas, se elas não fazem mais sentido, eventualmente se elas podem ser reformuladas para\n",
    "questões\n",
    "\n",
    "5)  Quais problemas o conjunto de dados apresenta e como isso impactou formulação e\n",
    "entendimento do conjunto de dados e o problema que ele representa. Argumente. Por problemas\n",
    "entenda valores ausentes, inconsistências e etc."
   ]
  }
 ],
 "metadata": {
  "kernelspec": {
   "display_name": "Python 3",
   "language": "python",
   "name": "python3"
  },
  "language_info": {
   "codemirror_mode": {
    "name": "ipython",
    "version": 3
   },
   "file_extension": ".py",
   "mimetype": "text/x-python",
   "name": "python",
   "nbconvert_exporter": "python",
   "pygments_lexer": "ipython3",
   "version": "3.6.4"
  }
 },
 "nbformat": 4,
 "nbformat_minor": 2
}
