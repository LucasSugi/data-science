{
 "cells": [
  {
   "cell_type": "markdown",
   "metadata": {},
   "source": [
    "# Analyze_data\n",
    "\n",
    "Iremos analisar ambos os dataset para que haja uma melhor compreensão sobre os mesmos."
   ]
  },
  {
   "cell_type": "markdown",
   "metadata": {},
   "source": [
    "# 1. Knowing data\n",
    "\n",
    "Exploração do dataset para entender melhor os atributos."
   ]
  },
  {
   "cell_type": "code",
   "execution_count": null,
   "metadata": {},
   "outputs": [],
   "source": [
    "import os\n",
    "import numpy as np\n",
    "import pandas as pd\n",
    "import seaborn as sns\n",
    "import matplotlib.pyplot as plt\n",
    "\n",
    "from sklearn.linear_model import LogisticRegression\n",
    "from sklearn.svm import SVC\n",
    "from sklearn.tree import DecisionTreeClassifier\n",
    "\n",
    "from sklearn.metrics import confusion_matrix\n",
    "from sklearn.metrics import classification_report\n",
    "from sklearn.metrics import roc_auc_score\n",
    "\n",
    "from sklearn.model_selection import train_test_split"
   ]
  },
  {
   "cell_type": "code",
   "execution_count": null,
   "metadata": {},
   "outputs": [],
   "source": [
    "#Read data\n",
    "df_hand = pd.read_csv('parkinson_tappy_hand.csv',index_col='id')\n",
    "df_direction = pd.read_csv('parkinson_tappy_direction.csv',index_col='id')"
   ]
  },
  {
   "cell_type": "code",
   "execution_count": null,
   "metadata": {},
   "outputs": [],
   "source": [
    "#Show data\n",
    "df_hand.head()"
   ]
  },
  {
   "cell_type": "code",
   "execution_count": null,
   "metadata": {},
   "outputs": [],
   "source": [
    "#Show data\n",
    "df_direction.head()"
   ]
  },
  {
   "cell_type": "markdown",
   "metadata": {},
   "source": [
    "Descrição dos atributos:\n",
    "\n",
    "- hand: Tecla do lado esquerdo (L), direito (R) ou espaço (S) pressionada.\n",
    "- direction: Tecla anterior e posterior.\n",
    "- hold_time: Quanto tempo ficou segurando a tecla (milisegundos).\n",
    "- latency: Tempo entre pressionar a tecla anterior e posterior (milisegundos).\n",
    "- flight: Tempo entre soltar a tecla anterior e pressionar a posterior (milisegundos).\n",
    "\n",
    "Observações: \n",
    "- flight = latency - hold_time"
   ]
  },
  {
   "cell_type": "markdown",
   "metadata": {},
   "source": [
    "# 2. Statistical analysis\n",
    "\n",
    "Estatísticas do dataset."
   ]
  },
  {
   "cell_type": "code",
   "execution_count": null,
   "metadata": {},
   "outputs": [],
   "source": [
    "#Some statistics\n",
    "df_hand.describe()"
   ]
  },
  {
   "cell_type": "code",
   "execution_count": null,
   "metadata": {},
   "outputs": [],
   "source": [
    "#Some statistics\n",
    "df_direction.describe()"
   ]
  },
  {
   "cell_type": "code",
   "execution_count": null,
   "metadata": {},
   "outputs": [],
   "source": [
    "#Amount of samples\n",
    "df_hand.shape"
   ]
  },
  {
   "cell_type": "code",
   "execution_count": null,
   "metadata": {},
   "outputs": [],
   "source": [
    "#Amount of samples\n",
    "df_direction.shape"
   ]
  },
  {
   "cell_type": "code",
   "execution_count": null,
   "metadata": {},
   "outputs": [],
   "source": [
    "#Proportion of parkinson in each group\n",
    "df_hand['parkinson'].value_counts() / df_hand.shape[0]"
   ]
  },
  {
   "cell_type": "code",
   "execution_count": null,
   "metadata": {},
   "outputs": [],
   "source": [
    "#Proportion of parkinson in each group\n",
    "df_direction['parkinson'].value_counts() / df_direction.shape[0]"
   ]
  },
  {
   "cell_type": "code",
   "execution_count": null,
   "metadata": {},
   "outputs": [],
   "source": [
    "#Exclude columns with flight\n",
    "cols = list(filter(lambda x: 'flight' not  in x,df_hand.columns))\n",
    "\n",
    "#Heatmap\n",
    "plt.figure(figsize=(15,9))\n",
    "sns.heatmap(df_hand.loc[:,cols].corr(),vmin=-1,vmax=1,annot=True)\n",
    "plt.show()"
   ]
  },
  {
   "cell_type": "markdown",
   "metadata": {},
   "source": [
    "Podemos ver que hold não possui correlações fortes com latency. Apesar disso, as combinações de hold e latency  nas métricas acabam sendo correlacionados (algumas vezes). \n",
    "\n",
    "Em geral notamos que as médias e desvios são iguais para ambos os lados, ou seja, a assimetria não é muita.\n",
    "\n",
    "Observação: Não calculado a correlação para flight devido a sua fórmula."
   ]
  },
  {
   "cell_type": "code",
   "execution_count": null,
   "metadata": {},
   "outputs": [],
   "source": [
    "#Columns that have metric to evaluate\n",
    "cols_metric = df_hand.columns[1:]\n",
    "\n",
    "#Boxplot of each metric\n",
    "plt.figure(figsize=(15,20))\n",
    "plt.subplots_adjust(wspace=0.5,hspace=0.9)\n",
    "for index,metric in enumerate(cols_metric):\n",
    "    plt.subplot(5,4,index+1)\n",
    "    sns.boxplot(data=df_hand,x='parkinson',y=metric)"
   ]
  },
  {
   "cell_type": "markdown",
   "metadata": {},
   "source": [
    "É interessante notar que de modo geral as pessoas com parkinson tendem a ter uma variação maior ao clicar nas teclas.\n",
    "\n",
    "Ademais, dependendo da tecla e do tempo sendo calculado vimos que as pessoas com parkison podem ou não ser mais rápidas."
   ]
  },
  {
   "cell_type": "markdown",
   "metadata": {},
   "source": [
    "# 3. Modeling"
   ]
  },
  {
   "cell_type": "code",
   "execution_count": null,
   "metadata": {},
   "outputs": [],
   "source": [
    "'''Apply classification in df'''\n",
    "def classifier(df,test_size=0.4):\n",
    "    #Classifiers\n",
    "    dt = DecisionTreeClassifier()\n",
    "    svm = SVC(gamma='scale',probability=True)\n",
    "    lr = LogisticRegression(solver='liblinear')\n",
    "    clfs = {'dt':dt,'svm':svm,'lr':lr}\n",
    "\n",
    "    #Divide dataset in dependent and independent variables\n",
    "    X = df.iloc[:,1:]\n",
    "    Y = df['parkinson']\n",
    "\n",
    "    #Split data\n",
    "    X_train, X_test, y_train, y_test = train_test_split(X,Y,test_size=test_size)\n",
    "\n",
    "    #Training\n",
    "    for k,v in clfs.items():\n",
    "        clfs[k] = v.fit(X_train,y_train)\n",
    "    \n",
    "    return clfs,X_test,y_test\n",
    "\n",
    "'''Compute some metrics about classification'''\n",
    "def metrics(clfs,X,Y):\n",
    "    #Confusion matrix for each classifier\n",
    "    result = []\n",
    "    for k in clfs.keys():\n",
    "        tn, fp, fn, tp  = confusion_matrix(Y,clfs[k].predict(X)).ravel()\n",
    "        result.append({'classifier':k,'acc':round((tn+tp)/(tn+fp+fn+tp),2),'sens':round(tp/(tp+fn),2),'spec':round(tn/(tn+fp),2),'auc':round(roc_auc_score(Y,clfs[k].predict(X)),2)})\n",
    "        \n",
    "    return result\n",
    "\n",
    "'''Perform an avaliation on classifiers'''\n",
    "def evaluate_classifiers(df,test_size=0.4):\n",
    "    #Dataframe with classification result\n",
    "    df_result = pd.DataFrame()\n",
    "\n",
    "    for i in range(100):\n",
    "        #Classification\n",
    "        clfs,X,Y = classifier(df,test_size)\n",
    "\n",
    "        #Concat other results\n",
    "        df_result = pd.concat([df_result,pd.DataFrame(metrics(clfs,X,Y))])\n",
    "\n",
    "    #Summarizes the metrics\n",
    "    df_result = df_result.pivot_table(index='classifier',values=['acc','auc','sens','spec'])\n",
    "    \n",
    "    return df_result"
   ]
  },
  {
   "cell_type": "code",
   "execution_count": null,
   "metadata": {},
   "outputs": [],
   "source": [
    "evaluate_classifiers(df_hand)"
   ]
  },
  {
   "cell_type": "code",
   "execution_count": null,
   "metadata": {},
   "outputs": [],
   "source": [
    "evaluate_classifiers(df_direction)"
   ]
  },
  {
   "cell_type": "code",
   "execution_count": null,
   "metadata": {},
   "outputs": [],
   "source": [
    "#Exclude columns with flight\n",
    "cols = list(filter(lambda x: 'flight' not in x,df_direction.columns))\n",
    "\n",
    "evaluate_classifiers(df_direction.loc[:,cols])"
   ]
  }
 ],
 "metadata": {
  "kernelspec": {
   "display_name": "Python 3",
   "language": "python",
   "name": "python3"
  },
  "language_info": {
   "codemirror_mode": {
    "name": "ipython",
    "version": 3
   },
   "file_extension": ".py",
   "mimetype": "text/x-python",
   "name": "python",
   "nbconvert_exporter": "python",
   "pygments_lexer": "ipython3",
   "version": "3.7.1"
  }
 },
 "nbformat": 4,
 "nbformat_minor": 2
}
