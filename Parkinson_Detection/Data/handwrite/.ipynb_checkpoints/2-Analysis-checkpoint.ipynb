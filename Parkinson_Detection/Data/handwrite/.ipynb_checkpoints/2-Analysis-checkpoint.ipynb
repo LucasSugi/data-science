{
 "cells": [
  {
   "cell_type": "markdown",
   "metadata": {},
   "source": [
    "# Analysis\n",
    "\n",
    "Iremos realizar algumas análises no dataset"
   ]
  },
  {
   "cell_type": "markdown",
   "metadata": {},
   "source": [
    "# 1. Reading dataset "
   ]
  },
  {
   "cell_type": "code",
   "execution_count": null,
   "metadata": {},
   "outputs": [],
   "source": [
    "import os\n",
    "import numpy as np\n",
    "import pandas as pd\n",
    "import matplotlib.pyplot as plt\n",
    "import seaborn as sns\n",
    "from scipy.stats import boxcox\n",
    "\n",
    "from sklearn.linear_model import LogisticRegression\n",
    "from sklearn.svm import SVC\n",
    "from sklearn.tree import DecisionTreeClassifier\n",
    "\n",
    "from sklearn.metrics import confusion_matrix\n",
    "from sklearn.metrics import classification_report\n",
    "from sklearn.metrics import roc_auc_score\n",
    "\n",
    "from sklearn.model_selection import train_test_split"
   ]
  },
  {
   "cell_type": "code",
   "execution_count": null,
   "metadata": {},
   "outputs": [],
   "source": [
    "#Read data\n",
    "df_parkinson = pd.read_csv('parkinson_hw.csv')"
   ]
  },
  {
   "cell_type": "markdown",
   "metadata": {},
   "source": [
    "# 2. New metrics\n",
    "\n",
    "## 2.1 Criation of new metrics"
   ]
  },
  {
   "cell_type": "code",
   "execution_count": null,
   "metadata": {},
   "outputs": [],
   "source": [
    "#We drop equal positions because we want to know just the changes along time\n",
    "df_parkinson = df_parkinson.drop_duplicates(['id','test_id','X','Y'],keep='first')\n",
    "\n",
    "#Compute velocity for each id and test\n",
    "df_velocity = df_parkinson.groupby(['id','test_id']).apply(lambda x: (np.sqrt(x['X'].diff()**2 + x['Y'].diff()**2) / x['timestamp'].diff()).agg([np.mean,np.std]))\n",
    "\n",
    "#Fix dataframe\n",
    "df_velocity.reset_index(inplace=True)\n",
    "df_velocity.dropna(inplace=True)\n",
    "\n",
    "#Insert column that indicates if person has or not parkinson\n",
    "map_parkinson = df_parkinson.set_index('id')['parkinson'].to_dict()\n",
    "df_velocity['parkinson'] = df_velocity['id'].map(map_parkinson)\n",
    "\n",
    "#Apply boxcox\n",
    "df_velocity['mean'],_ = boxcox(df_velocity['mean'])\n",
    "df_velocity['std'],_ = boxcox(df_velocity['std'])"
   ]
  },
  {
   "cell_type": "code",
   "execution_count": null,
   "metadata": {},
   "outputs": [],
   "source": [
    "#Boxplot for all tests\n",
    "plt.figure(figsize=(13,9))\n",
    "plt.subplot(221)\n",
    "sns.boxplot(data=df_velocity,x='parkinson',y='mean')\n",
    "\n",
    "#Boxplot for each test\n",
    "plt.subplot(222)\n",
    "sns.boxplot(data=df_velocity[df_velocity['test_id'] == 0],x='parkinson',y='mean')\n",
    "plt.subplot(223)\n",
    "sns.boxplot(data=df_velocity[df_velocity['test_id'] == 0],x='parkinson',y='mean')\n",
    "plt.subplot(224)\n",
    "sns.boxplot(data=df_velocity[df_velocity['test_id'] == 2],x='parkinson',y='mean')\n",
    "\n",
    "\n",
    "plt.show()"
   ]
  },
  {
   "cell_type": "code",
   "execution_count": null,
   "metadata": {},
   "outputs": [],
   "source": [
    "#Boxplot for all tests\n",
    "plt.figure(figsize=(13,9))\n",
    "plt.subplot(221)\n",
    "sns.boxplot(data=df_velocity,x='parkinson',y='std')\n",
    "\n",
    "#Boxplot for each test\n",
    "plt.subplot(222)\n",
    "sns.boxplot(data=df_velocity[df_velocity['test_id'] == 0],x='parkinson',y='std')\n",
    "plt.subplot(223)\n",
    "sns.boxplot(data=df_velocity[df_velocity['test_id'] == 0],x='parkinson',y='std')\n",
    "plt.subplot(224)\n",
    "sns.boxplot(data=df_velocity[df_velocity['test_id'] == 2],x='parkinson',y='std')\n",
    "\n",
    "\n",
    "plt.show()"
   ]
  },
  {
   "cell_type": "markdown",
   "metadata": {},
   "source": [
    "# 3 Modeling"
   ]
  },
  {
   "cell_type": "code",
   "execution_count": null,
   "metadata": {},
   "outputs": [],
   "source": [
    "'''Apply classification in df'''\n",
    "def classifier(df,test_size=0.4):\n",
    "    #Classifiers\n",
    "    dt = DecisionTreeClassifier()\n",
    "    svm = SVC(gamma='scale',probability=True)\n",
    "    lr = LogisticRegression(solver='liblinear')\n",
    "    clfs = {'dt':dt,'svm':svm,'lr':lr}\n",
    "\n",
    "    #Divide dataset in dependent and independent variables\n",
    "    X = df.iloc[:,1:]\n",
    "    Y = df['parkinson']\n",
    "\n",
    "    #Split data\n",
    "    X_train, X_test, y_train, y_test = train_test_split(X,Y,test_size=test_size)\n",
    "\n",
    "    #Training\n",
    "    for k,v in clfs.items():\n",
    "        clfs[k] = v.fit(X_train,y_train)\n",
    "    \n",
    "    return clfs,X_test,y_test\n",
    "\n",
    "'''Compute some metrics about classification'''\n",
    "def metrics(clfs,X,Y):\n",
    "    #Confusion matrix for each classifier\n",
    "    result = []\n",
    "    for k in clfs.keys():\n",
    "        tn, fp, fn, tp  = confusion_matrix(Y,clfs[k].predict(X)).ravel()\n",
    "        result.append({'classifier':k,'acc':round((tn+tp)/(tn+fp+fn+tp),2),'sens':round(tp/(tp+fn),2),'spec':round(tn/(tn+fp),2),'auc':round(roc_auc_score(Y,clfs[k].predict(X)),2)})\n",
    "        \n",
    "    return result\n",
    "\n",
    "'''Perform an avaliation on classifiers'''\n",
    "def evaluate_classifiers(df,test_size=0.4):\n",
    "    #Dataframe with classification result\n",
    "    df_result = pd.DataFrame()\n",
    "\n",
    "    for i in range(100):\n",
    "        #Classification\n",
    "        clfs,X,Y = classifier(df,test_size)\n",
    "\n",
    "        #Concat other results\n",
    "        df_result = pd.concat([df_result,pd.DataFrame(metrics(clfs,X,Y))])\n",
    "\n",
    "    #Summarizes the metrics\n",
    "    df_result = df_result.pivot_table(index='classifier',values=['acc','auc','sens','spec'])\n",
    "    \n",
    "    return df_result"
   ]
  },
  {
   "cell_type": "code",
   "execution_count": null,
   "metadata": {},
   "outputs": [],
   "source": [
    "X = df_velocity.loc[df_velocity['test_id'] == 0,['mean','std']]\n",
    "Y = df_velocity.loc[df_velocity['test_id'] == 0,'parkinson']"
   ]
  }
 ],
 "metadata": {
  "kernelspec": {
   "display_name": "Python 3",
   "language": "python",
   "name": "python3"
  },
  "language_info": {
   "codemirror_mode": {
    "name": "ipython",
    "version": 3
   },
   "file_extension": ".py",
   "mimetype": "text/x-python",
   "name": "python",
   "nbconvert_exporter": "python",
   "pygments_lexer": "ipython3",
   "version": "3.7.1"
  }
 },
 "nbformat": 4,
 "nbformat_minor": 2
}
