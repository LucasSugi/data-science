{
 "cells": [
  {
   "cell_type": "markdown",
   "metadata": {},
   "source": [
    "# Smartphone Detection\n",
    "\n",
    "We aim at this notebook to perform the classification of a set of data that has several information about products that were collected on the internet. Our goal is to find a way to identify which texts refer to cell phones and which ones do not.\n",
    "\n",
    "\n",
    "To do this we apply pre-processing and textual analysis techniques. At the end we created a classifier that could identify from the text description if its context refers to a smartphone or not."
   ]
  },
  {
   "cell_type": "code",
   "execution_count": 1,
   "metadata": {},
   "outputs": [],
   "source": [
    "# Import's\n",
    "\n",
    "# Data manipulation\n",
    "import pandas as pd\n",
    "import numpy as np\n",
    "\n",
    "# Text manipulation\n",
    "from unidecode import unidecode\n",
    "import string\n",
    "import nltk\n",
    "import re\n",
    "\n",
    "# ML\n",
    "from sklearn.feature_extraction.text import TfidfVectorizer, CountVectorizer\n",
    "from sklearn.decomposition import TruncatedSVD\n",
    "from sklearn.svm import SVC\n",
    "\n",
    "# Evaluation\n",
    "from sklearn.model_selection import cross_val_score, ShuffleSplit, GridSearchCV\n",
    "from sklearn.metrics import confusion_matrix\n",
    "\n",
    "# Graphics\n",
    "import matplotlib.pyplot as plt\n",
    "import seaborn as sns\n",
    "\n",
    "# Deploy\n",
    "from sklearn.pipeline import Pipeline\n",
    "import pickle"
   ]
  },
  {
   "cell_type": "code",
   "execution_count": 2,
   "metadata": {},
   "outputs": [],
   "source": [
    "# Reading data\n",
    "e_commerce = pd.read_csv('data_estag_ds.tsv',sep='\\t',usecols=[1])\n",
    "e_commerce = e_commerce.rename(columns={'TITLE':'title'})"
   ]
  },
  {
   "cell_type": "code",
   "execution_count": 3,
   "metadata": {},
   "outputs": [
    {
     "data": {
      "text/html": [
       "<div>\n",
       "<style scoped>\n",
       "    .dataframe tbody tr th:only-of-type {\n",
       "        vertical-align: middle;\n",
       "    }\n",
       "\n",
       "    .dataframe tbody tr th {\n",
       "        vertical-align: top;\n",
       "    }\n",
       "\n",
       "    .dataframe thead th {\n",
       "        text-align: right;\n",
       "    }\n",
       "</style>\n",
       "<table border=\"1\" class=\"dataframe\">\n",
       "  <thead>\n",
       "    <tr style=\"text-align: right;\">\n",
       "      <th></th>\n",
       "      <th>title</th>\n",
       "    </tr>\n",
       "  </thead>\n",
       "  <tbody>\n",
       "    <tr>\n",
       "      <th>0</th>\n",
       "      <td>Acessório T - Jean Bag For Girls para DS Lite</td>\n",
       "    </tr>\n",
       "    <tr>\n",
       "      <th>1</th>\n",
       "      <td>Carrinho de Bebê Berço-Passeio - Pegasus Pink ...</td>\n",
       "    </tr>\n",
       "    <tr>\n",
       "      <th>2</th>\n",
       "      <td>Carrinho de Bebê para Gêmeos Berço-Passeio - T...</td>\n",
       "    </tr>\n",
       "    <tr>\n",
       "      <th>3</th>\n",
       "      <td>Car Center - Calesita</td>\n",
       "    </tr>\n",
       "    <tr>\n",
       "      <th>4</th>\n",
       "      <td>Donka Trem com Som - Calesita</td>\n",
       "    </tr>\n",
       "  </tbody>\n",
       "</table>\n",
       "</div>"
      ],
      "text/plain": [
       "                                               title\n",
       "0      Acessório T - Jean Bag For Girls para DS Lite\n",
       "1  Carrinho de Bebê Berço-Passeio - Pegasus Pink ...\n",
       "2  Carrinho de Bebê para Gêmeos Berço-Passeio - T...\n",
       "3                              Car Center - Calesita\n",
       "4                      Donka Trem com Som - Calesita"
      ]
     },
     "execution_count": 3,
     "metadata": {},
     "output_type": "execute_result"
    }
   ],
   "source": [
    "# First 5 lines\n",
    "e_commerce.head()"
   ]
  },
  {
   "cell_type": "code",
   "execution_count": 4,
   "metadata": {},
   "outputs": [
    {
     "data": {
      "text/plain": [
       "2606"
      ]
     },
     "execution_count": 4,
     "metadata": {},
     "output_type": "execute_result"
    }
   ],
   "source": [
    "# Number of samples\n",
    "e_commerce.shape[0]"
   ]
  },
  {
   "cell_type": "markdown",
   "metadata": {},
   "source": [
    "# 1. Data Cleaning\n",
    "\n",
    "Let's remove stopwords, punctuation and normalize text to get better information for analysis."
   ]
  },
  {
   "cell_type": "code",
   "execution_count": 5,
   "metadata": {},
   "outputs": [],
   "source": [
    "# Portuguese stopwords\n",
    "stopwords = nltk.corpus.stopwords.words('portuguese')\n",
    "\n",
    "# Stemming in portuguese\n",
    "stemmer = nltk.stem.RSLPStemmer()\n",
    "\n",
    "'''\n",
    "\n",
    "Cleaning text.\n",
    "\n",
    "'''\n",
    "def text_clean(doc,stemmer=False):\n",
    "    \n",
    "    # Creating tokens and remove accentuation\n",
    "    token = nltk.word_tokenize(unidecode(doc.lower()),language='portuguese')\n",
    "    \n",
    "    # Stemming\n",
    "    if(stemmer):\n",
    "        token = [stemmer.stem(word) for word in token]\n",
    "    \n",
    "    # Remove stopwords\n",
    "    token =  [word for word in token if word not in stopwords]  \n",
    "    \n",
    "    # Remove punctuation\n",
    "    token = [word for word in token if word not in string.punctuation]\n",
    "    \n",
    "    return ' '.join(token)"
   ]
  },
  {
   "cell_type": "code",
   "execution_count": 6,
   "metadata": {},
   "outputs": [],
   "source": [
    "# Cleaning text\n",
    "e_commerce['title'] = e_commerce['title'].map(text_clean)"
   ]
  },
  {
   "cell_type": "markdown",
   "metadata": {},
   "source": [
    "# 2. Text Analysis\n",
    "\n",
    "So you can see that our dataset just have one column called 'title' and we have 2606 samples unlabeled. Knowing that I think in two possibilities to try to classifier our text:\n",
    "\n",
    "- Clustering similar text.\n",
    "- Label manually out text an them apply some classifier.\n",
    "\n",
    "I will choose the second option for these reasons:\n",
    "- It would be difficult to group ours because we do not know how many groups we have. Our text can be 10 groups or 50. Defining an ideal k number would be complicated.\n",
    "- Also, our desire is to have only 2 groups (smartphone or not). So even if we knew the exact amount of groups (30 for example), we would have the difficulty to group non-smartphone groups to only 2 left.\n",
    "\n",
    "Say this a better option it's understand what words an relations exist in text that talk about smartphone for using this knowledge to create a classifier.\n",
    "\n",
    "So let's do some text analysis."
   ]
  },
  {
   "cell_type": "code",
   "execution_count": 7,
   "metadata": {},
   "outputs": [
    {
     "data": {
      "text/html": [
       "<div>\n",
       "<style scoped>\n",
       "    .dataframe tbody tr th:only-of-type {\n",
       "        vertical-align: middle;\n",
       "    }\n",
       "\n",
       "    .dataframe tbody tr th {\n",
       "        vertical-align: top;\n",
       "    }\n",
       "\n",
       "    .dataframe thead th {\n",
       "        text-align: right;\n",
       "    }\n",
       "</style>\n",
       "<table border=\"1\" class=\"dataframe\">\n",
       "  <thead>\n",
       "    <tr style=\"text-align: right;\">\n",
       "      <th></th>\n",
       "      <th>title</th>\n",
       "    </tr>\n",
       "  </thead>\n",
       "  <tbody>\n",
       "    <tr>\n",
       "      <th>782</th>\n",
       "      <td>shampoo lorys kids red shake 500ml</td>\n",
       "    </tr>\n",
       "    <tr>\n",
       "      <th>786</th>\n",
       "      <td>capa rigida maquina fotografica cinza</td>\n",
       "    </tr>\n",
       "    <tr>\n",
       "      <th>602</th>\n",
       "      <td>mesa escolar infantil 92361000 tramontina</td>\n",
       "    </tr>\n",
       "    <tr>\n",
       "      <th>420</th>\n",
       "      <td>capa case samsung galaxy tab s 10.5 t800/801/8...</td>\n",
       "    </tr>\n",
       "    <tr>\n",
       "      <th>2319</th>\n",
       "      <td>celular samsung galaxy j5 prime 32gb biometria...</td>\n",
       "    </tr>\n",
       "  </tbody>\n",
       "</table>\n",
       "</div>"
      ],
      "text/plain": [
       "                                                  title\n",
       "782                  shampoo lorys kids red shake 500ml\n",
       "786               capa rigida maquina fotografica cinza\n",
       "602           mesa escolar infantil 92361000 tramontina\n",
       "420   capa case samsung galaxy tab s 10.5 t800/801/8...\n",
       "2319  celular samsung galaxy j5 prime 32gb biometria..."
      ]
     },
     "execution_count": 7,
     "metadata": {},
     "output_type": "execute_result"
    }
   ],
   "source": [
    "# Random text\n",
    "e_commerce.sample(5,random_state=42)"
   ]
  },
  {
   "cell_type": "code",
   "execution_count": 8,
   "metadata": {},
   "outputs": [
    {
     "data": {
      "text/html": [
       "<div>\n",
       "<style scoped>\n",
       "    .dataframe tbody tr th:only-of-type {\n",
       "        vertical-align: middle;\n",
       "    }\n",
       "\n",
       "    .dataframe tbody tr th {\n",
       "        vertical-align: top;\n",
       "    }\n",
       "\n",
       "    .dataframe thead th {\n",
       "        text-align: right;\n",
       "    }\n",
       "</style>\n",
       "<table border=\"1\" class=\"dataframe\">\n",
       "  <thead>\n",
       "    <tr style=\"text-align: right;\">\n",
       "      <th></th>\n",
       "      <th>title</th>\n",
       "    </tr>\n",
       "  </thead>\n",
       "  <tbody>\n",
       "    <tr>\n",
       "      <th>6</th>\n",
       "      <td>smartphone lg optimus l7 ii dual p716 preto du...</td>\n",
       "    </tr>\n",
       "    <tr>\n",
       "      <th>7</th>\n",
       "      <td>smartphone samsung galaxy s4 mini duos preto d...</td>\n",
       "    </tr>\n",
       "    <tr>\n",
       "      <th>8</th>\n",
       "      <td>smartphone samsung galaxy s5 sm-g900m branco t...</td>\n",
       "    </tr>\n",
       "    <tr>\n",
       "      <th>9</th>\n",
       "      <td>smartphone samsung galaxy s5 sm-g900m dourado ...</td>\n",
       "    </tr>\n",
       "    <tr>\n",
       "      <th>10</th>\n",
       "      <td>smartphone lg l90 dual d410 preto tela 4.7 '' ...</td>\n",
       "    </tr>\n",
       "  </tbody>\n",
       "</table>\n",
       "</div>"
      ],
      "text/plain": [
       "                                                title\n",
       "6   smartphone lg optimus l7 ii dual p716 preto du...\n",
       "7   smartphone samsung galaxy s4 mini duos preto d...\n",
       "8   smartphone samsung galaxy s5 sm-g900m branco t...\n",
       "9   smartphone samsung galaxy s5 sm-g900m dourado ...\n",
       "10  smartphone lg l90 dual d410 preto tela 4.7 '' ..."
      ]
     },
     "execution_count": 8,
     "metadata": {},
     "output_type": "execute_result"
    }
   ],
   "source": [
    "# Filter text by word smartphone\n",
    "e_commerce[e_commerce['title'].map(lambda x: 'smartphone' in x)].head()"
   ]
  },
  {
   "cell_type": "markdown",
   "metadata": {},
   "source": [
    "Note that we have text about shampoo, school table and etc, that is, we have several information that are not related to smartphone. Filtering the data by smartphone we can see that we can find the samples that explicitly refer to it. However, not always the text will have that keyword indicating what the product is, we could have for example only samsung galaxy.\n",
    "\n",
    "Because of this we will use this filtered subset to understand their relationships."
   ]
  },
  {
   "cell_type": "code",
   "execution_count": 9,
   "metadata": {},
   "outputs": [],
   "source": [
    "'''\n",
    "\n",
    "Perform ngram in text\n",
    "\n",
    "Parameters:\n",
    "-----------\n",
    "n: Number of ngram to use.\n",
    "df: Series with text to process.\n",
    "top: Number of top words to return.\n",
    "\n",
    "Returns:\n",
    "-----------\n",
    "Dataframe with ngram count.\n",
    "\n",
    "'''\n",
    "def ngram(n,df,top=10):\n",
    "\n",
    "    # Unigrams\n",
    "    vec = CountVectorizer(ngram_range=(n,n)).fit(df)\n",
    "\n",
    "    # Bag of words\n",
    "    bag_of_words = vec.transform(df)\n",
    "\n",
    "    # Sum each count\n",
    "    sum_words = bag_of_words.sum(axis=0)\n",
    "\n",
    "    # Frequency of each words\n",
    "    words_freq = [(word, sum_words[0, idx]) for word, idx in vec.vocabulary_.items()]\n",
    "\n",
    "    # Sort\n",
    "    words_freq.sort(key=lambda x: x[1],reverse=True)\n",
    "\n",
    "    # Create dataframe\n",
    "    words_freq = pd.DataFrame(words_freq,columns=['word','freq'])\n",
    "    \n",
    "    return words_freq[:top]"
   ]
  },
  {
   "cell_type": "code",
   "execution_count": 10,
   "metadata": {},
   "outputs": [],
   "source": [
    "# Filter text by word smartphone\n",
    "smartphone = e_commerce[e_commerce['title'].map(lambda x: 'smartphone' in x)].copy()\n",
    "\n",
    "# Separate datasets\n",
    "e_commerce = e_commerce[~e_commerce.index.isin(smartphone.index)]"
   ]
  },
  {
   "cell_type": "markdown",
   "metadata": {},
   "source": [
    "Before compute some ngram to understand relationships between words we will remove the key word 'smartphone'."
   ]
  },
  {
   "cell_type": "code",
   "execution_count": 11,
   "metadata": {},
   "outputs": [],
   "source": [
    "# Remove words smartphone\n",
    "smartphone['title'] = smartphone['title'].map(lambda x: x.replace('smartphone',''))"
   ]
  },
  {
   "cell_type": "code",
   "execution_count": 12,
   "metadata": {},
   "outputs": [],
   "source": [
    "# Unigram\n",
    "unigram = ngram(1,smartphone['title'])\n",
    "\n",
    "# Bigram\n",
    "bigram = ngram(2,smartphone['title'])"
   ]
  },
  {
   "cell_type": "code",
   "execution_count": 13,
   "metadata": {},
   "outputs": [],
   "source": [
    "'''\n",
    "\n",
    "Plot ngram words.\n",
    "\n",
    "\n",
    "Parameters:\n",
    "-----------\n",
    "x,y: Array with values to set in axis x,y.\n",
    "title: Plot's title.\n",
    "\n",
    "'''\n",
    "def ngram_plot(x,y,title):\n",
    "    \n",
    "    # Creating figure\n",
    "    fig,ax = plt.subplots(figsize=(12,7))\n",
    "    sns.barplot(x=x,y=y,palette='Blues',ax=ax)\n",
    "\n",
    "    ax.set_title(title,size=15)\n",
    "\n",
    "    # Change xlabels/ylabels size\n",
    "    ax.set_xlabel('Word',size=15)\n",
    "    ax.set_ylabel('Freq',size=15)\n",
    "\n",
    "    # Change and rotate xticklabels/yticklabels\n",
    "    for tick_x in ax.get_xticklabels():\n",
    "        tick_x.set_fontsize(13)\n",
    "        tick_x.set_rotation(60)\n",
    "    for tick_y in ax.get_yticklabels():\n",
    "        tick_y.set_fontsize(13)"
   ]
  },
  {
   "cell_type": "code",
   "execution_count": 14,
   "metadata": {},
   "outputs": [
    {
     "data": {
      "image/png": "[encoded data removed]",
      "text/plain": [
       "<Figure size 864x504 with 1 Axes>"
      ]
     },
     "metadata": {
      "needs_background": "light"
     },
     "output_type": "display_data"
    }
   ],
   "source": [
    "# Plot\n",
    "ngram_plot(unigram['word'],unigram['freq'],'Top 10 Unigram Words')"
   ]
  },
  {
   "cell_type": "code",
   "execution_count": 15,
   "metadata": {},
   "outputs": [
    {
     "data": {
      "image/png": "[encoded data removed]",
      "text/plain": [
       "<Figure size 864x504 with 1 Axes>"
      ]
     },
     "metadata": {
      "needs_background": "light"
     },
     "output_type": "display_data"
    }
   ],
   "source": [
    "# Plot\n",
    "ngram_plot(bigram['word'],bigram['freq'],'Top 10 Bigram Words')"
   ]
  },
  {
   "cell_type": "markdown",
   "metadata": {},
   "source": [
    "You can see that we have many words related with smartphone that are characteristics of it, like camera, chip, core e etc.\n",
    "\n",
    "In general this top 10 unigram describe what a smartphone have. I think that if some of these words appears in a sentence it's very likely to be a smartphone. Of course we have some problems because one one tablet have very similar words to.\n",
    "\n",
    "It's interesting to note too that these words in general are related, like dual chip, tela dual, android processador and etc.\n",
    "\n",
    "Now that we understand this, let's filter again our dataset with these words to check sentences without key smartphone, but that describe one."
   ]
  },
  {
   "cell_type": "code",
   "execution_count": 16,
   "metadata": {},
   "outputs": [],
   "source": [
    "'''\n",
    "\n",
    "Check if each word in a list appear in sentence.\n",
    "\n",
    "Parameters:\n",
    "-----------\n",
    "x: Sentence.\n",
    "word: List of words to check\n",
    "\n",
    "Returns:\n",
    "-----------\n",
    "True ou False indicanting if exist or not these words.\n",
    "\n",
    "'''\n",
    "def check_smart(x,word):\n",
    "    if (len([True for w in word if ' '+ w +' ' in ' '+ x +' '])>0):\n",
    "        return True\n",
    "    else:\n",
    "        return False"
   ]
  },
  {
   "cell_type": "code",
   "execution_count": 17,
   "metadata": {},
   "outputs": [],
   "source": [
    "# Unigram with top 20\n",
    "unigram = ngram(1,smartphone['title'],20)"
   ]
  },
  {
   "cell_type": "code",
   "execution_count": 18,
   "metadata": {},
   "outputs": [
    {
     "data": {
      "text/html": [
       "<div>\n",
       "<style scoped>\n",
       "    .dataframe tbody tr th:only-of-type {\n",
       "        vertical-align: middle;\n",
       "    }\n",
       "\n",
       "    .dataframe tbody tr th {\n",
       "        vertical-align: top;\n",
       "    }\n",
       "\n",
       "    .dataframe thead th {\n",
       "        text-align: right;\n",
       "    }\n",
       "</style>\n",
       "<table border=\"1\" class=\"dataframe\">\n",
       "  <thead>\n",
       "    <tr style=\"text-align: right;\">\n",
       "      <th></th>\n",
       "      <th>word</th>\n",
       "      <th>freq</th>\n",
       "    </tr>\n",
       "  </thead>\n",
       "  <tbody>\n",
       "    <tr>\n",
       "      <th>0</th>\n",
       "      <td>dual</td>\n",
       "      <td>163</td>\n",
       "    </tr>\n",
       "    <tr>\n",
       "      <th>1</th>\n",
       "      <td>tela</td>\n",
       "      <td>145</td>\n",
       "    </tr>\n",
       "    <tr>\n",
       "      <th>2</th>\n",
       "      <td>android</td>\n",
       "      <td>130</td>\n",
       "    </tr>\n",
       "    <tr>\n",
       "      <th>3</th>\n",
       "      <td>camera</td>\n",
       "      <td>117</td>\n",
       "    </tr>\n",
       "    <tr>\n",
       "      <th>4</th>\n",
       "      <td>chip</td>\n",
       "      <td>115</td>\n",
       "    </tr>\n",
       "    <tr>\n",
       "      <th>5</th>\n",
       "      <td>core</td>\n",
       "      <td>112</td>\n",
       "    </tr>\n",
       "    <tr>\n",
       "      <th>6</th>\n",
       "      <td>processador</td>\n",
       "      <td>100</td>\n",
       "    </tr>\n",
       "    <tr>\n",
       "      <th>7</th>\n",
       "      <td>ram</td>\n",
       "      <td>99</td>\n",
       "    </tr>\n",
       "    <tr>\n",
       "      <th>8</th>\n",
       "      <td>4g</td>\n",
       "      <td>87</td>\n",
       "    </tr>\n",
       "    <tr>\n",
       "      <th>9</th>\n",
       "      <td>64gb</td>\n",
       "      <td>81</td>\n",
       "    </tr>\n",
       "    <tr>\n",
       "      <th>10</th>\n",
       "      <td>octa</td>\n",
       "      <td>74</td>\n",
       "    </tr>\n",
       "    <tr>\n",
       "      <th>11</th>\n",
       "      <td>galaxy</td>\n",
       "      <td>70</td>\n",
       "    </tr>\n",
       "    <tr>\n",
       "      <th>12</th>\n",
       "      <td>samsung</td>\n",
       "      <td>67</td>\n",
       "    </tr>\n",
       "    <tr>\n",
       "      <th>13</th>\n",
       "      <td>moto</td>\n",
       "      <td>65</td>\n",
       "    </tr>\n",
       "    <tr>\n",
       "      <th>14</th>\n",
       "      <td>motorola</td>\n",
       "      <td>60</td>\n",
       "    </tr>\n",
       "    <tr>\n",
       "      <th>15</th>\n",
       "      <td>32gb</td>\n",
       "      <td>54</td>\n",
       "    </tr>\n",
       "    <tr>\n",
       "      <th>16</th>\n",
       "      <td>4gb</td>\n",
       "      <td>53</td>\n",
       "    </tr>\n",
       "    <tr>\n",
       "      <th>17</th>\n",
       "      <td>plus</td>\n",
       "      <td>51</td>\n",
       "    </tr>\n",
       "    <tr>\n",
       "      <th>18</th>\n",
       "      <td>preto</td>\n",
       "      <td>46</td>\n",
       "    </tr>\n",
       "    <tr>\n",
       "      <th>19</th>\n",
       "      <td>quad</td>\n",
       "      <td>35</td>\n",
       "    </tr>\n",
       "  </tbody>\n",
       "</table>\n",
       "</div>"
      ],
      "text/plain": [
       "           word  freq\n",
       "0          dual   163\n",
       "1          tela   145\n",
       "2       android   130\n",
       "3        camera   117\n",
       "4          chip   115\n",
       "5          core   112\n",
       "6   processador   100\n",
       "7           ram    99\n",
       "8            4g    87\n",
       "9          64gb    81\n",
       "10         octa    74\n",
       "11       galaxy    70\n",
       "12      samsung    67\n",
       "13         moto    65\n",
       "14     motorola    60\n",
       "15         32gb    54\n",
       "16          4gb    53\n",
       "17         plus    51\n",
       "18        preto    46\n",
       "19         quad    35"
      ]
     },
     "execution_count": 18,
     "metadata": {},
     "output_type": "execute_result"
    }
   ],
   "source": [
    "# Check unigram\n",
    "unigram"
   ]
  },
  {
   "cell_type": "markdown",
   "metadata": {},
   "source": [
    "I will use more words to filter (20) but from these words I will remove 'preto' because it's not a good characteristic to describe an smartphone."
   ]
  },
  {
   "cell_type": "code",
   "execution_count": 19,
   "metadata": {},
   "outputs": [],
   "source": [
    "# Filter\n",
    "unigram = unigram[~unigram['word'].map(lambda x: 'preto' in x)]\n",
    "\n",
    "# Filter by unigram\n",
    "possibly_smartphone = e_commerce[e_commerce['title'].map(lambda x: check_smart(x,unigram['word']))]\n",
    "\n",
    "# Filter by possibly_smartphone\n",
    "e_commerce = e_commerce[~e_commerce.index.isin(possibly_smartphone.index)]"
   ]
  },
  {
   "cell_type": "code",
   "execution_count": 20,
   "metadata": {},
   "outputs": [
    {
     "data": {
      "text/plain": [
       "(867, 1)"
      ]
     },
     "execution_count": 20,
     "metadata": {},
     "output_type": "execute_result"
    }
   ],
   "source": [
    "# Check number of samples\n",
    "possibly_smartphone.shape"
   ]
  },
  {
   "cell_type": "code",
   "execution_count": 21,
   "metadata": {},
   "outputs": [
    {
     "data": {
      "text/html": [
       "<div>\n",
       "<style scoped>\n",
       "    .dataframe tbody tr th:only-of-type {\n",
       "        vertical-align: middle;\n",
       "    }\n",
       "\n",
       "    .dataframe tbody tr th {\n",
       "        vertical-align: top;\n",
       "    }\n",
       "\n",
       "    .dataframe thead th {\n",
       "        text-align: right;\n",
       "    }\n",
       "</style>\n",
       "<table border=\"1\" class=\"dataframe\">\n",
       "  <thead>\n",
       "    <tr style=\"text-align: right;\">\n",
       "      <th></th>\n",
       "      <th>title</th>\n",
       "    </tr>\n",
       "  </thead>\n",
       "  <tbody>\n",
       "    <tr>\n",
       "      <th>46</th>\n",
       "      <td>capa iphone 6 plus muvit</td>\n",
       "    </tr>\n",
       "    <tr>\n",
       "      <th>60</th>\n",
       "      <td>pelicula vidro temperado samsung galaxy e7 e700</td>\n",
       "    </tr>\n",
       "    <tr>\n",
       "      <th>68</th>\n",
       "      <td>memoria 4gb ddr3 1333 kvr13n9s8/4 kingston</td>\n",
       "    </tr>\n",
       "    <tr>\n",
       "      <th>97</th>\n",
       "      <td>bumper ero original samsung galaxy s3 siii i93...</td>\n",
       "    </tr>\n",
       "    <tr>\n",
       "      <th>98</th>\n",
       "      <td>bumper ero original galaxy s3 siii i9300 pinge...</td>\n",
       "    </tr>\n",
       "  </tbody>\n",
       "</table>\n",
       "</div>"
      ],
      "text/plain": [
       "                                                title\n",
       "46                           capa iphone 6 plus muvit\n",
       "60    pelicula vidro temperado samsung galaxy e7 e700\n",
       "68         memoria 4gb ddr3 1333 kvr13n9s8/4 kingston\n",
       "97  bumper ero original samsung galaxy s3 siii i93...\n",
       "98  bumper ero original galaxy s3 siii i9300 pinge..."
      ]
     },
     "execution_count": 21,
     "metadata": {},
     "output_type": "execute_result"
    }
   ],
   "source": [
    "# First 5 lines\n",
    "possibly_smartphone.head()"
   ]
  },
  {
   "cell_type": "markdown",
   "metadata": {},
   "source": [
    "You can see that we have sentences related to smartphone, but they don't really talk about one. Actually these sentences describe something that can be used for a smartphone.\n",
    "\n",
    "Let's check our unigram words in possibly_smartphone."
   ]
  },
  {
   "cell_type": "code",
   "execution_count": 22,
   "metadata": {},
   "outputs": [],
   "source": [
    "# Compute unigram\n",
    "unigram2 = ngram(1,possibly_smartphone['title'],50)"
   ]
  },
  {
   "cell_type": "code",
   "execution_count": 23,
   "metadata": {},
   "outputs": [],
   "source": [
    "# Remove similar unigram to get words different\n",
    "unigram2 = unigram2[~unigram2['word'].isin(unigram['word'])]"
   ]
  },
  {
   "cell_type": "code",
   "execution_count": 24,
   "metadata": {},
   "outputs": [
    {
     "data": {
      "text/html": [
       "<div>\n",
       "<style scoped>\n",
       "    .dataframe tbody tr th:only-of-type {\n",
       "        vertical-align: middle;\n",
       "    }\n",
       "\n",
       "    .dataframe tbody tr th {\n",
       "        vertical-align: top;\n",
       "    }\n",
       "\n",
       "    .dataframe thead th {\n",
       "        text-align: right;\n",
       "    }\n",
       "</style>\n",
       "<table border=\"1\" class=\"dataframe\">\n",
       "  <thead>\n",
       "    <tr style=\"text-align: right;\">\n",
       "      <th></th>\n",
       "      <th>word</th>\n",
       "      <th>freq</th>\n",
       "    </tr>\n",
       "  </thead>\n",
       "  <tbody>\n",
       "    <tr>\n",
       "      <th>0</th>\n",
       "      <td>capa</td>\n",
       "      <td>423</td>\n",
       "    </tr>\n",
       "    <tr>\n",
       "      <th>5</th>\n",
       "      <td>celular</td>\n",
       "      <td>152</td>\n",
       "    </tr>\n",
       "    <tr>\n",
       "      <th>6</th>\n",
       "      <td>tpu</td>\n",
       "      <td>141</td>\n",
       "    </tr>\n",
       "    <tr>\n",
       "      <th>9</th>\n",
       "      <td>duos</td>\n",
       "      <td>85</td>\n",
       "    </tr>\n",
       "    <tr>\n",
       "      <th>12</th>\n",
       "      <td>pelicula</td>\n",
       "      <td>81</td>\n",
       "    </tr>\n",
       "    <tr>\n",
       "      <th>13</th>\n",
       "      <td>iphone</td>\n",
       "      <td>80</td>\n",
       "    </tr>\n",
       "    <tr>\n",
       "      <th>14</th>\n",
       "      <td>preto</td>\n",
       "      <td>80</td>\n",
       "    </tr>\n",
       "    <tr>\n",
       "      <th>15</th>\n",
       "      <td>transparente</td>\n",
       "      <td>75</td>\n",
       "    </tr>\n",
       "    <tr>\n",
       "      <th>17</th>\n",
       "      <td>branco</td>\n",
       "      <td>70</td>\n",
       "    </tr>\n",
       "    <tr>\n",
       "      <th>18</th>\n",
       "      <td>s4</td>\n",
       "      <td>69</td>\n",
       "    </tr>\n",
       "    <tr>\n",
       "      <th>20</th>\n",
       "      <td>pc</td>\n",
       "      <td>67</td>\n",
       "    </tr>\n",
       "    <tr>\n",
       "      <th>21</th>\n",
       "      <td>rosa</td>\n",
       "      <td>65</td>\n",
       "    </tr>\n",
       "    <tr>\n",
       "      <th>22</th>\n",
       "      <td>xiaomi</td>\n",
       "      <td>61</td>\n",
       "    </tr>\n",
       "    <tr>\n",
       "      <th>23</th>\n",
       "      <td>lacrado</td>\n",
       "      <td>60</td>\n",
       "    </tr>\n",
       "    <tr>\n",
       "      <th>24</th>\n",
       "      <td>original</td>\n",
       "      <td>56</td>\n",
       "    </tr>\n",
       "    <tr>\n",
       "      <th>26</th>\n",
       "      <td>s3</td>\n",
       "      <td>49</td>\n",
       "    </tr>\n",
       "    <tr>\n",
       "      <th>27</th>\n",
       "      <td>novo</td>\n",
       "      <td>49</td>\n",
       "    </tr>\n",
       "    <tr>\n",
       "      <th>28</th>\n",
       "      <td>apple</td>\n",
       "      <td>48</td>\n",
       "    </tr>\n",
       "    <tr>\n",
       "      <th>30</th>\n",
       "      <td>mini</td>\n",
       "      <td>44</td>\n",
       "    </tr>\n",
       "    <tr>\n",
       "      <th>31</th>\n",
       "      <td>flip</td>\n",
       "      <td>44</td>\n",
       "    </tr>\n",
       "    <tr>\n",
       "      <th>32</th>\n",
       "      <td>note</td>\n",
       "      <td>40</td>\n",
       "    </tr>\n",
       "    <tr>\n",
       "      <th>33</th>\n",
       "      <td>redmi</td>\n",
       "      <td>39</td>\n",
       "    </tr>\n",
       "    <tr>\n",
       "      <th>34</th>\n",
       "      <td>dourado</td>\n",
       "      <td>35</td>\n",
       "    </tr>\n",
       "    <tr>\n",
       "      <th>35</th>\n",
       "      <td>global</td>\n",
       "      <td>34</td>\n",
       "    </tr>\n",
       "    <tr>\n",
       "      <th>36</th>\n",
       "      <td>idea</td>\n",
       "      <td>33</td>\n",
       "    </tr>\n",
       "    <tr>\n",
       "      <th>37</th>\n",
       "      <td>s5</td>\n",
       "      <td>32</td>\n",
       "    </tr>\n",
       "    <tr>\n",
       "      <th>39</th>\n",
       "      <td>azul</td>\n",
       "      <td>31</td>\n",
       "    </tr>\n",
       "    <tr>\n",
       "      <th>40</th>\n",
       "      <td>bumper</td>\n",
       "      <td>30</td>\n",
       "    </tr>\n",
       "    <tr>\n",
       "      <th>41</th>\n",
       "      <td>16gb</td>\n",
       "      <td>30</td>\n",
       "    </tr>\n",
       "    <tr>\n",
       "      <th>43</th>\n",
       "      <td>protetora</td>\n",
       "      <td>29</td>\n",
       "    </tr>\n",
       "    <tr>\n",
       "      <th>44</th>\n",
       "      <td>cover</td>\n",
       "      <td>29</td>\n",
       "    </tr>\n",
       "    <tr>\n",
       "      <th>45</th>\n",
       "      <td>nf</td>\n",
       "      <td>27</td>\n",
       "    </tr>\n",
       "    <tr>\n",
       "      <th>46</th>\n",
       "      <td>vermelho</td>\n",
       "      <td>25</td>\n",
       "    </tr>\n",
       "    <tr>\n",
       "      <th>47</th>\n",
       "      <td>vidro</td>\n",
       "      <td>24</td>\n",
       "    </tr>\n",
       "    <tr>\n",
       "      <th>49</th>\n",
       "      <td>g6</td>\n",
       "      <td>24</td>\n",
       "    </tr>\n",
       "  </tbody>\n",
       "</table>\n",
       "</div>"
      ],
      "text/plain": [
       "            word  freq\n",
       "0           capa   423\n",
       "5        celular   152\n",
       "6            tpu   141\n",
       "9           duos    85\n",
       "12      pelicula    81\n",
       "13        iphone    80\n",
       "14         preto    80\n",
       "15  transparente    75\n",
       "17        branco    70\n",
       "18            s4    69\n",
       "20            pc    67\n",
       "21          rosa    65\n",
       "22        xiaomi    61\n",
       "23       lacrado    60\n",
       "24      original    56\n",
       "26            s3    49\n",
       "27          novo    49\n",
       "28         apple    48\n",
       "30          mini    44\n",
       "31          flip    44\n",
       "32          note    40\n",
       "33         redmi    39\n",
       "34       dourado    35\n",
       "35        global    34\n",
       "36          idea    33\n",
       "37            s5    32\n",
       "39          azul    31\n",
       "40        bumper    30\n",
       "41          16gb    30\n",
       "43     protetora    29\n",
       "44         cover    29\n",
       "45            nf    27\n",
       "46      vermelho    25\n",
       "47         vidro    24\n",
       "49            g6    24"
      ]
     },
     "execution_count": 24,
     "metadata": {},
     "output_type": "execute_result"
    }
   ],
   "source": [
    "# Show\n",
    "unigram2"
   ]
  },
  {
   "cell_type": "markdown",
   "metadata": {},
   "source": [
    "Note that we have several words that are not interesting like:\n",
    "\n",
    "- capa\n",
    "- pelicula\n",
    "- transparente\n",
    "- pc\n",
    "- bumper\n",
    "- protetora\n",
    "- cover\n",
    "- vidro\n",
    "\n",
    "Some of these words are color and some are things that can be used with a smartphone. So It's likely that sentences with these words don't really describe one smartphone.\n",
    "\n",
    "Let's check sentences with these words."
   ]
  },
  {
   "cell_type": "code",
   "execution_count": 25,
   "metadata": {},
   "outputs": [],
   "source": [
    "# Creating a word list\n",
    "word_list = ['capa','pelicula','transparente','pc','bumper','protetora','cover','vidro']"
   ]
  },
  {
   "cell_type": "code",
   "execution_count": 26,
   "metadata": {},
   "outputs": [],
   "source": [
    "# Filter\n",
    "not_smart = possibly_smartphone[possibly_smartphone['title'].map(lambda x: check_smart(x,word_list))]\n",
    "\n",
    "# Sort\n",
    "not_smart = not_smart.sort_values(by='title')"
   ]
  },
  {
   "cell_type": "code",
   "execution_count": 27,
   "metadata": {},
   "outputs": [
    {
     "data": {
      "text/html": [
       "<div>\n",
       "<style scoped>\n",
       "    .dataframe tbody tr th:only-of-type {\n",
       "        vertical-align: middle;\n",
       "    }\n",
       "\n",
       "    .dataframe tbody tr th {\n",
       "        vertical-align: top;\n",
       "    }\n",
       "\n",
       "    .dataframe thead th {\n",
       "        text-align: right;\n",
       "    }\n",
       "</style>\n",
       "<table border=\"1\" class=\"dataframe\">\n",
       "  <thead>\n",
       "    <tr style=\"text-align: right;\">\n",
       "      <th></th>\n",
       "      <th>title</th>\n",
       "    </tr>\n",
       "  </thead>\n",
       "  <tbody>\n",
       "    <tr>\n",
       "      <th>1570</th>\n",
       "      <td>bumber motorola d3 transparente roxo</td>\n",
       "    </tr>\n",
       "    <tr>\n",
       "      <th>1595</th>\n",
       "      <td>bumber samsung galaxy s4 rosa transparente</td>\n",
       "    </tr>\n",
       "    <tr>\n",
       "      <th>100</th>\n",
       "      <td>bumper ero original galaxy s3 siii i9300 pinge...</td>\n",
       "    </tr>\n",
       "    <tr>\n",
       "      <th>114</th>\n",
       "      <td>bumper ero original galaxy s3 siii i9300 pinge...</td>\n",
       "    </tr>\n",
       "    <tr>\n",
       "      <th>113</th>\n",
       "      <td>bumper ero original galaxy s3 siii i9300 pinge...</td>\n",
       "    </tr>\n",
       "    <tr>\n",
       "      <th>112</th>\n",
       "      <td>bumper ero original galaxy s3 siii i9300 pinge...</td>\n",
       "    </tr>\n",
       "    <tr>\n",
       "      <th>110</th>\n",
       "      <td>bumper ero original galaxy s3 siii i9300 pinge...</td>\n",
       "    </tr>\n",
       "    <tr>\n",
       "      <th>98</th>\n",
       "      <td>bumper ero original galaxy s3 siii i9300 pinge...</td>\n",
       "    </tr>\n",
       "    <tr>\n",
       "      <th>111</th>\n",
       "      <td>bumper ero original galaxy s3 siii i9300 pinge...</td>\n",
       "    </tr>\n",
       "    <tr>\n",
       "      <th>109</th>\n",
       "      <td>bumper ero original galaxy s3 siii i9300 pinge...</td>\n",
       "    </tr>\n",
       "    <tr>\n",
       "      <th>108</th>\n",
       "      <td>bumper ero original samsung galaxy s3 siii i93...</td>\n",
       "    </tr>\n",
       "    <tr>\n",
       "      <th>97</th>\n",
       "      <td>bumper ero original samsung galaxy s3 siii i93...</td>\n",
       "    </tr>\n",
       "    <tr>\n",
       "      <th>107</th>\n",
       "      <td>bumper ero original samsung galaxy s3 siii i93...</td>\n",
       "    </tr>\n",
       "    <tr>\n",
       "      <th>106</th>\n",
       "      <td>bumper ero original samsung galaxy s3 siii i93...</td>\n",
       "    </tr>\n",
       "    <tr>\n",
       "      <th>473</th>\n",
       "      <td>bumper iphone 4 4s dual color branco</td>\n",
       "    </tr>\n",
       "    <tr>\n",
       "      <th>455</th>\n",
       "      <td>bumper iphone 6 dual color transparente lilas</td>\n",
       "    </tr>\n",
       "    <tr>\n",
       "      <th>1784</th>\n",
       "      <td>bumper motorola d1 preto idea</td>\n",
       "    </tr>\n",
       "    <tr>\n",
       "      <th>1496</th>\n",
       "      <td>bumper motorola moto amarelo</td>\n",
       "    </tr>\n",
       "    <tr>\n",
       "      <th>1306</th>\n",
       "      <td>bumper motorola moto azul</td>\n",
       "    </tr>\n",
       "    <tr>\n",
       "      <th>866</th>\n",
       "      <td>bumper motorola moto g branca</td>\n",
       "    </tr>\n",
       "    <tr>\n",
       "      <th>1589</th>\n",
       "      <td>bumper motorola moto g rosa</td>\n",
       "    </tr>\n",
       "    <tr>\n",
       "      <th>1002</th>\n",
       "      <td>bumper motorola moto g2 amarelo</td>\n",
       "    </tr>\n",
       "    <tr>\n",
       "      <th>1001</th>\n",
       "      <td>bumper motorola moto g2 branco</td>\n",
       "    </tr>\n",
       "    <tr>\n",
       "      <th>1320</th>\n",
       "      <td>bumper motorola moto rosa</td>\n",
       "    </tr>\n",
       "    <tr>\n",
       "      <th>1635</th>\n",
       "      <td>bumper samsung galaxy fame preto/transparente</td>\n",
       "    </tr>\n",
       "    <tr>\n",
       "      <th>1370</th>\n",
       "      <td>bumper samsung galaxy fame transparente/branco</td>\n",
       "    </tr>\n",
       "    <tr>\n",
       "      <th>1655</th>\n",
       "      <td>bumper samsung galaxy gran duos rosa</td>\n",
       "    </tr>\n",
       "    <tr>\n",
       "      <th>1663</th>\n",
       "      <td>bumper samsung galaxy s3 mini branco/transparente</td>\n",
       "    </tr>\n",
       "    <tr>\n",
       "      <th>868</th>\n",
       "      <td>bumper samsung galaxy s5 azul</td>\n",
       "    </tr>\n",
       "    <tr>\n",
       "      <th>1641</th>\n",
       "      <td>bumper samsung galaxy s5 vermelho</td>\n",
       "    </tr>\n",
       "    <tr>\n",
       "      <th>...</th>\n",
       "      <td>...</td>\n",
       "    </tr>\n",
       "    <tr>\n",
       "      <th>463</th>\n",
       "      <td>pelicula protetora tela galaxy s4 mini i9190 a...</td>\n",
       "    </tr>\n",
       "    <tr>\n",
       "      <th>443</th>\n",
       "      <td>pelicula protetora tela galaxy s4 mini i9190 f...</td>\n",
       "    </tr>\n",
       "    <tr>\n",
       "      <th>468</th>\n",
       "      <td>pelicula protetora tela galaxy s4 mini i9190 t...</td>\n",
       "    </tr>\n",
       "    <tr>\n",
       "      <th>434</th>\n",
       "      <td>pelicula protetora tela galaxy s5 i9600 fosca</td>\n",
       "    </tr>\n",
       "    <tr>\n",
       "      <th>435</th>\n",
       "      <td>pelicula protetora tela galaxy s5 i9600 transp...</td>\n",
       "    </tr>\n",
       "    <tr>\n",
       "      <th>451</th>\n",
       "      <td>pelicula protetora tela galaxy win duos i855 f...</td>\n",
       "    </tr>\n",
       "    <tr>\n",
       "      <th>461</th>\n",
       "      <td>pelicula protetora tela galaxy win duos i855 t...</td>\n",
       "    </tr>\n",
       "    <tr>\n",
       "      <th>447</th>\n",
       "      <td>pelicula protetora tela iphone 4 4s frente ver...</td>\n",
       "    </tr>\n",
       "    <tr>\n",
       "      <th>428</th>\n",
       "      <td>pelicula protetora tela iphone 4 4s frente ver...</td>\n",
       "    </tr>\n",
       "    <tr>\n",
       "      <th>448</th>\n",
       "      <td>pelicula protetora tela iphone 5 5s frente ver...</td>\n",
       "    </tr>\n",
       "    <tr>\n",
       "      <th>446</th>\n",
       "      <td>pelicula protetora tela iphone 5 5s frente ver...</td>\n",
       "    </tr>\n",
       "    <tr>\n",
       "      <th>1181</th>\n",
       "      <td>pelicula vidro celular samsung galaxy j5 j500</td>\n",
       "    </tr>\n",
       "    <tr>\n",
       "      <th>1180</th>\n",
       "      <td>pelicula vidro celular samsung galaxy s5 g900</td>\n",
       "    </tr>\n",
       "    <tr>\n",
       "      <th>725</th>\n",
       "      <td>pelicula vidro samsung galaxy gran prime</td>\n",
       "    </tr>\n",
       "    <tr>\n",
       "      <th>1136</th>\n",
       "      <td>pelicula vidro samsung galaxy j5 j500f</td>\n",
       "    </tr>\n",
       "    <tr>\n",
       "      <th>1149</th>\n",
       "      <td>pelicula vidro samsung galaxy j7</td>\n",
       "    </tr>\n",
       "    <tr>\n",
       "      <th>927</th>\n",
       "      <td>pelicula vidro temperada motorola moto g 3 ger...</td>\n",
       "    </tr>\n",
       "    <tr>\n",
       "      <th>116</th>\n",
       "      <td>pelicula vidro temperado lg g4 dual protecao m...</td>\n",
       "    </tr>\n",
       "    <tr>\n",
       "      <th>118</th>\n",
       "      <td>pelicula vidro temperado moto maxx protecao ma...</td>\n",
       "    </tr>\n",
       "    <tr>\n",
       "      <th>1022</th>\n",
       "      <td>pelicula vidro temperado motorola novo moto g ...</td>\n",
       "    </tr>\n",
       "    <tr>\n",
       "      <th>60</th>\n",
       "      <td>pelicula vidro temperado samsung galaxy e7 e700</td>\n",
       "    </tr>\n",
       "    <tr>\n",
       "      <th>1375</th>\n",
       "      <td>pelicula vidro ultra temperado moto g 3 geracao</td>\n",
       "    </tr>\n",
       "    <tr>\n",
       "      <th>928</th>\n",
       "      <td>pelicula vidro ultra temperado motorola moto g...</td>\n",
       "    </tr>\n",
       "    <tr>\n",
       "      <th>1108</th>\n",
       "      <td>pelicula vidro ultra temperado motorola moto g...</td>\n",
       "    </tr>\n",
       "    <tr>\n",
       "      <th>940</th>\n",
       "      <td>pelicula vidro ultra temperado motorola moto x...</td>\n",
       "    </tr>\n",
       "    <tr>\n",
       "      <th>931</th>\n",
       "      <td>pelicula vidro ultra temperado motorola moto x...</td>\n",
       "    </tr>\n",
       "    <tr>\n",
       "      <th>1110</th>\n",
       "      <td>pelicula vidro ultra temperado samsung galaxy ...</td>\n",
       "    </tr>\n",
       "    <tr>\n",
       "      <th>932</th>\n",
       "      <td>pelicula vidro ultra temperado samsung galaxy ...</td>\n",
       "    </tr>\n",
       "    <tr>\n",
       "      <th>1109</th>\n",
       "      <td>pelicula vidro ultra temperado sony xperia z3 ...</td>\n",
       "    </tr>\n",
       "    <tr>\n",
       "      <th>2305</th>\n",
       "      <td>promocao xiaomi redmi note 5 4gb ram 64gb full...</td>\n",
       "    </tr>\n",
       "  </tbody>\n",
       "</table>\n",
       "<p>504 rows × 1 columns</p>\n",
       "</div>"
      ],
      "text/plain": [
       "                                                  title\n",
       "1570               bumber motorola d3 transparente roxo\n",
       "1595         bumber samsung galaxy s4 rosa transparente\n",
       "100   bumper ero original galaxy s3 siii i9300 pinge...\n",
       "114   bumper ero original galaxy s3 siii i9300 pinge...\n",
       "113   bumper ero original galaxy s3 siii i9300 pinge...\n",
       "112   bumper ero original galaxy s3 siii i9300 pinge...\n",
       "110   bumper ero original galaxy s3 siii i9300 pinge...\n",
       "98    bumper ero original galaxy s3 siii i9300 pinge...\n",
       "111   bumper ero original galaxy s3 siii i9300 pinge...\n",
       "109   bumper ero original galaxy s3 siii i9300 pinge...\n",
       "108   bumper ero original samsung galaxy s3 siii i93...\n",
       "97    bumper ero original samsung galaxy s3 siii i93...\n",
       "107   bumper ero original samsung galaxy s3 siii i93...\n",
       "106   bumper ero original samsung galaxy s3 siii i93...\n",
       "473                bumper iphone 4 4s dual color branco\n",
       "455       bumper iphone 6 dual color transparente lilas\n",
       "1784                      bumper motorola d1 preto idea\n",
       "1496                       bumper motorola moto amarelo\n",
       "1306                          bumper motorola moto azul\n",
       "866                       bumper motorola moto g branca\n",
       "1589                        bumper motorola moto g rosa\n",
       "1002                    bumper motorola moto g2 amarelo\n",
       "1001                     bumper motorola moto g2 branco\n",
       "1320                          bumper motorola moto rosa\n",
       "1635      bumper samsung galaxy fame preto/transparente\n",
       "1370     bumper samsung galaxy fame transparente/branco\n",
       "1655               bumper samsung galaxy gran duos rosa\n",
       "1663  bumper samsung galaxy s3 mini branco/transparente\n",
       "868                       bumper samsung galaxy s5 azul\n",
       "1641                  bumper samsung galaxy s5 vermelho\n",
       "...                                                 ...\n",
       "463   pelicula protetora tela galaxy s4 mini i9190 a...\n",
       "443   pelicula protetora tela galaxy s4 mini i9190 f...\n",
       "468   pelicula protetora tela galaxy s4 mini i9190 t...\n",
       "434       pelicula protetora tela galaxy s5 i9600 fosca\n",
       "435   pelicula protetora tela galaxy s5 i9600 transp...\n",
       "451   pelicula protetora tela galaxy win duos i855 f...\n",
       "461   pelicula protetora tela galaxy win duos i855 t...\n",
       "447   pelicula protetora tela iphone 4 4s frente ver...\n",
       "428   pelicula protetora tela iphone 4 4s frente ver...\n",
       "448   pelicula protetora tela iphone 5 5s frente ver...\n",
       "446   pelicula protetora tela iphone 5 5s frente ver...\n",
       "1181      pelicula vidro celular samsung galaxy j5 j500\n",
       "1180      pelicula vidro celular samsung galaxy s5 g900\n",
       "725            pelicula vidro samsung galaxy gran prime\n",
       "1136             pelicula vidro samsung galaxy j5 j500f\n",
       "1149                   pelicula vidro samsung galaxy j7\n",
       "927   pelicula vidro temperada motorola moto g 3 ger...\n",
       "116   pelicula vidro temperado lg g4 dual protecao m...\n",
       "118   pelicula vidro temperado moto maxx protecao ma...\n",
       "1022  pelicula vidro temperado motorola novo moto g ...\n",
       "60      pelicula vidro temperado samsung galaxy e7 e700\n",
       "1375    pelicula vidro ultra temperado moto g 3 geracao\n",
       "928   pelicula vidro ultra temperado motorola moto g...\n",
       "1108  pelicula vidro ultra temperado motorola moto g...\n",
       "940   pelicula vidro ultra temperado motorola moto x...\n",
       "931   pelicula vidro ultra temperado motorola moto x...\n",
       "1110  pelicula vidro ultra temperado samsung galaxy ...\n",
       "932   pelicula vidro ultra temperado samsung galaxy ...\n",
       "1109  pelicula vidro ultra temperado sony xperia z3 ...\n",
       "2305  promocao xiaomi redmi note 5 4gb ram 64gb full...\n",
       "\n",
       "[504 rows x 1 columns]"
      ]
     },
     "execution_count": 27,
     "metadata": {},
     "output_type": "execute_result"
    }
   ],
   "source": [
    "# Show\n",
    "not_smart"
   ]
  },
  {
   "cell_type": "markdown",
   "metadata": {},
   "source": [
    "I check the dataset above and it's very cleary that these words are not related to smartphone. In general they describe things used by one like capa, bumper and pelicula."
   ]
  },
  {
   "cell_type": "code",
   "execution_count": 28,
   "metadata": {},
   "outputs": [],
   "source": [
    "# Filter again for not smart\n",
    "possibly_smartphone = possibly_smartphone[~possibly_smartphone.index.isin(not_smart.index)].copy()\n",
    "\n",
    "# Sort\n",
    "possibly_smartphone = possibly_smartphone.sort_values(by='title')"
   ]
  },
  {
   "cell_type": "code",
   "execution_count": 29,
   "metadata": {},
   "outputs": [
    {
     "data": {
      "text/html": [
       "<div>\n",
       "<style scoped>\n",
       "    .dataframe tbody tr th:only-of-type {\n",
       "        vertical-align: middle;\n",
       "    }\n",
       "\n",
       "    .dataframe tbody tr th {\n",
       "        vertical-align: top;\n",
       "    }\n",
       "\n",
       "    .dataframe thead th {\n",
       "        text-align: right;\n",
       "    }\n",
       "</style>\n",
       "<table border=\"1\" class=\"dataframe\">\n",
       "  <thead>\n",
       "    <tr style=\"text-align: right;\">\n",
       "      <th></th>\n",
       "      <th>title</th>\n",
       "    </tr>\n",
       "  </thead>\n",
       "  <tbody>\n",
       "    <tr>\n",
       "      <th>2209</th>\n",
       "      <td>apple iphone 5s 16gb 4g 100 original promocao ...</td>\n",
       "    </tr>\n",
       "    <tr>\n",
       "      <th>2381</th>\n",
       "      <td>apple iphone 6 64gb novo lacrado nota fiscal</td>\n",
       "    </tr>\n",
       "    <tr>\n",
       "      <th>2366</th>\n",
       "      <td>apple iphone 6 64gb rfb lacrado oferta imperdi...</td>\n",
       "    </tr>\n",
       "    <tr>\n",
       "      <th>2281</th>\n",
       "      <td>apple iphone 7 128gb original 4g nacional 12mp...</td>\n",
       "    </tr>\n",
       "    <tr>\n",
       "      <th>2316</th>\n",
       "      <td>apple iphone 7 plus 256gb lacrado garantia ano...</td>\n",
       "    </tr>\n",
       "    <tr>\n",
       "      <th>2443</th>\n",
       "      <td>apple iphone 8 64gb lacrado anatel</td>\n",
       "    </tr>\n",
       "    <tr>\n",
       "      <th>2334</th>\n",
       "      <td>apple iphone 8 64gb lacrado original red vermelho</td>\n",
       "    </tr>\n",
       "    <tr>\n",
       "      <th>2456</th>\n",
       "      <td>apple iphone 8 64gb vitrine garantia 3 meses p...</td>\n",
       "    </tr>\n",
       "    <tr>\n",
       "      <th>2479</th>\n",
       "      <td>apple iphone 8 plus 256gb lacrado 1 ano garantia</td>\n",
       "    </tr>\n",
       "    <tr>\n",
       "      <th>2342</th>\n",
       "      <td>apple iphone 8 plus 64gb anatel</td>\n",
       "    </tr>\n",
       "    <tr>\n",
       "      <th>2585</th>\n",
       "      <td>apple iphone 8 plus 64gb anatel 4g 1 ano garan...</td>\n",
       "    </tr>\n",
       "    <tr>\n",
       "      <th>2591</th>\n",
       "      <td>apple iphone 8 plus 64gb gold dourado novo lac...</td>\n",
       "    </tr>\n",
       "    <tr>\n",
       "      <th>2266</th>\n",
       "      <td>apple iphone 8 plus 64gb lacrado nota fiscal</td>\n",
       "    </tr>\n",
       "    <tr>\n",
       "      <th>2220</th>\n",
       "      <td>apple iphone 8 plus 64gb novo lacrado 1 ano ga...</td>\n",
       "    </tr>\n",
       "    <tr>\n",
       "      <th>2569</th>\n",
       "      <td>apple iphone 8 plus 64gb novo lacrado 1 ano ga...</td>\n",
       "    </tr>\n",
       "    <tr>\n",
       "      <th>2603</th>\n",
       "      <td>apple iphone x 64gb preto anatel lacrado</td>\n",
       "    </tr>\n",
       "    <tr>\n",
       "      <th>2551</th>\n",
       "      <td>apple iphone x 64gb preto anatel lacrado</td>\n",
       "    </tr>\n",
       "    <tr>\n",
       "      <th>1451</th>\n",
       "      <td>blocos montar click it super moto cyclone 118 ...</td>\n",
       "    </tr>\n",
       "    <tr>\n",
       "      <th>917</th>\n",
       "      <td>bracadeira moto g</td>\n",
       "    </tr>\n",
       "    <tr>\n",
       "      <th>883</th>\n",
       "      <td>bracadeira motorola moto</td>\n",
       "    </tr>\n",
       "    <tr>\n",
       "      <th>897</th>\n",
       "      <td>bracadeira motorola moto x</td>\n",
       "    </tr>\n",
       "    <tr>\n",
       "      <th>872</th>\n",
       "      <td>bracadeira samsung galaxy a3</td>\n",
       "    </tr>\n",
       "    <tr>\n",
       "      <th>870</th>\n",
       "      <td>bracadeira samsung galaxy alpha</td>\n",
       "    </tr>\n",
       "    <tr>\n",
       "      <th>918</th>\n",
       "      <td>bracadeira samsung galaxy s4 mini</td>\n",
       "    </tr>\n",
       "    <tr>\n",
       "      <th>981</th>\n",
       "      <td>bracadeira samsung galaxy s5 mini</td>\n",
       "    </tr>\n",
       "    <tr>\n",
       "      <th>2203</th>\n",
       "      <td>brindes gratis+ motorola moto g4 plus 32gb xt1...</td>\n",
       "    </tr>\n",
       "    <tr>\n",
       "      <th>1609</th>\n",
       "      <td>bumber motorola d1 branco</td>\n",
       "    </tr>\n",
       "    <tr>\n",
       "      <th>1613</th>\n",
       "      <td>bumber samsung galaxy note 2 rosa</td>\n",
       "    </tr>\n",
       "    <tr>\n",
       "      <th>1116</th>\n",
       "      <td>cabeceira casal plus criados havana branco</td>\n",
       "    </tr>\n",
       "    <tr>\n",
       "      <th>691</th>\n",
       "      <td>cabo dados colorido micro usb samsung lg nokia...</td>\n",
       "    </tr>\n",
       "    <tr>\n",
       "      <th>...</th>\n",
       "      <td>...</td>\n",
       "    </tr>\n",
       "    <tr>\n",
       "      <th>2493</th>\n",
       "      <td>samsung galaxy s9 128gb preto sm-g9600/ds anat...</td>\n",
       "    </tr>\n",
       "    <tr>\n",
       "      <th>2324</th>\n",
       "      <td>samsung galaxy s9 plus 128gb 6gb ram nacional nf</td>\n",
       "    </tr>\n",
       "    <tr>\n",
       "      <th>2476</th>\n",
       "      <td>samsung galaxy s9 tela 5,8 128gb 12mp original...</td>\n",
       "    </tr>\n",
       "    <tr>\n",
       "      <th>2340</th>\n",
       "      <td>samsung galaxy s9+</td>\n",
       "    </tr>\n",
       "    <tr>\n",
       "      <th>2559</th>\n",
       "      <td>samsung galaxy s9+ plus 128gb preto lacrado na...</td>\n",
       "    </tr>\n",
       "    <tr>\n",
       "      <th>2469</th>\n",
       "      <td>samsung galaxy s9+ s9 plus anatel 128gb lacrad...</td>\n",
       "    </tr>\n",
       "    <tr>\n",
       "      <th>2527</th>\n",
       "      <td>samsung j6 preto tela 5,6 4g 32gb 13mp nota fi...</td>\n",
       "    </tr>\n",
       "    <tr>\n",
       "      <th>2582</th>\n",
       "      <td>samsung j810m galaxy j8 64gb</td>\n",
       "    </tr>\n",
       "    <tr>\n",
       "      <th>2417</th>\n",
       "      <td>smartwatch samsung gear s3 frontier 1.3 blueto...</td>\n",
       "    </tr>\n",
       "    <tr>\n",
       "      <th>2167</th>\n",
       "      <td>sony xperia xz1 compact 32gb g8441 4g 4gb ram ...</td>\n",
       "    </tr>\n",
       "    <tr>\n",
       "      <th>158</th>\n",
       "      <td>tablet multilaser m7s quad core wi fi 7 preto ...</td>\n",
       "    </tr>\n",
       "    <tr>\n",
       "      <th>204</th>\n",
       "      <td>tablet samsung galaxy tab 4g sm-p355m,8,16gb c...</td>\n",
       "    </tr>\n",
       "    <tr>\n",
       "      <th>670</th>\n",
       "      <td>toner samsung clp 325 clx3185fw y407s yellow c...</td>\n",
       "    </tr>\n",
       "    <tr>\n",
       "      <th>2229</th>\n",
       "      <td>xiaomi mi 8 64gb 6gb dual tela 6,2 snapdragon ...</td>\n",
       "    </tr>\n",
       "    <tr>\n",
       "      <th>2252</th>\n",
       "      <td>xiaomi mi a1 5x dual chip 64gb 4gb ram 4g dour...</td>\n",
       "    </tr>\n",
       "    <tr>\n",
       "      <th>2534</th>\n",
       "      <td>xiaomi mi a2 128gb 6gb 20mp tela 5,99 snapdrag...</td>\n",
       "    </tr>\n",
       "    <tr>\n",
       "      <th>2262</th>\n",
       "      <td>xiaomi mi a2 32gb 4gb 20mp tela 5,99 snapdrago...</td>\n",
       "    </tr>\n",
       "    <tr>\n",
       "      <th>2247</th>\n",
       "      <td>xiaomi mi a2 64gb 4gb 20mp tela 5,99 snapdrago...</td>\n",
       "    </tr>\n",
       "    <tr>\n",
       "      <th>2365</th>\n",
       "      <td>xiaomi mi a2 global 4gb ram 64gb 20mp snapdrag...</td>\n",
       "    </tr>\n",
       "    <tr>\n",
       "      <th>2245</th>\n",
       "      <td>xiaomi mi a2 lite 32gb 3gb dual chip tela 5,84...</td>\n",
       "    </tr>\n",
       "    <tr>\n",
       "      <th>2228</th>\n",
       "      <td>xiaomi mi a2 lite 64gb 4gb dual chip tela 5,84...</td>\n",
       "    </tr>\n",
       "    <tr>\n",
       "      <th>2286</th>\n",
       "      <td>xiaomi mi a2 lite 64gb 4gb dual chip tela 5.84...</td>\n",
       "    </tr>\n",
       "    <tr>\n",
       "      <th>2531</th>\n",
       "      <td>xiaomi mi a2 lite 64gb/4gb ram v. global juros</td>\n",
       "    </tr>\n",
       "    <tr>\n",
       "      <th>2427</th>\n",
       "      <td>xiaomi mi mix 2s global branco 64gb pronta ent...</td>\n",
       "    </tr>\n",
       "    <tr>\n",
       "      <th>2293</th>\n",
       "      <td>xiaomi redmi 5 plus 32gb 3gb dual chip rom glo...</td>\n",
       "    </tr>\n",
       "    <tr>\n",
       "      <th>2276</th>\n",
       "      <td>xiaomi redmi 5 plus 64gb 4gb dual chip rom glo...</td>\n",
       "    </tr>\n",
       "    <tr>\n",
       "      <th>2552</th>\n",
       "      <td>xiaomi redmi 6 64gb 4g 4gb ram tela 5,45 andro...</td>\n",
       "    </tr>\n",
       "    <tr>\n",
       "      <th>2430</th>\n",
       "      <td>xiaomi redmi note 5 64gb 4gb ram v. global</td>\n",
       "    </tr>\n",
       "    <tr>\n",
       "      <th>2373</th>\n",
       "      <td>xiaomi redmi note 5 64gb dual global combo not...</td>\n",
       "    </tr>\n",
       "    <tr>\n",
       "      <th>2212</th>\n",
       "      <td>zenfone 4 selfie dourado asus 4g 64gb 4gb 20+8...</td>\n",
       "    </tr>\n",
       "  </tbody>\n",
       "</table>\n",
       "<p>363 rows × 1 columns</p>\n",
       "</div>"
      ],
      "text/plain": [
       "                                                  title\n",
       "2209  apple iphone 5s 16gb 4g 100 original promocao ...\n",
       "2381       apple iphone 6 64gb novo lacrado nota fiscal\n",
       "2366  apple iphone 6 64gb rfb lacrado oferta imperdi...\n",
       "2281  apple iphone 7 128gb original 4g nacional 12mp...\n",
       "2316  apple iphone 7 plus 256gb lacrado garantia ano...\n",
       "2443                 apple iphone 8 64gb lacrado anatel\n",
       "2334  apple iphone 8 64gb lacrado original red vermelho\n",
       "2456  apple iphone 8 64gb vitrine garantia 3 meses p...\n",
       "2479   apple iphone 8 plus 256gb lacrado 1 ano garantia\n",
       "2342                    apple iphone 8 plus 64gb anatel\n",
       "2585  apple iphone 8 plus 64gb anatel 4g 1 ano garan...\n",
       "2591  apple iphone 8 plus 64gb gold dourado novo lac...\n",
       "2266       apple iphone 8 plus 64gb lacrado nota fiscal\n",
       "2220  apple iphone 8 plus 64gb novo lacrado 1 ano ga...\n",
       "2569  apple iphone 8 plus 64gb novo lacrado 1 ano ga...\n",
       "2603           apple iphone x 64gb preto anatel lacrado\n",
       "2551           apple iphone x 64gb preto anatel lacrado\n",
       "1451  blocos montar click it super moto cyclone 118 ...\n",
       "917                                   bracadeira moto g\n",
       "883                            bracadeira motorola moto\n",
       "897                          bracadeira motorola moto x\n",
       "872                        bracadeira samsung galaxy a3\n",
       "870                     bracadeira samsung galaxy alpha\n",
       "918                   bracadeira samsung galaxy s4 mini\n",
       "981                   bracadeira samsung galaxy s5 mini\n",
       "2203  brindes gratis+ motorola moto g4 plus 32gb xt1...\n",
       "1609                          bumber motorola d1 branco\n",
       "1613                  bumber samsung galaxy note 2 rosa\n",
       "1116         cabeceira casal plus criados havana branco\n",
       "691   cabo dados colorido micro usb samsung lg nokia...\n",
       "...                                                 ...\n",
       "2493  samsung galaxy s9 128gb preto sm-g9600/ds anat...\n",
       "2324   samsung galaxy s9 plus 128gb 6gb ram nacional nf\n",
       "2476  samsung galaxy s9 tela 5,8 128gb 12mp original...\n",
       "2340                                 samsung galaxy s9+\n",
       "2559  samsung galaxy s9+ plus 128gb preto lacrado na...\n",
       "2469  samsung galaxy s9+ s9 plus anatel 128gb lacrad...\n",
       "2527  samsung j6 preto tela 5,6 4g 32gb 13mp nota fi...\n",
       "2582                       samsung j810m galaxy j8 64gb\n",
       "2417  smartwatch samsung gear s3 frontier 1.3 blueto...\n",
       "2167  sony xperia xz1 compact 32gb g8441 4g 4gb ram ...\n",
       "158   tablet multilaser m7s quad core wi fi 7 preto ...\n",
       "204   tablet samsung galaxy tab 4g sm-p355m,8,16gb c...\n",
       "670   toner samsung clp 325 clx3185fw y407s yellow c...\n",
       "2229  xiaomi mi 8 64gb 6gb dual tela 6,2 snapdragon ...\n",
       "2252  xiaomi mi a1 5x dual chip 64gb 4gb ram 4g dour...\n",
       "2534  xiaomi mi a2 128gb 6gb 20mp tela 5,99 snapdrag...\n",
       "2262  xiaomi mi a2 32gb 4gb 20mp tela 5,99 snapdrago...\n",
       "2247  xiaomi mi a2 64gb 4gb 20mp tela 5,99 snapdrago...\n",
       "2365  xiaomi mi a2 global 4gb ram 64gb 20mp snapdrag...\n",
       "2245  xiaomi mi a2 lite 32gb 3gb dual chip tela 5,84...\n",
       "2228  xiaomi mi a2 lite 64gb 4gb dual chip tela 5,84...\n",
       "2286  xiaomi mi a2 lite 64gb 4gb dual chip tela 5.84...\n",
       "2531     xiaomi mi a2 lite 64gb/4gb ram v. global juros\n",
       "2427  xiaomi mi mix 2s global branco 64gb pronta ent...\n",
       "2293  xiaomi redmi 5 plus 32gb 3gb dual chip rom glo...\n",
       "2276  xiaomi redmi 5 plus 64gb 4gb dual chip rom glo...\n",
       "2552  xiaomi redmi 6 64gb 4g 4gb ram tela 5,45 andro...\n",
       "2430         xiaomi redmi note 5 64gb 4gb ram v. global\n",
       "2373  xiaomi redmi note 5 64gb dual global combo not...\n",
       "2212  zenfone 4 selfie dourado asus 4g 64gb 4gb 20+8...\n",
       "\n",
       "[363 rows x 1 columns]"
      ]
     },
     "execution_count": 29,
     "metadata": {},
     "output_type": "execute_result"
    }
   ],
   "source": [
    "# Show\n",
    "possibly_smartphone"
   ]
  },
  {
   "cell_type": "markdown",
   "metadata": {},
   "source": [
    "I check by eye the dataset above and I notice that we have a lot of samples that aren't related to a smartphone. But, we have some key words that talk about one like:\n",
    "\n",
    "- iphone\n",
    "- celular\n",
    "- galaxy\n",
    "- lg\n",
    "- xiaomi\n",
    "- zenfone\n",
    "\n",
    "In general this words refers to differets marks in market. So let's filter again by these words, doing this we will generate two dataset's, one that are related to smartphone and other that not."
   ]
  },
  {
   "cell_type": "code",
   "execution_count": 30,
   "metadata": {},
   "outputs": [],
   "source": [
    "# Word list\n",
    "word_list = ['iphone','celular','galaxy','lg','xiaomi','zenfone']\n",
    "\n",
    "# Creating a filter\n",
    "filter_condition = possibly_smartphone['title'].map(lambda x: check_smart(x,word_list))"
   ]
  },
  {
   "cell_type": "code",
   "execution_count": 31,
   "metadata": {},
   "outputs": [],
   "source": [
    "# Concat with smart\n",
    "smartphone = pd.concat([smartphone,possibly_smartphone[filter_condition]])\n",
    "\n",
    "# Concat not_smart and e_commerce\n",
    "not_smart = pd.concat([not_smart,e_commerce,possibly_smartphone[~filter_condition]])\n",
    "\n",
    "# Sort values\n",
    "smartphone = smartphone.sort_values(by='title')\n",
    "not_smart = not_smart.sort_values(by='title')\n",
    "\n",
    "# Set target (1 will be smartphone and 0 not smartphone)\n",
    "smartphone['target'] = 1\n",
    "not_smart['target'] = 0\n",
    "\n",
    "# Save data\n",
    "pd.concat([smartphone,not_smart]).to_csv('smart_or_not.csv',index=False)"
   ]
  },
  {
   "cell_type": "code",
   "execution_count": 32,
   "metadata": {},
   "outputs": [
    {
     "name": "stdout",
     "output_type": "stream",
     "text": [
      "Not smart: 2087\n",
      "Smart: 519\n"
     ]
    }
   ],
   "source": [
    "# Check number of samples\n",
    "print('Not smart:',not_smart.shape[0])\n",
    "print('Smart:',smartphone.shape[0])"
   ]
  },
  {
   "cell_type": "markdown",
   "metadata": {},
   "source": [
    "# 3. Classification\n",
    "\n",
    "This step we will build a binary classifier to predict if a sentence it's a smartphone or not."
   ]
  },
  {
   "cell_type": "code",
   "execution_count": 33,
   "metadata": {},
   "outputs": [],
   "source": [
    "# Reading data\n",
    "smart_or_not = pd.read_csv('smart_or_not.csv')"
   ]
  },
  {
   "cell_type": "markdown",
   "metadata": {},
   "source": [
    "So we have a classic problem in our dataset related to unbalanced values. Of course, we are assuming that both datasets are correct, because we labeled them manually.\n",
    "\n",
    "So assuming this is right we need doing something with this problem, because training one classifier with unbalanced classes will produces (in general) poor results (because of overfitting).\n",
    "\n",
    "Because of it our aproach it will be like this: Sample 300 rows from both datasets (600 rows) and used it for training. The left (219 smartphone and 1787 not_smartphone) will be used to test."
   ]
  },
  {
   "cell_type": "code",
   "execution_count": 34,
   "metadata": {},
   "outputs": [],
   "source": [
    "# Separate dataset in train and test\n",
    "X_train = smart_or_not[smart_or_not['target'] == 1].sample(300,replace=False,random_state=42)\n",
    "X_train = pd.concat([X_train,smart_or_not[smart_or_not['target'] == 0].sample(300,replace=False,random_state=42)])\n",
    "X_test = smart_or_not[~smart_or_not.index.isin(X_train.index)]\n",
    "\n",
    "# Separate dataset in dependent and independent variables\n",
    "y_train = X_train['target']\n",
    "y_test = X_test['target']\n",
    "X_train = X_train.drop(columns='target')\n",
    "X_test = X_test.drop(columns='target')"
   ]
  },
  {
   "cell_type": "markdown",
   "metadata": {},
   "source": [
    "We will use tf-idf to feature extraction."
   ]
  },
  {
   "cell_type": "code",
   "execution_count": 35,
   "metadata": {},
   "outputs": [],
   "source": [
    "# Training tf-idf\n",
    "vectorizer = TfidfVectorizer().fit(X_train['title'])\n",
    "\n",
    "# Transform data\n",
    "X_tfidf = vectorizer.transform(X_train['title'])"
   ]
  },
  {
   "cell_type": "code",
   "execution_count": 36,
   "metadata": {},
   "outputs": [
    {
     "data": {
      "text/plain": [
       "(600, 1343)"
      ]
     },
     "execution_count": 36,
     "metadata": {},
     "output_type": "execute_result"
    }
   ],
   "source": [
    "# Dimensions\n",
    "X_tfidf.shape"
   ]
  },
  {
   "cell_type": "markdown",
   "metadata": {},
   "source": [
    "Our dimensions it's quite long (1343), so It's a good idea apply some dimensionality reduction in order to avoid overfitting. We will use SVD (truncated) because this function accepts sparses matrisx."
   ]
  },
  {
   "cell_type": "code",
   "execution_count": 37,
   "metadata": {},
   "outputs": [],
   "source": [
    "# Creating svd\n",
    "svd = TruncatedSVD(n_components=X_tfidf.shape[0]).fit(X_tfidf)"
   ]
  },
  {
   "cell_type": "code",
   "execution_count": 38,
   "metadata": {},
   "outputs": [],
   "source": [
    "'''\n",
    "\n",
    "Plot the explained variance by svd\n",
    "\n",
    "Parameters:\n",
    "-----------\n",
    "\n",
    "svd: Svd sklearn object fitted.\n",
    "size: Number of components to plot.\n",
    "factor: Factor used to cumsum.\n",
    "\n",
    "'''\n",
    "def plot_svd(svd,size,factor):\n",
    "    \n",
    "    # Creating components\n",
    "    x_list = [factor*i for i in range(1,size+1)]\n",
    "    \n",
    "    # Cumsum\n",
    "    cumsum = np.cumsum(svd.explained_variance_ratio_)\n",
    "    \n",
    "    # Take factor multiplied by each size\n",
    "    cumsum = cumsum[[factor*i for i in range(1,size+1)]]\n",
    "\n",
    "    # Creating figure\n",
    "    fig,ax = plt.subplots(figsize=(15,7))\n",
    "    ax.set_title('Explained variance by svd')\n",
    "    ax.plot(x_list,cumsum,marker='o',color='orange',label='Cumulative')\n",
    "    \n",
    "    # Rotate in 45 degrees\n",
    "    for xtick in ax.get_xticklabels():\n",
    "        xtick.set_rotation(45)\n",
    "    \n",
    "    ax.legend()\n",
    "    plt.show()"
   ]
  },
  {
   "cell_type": "code",
   "execution_count": 39,
   "metadata": {},
   "outputs": [
    {
     "data": {
      "image/png": "[encoded data removed]",
      "text/plain": [
       "<Figure size 1080x504 with 1 Axes>"
      ]
     },
     "metadata": {
      "needs_background": "light"
     },
     "output_type": "display_data"
    }
   ],
   "source": [
    "# Plot\n",
    "plot_svd(svd,11,50)"
   ]
  },
  {
   "cell_type": "markdown",
   "metadata": {},
   "source": [
    "We have a total of 600 components but with the figure above you can see that with ~350 we have 90% of explained variance. So, let's use just 350 components."
   ]
  },
  {
   "cell_type": "code",
   "execution_count": 40,
   "metadata": {},
   "outputs": [],
   "source": [
    "# SVD transform\n",
    "X_tfidf = svd.transform(X_tfidf)[:,:350]"
   ]
  },
  {
   "cell_type": "markdown",
   "metadata": {},
   "source": [
    "Now i will apply some classification. For our goals we will use SVM."
   ]
  },
  {
   "cell_type": "code",
   "execution_count": 41,
   "metadata": {},
   "outputs": [],
   "source": [
    "# Training\n",
    "svc = SVC(gamma='scale').fit(X_tfidf,y_train)"
   ]
  },
  {
   "cell_type": "code",
   "execution_count": 42,
   "metadata": {},
   "outputs": [
    {
     "data": {
      "text/plain": [
       "0.9683333333333334"
      ]
     },
     "execution_count": 42,
     "metadata": {},
     "output_type": "execute_result"
    }
   ],
   "source": [
    "# Accuracy\n",
    "svc.score(X_tfidf,y_train)"
   ]
  },
  {
   "cell_type": "markdown",
   "metadata": {},
   "source": [
    "Apparently our results are satisfactory."
   ]
  },
  {
   "cell_type": "markdown",
   "metadata": {},
   "source": [
    "# 4. Validation\n",
    "\n",
    "In binary classification we have some trade-off in order to predict correct both classes. So let's evaluate if both of them are predicted correctly.\n",
    "\n",
    "For check this we will use recall and especifity, beyond kfold for evaluate if our classifier really learn."
   ]
  },
  {
   "cell_type": "code",
   "execution_count": 43,
   "metadata": {},
   "outputs": [
    {
     "data": {
      "text/plain": [
       "0    1787\n",
       "1     219\n",
       "Name: target, dtype: int64"
      ]
     },
     "execution_count": 43,
     "metadata": {},
     "output_type": "execute_result"
    }
   ],
   "source": [
    "# Check samples for each target\n",
    "y_test.value_counts()"
   ]
  },
  {
   "cell_type": "markdown",
   "metadata": {},
   "source": [
    "Like you can see above we have a problem with unbalanced data for test. Here we have a similar problem because if we use the dataset in this way, it's very likely to result in poor results in kfold (we don't have much data too). \n",
    "\n",
    "So we will undersampling our data, doing this our new dataset will have 438 rows (219 from target 0 and 219 from target 1)."
   ]
  },
  {
   "cell_type": "code",
   "execution_count": 44,
   "metadata": {},
   "outputs": [],
   "source": [
    "# Sample 219 rows \n",
    "y_tmp = y_test[y_test==0].sample(219,replace=False,random_state=42)\n",
    "y_tmp = pd.concat([y_tmp,y_test[y_test==1]])\n",
    "X_test = X_test[X_test.index.isin(y_tmp.index)]"
   ]
  },
  {
   "cell_type": "code",
   "execution_count": 45,
   "metadata": {},
   "outputs": [],
   "source": [
    "# Transforming X_test with tf-idf and svd\n",
    "X_test = svd.transform(vectorizer.transform(X_test['title']))[:,:350]"
   ]
  },
  {
   "cell_type": "code",
   "execution_count": 46,
   "metadata": {},
   "outputs": [],
   "source": [
    "'''\n",
    "\n",
    "Computes specificity\n",
    "\n",
    "Parameters\n",
    "----------\n",
    "estimator: Estimador.\n",
    "X: Array ou DataFrame com as features.\n",
    "y: Array com a variável target.\n",
    "\n",
    "'''\n",
    "def specificity(estimator,X,y):\n",
    "    \n",
    "    # Fit do modelo\n",
    "    model = estimator.fit(X,y)\n",
    "    \n",
    "    # Matrix de confusao\n",
    "    tn, fp, fn, tp = confusion_matrix(y,model.predict(X)).ravel()\n",
    "    \n",
    "    # Especificidade\n",
    "    return tn/(tn+fp)"
   ]
  },
  {
   "cell_type": "code",
   "execution_count": 47,
   "metadata": {},
   "outputs": [],
   "source": [
    "# Training\n",
    "svc = SVC(gamma='scale').fit(X_tfidf,y_train)"
   ]
  },
  {
   "cell_type": "code",
   "execution_count": 48,
   "metadata": {},
   "outputs": [
    {
     "name": "stdout",
     "output_type": "stream",
     "text": [
      "Recall: [0.94117647 0.98765432 0.97619048 0.96590909 0.96703297] 0.9675926651416846 0.015345067018218538\n",
      "Specificity: [0.94117647 0.98765432 0.97619048 0.96590909 0.96703297] 0.8960520271221576 0.13204602122055545\n"
     ]
    }
   ],
   "source": [
    "# Kfold with 4 folds\n",
    "cv = ShuffleSplit(n_splits=5,test_size=0.4,random_state=42)\n",
    "\n",
    "# Evaluation\n",
    "rec = cross_val_score(svc,X_test,y_tmp,cv=cv,scoring='recall')\n",
    "spec = cross_val_score(svc,X_test,y_tmp,cv=cv,scoring=specificity)\n",
    "\n",
    "# Avaliacao\n",
    "print('Recall:',rec,np.mean(rec),np.std(rec))\n",
    "print('Specificity:',rec,np.mean(spec),np.std(spec))"
   ]
  },
  {
   "cell_type": "markdown",
   "metadata": {},
   "source": [
    "Evaluating the SVM for both recall and specificity we can see that the results are very good. We do not have a high variation in the folds indicating that we do not have overfitting and in addition the average values are very high."
   ]
  },
  {
   "cell_type": "markdown",
   "metadata": {},
   "source": [
    "# 5. Tuning\n",
    "\n",
    "Let's try to improve our model considering that roc_auc it will be our best metric, because with these it's possibly to have good predition in both classes (0 and 1)."
   ]
  },
  {
   "cell_type": "code",
   "execution_count": 49,
   "metadata": {},
   "outputs": [
    {
     "data": {
      "text/plain": [
       "GridSearchCV(cv=5, error_score='raise-deprecating',\n",
       "       estimator=SVC(C=1.0, cache_size=200, class_weight=None, coef0=0.0,\n",
       "  decision_function_shape='ovr', degree=3, gamma='scale', kernel='rbf',\n",
       "  max_iter=-1, probability=False, random_state=None, shrinking=True,\n",
       "  tol=0.001, verbose=False),\n",
       "       fit_params=None, iid='warn', n_jobs=None,\n",
       "       param_grid={'C': [0.1, 0.2, 0.3, 0.4, 0.5, 0.6, 0.7, 0.8, 0.9, 1], 'kernel': ('linear', 'rbf', 'poly', 'sigmoid')},\n",
       "       pre_dispatch='2*n_jobs', refit=True, return_train_score='warn',\n",
       "       scoring='roc_auc', verbose=0)"
      ]
     },
     "execution_count": 49,
     "metadata": {},
     "output_type": "execute_result"
    }
   ],
   "source": [
    "# Model for tuning\n",
    "svc = SVC(gamma='scale')\n",
    "\n",
    "# Params to test\n",
    "param_grid={\n",
    "    'C':[0.1,0.2,0.3,0.4,0.5,0.6,0.7,0.8,0.9,1],\n",
    "    'kernel': ('linear','rbf','poly','sigmoid')\n",
    "}\n",
    "\n",
    "# Creating grid_search\n",
    "grid_search = GridSearchCV(cv=5,estimator=svc,param_grid=param_grid,scoring='roc_auc')\n",
    "\n",
    "# Training\n",
    "grid_search.fit(X_tfidf,y_train)"
   ]
  },
  {
   "cell_type": "code",
   "execution_count": 50,
   "metadata": {},
   "outputs": [
    {
     "data": {
      "text/plain": [
       "{'C': 0.6, 'kernel': 'linear'}"
      ]
     },
     "execution_count": 50,
     "metadata": {},
     "output_type": "execute_result"
    }
   ],
   "source": [
    "# Check best params\n",
    "grid_search.best_params_"
   ]
  },
  {
   "cell_type": "code",
   "execution_count": 51,
   "metadata": {},
   "outputs": [],
   "source": [
    "# Test again the model, but with best params\n",
    "svc = SVC(gamma='scale',kernel='linear',C=0.6)"
   ]
  },
  {
   "cell_type": "code",
   "execution_count": 52,
   "metadata": {},
   "outputs": [
    {
     "name": "stdout",
     "output_type": "stream",
     "text": [
      "Recall: [0.91764706 0.95061728 0.96428571 0.93181818 0.95604396] 0.9440824389843998 0.01698938345019107\n",
      "Specificity: [0.91764706 0.95061728 0.96428571 0.93181818 0.95604396] 0.9487845422850134 0.012452083750868323\n"
     ]
    }
   ],
   "source": [
    "# Kfold with 4 folds\n",
    "cv = ShuffleSplit(n_splits=5,test_size=0.4,random_state=42)\n",
    "\n",
    "# Evaluation\n",
    "rec = cross_val_score(svc,X_test,y_tmp,cv=cv,scoring='recall')\n",
    "spec = cross_val_score(svc,X_test,y_tmp,cv=cv,scoring=specificity)\n",
    "\n",
    "# Avaliacao\n",
    "print('Recall:',rec,np.mean(rec),np.std(rec))\n",
    "print('Specificity:',rec,np.mean(spec),np.std(spec))"
   ]
  },
  {
   "cell_type": "markdown",
   "metadata": {},
   "source": [
    "You can see that we have some improvement in Specificity. Now both metrics have ~95% hits."
   ]
  },
  {
   "cell_type": "markdown",
   "metadata": {},
   "source": [
    "# 6. Deploy\n",
    "\n",
    "Knowing that our classifier has had good results, let's build a pipeline and save the algorithm to be used in production. For this we will use almost the entire dataset."
   ]
  },
  {
   "cell_type": "code",
   "execution_count": 53,
   "metadata": {},
   "outputs": [],
   "source": [
    "# Objects to use in pipeline\n",
    "vec = TfidfVectorizer()\n",
    "svd = TruncatedSVD(n_components=350)\n",
    "svc = SVC(gamma='scale',kernel='linear',C=0.6)\n",
    "\n",
    "# Creating pipeline\n",
    "model = Pipeline([('tf-idf',vec),('svd',svd),('svc',svc)])"
   ]
  },
  {
   "cell_type": "code",
   "execution_count": 54,
   "metadata": {},
   "outputs": [
    {
     "data": {
      "text/plain": [
       "0    2087\n",
       "1     519\n",
       "Name: target, dtype: int64"
      ]
     },
     "execution_count": 54,
     "metadata": {},
     "output_type": "execute_result"
    }
   ],
   "source": [
    "# Check unbalanced data\n",
    "smart_or_not['target'].value_counts()"
   ]
  },
  {
   "cell_type": "code",
   "execution_count": 55,
   "metadata": {},
   "outputs": [],
   "source": [
    "# Undersampling\n",
    "X = smart_or_not[smart_or_not['target'] == 0].sample(519,replace=False)\n",
    "X = pd.concat([X,smart_or_not[smart_or_not['target']==1]])"
   ]
  },
  {
   "cell_type": "code",
   "execution_count": 56,
   "metadata": {},
   "outputs": [],
   "source": [
    "# Separate variables\n",
    "y = X['target']\n",
    "X = X.drop(columns='target')"
   ]
  },
  {
   "cell_type": "code",
   "execution_count": 57,
   "metadata": {},
   "outputs": [
    {
     "data": {
      "text/plain": [
       "Pipeline(memory=None,\n",
       "     steps=[('tf-idf', TfidfVectorizer(analyzer='word', binary=False, decode_error='strict',\n",
       "        dtype=<class 'numpy.float64'>, encoding='utf-8', input='content',\n",
       "        lowercase=True, max_df=1.0, max_features=None, min_df=1,\n",
       "        ngram_range=(1, 1), norm='l2', preprocessor=None, smooth_idf=True...,\n",
       "  max_iter=-1, probability=False, random_state=None, shrinking=True,\n",
       "  tol=0.001, verbose=False))])"
      ]
     },
     "execution_count": 57,
     "metadata": {},
     "output_type": "execute_result"
    }
   ],
   "source": [
    "# Training model\n",
    "model.fit(X['title'],y)"
   ]
  },
  {
   "cell_type": "code",
   "execution_count": 58,
   "metadata": {},
   "outputs": [],
   "source": [
    "# Save model\n",
    "with open('model.pkl','wb') as f:\n",
    "    pickle.dump(model,f)"
   ]
  }
 ],
 "metadata": {
  "kernelspec": {
   "display_name": "Python 3",
   "language": "python",
   "name": "python3"
  },
  "language_info": {
   "codemirror_mode": {
    "name": "ipython",
    "version": 3
   },
   "file_extension": ".py",
   "mimetype": "text/x-python",
   "name": "python",
   "nbconvert_exporter": "python",
   "pygments_lexer": "ipython3",
   "version": "3.7.1"
  }
 },
 "nbformat": 4,
 "nbformat_minor": 2
}
