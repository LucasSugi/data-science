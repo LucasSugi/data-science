{
 "cells": [
  {
   "cell_type": "markdown",
   "metadata": {},
   "source": [
    "# Prática 5: Exploração de Dados - Parte V\n",
    "\n",
    "### Kelvin Guilherme de Oliveira - 9293286\n",
    "### Lucas Yudi Sugi - 9293251"
   ]
  },
  {
   "cell_type": "markdown",
   "metadata": {},
   "source": [
    "O trabalho desenvolvido nessa atividade prática tem como objetivo a aplicação dos conceitos de Pré-processamento de dados, apresentados durante a aula da disciplina de Ciência de Dados.\n",
    "\n",
    "Como foi solicitado que aplicássemos os conceitos sobre um Dataset de Classificação, preferimos começar a trabalhar com um dataset que, até essa atividade, ainda não tinhamos trabalhado. Tal Dataset é o \"Breast Cancer\", e é valido ressaltar que, na base de dados disponibilizada, encontra-se diferentes arquivos '.data' referentes a esse Dataset. O arquivo escolhido para desenvolver esse trabalho foi o 'wdbc.data', que foi lido conforme o código abaixo.\n",
    "\n",
    "## Dataset: Breast Cancer"
   ]
  },
  {
   "cell_type": "code",
   "execution_count": 1,
   "metadata": {},
   "outputs": [],
   "source": [
    "import pandas as pd\n",
    "import matplotlib.pyplot as plt\n",
    "import numpy as np\n",
    "import seaborn as sns\n",
    "import warnings\n",
    "warnings.filterwarnings(\"ignore\")\n",
    "%matplotlib inline"
   ]
  },
  {
   "cell_type": "code",
   "execution_count": 2,
   "metadata": {},
   "outputs": [],
   "source": [
    "#Leitura do dataset com o pandas\n",
    "dataset = pd.read_csv('./datasets/breast_cancer/wdbc.data',sep=',',header=None,encoding='latin1')"
   ]
  },
  {
   "cell_type": "code",
   "execution_count": 3,
   "metadata": {},
   "outputs": [
    {
     "data": {
      "text/html": [
       "<div>\n",
       "<style scoped>\n",
       "    .dataframe tbody tr th:only-of-type {\n",
       "        vertical-align: middle;\n",
       "    }\n",
       "\n",
       "    .dataframe tbody tr th {\n",
       "        vertical-align: top;\n",
       "    }\n",
       "\n",
       "    .dataframe thead th {\n",
       "        text-align: right;\n",
       "    }\n",
       "</style>\n",
       "<table border=\"1\" class=\"dataframe\">\n",
       "  <thead>\n",
       "    <tr style=\"text-align: right;\">\n",
       "      <th></th>\n",
       "      <th>0</th>\n",
       "      <th>1</th>\n",
       "      <th>2</th>\n",
       "      <th>3</th>\n",
       "      <th>4</th>\n",
       "      <th>5</th>\n",
       "      <th>6</th>\n",
       "      <th>7</th>\n",
       "      <th>8</th>\n",
       "      <th>9</th>\n",
       "      <th>...</th>\n",
       "      <th>22</th>\n",
       "      <th>23</th>\n",
       "      <th>24</th>\n",
       "      <th>25</th>\n",
       "      <th>26</th>\n",
       "      <th>27</th>\n",
       "      <th>28</th>\n",
       "      <th>29</th>\n",
       "      <th>30</th>\n",
       "      <th>31</th>\n",
       "    </tr>\n",
       "  </thead>\n",
       "  <tbody>\n",
       "    <tr>\n",
       "      <th>0</th>\n",
       "      <td>842302</td>\n",
       "      <td>M</td>\n",
       "      <td>17.99</td>\n",
       "      <td>10.38</td>\n",
       "      <td>122.80</td>\n",
       "      <td>1001.0</td>\n",
       "      <td>0.11840</td>\n",
       "      <td>0.27760</td>\n",
       "      <td>0.3001</td>\n",
       "      <td>0.14710</td>\n",
       "      <td>...</td>\n",
       "      <td>25.38</td>\n",
       "      <td>17.33</td>\n",
       "      <td>184.60</td>\n",
       "      <td>2019.0</td>\n",
       "      <td>0.1622</td>\n",
       "      <td>0.6656</td>\n",
       "      <td>0.7119</td>\n",
       "      <td>0.2654</td>\n",
       "      <td>0.4601</td>\n",
       "      <td>0.11890</td>\n",
       "    </tr>\n",
       "    <tr>\n",
       "      <th>1</th>\n",
       "      <td>842517</td>\n",
       "      <td>M</td>\n",
       "      <td>20.57</td>\n",
       "      <td>17.77</td>\n",
       "      <td>132.90</td>\n",
       "      <td>1326.0</td>\n",
       "      <td>0.08474</td>\n",
       "      <td>0.07864</td>\n",
       "      <td>0.0869</td>\n",
       "      <td>0.07017</td>\n",
       "      <td>...</td>\n",
       "      <td>24.99</td>\n",
       "      <td>23.41</td>\n",
       "      <td>158.80</td>\n",
       "      <td>1956.0</td>\n",
       "      <td>0.1238</td>\n",
       "      <td>0.1866</td>\n",
       "      <td>0.2416</td>\n",
       "      <td>0.1860</td>\n",
       "      <td>0.2750</td>\n",
       "      <td>0.08902</td>\n",
       "    </tr>\n",
       "    <tr>\n",
       "      <th>2</th>\n",
       "      <td>84300903</td>\n",
       "      <td>M</td>\n",
       "      <td>19.69</td>\n",
       "      <td>21.25</td>\n",
       "      <td>130.00</td>\n",
       "      <td>1203.0</td>\n",
       "      <td>0.10960</td>\n",
       "      <td>0.15990</td>\n",
       "      <td>0.1974</td>\n",
       "      <td>0.12790</td>\n",
       "      <td>...</td>\n",
       "      <td>23.57</td>\n",
       "      <td>25.53</td>\n",
       "      <td>152.50</td>\n",
       "      <td>1709.0</td>\n",
       "      <td>0.1444</td>\n",
       "      <td>0.4245</td>\n",
       "      <td>0.4504</td>\n",
       "      <td>0.2430</td>\n",
       "      <td>0.3613</td>\n",
       "      <td>0.08758</td>\n",
       "    </tr>\n",
       "    <tr>\n",
       "      <th>3</th>\n",
       "      <td>84348301</td>\n",
       "      <td>M</td>\n",
       "      <td>11.42</td>\n",
       "      <td>20.38</td>\n",
       "      <td>77.58</td>\n",
       "      <td>386.1</td>\n",
       "      <td>0.14250</td>\n",
       "      <td>0.28390</td>\n",
       "      <td>0.2414</td>\n",
       "      <td>0.10520</td>\n",
       "      <td>...</td>\n",
       "      <td>14.91</td>\n",
       "      <td>26.50</td>\n",
       "      <td>98.87</td>\n",
       "      <td>567.7</td>\n",
       "      <td>0.2098</td>\n",
       "      <td>0.8663</td>\n",
       "      <td>0.6869</td>\n",
       "      <td>0.2575</td>\n",
       "      <td>0.6638</td>\n",
       "      <td>0.17300</td>\n",
       "    </tr>\n",
       "    <tr>\n",
       "      <th>4</th>\n",
       "      <td>84358402</td>\n",
       "      <td>M</td>\n",
       "      <td>20.29</td>\n",
       "      <td>14.34</td>\n",
       "      <td>135.10</td>\n",
       "      <td>1297.0</td>\n",
       "      <td>0.10030</td>\n",
       "      <td>0.13280</td>\n",
       "      <td>0.1980</td>\n",
       "      <td>0.10430</td>\n",
       "      <td>...</td>\n",
       "      <td>22.54</td>\n",
       "      <td>16.67</td>\n",
       "      <td>152.20</td>\n",
       "      <td>1575.0</td>\n",
       "      <td>0.1374</td>\n",
       "      <td>0.2050</td>\n",
       "      <td>0.4000</td>\n",
       "      <td>0.1625</td>\n",
       "      <td>0.2364</td>\n",
       "      <td>0.07678</td>\n",
       "    </tr>\n",
       "  </tbody>\n",
       "</table>\n",
       "<p>5 rows × 32 columns</p>\n",
       "</div>"
      ],
      "text/plain": [
       "         0  1      2      3       4       5        6        7       8   \\\n",
       "0    842302  M  17.99  10.38  122.80  1001.0  0.11840  0.27760  0.3001   \n",
       "1    842517  M  20.57  17.77  132.90  1326.0  0.08474  0.07864  0.0869   \n",
       "2  84300903  M  19.69  21.25  130.00  1203.0  0.10960  0.15990  0.1974   \n",
       "3  84348301  M  11.42  20.38   77.58   386.1  0.14250  0.28390  0.2414   \n",
       "4  84358402  M  20.29  14.34  135.10  1297.0  0.10030  0.13280  0.1980   \n",
       "\n",
       "        9    ...        22     23      24      25      26      27      28  \\\n",
       "0  0.14710   ...     25.38  17.33  184.60  2019.0  0.1622  0.6656  0.7119   \n",
       "1  0.07017   ...     24.99  23.41  158.80  1956.0  0.1238  0.1866  0.2416   \n",
       "2  0.12790   ...     23.57  25.53  152.50  1709.0  0.1444  0.4245  0.4504   \n",
       "3  0.10520   ...     14.91  26.50   98.87   567.7  0.2098  0.8663  0.6869   \n",
       "4  0.10430   ...     22.54  16.67  152.20  1575.0  0.1374  0.2050  0.4000   \n",
       "\n",
       "       29      30       31  \n",
       "0  0.2654  0.4601  0.11890  \n",
       "1  0.1860  0.2750  0.08902  \n",
       "2  0.2430  0.3613  0.08758  \n",
       "3  0.2575  0.6638  0.17300  \n",
       "4  0.1625  0.2364  0.07678  \n",
       "\n",
       "[5 rows x 32 columns]"
      ]
     },
     "execution_count": 3,
     "metadata": {},
     "output_type": "execute_result"
    }
   ],
   "source": [
    "#Mostrando alguns elementos do dataset\n",
    "dataset.head()"
   ]
  },
  {
   "cell_type": "markdown",
   "metadata": {},
   "source": [
    "Segundo as informações obtidas em https://archive.ics.uci.edu/ml/machine-learning-databases/breast-cancer-wisconsin/wdbc.names, temos que os atributos mais relevantes para a classificação são:\n",
    "- mean texture\n",
    "- worst area\n",
    "- worst smoothness\n",
    "\n",
    "Logo, realizaremos a extração desses atributos, assim como o seu diagnóstico (class), para realizar um melhor pré-processamento dos dados."
   ]
  },
  {
   "cell_type": "code",
   "execution_count": 4,
   "metadata": {},
   "outputs": [
    {
     "data": {
      "text/html": [
       "<div>\n",
       "<style scoped>\n",
       "    .dataframe tbody tr th:only-of-type {\n",
       "        vertical-align: middle;\n",
       "    }\n",
       "\n",
       "    .dataframe tbody tr th {\n",
       "        vertical-align: top;\n",
       "    }\n",
       "\n",
       "    .dataframe thead th {\n",
       "        text-align: right;\n",
       "    }\n",
       "</style>\n",
       "<table border=\"1\" class=\"dataframe\">\n",
       "  <thead>\n",
       "    <tr style=\"text-align: right;\">\n",
       "      <th></th>\n",
       "      <th>area</th>\n",
       "      <th>smoothness</th>\n",
       "      <th>texture</th>\n",
       "      <th>class</th>\n",
       "    </tr>\n",
       "  </thead>\n",
       "  <tbody>\n",
       "    <tr>\n",
       "      <th>0</th>\n",
       "      <td>1001.0</td>\n",
       "      <td>0.9053</td>\n",
       "      <td>0.006399</td>\n",
       "      <td>M</td>\n",
       "    </tr>\n",
       "    <tr>\n",
       "      <th>1</th>\n",
       "      <td>1326.0</td>\n",
       "      <td>0.7339</td>\n",
       "      <td>0.005225</td>\n",
       "      <td>M</td>\n",
       "    </tr>\n",
       "    <tr>\n",
       "      <th>2</th>\n",
       "      <td>1203.0</td>\n",
       "      <td>0.7869</td>\n",
       "      <td>0.006150</td>\n",
       "      <td>M</td>\n",
       "    </tr>\n",
       "    <tr>\n",
       "      <th>3</th>\n",
       "      <td>386.1</td>\n",
       "      <td>1.1560</td>\n",
       "      <td>0.009110</td>\n",
       "      <td>M</td>\n",
       "    </tr>\n",
       "    <tr>\n",
       "      <th>4</th>\n",
       "      <td>1297.0</td>\n",
       "      <td>0.7813</td>\n",
       "      <td>0.011490</td>\n",
       "      <td>M</td>\n",
       "    </tr>\n",
       "  </tbody>\n",
       "</table>\n",
       "</div>"
      ],
      "text/plain": [
       "     area  smoothness   texture class\n",
       "0  1001.0      0.9053  0.006399     M\n",
       "1  1326.0      0.7339  0.005225     M\n",
       "2  1203.0      0.7869  0.006150     M\n",
       "3   386.1      1.1560  0.009110     M\n",
       "4  1297.0      0.7813  0.011490     M"
      ]
     },
     "execution_count": 4,
     "metadata": {},
     "output_type": "execute_result"
    }
   ],
   "source": [
    "#Extração dos atributos necesssários\n",
    "breast_cancer = dataset.iloc[:,[5,13,16,1]]\n",
    "\n",
    "#Renomeando as colunas\n",
    "breast_cancer.columns = ['area','smoothness','texture','class']\n",
    "\n",
    "#Mostrando novamente os dados\n",
    "breast_cancer.head()"
   ]
  },
  {
   "cell_type": "markdown",
   "metadata": {},
   "source": [
    "### 1 - Desbalanceamento\n",
    "\n",
    "Como sabemos, o desbalanceamento em geral causa problemas para a classificação dos dados. Por isso, iremos fazer um tratamento desse problema.\n",
    "\n",
    "Em primeiro lugar, podemos verificar que o desbalanceamento está presente em nossa base de dados. Como pode ser visto abaixo, existem, aproximadamente, 63% dos exemplos com a classe 'B' (Benigno), contra 37% com a classe 'M' (Maligno)."
   ]
  },
  {
   "cell_type": "code",
   "execution_count": 5,
   "metadata": {},
   "outputs": [
    {
     "name": "stdout",
     "output_type": "stream",
     "text": [
      "B    0.627417\n",
      "M    0.372583\n",
      "Name: class, dtype: float64\n"
     ]
    }
   ],
   "source": [
    "#Porcentagem de cada classe\n",
    "perc_class = breast_cancer['class'].value_counts() / len(breast_cancer)\n",
    "print(perc_class)"
   ]
  },
  {
   "cell_type": "markdown",
   "metadata": {},
   "source": [
    "Sendo assim, para equilibrar a distribuição dos dados, utilizamos a função 'sample' para realizar uma amostragem do Dataset, considerando um dicionário de probabilidades balanceadas, conforme mostrado abaixo. Após esse tratamento, conseguimos uma distribuição com aproximadamente 50% de exemplos de cada tipo (variando a cada execução da função, por ser um método probabilístico)."
   ]
  },
  {
   "cell_type": "code",
   "execution_count": 6,
   "metadata": {},
   "outputs": [
    {
     "name": "stdout",
     "output_type": "stream",
     "text": [
      "B    0.506151\n",
      "M    0.493849\n",
      "Name: class, dtype: float64\n"
     ]
    }
   ],
   "source": [
    "#Dicionario contendo as probabilidades balanceadas para cada classe\n",
    "probs = {'B': 1-perc_class['B'], 'M': 1-perc_class['M']}\n",
    "\n",
    "#Copiando a classe\n",
    "sample_probs = breast_cancer['class'].copy()\n",
    "\n",
    "#Populando as probabilidades para cada tupla\n",
    "for c in breast_cancer['class'].unique():\n",
    "    sample_probs[sample_probs == c] = probs[c]\n",
    "\n",
    "#Realizando amostragem\n",
    "sample_breast_cancer = breast_cancer.sample(frac=1, replace=True, weights=sample_probs)\n",
    "\n",
    "print(sample_breast_cancer['class'].value_counts() / len(sample_breast_cancer))"
   ]
  },
  {
   "cell_type": "markdown",
   "metadata": {},
   "source": [
    "Para verificar a influência da amostragem e do balanceamento sobre os conjuntos de dados, iremos executar um algoritmo classificador com alguns valores 'weight' diferentes. Para isso, abaixo está a definição da função classificadora que irá realizar tal tarefa."
   ]
  },
  {
   "cell_type": "code",
   "execution_count": 7,
   "metadata": {},
   "outputs": [],
   "source": [
    "from sklearn.svm import SVC, SVR\n",
    "from sklearn.tree import DecisionTreeClassifier, DecisionTreeRegressor\n",
    "from sklearn.neighbors import KNeighborsClassifier, KNeighborsRegressor\n",
    "\n",
    "from sklearn.model_selection import KFold\n",
    "from sklearn.metrics import mean_squared_error\n",
    "from numpy import mean, std\n",
    "\n",
    "\n",
    "def classificacao(data, columns, target, weights):    \n",
    "    # inicializa os modelos com os parâmetros solicitados\n",
    "    svm_l = SVC(C=10*len(data), kernel='linear', cache_size=500, max_iter=1e6, class_weight=weights)\n",
    "    svm_n = SVC(C=10*len(data), kernel='poly', degree=3, gamma=1, coef0=1, cache_size=500, max_iter=1e6, class_weight=weights)\n",
    "    dt = DecisionTreeClassifier(criterion='gini', splitter='best', min_samples_split=int(len(data)*0.1), class_weight=weights)\n",
    "    \n",
    "    clfs = [svm_l, svm_n, dt]\n",
    "    clfs_names = ['svm_linear', 'svm_poly', 'dt']\n",
    "    \n",
    "    # prepara validação cruzada\n",
    "    # faz divisão do dataset em 5 partes\n",
    "    cv = KFold(n_splits=5, shuffle=True)\n",
    "    \n",
    "    # itera para cada classificador fazendo treino e teste\n",
    "    results = {'svm_linear':[], 'svm_poly':[], 'dt':[]}\n",
    "    for c, c_name in zip(clfs, clfs_names):\n",
    "        for train_index, test_index in cv.split(data):\n",
    "            \n",
    "            # separa conjunto de treino e de teste\n",
    "            x_train, y_train = data.iloc[train_index, columns], data.iloc[train_index, target]\n",
    "            x_test, y_test = data.iloc[test_index, columns], data.iloc[test_index, target]\n",
    "            \n",
    "            # faz o treino do modelo\n",
    "            clf = c.fit(X=x_train, y=y_train)\n",
    "            \n",
    "            # realiza predição no conjunto de teste e salva o resultado\n",
    "            results[c_name].append( clf.score(x_test, y_test) )\n",
    "    \n",
    "    # faz o plot de desempenho dos classificadores\n",
    "    plt.figure(figsize=(8,8))\n",
    "    plt.bar(range(1, len(clfs)+1), [mean(results[name]) for name in clfs_names], \n",
    "                                yerr=[std(results[name]) for name in clfs_names])\n",
    "    plt.xticks(range(1, len(clfs)+1), clfs_names, rotation=45)\n",
    "    title = 'Desempenho dos classificadores - acurácia'\n",
    "    plt.title(title)\n",
    "    plt.show()\n",
    "    \n",
    "    return {'results': results, 'clfs':clfs}\n",
    "\n"
   ]
  },
  {
   "cell_type": "markdown",
   "metadata": {},
   "source": [
    "Prosseguindo com a análise, iremos executar o classificador sobre o dataset original, supondo diferentes balanceamentos, para assim verificar a acurácia e o impacto do desbalanceamento sobre cada situação."
   ]
  },
  {
   "cell_type": "code",
   "execution_count": 8,
   "metadata": {},
   "outputs": [
    {
     "data": {
      "image/png": "[encoded data removed]",
      "text/plain": [
       "<Figure size 576x576 with 1 Axes>"
      ]
     },
     "metadata": {},
     "output_type": "display_data"
    }
   ],
   "source": [
    "#Classificação no conjunto - Probabilidade desbalanceada\n",
    "clf = classificacao(breast_cancer,[0,1,2], 3, weights={'M':1.0, 'B':0.0})"
   ]
  },
  {
   "cell_type": "code",
   "execution_count": 9,
   "metadata": {},
   "outputs": [
    {
     "data": {
      "image/png": "[encoded data removed]",
      "text/plain": [
       "<Figure size 576x576 with 1 Axes>"
      ]
     },
     "metadata": {},
     "output_type": "display_data"
    }
   ],
   "source": [
    "#Classificação no conjunto - Probabilidade desbalanceada\n",
    "clf = classificacao(breast_cancer,[0,1,2], 3, weights={'M':0.0, 'B':1.0})"
   ]
  },
  {
   "cell_type": "code",
   "execution_count": 10,
   "metadata": {},
   "outputs": [
    {
     "data": {
      "image/png": "[encoded data removed]",
      "text/plain": [
       "<Figure size 576x576 with 1 Axes>"
      ]
     },
     "metadata": {},
     "output_type": "display_data"
    }
   ],
   "source": [
    "#Classificação no conjunto - Probabilidade igual\n",
    "clf = classificacao(breast_cancer,[0,1,2], 3, weights={'M':0.5, 'B':0.5})"
   ]
  },
  {
   "cell_type": "code",
   "execution_count": 11,
   "metadata": {},
   "outputs": [
    {
     "data": {
      "image/png": "[encoded data removed]",
      "text/plain": [
       "<Figure size 576x576 with 1 Axes>"
      ]
     },
     "metadata": {},
     "output_type": "display_data"
    }
   ],
   "source": [
    "#Classificação no conjunto - Probabilidade balanceada\n",
    "clf = classificacao(breast_cancer,[0,1,2], 3, weights=probs)"
   ]
  },
  {
   "cell_type": "markdown",
   "metadata": {},
   "source": [
    "Como pode ser observado acima, o desbalanceamento dos dados prejudica muito a acurácia dos classificadores, ou seja, um conjunto de dados que possui exemplos balanceados permite que o classificador atue de uma melhor forma."
   ]
  },
  {
   "cell_type": "markdown",
   "metadata": {},
   "source": [
    "### 2 - Conversão de Tipos dos Atributos\n",
    "\n",
    "A conversão de tipos dos atributos é extremamente importante quando se pensa na utilização de redes neurais artificiais sobre a base de dados, sendo que diversas conversões são possíveis.\n",
    "\n",
    "Nesse trabalho, iremos fazer a conversão de dois atributos: Área e Diagnóstico (class)."
   ]
  },
  {
   "cell_type": "markdown",
   "metadata": {},
   "source": [
    "Projetando futuras análises, acredita-se que é interessante fazer uma conversão quantitativa->qualitativa para o atributo 'Area', o que é feito no código abaixo. Para isso, qualificamos o atributo em 'small', 'medium' e 'large', tomando como critérios de separação os quantis dos dados envolvidos."
   ]
  },
  {
   "cell_type": "code",
   "execution_count": 12,
   "metadata": {},
   "outputs": [
    {
     "data": {
      "text/html": [
       "<div>\n",
       "<style scoped>\n",
       "    .dataframe tbody tr th:only-of-type {\n",
       "        vertical-align: middle;\n",
       "    }\n",
       "\n",
       "    .dataframe tbody tr th {\n",
       "        vertical-align: top;\n",
       "    }\n",
       "\n",
       "    .dataframe thead th {\n",
       "        text-align: right;\n",
       "    }\n",
       "</style>\n",
       "<table border=\"1\" class=\"dataframe\">\n",
       "  <thead>\n",
       "    <tr style=\"text-align: right;\">\n",
       "      <th></th>\n",
       "      <th>area</th>\n",
       "      <th>smoothness</th>\n",
       "      <th>texture</th>\n",
       "      <th>class</th>\n",
       "    </tr>\n",
       "  </thead>\n",
       "  <tbody>\n",
       "    <tr>\n",
       "      <th>0</th>\n",
       "      <td>large</td>\n",
       "      <td>0.9053</td>\n",
       "      <td>0.006399</td>\n",
       "      <td>M</td>\n",
       "    </tr>\n",
       "    <tr>\n",
       "      <th>1</th>\n",
       "      <td>large</td>\n",
       "      <td>0.7339</td>\n",
       "      <td>0.005225</td>\n",
       "      <td>M</td>\n",
       "    </tr>\n",
       "    <tr>\n",
       "      <th>2</th>\n",
       "      <td>large</td>\n",
       "      <td>0.7869</td>\n",
       "      <td>0.006150</td>\n",
       "      <td>M</td>\n",
       "    </tr>\n",
       "    <tr>\n",
       "      <th>3</th>\n",
       "      <td>small</td>\n",
       "      <td>1.1560</td>\n",
       "      <td>0.009110</td>\n",
       "      <td>M</td>\n",
       "    </tr>\n",
       "    <tr>\n",
       "      <th>4</th>\n",
       "      <td>large</td>\n",
       "      <td>0.7813</td>\n",
       "      <td>0.011490</td>\n",
       "      <td>M</td>\n",
       "    </tr>\n",
       "  </tbody>\n",
       "</table>\n",
       "</div>"
      ],
      "text/plain": [
       "    area  smoothness   texture class\n",
       "0  large      0.9053  0.006399     M\n",
       "1  large      0.7339  0.005225     M\n",
       "2  large      0.7869  0.006150     M\n",
       "3  small      1.1560  0.009110     M\n",
       "4  large      0.7813  0.011490     M"
      ]
     },
     "execution_count": 12,
     "metadata": {},
     "output_type": "execute_result"
    }
   ],
   "source": [
    "#Vamos separar o atributo area em tres valores: pequeno, medio, largo.\n",
    "min_area = breast_cancer['area'].min()\n",
    "q1 = breast_cancer['area'].quantile(q=0.33)\n",
    "q2 = breast_cancer['area'].quantile(q=0.66)\n",
    "max_area = breast_cancer['area'].max()\n",
    "\n",
    "#Separação dos atributos nos tres valores\n",
    "breast_cancer['area'] = pd.cut(breast_cancer['area'],bins=[min_area,q1,q2,max_area],labels=['small','medium','large'])\n",
    "\n",
    "#Mostrando dataset\n",
    "breast_cancer.head()"
   ]
  },
  {
   "cell_type": "markdown",
   "metadata": {},
   "source": [
    "A segunda conversão de atributo foi sobre a classe, que assume valores 'M' ou 'B', de acordo com o diagnóstico do câncer. Pensando numa futura utilização de redes neurais, como MLP, iremos aplicar a binarização do atributo, gerando então, dois novos atributos, cada um binário, que representa qual a classe do exemplo em questão."
   ]
  },
  {
   "cell_type": "code",
   "execution_count": 13,
   "metadata": {},
   "outputs": [
    {
     "data": {
      "text/html": [
       "<div>\n",
       "<style scoped>\n",
       "    .dataframe tbody tr th:only-of-type {\n",
       "        vertical-align: middle;\n",
       "    }\n",
       "\n",
       "    .dataframe tbody tr th {\n",
       "        vertical-align: top;\n",
       "    }\n",
       "\n",
       "    .dataframe thead th {\n",
       "        text-align: right;\n",
       "    }\n",
       "</style>\n",
       "<table border=\"1\" class=\"dataframe\">\n",
       "  <thead>\n",
       "    <tr style=\"text-align: right;\">\n",
       "      <th></th>\n",
       "      <th>area</th>\n",
       "      <th>smoothness</th>\n",
       "      <th>texture</th>\n",
       "      <th>class-M</th>\n",
       "      <th>class-B</th>\n",
       "    </tr>\n",
       "  </thead>\n",
       "  <tbody>\n",
       "    <tr>\n",
       "      <th>0</th>\n",
       "      <td>large</td>\n",
       "      <td>0.9053</td>\n",
       "      <td>0.006399</td>\n",
       "      <td>1</td>\n",
       "      <td>0</td>\n",
       "    </tr>\n",
       "    <tr>\n",
       "      <th>1</th>\n",
       "      <td>large</td>\n",
       "      <td>0.7339</td>\n",
       "      <td>0.005225</td>\n",
       "      <td>1</td>\n",
       "      <td>0</td>\n",
       "    </tr>\n",
       "    <tr>\n",
       "      <th>2</th>\n",
       "      <td>large</td>\n",
       "      <td>0.7869</td>\n",
       "      <td>0.006150</td>\n",
       "      <td>1</td>\n",
       "      <td>0</td>\n",
       "    </tr>\n",
       "    <tr>\n",
       "      <th>3</th>\n",
       "      <td>small</td>\n",
       "      <td>1.1560</td>\n",
       "      <td>0.009110</td>\n",
       "      <td>1</td>\n",
       "      <td>0</td>\n",
       "    </tr>\n",
       "    <tr>\n",
       "      <th>4</th>\n",
       "      <td>large</td>\n",
       "      <td>0.7813</td>\n",
       "      <td>0.011490</td>\n",
       "      <td>1</td>\n",
       "      <td>0</td>\n",
       "    </tr>\n",
       "  </tbody>\n",
       "</table>\n",
       "</div>"
      ],
      "text/plain": [
       "    area  smoothness   texture  class-M  class-B\n",
       "0  large      0.9053  0.006399        1        0\n",
       "1  large      0.7339  0.005225        1        0\n",
       "2  large      0.7869  0.006150        1        0\n",
       "3  small      1.1560  0.009110        1        0\n",
       "4  large      0.7813  0.011490        1        0"
      ]
     },
     "execution_count": 13,
     "metadata": {},
     "output_type": "execute_result"
    }
   ],
   "source": [
    "#Extração dos atributos\n",
    "tmp_breast_cancer = breast_cancer.iloc[:,0:len(breast_cancer.columns)-1]\n",
    "\n",
    "#Extração da classe\n",
    "classes = breast_cancer['class'].unique()\n",
    "\n",
    "#Geração das classes binarias\n",
    "tmp_class = np.zeros([len(breast_cancer),len(classes)])\n",
    "\n",
    "for i in range(len(classes)):\n",
    "    for j in range(len(breast_cancer)):\n",
    "        if(classes[i] == breast_cancer.iloc[j,3]):\n",
    "            tmp_class[j,i] = 1\n",
    "            \n",
    "#Convertendo para um data frame\n",
    "tmp_class = pd.DataFrame(tmp_class)\n",
    "\n",
    "#Concatenando atributos\n",
    "breast_cancer = pd.concat([tmp_breast_cancer,tmp_class],axis=1)\n",
    "\n",
    "#Mudando o tipo\n",
    "breast_cancer.iloc[:,3] = breast_cancer.iloc[:,3].astype(int)\n",
    "breast_cancer.iloc[:,4] = breast_cancer.iloc[:,4].astype(int)\n",
    "\n",
    "#Renomeando as colunas\n",
    "breast_cancer.columns = ['area','smoothness','texture','class-M', 'class-B']\n",
    "\n",
    "#Mostrando o dataset\n",
    "breast_cancer.head()"
   ]
  },
  {
   "cell_type": "markdown",
   "metadata": {},
   "source": [
    "### 3 - Normalização das Colunas\n",
    "\n",
    "Continuando com o pré-processamento dos dados, iremos agora aplicar a normalização de duas colunas. Esse processo também é extremamente importante, pois muitos algoritmos de Machine Learning precisam que os dados estejam em intervalos pequenos para que haja conversão.\n",
    "\n",
    "A normalização será aplicada em dois atributos, o smoothness e o texture, sendo que no primeiro será aplicada a normalização 0-1, e no segundo a normalização z-score, conforme mostrado no código abaixo."
   ]
  },
  {
   "cell_type": "code",
   "execution_count": 14,
   "metadata": {},
   "outputs": [
    {
     "data": {
      "text/html": [
       "<div>\n",
       "<style scoped>\n",
       "    .dataframe tbody tr th:only-of-type {\n",
       "        vertical-align: middle;\n",
       "    }\n",
       "\n",
       "    .dataframe tbody tr th {\n",
       "        vertical-align: top;\n",
       "    }\n",
       "\n",
       "    .dataframe thead th {\n",
       "        text-align: right;\n",
       "    }\n",
       "</style>\n",
       "<table border=\"1\" class=\"dataframe\">\n",
       "  <thead>\n",
       "    <tr style=\"text-align: right;\">\n",
       "      <th></th>\n",
       "      <th>area</th>\n",
       "      <th>smoothness</th>\n",
       "      <th>texture</th>\n",
       "      <th>class-M</th>\n",
       "      <th>class-B</th>\n",
       "    </tr>\n",
       "  </thead>\n",
       "  <tbody>\n",
       "    <tr>\n",
       "      <th>0</th>\n",
       "      <td>large</td>\n",
       "      <td>0.120469</td>\n",
       "      <td>-0.213814</td>\n",
       "      <td>1</td>\n",
       "      <td>0</td>\n",
       "    </tr>\n",
       "    <tr>\n",
       "      <th>1</th>\n",
       "      <td>large</td>\n",
       "      <td>0.082589</td>\n",
       "      <td>-0.604819</td>\n",
       "      <td>1</td>\n",
       "      <td>0</td>\n",
       "    </tr>\n",
       "    <tr>\n",
       "      <th>2</th>\n",
       "      <td>large</td>\n",
       "      <td>0.094303</td>\n",
       "      <td>-0.296744</td>\n",
       "      <td>1</td>\n",
       "      <td>0</td>\n",
       "    </tr>\n",
       "    <tr>\n",
       "      <th>3</th>\n",
       "      <td>small</td>\n",
       "      <td>0.175875</td>\n",
       "      <td>0.689095</td>\n",
       "      <td>1</td>\n",
       "      <td>0</td>\n",
       "    </tr>\n",
       "    <tr>\n",
       "      <th>4</th>\n",
       "      <td>large</td>\n",
       "      <td>0.093065</td>\n",
       "      <td>1.481763</td>\n",
       "      <td>1</td>\n",
       "      <td>0</td>\n",
       "    </tr>\n",
       "  </tbody>\n",
       "</table>\n",
       "</div>"
      ],
      "text/plain": [
       "    area  smoothness   texture  class-M  class-B\n",
       "0  large    0.120469 -0.213814        1        0\n",
       "1  large    0.082589 -0.604819        1        0\n",
       "2  large    0.094303 -0.296744        1        0\n",
       "3  small    0.175875  0.689095        1        0\n",
       "4  large    0.093065  1.481763        1        0"
      ]
     },
     "execution_count": 14,
     "metadata": {},
     "output_type": "execute_result"
    }
   ],
   "source": [
    "#Copiando dataset\n",
    "tmp_cancer = breast_cancer.copy()\n",
    "\n",
    "#Normalizando o atributo smoothness\n",
    "tmp_cancer['smoothness'] = (breast_cancer['smoothness']-breast_cancer['smoothness'].min()) / (breast_cancer['smoothness'].max()-breast_cancer['smoothness'].min())\n",
    "\n",
    "#Normalizando o atributo texture (z-score)\n",
    "tmp_cancer['texture'] = (breast_cancer['texture']-breast_cancer['texture'].mean()) / breast_cancer['texture'].std()\n",
    "\n",
    "#Mostrando os dados\n",
    "tmp_cancer.head()"
   ]
  },
  {
   "cell_type": "markdown",
   "metadata": {},
   "source": [
    "Para garantir que a normalização foi executada com sucesso, iremos apresentar o Histograma e o Boxplot para ambos os atributos, antes e depois da normalização.\n",
    "\n",
    "Logo abaixo, pode-se verificar os Histogramas de cada atributo, antes e depois da normalização, respectivamente."
   ]
  },
  {
   "cell_type": "code",
   "execution_count": 15,
   "metadata": {},
   "outputs": [
    {
     "data": {
      "image/png": "[encoded data removed]",
      "text/plain": [
       "<Figure size 720x360 with 2 Axes>"
      ]
     },
     "metadata": {},
     "output_type": "display_data"
    },
    {
     "data": {
      "image/png": "[encoded data removed]",
      "text/plain": [
       "<Figure size 720x360 with 2 Axes>"
      ]
     },
     "metadata": {},
     "output_type": "display_data"
    }
   ],
   "source": [
    "#Histograma dos atributos\n",
    "breast_cancer.iloc[:,1:3].hist(figsize=(10,5),grid=False)\n",
    "tmp_cancer.iloc[:,1:3].hist(figsize=(10,5),grid=False)\n",
    "plt.show()"
   ]
  },
  {
   "cell_type": "markdown",
   "metadata": {},
   "source": [
    "Dessa vez, nos gráficos abaixo pode-se verificar os Boxplots correspondentes ao atributo Texture, também antes e depois da normalização, respectivamente."
   ]
  },
  {
   "cell_type": "code",
   "execution_count": 16,
   "metadata": {},
   "outputs": [
    {
     "data": {
      "image/png": "[encoded data removed]",
      "text/plain": [
       "<Figure size 432x288 with 2 Axes>"
      ]
     },
     "metadata": {},
     "output_type": "display_data"
    }
   ],
   "source": [
    "#Boxplot dos atributos\n",
    "plt.subplot(122)\n",
    "plt.boxplot(tmp_cancer['texture'])\n",
    "plt.subplots_adjust(wspace=1)\n",
    "plt.subplot(121)\n",
    "plt.boxplot(breast_cancer['texture'])\n",
    "plt.show()"
   ]
  },
  {
   "cell_type": "markdown",
   "metadata": {},
   "source": [
    "Para finalizar, resta apenas a comprovação da normalização por meio do Boxplot aplicado ao atributo Smoothness, que está exibido abaixo, antes e depois do processo, respectivamente."
   ]
  },
  {
   "cell_type": "code",
   "execution_count": 17,
   "metadata": {},
   "outputs": [
    {
     "data": {
      "image/png": "[encoded data removed]",
      "text/plain": [
       "<Figure size 432x288 with 2 Axes>"
      ]
     },
     "metadata": {},
     "output_type": "display_data"
    }
   ],
   "source": [
    "plt.subplot(122)\n",
    "plt.boxplot(tmp_cancer['smoothness'])\n",
    "plt.subplots_adjust(wspace=1)\n",
    "plt.subplot(121)\n",
    "plt.boxplot(breast_cancer['smoothness'])\n",
    "plt.show()"
   ]
  },
  {
   "cell_type": "markdown",
   "metadata": {},
   "source": [
    "## ---------------------------------------------------------------------------------------------------------"
   ]
  }
 ],
 "metadata": {
  "kernelspec": {
   "display_name": "Python 3",
   "language": "python",
   "name": "python3"
  },
  "language_info": {
   "codemirror_mode": {
    "name": "ipython",
    "version": 3
   },
   "file_extension": ".py",
   "mimetype": "text/x-python",
   "name": "python",
   "nbconvert_exporter": "python",
   "pygments_lexer": "ipython3",
   "version": "3.7.0"
  }
 },
 "nbformat": 4,
 "nbformat_minor": 2
}
