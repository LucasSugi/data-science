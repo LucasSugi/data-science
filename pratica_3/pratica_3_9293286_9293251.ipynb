{
 "cells": [
  {
   "cell_type": "markdown",
   "metadata": {},
   "source": [
    "# Prática 2: Exploração de Dados - Parte II\n",
    "\n",
    "### Lucas Yudi Sugi - 9293251\n",
    "### Kelvin Guilherme de Oliveira - 9293286"
   ]
  },
  {
   "cell_type": "markdown",
   "metadata": {},
   "source": [
    "Este trabalho tem como objetivo reanalisar as perguntas elaboradas na prática anterior, a fim de verificar se existe a possibilidade de melhorá-las, e, além disso, utilizar outras medidas estatísticas com a finalidade de obter uma resposta ainda melhor para as perguntas."
   ]
  },
  {
   "cell_type": "markdown",
   "metadata": {},
   "source": [
    "## Dataset 1: Diabetes\n",
    "\n",
    "### Reavaliação das perguntas\n",
    "\n",
    "1 - Como a progressão da doença é impactada pelo sexo do paciente ?<br>\n",
    "2 - Como a progressão da doença é impactada pela faixa etária do paciente ?<br>\n",
    "3 - Qual medida está mais correlacionada com a progressão da doença ?<br>\n",
    "\n",
    "Dado que na prática I e II tivemos evidências muito fortes para responder tais perguntas e como agora o objetivo dessa prática é utilizar estatística como boxplot, histograma, covariância e correlação (medidas já utilizadas) iremos realizar outras perguntas para entender melhor os dados:\n",
    "\n",
    "1 - Qual a relação entre BMI (Body Mass Index) e BP (Body pressure) ? <br>\n",
    "2 - Como Ldl, Hdl e Glu estão relacionados ? <br>\n",
    "3 - Qual a relação entre HDL e BMI ? <br>\n",
    "\n",
    "Tais perguntas estão sendo realizadas para tirar as seguintes dúvidas/avaliar hipóteses: <br>\n",
    "1 - Quanto maior o índice de massa corporal maior será a pressão sanguínea <br> \n",
    "2 - Como as medidas sanguíneas se afetam <br>\n",
    "3 - Quanto maior o índice de massa corporal maior será o nível de colesterol ruim (HDL) <br>\n",
    "\n",
    "Tais dúvidas/hipóteses foram elaboradas porque por meio de experiências passadas acredita-se que isso ocorra. \n",
    "\n",
    "Para a reanálise do dataset, utilizaremos os mesmos atributos já definidos anteriomente:\n",
    "\n",
    "BMI <br>\n",
    "BP<br>\n",
    "Ldl (S1)<br>\n",
    "Hdl (S2)<br>\n",
    "Glu (S3)"
   ]
  },
  {
   "cell_type": "code",
   "execution_count": 2,
   "metadata": {},
   "outputs": [
    {
     "data": {
      "text/html": [
       "<div>\n",
       "<style scoped>\n",
       "    .dataframe tbody tr th:only-of-type {\n",
       "        vertical-align: middle;\n",
       "    }\n",
       "\n",
       "    .dataframe tbody tr th {\n",
       "        vertical-align: top;\n",
       "    }\n",
       "\n",
       "    .dataframe thead th {\n",
       "        text-align: right;\n",
       "    }\n",
       "</style>\n",
       "<table border=\"1\" class=\"dataframe\">\n",
       "  <thead>\n",
       "    <tr style=\"text-align: right;\">\n",
       "      <th></th>\n",
       "      <th>AGE</th>\n",
       "      <th>SEX</th>\n",
       "      <th>BMI</th>\n",
       "      <th>BP</th>\n",
       "      <th>S1</th>\n",
       "      <th>S2</th>\n",
       "      <th>S3</th>\n",
       "      <th>S4</th>\n",
       "      <th>S5</th>\n",
       "      <th>S6</th>\n",
       "      <th>Y</th>\n",
       "    </tr>\n",
       "  </thead>\n",
       "  <tbody>\n",
       "    <tr>\n",
       "      <th>0</th>\n",
       "      <td>59</td>\n",
       "      <td>2</td>\n",
       "      <td>32.1</td>\n",
       "      <td>101.0</td>\n",
       "      <td>157</td>\n",
       "      <td>93.2</td>\n",
       "      <td>38.0</td>\n",
       "      <td>4.0</td>\n",
       "      <td>4.8598</td>\n",
       "      <td>87</td>\n",
       "      <td>151</td>\n",
       "    </tr>\n",
       "    <tr>\n",
       "      <th>1</th>\n",
       "      <td>48</td>\n",
       "      <td>1</td>\n",
       "      <td>21.6</td>\n",
       "      <td>87.0</td>\n",
       "      <td>183</td>\n",
       "      <td>103.2</td>\n",
       "      <td>70.0</td>\n",
       "      <td>3.0</td>\n",
       "      <td>3.8918</td>\n",
       "      <td>69</td>\n",
       "      <td>75</td>\n",
       "    </tr>\n",
       "    <tr>\n",
       "      <th>2</th>\n",
       "      <td>72</td>\n",
       "      <td>2</td>\n",
       "      <td>30.5</td>\n",
       "      <td>93.0</td>\n",
       "      <td>156</td>\n",
       "      <td>93.6</td>\n",
       "      <td>41.0</td>\n",
       "      <td>4.0</td>\n",
       "      <td>4.6728</td>\n",
       "      <td>85</td>\n",
       "      <td>141</td>\n",
       "    </tr>\n",
       "    <tr>\n",
       "      <th>3</th>\n",
       "      <td>24</td>\n",
       "      <td>1</td>\n",
       "      <td>25.3</td>\n",
       "      <td>84.0</td>\n",
       "      <td>198</td>\n",
       "      <td>131.4</td>\n",
       "      <td>40.0</td>\n",
       "      <td>5.0</td>\n",
       "      <td>4.8903</td>\n",
       "      <td>89</td>\n",
       "      <td>206</td>\n",
       "    </tr>\n",
       "    <tr>\n",
       "      <th>4</th>\n",
       "      <td>50</td>\n",
       "      <td>1</td>\n",
       "      <td>23.0</td>\n",
       "      <td>101.0</td>\n",
       "      <td>192</td>\n",
       "      <td>125.4</td>\n",
       "      <td>52.0</td>\n",
       "      <td>4.0</td>\n",
       "      <td>4.2905</td>\n",
       "      <td>80</td>\n",
       "      <td>135</td>\n",
       "    </tr>\n",
       "  </tbody>\n",
       "</table>\n",
       "</div>"
      ],
      "text/plain": [
       "   AGE  SEX   BMI     BP   S1     S2    S3   S4      S5  S6    Y\n",
       "0   59    2  32.1  101.0  157   93.2  38.0  4.0  4.8598  87  151\n",
       "1   48    1  21.6   87.0  183  103.2  70.0  3.0  3.8918  69   75\n",
       "2   72    2  30.5   93.0  156   93.6  41.0  4.0  4.6728  85  141\n",
       "3   24    1  25.3   84.0  198  131.4  40.0  5.0  4.8903  89  206\n",
       "4   50    1  23.0  101.0  192  125.4  52.0  4.0  4.2905  80  135"
      ]
     },
     "execution_count": 2,
     "metadata": {},
     "output_type": "execute_result"
    }
   ],
   "source": [
    "import pandas as pd\n",
    "import matplotlib.pyplot as plt\n",
    "import numpy as np\n",
    "import warnings\n",
    "warnings.filterwarnings(\"ignore\")\n",
    "%matplotlib inline\n",
    "\n",
    "#Leitura dos dados\n",
    "dataset = pd.read_table('./datasets/diabetes/diabetes.tab.txt')\n",
    "\n",
    "#Apresentação de alguns dados\n",
    "dataset.head()"
   ]
  },
  {
   "cell_type": "code",
   "execution_count": 18,
   "metadata": {},
   "outputs": [
    {
     "data": {
      "image/png": "[encoded data removed]",
      "text/plain": [
       "<matplotlib.figure.Figure at 0x7f6610e77710>"
      ]
     },
     "metadata": {},
     "output_type": "display_data"
    }
   ],
   "source": [
    "#Extraindo apenas os atributos necessarios\n",
    "diabete = dataset[['BMI','BP','S1','S2','S3','Y']].copy()\n",
    "\n",
    "#Renomeando colunas\n",
    "diabete.columns = ['BMI','BP','LDL','HDL','GLU','CLASS']\n",
    "\n",
    "#Plotando o histograma\n",
    "diabete.hist(figsize=(8,10))\n",
    "plt.show()"
   ]
  }
 ],
 "metadata": {
  "kernelspec": {
   "display_name": "Python 3",
   "language": "python",
   "name": "python3"
  },
  "language_info": {
   "codemirror_mode": {
    "name": "ipython",
    "version": 3
   },
   "file_extension": ".py",
   "mimetype": "text/x-python",
   "name": "python",
   "nbconvert_exporter": "python",
   "pygments_lexer": "ipython3",
   "version": "3.6.4"
  }
 },
 "nbformat": 4,
 "nbformat_minor": 2
}
