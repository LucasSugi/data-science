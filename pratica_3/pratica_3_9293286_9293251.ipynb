{
 "cells": [
  {
   "cell_type": "markdown",
   "metadata": {},
   "source": [
    "# Prática 2: Exploração de Dados - Parte II\n",
    "\n",
    "### Lucas Yudi Sugi - 9293251\n",
    "### Kelvin Guilherme de Oliveira - 9293286"
   ]
  },
  {
   "cell_type": "markdown",
   "metadata": {},
   "source": [
    "Este trabalho tem como objetivo reanalisar as perguntas elaboradas na prática anterior, a fim de verificar se existe a possibilidade de melhorá-las, e, além disso, utilizar outras medidas estatísticas com a finalidade de obter uma resposta ainda melhor para as perguntas."
   ]
  },
  {
   "cell_type": "markdown",
   "metadata": {},
   "source": [
    "## Dataset 1: Diabetes\n",
    "\n",
    "### Reavaliação das perguntas\n",
    "\n",
    "1 - Como a progressão da doença é impactada pelo sexo do paciente ?<br>\n",
    "2 - Como a progressão da doença é impactada pela faixa etária do paciente ?<br>\n",
    "3 - Qual medida está mais correlacionada com a progressão da doença ?<br>\n",
    "\n",
    "Na etapa anterior, sugerimos hipóteses para todas essas questões, ou seja, ainda não há nada conclusivo. Certamente temos evidências muito fortes do que desejamos, mas para que haja uma maior certeza é necessário obter outras medidas exploratórias. Sendo assim, nesse trabalho utilizaremos outras estatísticas descritivas, para melhor entender o dataset e também procurar por outliers nos dados.\n",
    "\n",
    "Para a reanálise do dataset, utilizaremos os mesmos atributos já definidos anteriomente:\n",
    "\n",
    "Age <br>\n",
    "Sex<br>\n",
    "Ldl (S1)<br>\n",
    "Hdl (S2)<br>\n",
    "Glu (S3)"
   ]
  },
  {
   "cell_type": "code",
   "execution_count": null,
   "metadata": {},
   "outputs": [],
   "source": []
  }
 ],
 "metadata": {
  "kernelspec": {
   "display_name": "Python 3",
   "language": "python",
   "name": "python3"
  },
  "language_info": {
   "codemirror_mode": {
    "name": "ipython",
    "version": 3
   },
   "file_extension": ".py",
   "mimetype": "text/x-python",
   "name": "python",
   "nbconvert_exporter": "python",
   "pygments_lexer": "ipython3",
   "version": "3.6.4"
  }
 },
 "nbformat": 4,
 "nbformat_minor": 2
}
