{
 "cells": [
  {
   "cell_type": "markdown",
   "metadata": {},
   "source": [
    "# Prática 1: Exploração de Dados\n",
    "\n",
    "### Lucas Yudi Sugi - 9293251\n",
    "### Kelvin Guilherme de Oliveira - 9293286"
   ]
  },
  {
   "cell_type": "markdown",
   "metadata": {},
   "source": [
    "Este trabalho tem como objetivo a formulação de hipóteses e a análise de dois conjuntos de dados distintos, escolhidos a partir de algumas opções disponibilizadas pelos mentores do trabalho. Em primeiro lugar será exibido o passo-a-passo, para responder as 5 questões solicitadas na descrição, relativo ao dataset mais simples, e, posteriormente, setá mostrado o passo-a-passo referente ao dataset mais complexo."
   ]
  },
  {
   "cell_type": "markdown",
   "metadata": {},
   "source": [
    "### --------------------------------------------------------------------------------------------------------------------------------------------------------"
   ]
  },
  {
   "cell_type": "markdown",
   "metadata": {},
   "source": [
    "### Dataset 1: Diabetes\n",
    "\n",
    "A escolha desse dataset foi baseada em uma análise por cima de todos os conjuntos disponibilizados, levando em consideração o conhecimento da semântica dos dados dataset.\n",
    "\n",
    "Inicialmente iremos avaliar graficamente o dataset para ter um melhor entendimento do mesmo."
   ]
  },
  {
   "cell_type": "code",
   "execution_count": 1,
   "metadata": {},
   "outputs": [
    {
     "data": {
      "text/html": [
       "<div>\n",
       "<style scoped>\n",
       "    .dataframe tbody tr th:only-of-type {\n",
       "        vertical-align: middle;\n",
       "    }\n",
       "\n",
       "    .dataframe tbody tr th {\n",
       "        vertical-align: top;\n",
       "    }\n",
       "\n",
       "    .dataframe thead th {\n",
       "        text-align: right;\n",
       "    }\n",
       "</style>\n",
       "<table border=\"1\" class=\"dataframe\">\n",
       "  <thead>\n",
       "    <tr style=\"text-align: right;\">\n",
       "      <th></th>\n",
       "      <th>AGE</th>\n",
       "      <th>SEX</th>\n",
       "      <th>BMI</th>\n",
       "      <th>BP</th>\n",
       "      <th>S1</th>\n",
       "      <th>S2</th>\n",
       "      <th>S3</th>\n",
       "      <th>S4</th>\n",
       "      <th>S5</th>\n",
       "      <th>S6</th>\n",
       "      <th>Y</th>\n",
       "    </tr>\n",
       "  </thead>\n",
       "  <tbody>\n",
       "    <tr>\n",
       "      <th>0</th>\n",
       "      <td>59</td>\n",
       "      <td>2</td>\n",
       "      <td>32.1</td>\n",
       "      <td>101.0</td>\n",
       "      <td>157</td>\n",
       "      <td>93.2</td>\n",
       "      <td>38.0</td>\n",
       "      <td>4.0</td>\n",
       "      <td>4.8598</td>\n",
       "      <td>87</td>\n",
       "      <td>151</td>\n",
       "    </tr>\n",
       "    <tr>\n",
       "      <th>1</th>\n",
       "      <td>48</td>\n",
       "      <td>1</td>\n",
       "      <td>21.6</td>\n",
       "      <td>87.0</td>\n",
       "      <td>183</td>\n",
       "      <td>103.2</td>\n",
       "      <td>70.0</td>\n",
       "      <td>3.0</td>\n",
       "      <td>3.8918</td>\n",
       "      <td>69</td>\n",
       "      <td>75</td>\n",
       "    </tr>\n",
       "    <tr>\n",
       "      <th>2</th>\n",
       "      <td>72</td>\n",
       "      <td>2</td>\n",
       "      <td>30.5</td>\n",
       "      <td>93.0</td>\n",
       "      <td>156</td>\n",
       "      <td>93.6</td>\n",
       "      <td>41.0</td>\n",
       "      <td>4.0</td>\n",
       "      <td>4.6728</td>\n",
       "      <td>85</td>\n",
       "      <td>141</td>\n",
       "    </tr>\n",
       "    <tr>\n",
       "      <th>3</th>\n",
       "      <td>24</td>\n",
       "      <td>1</td>\n",
       "      <td>25.3</td>\n",
       "      <td>84.0</td>\n",
       "      <td>198</td>\n",
       "      <td>131.4</td>\n",
       "      <td>40.0</td>\n",
       "      <td>5.0</td>\n",
       "      <td>4.8903</td>\n",
       "      <td>89</td>\n",
       "      <td>206</td>\n",
       "    </tr>\n",
       "    <tr>\n",
       "      <th>4</th>\n",
       "      <td>50</td>\n",
       "      <td>1</td>\n",
       "      <td>23.0</td>\n",
       "      <td>101.0</td>\n",
       "      <td>192</td>\n",
       "      <td>125.4</td>\n",
       "      <td>52.0</td>\n",
       "      <td>4.0</td>\n",
       "      <td>4.2905</td>\n",
       "      <td>80</td>\n",
       "      <td>135</td>\n",
       "    </tr>\n",
       "  </tbody>\n",
       "</table>\n",
       "</div>"
      ],
      "text/plain": [
       "   AGE  SEX   BMI     BP   S1     S2    S3   S4      S5  S6    Y\n",
       "0   59    2  32.1  101.0  157   93.2  38.0  4.0  4.8598  87  151\n",
       "1   48    1  21.6   87.0  183  103.2  70.0  3.0  3.8918  69   75\n",
       "2   72    2  30.5   93.0  156   93.6  41.0  4.0  4.6728  85  141\n",
       "3   24    1  25.3   84.0  198  131.4  40.0  5.0  4.8903  89  206\n",
       "4   50    1  23.0  101.0  192  125.4  52.0  4.0  4.2905  80  135"
      ]
     },
     "execution_count": 1,
     "metadata": {},
     "output_type": "execute_result"
    }
   ],
   "source": [
    "#Importando todos os modulos necessarios para a analise exploratoria de dados\n",
    "import pandas as pd\n",
    "import numpy as np\n",
    "import matplotlib.pyplot as plt\n",
    "import warnings\n",
    "warnings.filterwarnings(\"ignore\")\n",
    "%matplotlib inline\n",
    "\n",
    "#Leitura do dataset com o pandas\n",
    "dataset = pd.read_table('./datasets/diabetes/diabetes.tab.txt')\n",
    "\n",
    "#Mostrando dataset (Apenas uma parte)\n",
    "dataset.head()"
   ]
  },
  {
   "cell_type": "markdown",
   "metadata": {},
   "source": [
    "A partir da análise anterior e da leitura do site https://www4.stat.ncsu.edu/~boos/var.select/diabetes.html podemos identificar qual é o objetivo dessa análise exploratória dos dados, assim como quais são os atributos de interesse.\n",
    "\n",
    "Desse modo, temos como objetivo entender melhor nosso dataset realizando limpezas, transformações, descobertas de insights, etc., para que os algoritmos de Machine Learning possam fazer melhores previsões.\n",
    "\n",
    "<b>Questão 1 - Formular questões que possam ser respondidas/entendidas com o conjunto de dados.</b>\n",
    "\n",
    "1 - Como a progressão da doença é impactada pelo sexo do paciente ?<br>\n",
    "2 - Como a progressão da doença é impactada pela faixa etária do paciente ?<br>\n",
    "3 - Qual medida está mais correlacionada com a progressão da doença ?<br>\n",
    "\n",
    "<b>Questão 2 - Escolher 5 atributos que representem bem o problema, justificar e analisar os seus tipos e operações.</b>\n",
    "\n",
    "Os atributos foram escolhidos de forma que fizessem sentido para responder as questões acima, de acordo com os seus valores visíveis e a semântica relacionada de cada um. Sendo assim, os atributos escolhidos, com os seus respectivos tipos, são:<br>\n",
    "&nbsp;&nbsp;&nbsp;&nbsp;Age - Numérico <br>\n",
    "&nbsp;&nbsp;&nbsp;&nbsp;Sex - Simbólico categórico <br>\n",
    "&nbsp;&nbsp;&nbsp;&nbsp;Ldl (S1) - Numérico intervalar <br>\n",
    "&nbsp;&nbsp;&nbsp;&nbsp;Hdl (S2) - Numérico racional / Numérico intervalar <br>\n",
    "&nbsp;&nbsp;&nbsp;&nbsp;Glu (S3) - Numérico intervalar <br>\n",
    "\n",
    "Deve-se salientar que tais atributos foram escolhidos, por acreditarmos que eles representam melhor o problema. Isso foi possível, após entendermos um pouco como funciona a diabete (https://pt.wikipedia.org/wiki/Diabetes_mellitus). Ou seja, após a análise do domínio do problema, avaliamos que estes atributos são os que mais afetam a diabete.\n",
    "\n",
    "Para os atributos Age, Ldl, Hdl e Glu as operações que fazem sentindo são: média, moda, correlação, entre outras estatísticas.<br>Já para o atributo Sex, faz sentido realizar uma operação de contagem, por exemplo.\n",
    "\n",
    "<b>Questão 3 - Fazer uma análise exploratória com base nase medidas vistas em aula.</b>\n",
    "\n",
    "Iremos realizar uma análise exploratória dos dados na tentativa de responder as perguntas elaboradas na Questão 1. Inicialmente verificaremos a relação entre os genêros (atributo Sex) com a progressão da diabete, por meio da média e do desvio padrão. Isso nos ajudará a responder a pergunta 1."
   ]
  },
  {
   "cell_type": "code",
   "execution_count": 2,
   "metadata": {},
   "outputs": [
    {
     "name": "stdout",
     "output_type": "stream",
     "text": [
      "Progressao media e desvio padrao de diabetes para os homens: 149.0212765957447 75.90578093636823\n",
      "Progressao media e desvio padrao de diabetes para as mulheres: 155.66666666666666 78.45331306004283\n"
     ]
    }
   ],
   "source": [
    "#Extração da coluna SEX com filtro para cada genero\n",
    "male = dataset[dataset.SEX == 1].Y\n",
    "female = dataset[dataset.SEX == 2].Y\n",
    "\n",
    "print(\"Progressao media e desvio padrao de diabetes para os homens: \" + str(male.mean()) + \" \" + str(male.std()))\n",
    "print(\"Progressao media e desvio padrao de diabetes para as mulheres: \" + str(female.mean())+\" \" +str(female.std()))"
   ]
  },
  {
   "cell_type": "markdown",
   "metadata": {},
   "source": [
    "Uma vez que a análise do impacto do atributo genêro foi realizada, iremos verificar a relação dos outros atributos. Para isso, é necessário extrair apenas o fundamental do dataset (atributos Age, Ldl, Hdl e Glu)."
   ]
  },
  {
   "cell_type": "code",
   "execution_count": 3,
   "metadata": {},
   "outputs": [
    {
     "data": {
      "text/html": [
       "<div>\n",
       "<style scoped>\n",
       "    .dataframe tbody tr th:only-of-type {\n",
       "        vertical-align: middle;\n",
       "    }\n",
       "\n",
       "    .dataframe tbody tr th {\n",
       "        vertical-align: top;\n",
       "    }\n",
       "\n",
       "    .dataframe thead th {\n",
       "        text-align: right;\n",
       "    }\n",
       "</style>\n",
       "<table border=\"1\" class=\"dataframe\">\n",
       "  <thead>\n",
       "    <tr style=\"text-align: right;\">\n",
       "      <th></th>\n",
       "      <th>AGE</th>\n",
       "      <th>LDL</th>\n",
       "      <th>HDL</th>\n",
       "      <th>GLU</th>\n",
       "    </tr>\n",
       "  </thead>\n",
       "  <tbody>\n",
       "    <tr>\n",
       "      <th>0</th>\n",
       "      <td>59</td>\n",
       "      <td>157</td>\n",
       "      <td>93.2</td>\n",
       "      <td>38.0</td>\n",
       "    </tr>\n",
       "    <tr>\n",
       "      <th>1</th>\n",
       "      <td>48</td>\n",
       "      <td>183</td>\n",
       "      <td>103.2</td>\n",
       "      <td>70.0</td>\n",
       "    </tr>\n",
       "    <tr>\n",
       "      <th>2</th>\n",
       "      <td>72</td>\n",
       "      <td>156</td>\n",
       "      <td>93.6</td>\n",
       "      <td>41.0</td>\n",
       "    </tr>\n",
       "    <tr>\n",
       "      <th>3</th>\n",
       "      <td>24</td>\n",
       "      <td>198</td>\n",
       "      <td>131.4</td>\n",
       "      <td>40.0</td>\n",
       "    </tr>\n",
       "    <tr>\n",
       "      <th>4</th>\n",
       "      <td>50</td>\n",
       "      <td>192</td>\n",
       "      <td>125.4</td>\n",
       "      <td>52.0</td>\n",
       "    </tr>\n",
       "  </tbody>\n",
       "</table>\n",
       "</div>"
      ],
      "text/plain": [
       "   AGE  LDL    HDL   GLU\n",
       "0   59  157   93.2  38.0\n",
       "1   48  183  103.2  70.0\n",
       "2   72  156   93.6  41.0\n",
       "3   24  198  131.4  40.0\n",
       "4   50  192  125.4  52.0"
      ]
     },
     "execution_count": 3,
     "metadata": {},
     "output_type": "execute_result"
    }
   ],
   "source": [
    "#Extracao dos atributos necessários\n",
    "diabete = dataset.iloc[:,[0,4,5,6]].copy()\n",
    "\n",
    "#Renomeando columnas\n",
    "diabete.columns = ['AGE','LDL','HDL','GLU']\n",
    "\n",
    "#Novo dataset\n",
    "diabete.head()"
   ]
  },
  {
   "cell_type": "code",
   "execution_count": 4,
   "metadata": {},
   "outputs": [
    {
     "data": {
      "text/html": [
       "<div>\n",
       "<style scoped>\n",
       "    .dataframe tbody tr th:only-of-type {\n",
       "        vertical-align: middle;\n",
       "    }\n",
       "\n",
       "    .dataframe tbody tr th {\n",
       "        vertical-align: top;\n",
       "    }\n",
       "\n",
       "    .dataframe thead th {\n",
       "        text-align: right;\n",
       "    }\n",
       "</style>\n",
       "<table border=\"1\" class=\"dataframe\">\n",
       "  <thead>\n",
       "    <tr style=\"text-align: right;\">\n",
       "      <th></th>\n",
       "      <th>Y</th>\n",
       "    </tr>\n",
       "  </thead>\n",
       "  <tbody>\n",
       "    <tr>\n",
       "      <th>0</th>\n",
       "      <td>151</td>\n",
       "    </tr>\n",
       "    <tr>\n",
       "      <th>1</th>\n",
       "      <td>75</td>\n",
       "    </tr>\n",
       "    <tr>\n",
       "      <th>2</th>\n",
       "      <td>141</td>\n",
       "    </tr>\n",
       "    <tr>\n",
       "      <th>3</th>\n",
       "      <td>206</td>\n",
       "    </tr>\n",
       "    <tr>\n",
       "      <th>4</th>\n",
       "      <td>135</td>\n",
       "    </tr>\n",
       "  </tbody>\n",
       "</table>\n",
       "</div>"
      ],
      "text/plain": [
       "     Y\n",
       "0  151\n",
       "1   75\n",
       "2  141\n",
       "3  206\n",
       "4  135"
      ]
     },
     "execution_count": 4,
     "metadata": {},
     "output_type": "execute_result"
    }
   ],
   "source": [
    "#Extracao da classe\n",
    "target = dataset.iloc[:,[10]].copy()\n",
    "\n",
    "#Target ou classe\n",
    "target.head()"
   ]
  },
  {
   "cell_type": "markdown",
   "metadata": {},
   "source": [
    "Agora que a extração dos dados foi realizada, nós iremos analisar graficamente a correlação entre os atributos e a variável de resposta (target). Isso porque é com esta medida estatística que será possível responder as questões 2 e 3 feitas anteriormente."
   ]
  },
  {
   "cell_type": "code",
   "execution_count": 5,
   "metadata": {},
   "outputs": [
    {
     "data": {
      "image/png": "[encoded data removed]",
      "text/plain": [
       "<matplotlib.figure.Figure at 0x7f01b9a8f6d8>"
      ]
     },
     "metadata": {},
     "output_type": "display_data"
    },
    {
     "data": {
      "image/png": "[encoded data removed]",
      "text/plain": [
       "<matplotlib.figure.Figure at 0x7f01b153d470>"
      ]
     },
     "metadata": {},
     "output_type": "display_data"
    },
    {
     "data": {
      "image/png": "[encoded data removed]",
      "text/plain": [
       "<matplotlib.figure.Figure at 0x7f01b14e6630>"
      ]
     },
     "metadata": {},
     "output_type": "display_data"
    },
    {
     "data": {
      "image/png": "[encoded data removed]",
      "text/plain": [
       "<matplotlib.figure.Figure at 0x7f01b14952b0>"
      ]
     },
     "metadata": {},
     "output_type": "display_data"
    }
   ],
   "source": [
    "#Avaliando a idade com a progressao da doenca\n",
    "plt.scatter(diabete.AGE.values,target.Y.values)\n",
    "plt.xlabel('Idade')\n",
    "plt.ylabel('Medida de rogressao de diabete')\n",
    "plt.show()\n",
    "\n",
    "#Avaliando o LDL com a progressao da doenca\n",
    "plt.scatter(diabete.LDL.values,target.Y.values)\n",
    "plt.xlabel('LDL')\n",
    "plt.ylabel('Medida de rogressao de diabete')\n",
    "plt.show()\n",
    "\n",
    "#Avaliando o HDL com a progressao da doenca\n",
    "plt.scatter(diabete.HDL.values,target.Y.values)\n",
    "plt.xlabel('HDL')\n",
    "plt.ylabel('Medida de rogressao de diabete')\n",
    "plt.show()\n",
    "\n",
    "#Avaliando o GLU com a progressao da doenca\n",
    "plt.scatter(diabete.GLU.values,target.Y.values)\n",
    "plt.xlabel('GLU')\n",
    "plt.ylabel('Medida de rogressao de diabete')\n",
    "plt.show()"
   ]
  },
  {
   "cell_type": "markdown",
   "metadata": {},
   "source": [
    "Agora também iremos analisar os dados de forma numérica."
   ]
  },
  {
   "cell_type": "code",
   "execution_count": 6,
   "metadata": {},
   "outputs": [
    {
     "name": "stdout",
     "output_type": "stream",
     "text": [
      "Correlacao entre idade e diabete 0.18788875071891972\n",
      "Correlacao entre LDL e diabete 0.17405358696874254\n",
      "Correlacao entre HDL e diabete 0.21202248101455065\n",
      "Correlacao entre GLU e diabete -0.39478925067091863\n"
     ]
    }
   ],
   "source": [
    "print(\"Correlacao entre idade e diabete \" + str(np.corrcoef(diabete.AGE.values,target.Y.values)[0,1]))\n",
    "print(\"Correlacao entre LDL e diabete \" + str(np.corrcoef(diabete.HDL.values,target.Y.values)[0,1]))\n",
    "print(\"Correlacao entre HDL e diabete \" + str(np.corrcoef(diabete.LDL.values,target.Y.values)[0,1]))\n",
    "print(\"Correlacao entre GLU e diabete \" + str(np.corrcoef(diabete.GLU.values,target.Y.values)[0,1]))"
   ]
  },
  {
   "cell_type": "markdown",
   "metadata": {},
   "source": [
    "<b>Questão 4 - Reanalisar 3 as questões elaboradas no primeiro exercício, com base na análise exploratória efetuada no exercício anterior.</b>\n",
    "\n",
    "Com a análise feita anteriormente, foi possível elaborar as seguintes hipóteses para as questões:\n",
    "\n",
    "1 - Como a média da progressão de diabete é muito similar entre os dois genêros, assim como o seu desvio padrão é relativamente próximo, podemos inferir que o genêro não possui relação direta com a progressão da doença.<br>\n",
    "2 - A partir do gráfico e das medidas de correlação extraídas no processo de análise, fica claro que, da mesma maneira que na pergunta 1, não existe uma relação direta entre a idade dos pacientes e a progreção da diabete.<br>\n",
    "3 - Também a partir do gráfico e das medidas de correlação extraídas no processo realizado anteriormente, verificamos que a medida Glu é aquela que possui mais dependência com a progressão da doença (quase -0.40). Entretanto, tal correlação é negativa, o que nos indica que, quanto maior o nível de glutamina no sangue, menor é a probabilidade da doença se desenvolver.<br>"
   ]
  },
  {
   "cell_type": "markdown",
   "metadata": {},
   "source": [
    "<b>Questão 5 - Analisar os problemas do conjunto de dados escolhido e os seus impactos na formulação/entendimento dos dados.</b>\n",
    "\n",
    "Uma vez que a análise foi realizada, pode-se concluir que o dataset não possui nenhum problema de \"missing values\" ou outliers. Julgamos que esse fato se deve ao dataset ser conhecido e já ter sido estudado/tratado há bastante tempo. Por conta disso, não houveram problemas para analisar o conjunto e chegar as hipóteses demonstradas no exercício anterior."
   ]
  },
  {
   "cell_type": "markdown",
   "metadata": {},
   "source": [
    "### --------------------------------------------------------------------------------------------------------------------------------------------------------"
   ]
  },
  {
   "cell_type": "markdown",
   "metadata": {},
   "source": [
    "### Dataset 2: Falhas de Plantio\n",
    "\n",
    "De forma similar à aplicada no primeiro conjunto de dados, iremos avaliar o dataset graficamente para tentar compreendê-lo melhor.\n",
    "\n"
   ]
  },
  {
   "cell_type": "code",
   "execution_count": 7,
   "metadata": {},
   "outputs": [
    {
     "data": {
      "text/html": [
       "<div>\n",
       "<style scoped>\n",
       "    .dataframe tbody tr th:only-of-type {\n",
       "        vertical-align: middle;\n",
       "    }\n",
       "\n",
       "    .dataframe tbody tr th {\n",
       "        vertical-align: top;\n",
       "    }\n",
       "\n",
       "    .dataframe thead th {\n",
       "        text-align: right;\n",
       "    }\n",
       "</style>\n",
       "<table border=\"1\" class=\"dataframe\">\n",
       "  <thead>\n",
       "    <tr style=\"text-align: right;\">\n",
       "      <th></th>\n",
       "      <th>Unnamed: 0</th>\n",
       "      <th>Fazenda</th>\n",
       "      <th>Zona</th>\n",
       "      <th>Talhao</th>\n",
       "      <th>Nome_Estacao_SM1</th>\n",
       "      <th>INSTANCIA1</th>\n",
       "      <th>CD_EMPRESA1</th>\n",
       "      <th>Tipo_prop1</th>\n",
       "      <th>CD_SAFRA</th>\n",
       "      <th>Area_Plantio</th>\n",
       "      <th>...</th>\n",
       "      <th>EPT_mm_December</th>\n",
       "      <th>EPT_mm_February</th>\n",
       "      <th>EPT_mm_January</th>\n",
       "      <th>EPT_mm_July</th>\n",
       "      <th>EPT_mm_June</th>\n",
       "      <th>EPT_mm_March</th>\n",
       "      <th>EPT_mm_May</th>\n",
       "      <th>EPT_mm_November</th>\n",
       "      <th>EPT_mm_October</th>\n",
       "      <th>EPT_mm_September</th>\n",
       "    </tr>\n",
       "  </thead>\n",
       "  <tbody>\n",
       "    <tr>\n",
       "      <th>0</th>\n",
       "      <td>1</td>\n",
       "      <td>8065492367f538812f3928137e492c36</td>\n",
       "      <td>dd4ad37ee474732a009111e3456e7ed7</td>\n",
       "      <td>71db8a6cad03244e6e50f0ad8bc95a65</td>\n",
       "      <td>9d808d5988da444614e97bb46dfcc388</td>\n",
       "      <td>4770fa66c5954411ff928125d447259b</td>\n",
       "      <td>c7f66da1cae4f223b9bae717f05900f7</td>\n",
       "      <td>c7f66da1cae4f223b9bae717f05900f7</td>\n",
       "      <td>21617</td>\n",
       "      <td>24.25</td>\n",
       "      <td>...</td>\n",
       "      <td>NaN</td>\n",
       "      <td>NaN</td>\n",
       "      <td>NaN</td>\n",
       "      <td>NaN</td>\n",
       "      <td>NaN</td>\n",
       "      <td>NaN</td>\n",
       "      <td>NaN</td>\n",
       "      <td>NaN</td>\n",
       "      <td>NaN</td>\n",
       "      <td>NaN</td>\n",
       "    </tr>\n",
       "    <tr>\n",
       "      <th>1</th>\n",
       "      <td>2</td>\n",
       "      <td>8065492367f538812f3928137e492c36</td>\n",
       "      <td>dd4ad37ee474732a009111e3456e7ed7</td>\n",
       "      <td>8f3571abef23f6aca0f7b8666a74e7e0</td>\n",
       "      <td>9d808d5988da444614e97bb46dfcc388</td>\n",
       "      <td>4770fa66c5954411ff928125d447259b</td>\n",
       "      <td>c7f66da1cae4f223b9bae717f05900f7</td>\n",
       "      <td>c7f66da1cae4f223b9bae717f05900f7</td>\n",
       "      <td>21617</td>\n",
       "      <td>13.59</td>\n",
       "      <td>...</td>\n",
       "      <td>NaN</td>\n",
       "      <td>NaN</td>\n",
       "      <td>NaN</td>\n",
       "      <td>NaN</td>\n",
       "      <td>NaN</td>\n",
       "      <td>NaN</td>\n",
       "      <td>NaN</td>\n",
       "      <td>NaN</td>\n",
       "      <td>NaN</td>\n",
       "      <td>NaN</td>\n",
       "    </tr>\n",
       "    <tr>\n",
       "      <th>2</th>\n",
       "      <td>3</td>\n",
       "      <td>8065492367f538812f3928137e492c36</td>\n",
       "      <td>dd4ad37ee474732a009111e3456e7ed7</td>\n",
       "      <td>fa5a4df7ac0f9782037da890557fd8b8</td>\n",
       "      <td>9d808d5988da444614e97bb46dfcc388</td>\n",
       "      <td>4770fa66c5954411ff928125d447259b</td>\n",
       "      <td>c7f66da1cae4f223b9bae717f05900f7</td>\n",
       "      <td>c7f66da1cae4f223b9bae717f05900f7</td>\n",
       "      <td>21617</td>\n",
       "      <td>11.34</td>\n",
       "      <td>...</td>\n",
       "      <td>NaN</td>\n",
       "      <td>NaN</td>\n",
       "      <td>NaN</td>\n",
       "      <td>NaN</td>\n",
       "      <td>NaN</td>\n",
       "      <td>NaN</td>\n",
       "      <td>NaN</td>\n",
       "      <td>NaN</td>\n",
       "      <td>NaN</td>\n",
       "      <td>NaN</td>\n",
       "    </tr>\n",
       "    <tr>\n",
       "      <th>3</th>\n",
       "      <td>4</td>\n",
       "      <td>f648ef67be4ec669a2cf9f44a14ad6f4</td>\n",
       "      <td>3a289991381335a0fc94ad80f79fe88e</td>\n",
       "      <td>4b5630ee914e848e8d07221556b0a2fb</td>\n",
       "      <td>bb4b9c9cb3eb0376a9c896805d07adcb</td>\n",
       "      <td>8fdf2b1125e197b694ab48c195f7743f</td>\n",
       "      <td>40755f30599581bfb1186f077db8f580</td>\n",
       "      <td>c01f179e4b57ab8bd9de309e6d576c48</td>\n",
       "      <td>21617</td>\n",
       "      <td>23.16</td>\n",
       "      <td>...</td>\n",
       "      <td>157.8</td>\n",
       "      <td>128.95</td>\n",
       "      <td>134.18</td>\n",
       "      <td>99.63</td>\n",
       "      <td>75.31</td>\n",
       "      <td>139.11</td>\n",
       "      <td>83.1</td>\n",
       "      <td>152.3</td>\n",
       "      <td>151.4</td>\n",
       "      <td>130.1</td>\n",
       "    </tr>\n",
       "    <tr>\n",
       "      <th>4</th>\n",
       "      <td>5</td>\n",
       "      <td>f648ef67be4ec669a2cf9f44a14ad6f4</td>\n",
       "      <td>3a289991381335a0fc94ad80f79fe88e</td>\n",
       "      <td>c01f179e4b57ab8bd9de309e6d576c48</td>\n",
       "      <td>bb4b9c9cb3eb0376a9c896805d07adcb</td>\n",
       "      <td>8fdf2b1125e197b694ab48c195f7743f</td>\n",
       "      <td>40755f30599581bfb1186f077db8f580</td>\n",
       "      <td>c01f179e4b57ab8bd9de309e6d576c48</td>\n",
       "      <td>21617</td>\n",
       "      <td>7.36</td>\n",
       "      <td>...</td>\n",
       "      <td>157.8</td>\n",
       "      <td>128.95</td>\n",
       "      <td>134.18</td>\n",
       "      <td>99.63</td>\n",
       "      <td>75.31</td>\n",
       "      <td>139.11</td>\n",
       "      <td>83.1</td>\n",
       "      <td>152.3</td>\n",
       "      <td>151.4</td>\n",
       "      <td>130.1</td>\n",
       "    </tr>\n",
       "  </tbody>\n",
       "</table>\n",
       "<p>5 rows × 212 columns</p>\n",
       "</div>"
      ],
      "text/plain": [
       "   Unnamed: 0                           Fazenda  \\\n",
       "0           1  8065492367f538812f3928137e492c36   \n",
       "1           2  8065492367f538812f3928137e492c36   \n",
       "2           3  8065492367f538812f3928137e492c36   \n",
       "3           4  f648ef67be4ec669a2cf9f44a14ad6f4   \n",
       "4           5  f648ef67be4ec669a2cf9f44a14ad6f4   \n",
       "\n",
       "                               Zona                            Talhao  \\\n",
       "0  dd4ad37ee474732a009111e3456e7ed7  71db8a6cad03244e6e50f0ad8bc95a65   \n",
       "1  dd4ad37ee474732a009111e3456e7ed7  8f3571abef23f6aca0f7b8666a74e7e0   \n",
       "2  dd4ad37ee474732a009111e3456e7ed7  fa5a4df7ac0f9782037da890557fd8b8   \n",
       "3  3a289991381335a0fc94ad80f79fe88e  4b5630ee914e848e8d07221556b0a2fb   \n",
       "4  3a289991381335a0fc94ad80f79fe88e  c01f179e4b57ab8bd9de309e6d576c48   \n",
       "\n",
       "                   Nome_Estacao_SM1                        INSTANCIA1  \\\n",
       "0  9d808d5988da444614e97bb46dfcc388  4770fa66c5954411ff928125d447259b   \n",
       "1  9d808d5988da444614e97bb46dfcc388  4770fa66c5954411ff928125d447259b   \n",
       "2  9d808d5988da444614e97bb46dfcc388  4770fa66c5954411ff928125d447259b   \n",
       "3  bb4b9c9cb3eb0376a9c896805d07adcb  8fdf2b1125e197b694ab48c195f7743f   \n",
       "4  bb4b9c9cb3eb0376a9c896805d07adcb  8fdf2b1125e197b694ab48c195f7743f   \n",
       "\n",
       "                        CD_EMPRESA1                        Tipo_prop1  \\\n",
       "0  c7f66da1cae4f223b9bae717f05900f7  c7f66da1cae4f223b9bae717f05900f7   \n",
       "1  c7f66da1cae4f223b9bae717f05900f7  c7f66da1cae4f223b9bae717f05900f7   \n",
       "2  c7f66da1cae4f223b9bae717f05900f7  c7f66da1cae4f223b9bae717f05900f7   \n",
       "3  40755f30599581bfb1186f077db8f580  c01f179e4b57ab8bd9de309e6d576c48   \n",
       "4  40755f30599581bfb1186f077db8f580  c01f179e4b57ab8bd9de309e6d576c48   \n",
       "\n",
       "   CD_SAFRA  Area_Plantio        ...        EPT_mm_December EPT_mm_February  \\\n",
       "0     21617         24.25        ...                    NaN             NaN   \n",
       "1     21617         13.59        ...                    NaN             NaN   \n",
       "2     21617         11.34        ...                    NaN             NaN   \n",
       "3     21617         23.16        ...                  157.8          128.95   \n",
       "4     21617          7.36        ...                  157.8          128.95   \n",
       "\n",
       "  EPT_mm_January  EPT_mm_July  EPT_mm_June  EPT_mm_March  EPT_mm_May  \\\n",
       "0            NaN          NaN          NaN           NaN         NaN   \n",
       "1            NaN          NaN          NaN           NaN         NaN   \n",
       "2            NaN          NaN          NaN           NaN         NaN   \n",
       "3         134.18        99.63        75.31        139.11        83.1   \n",
       "4         134.18        99.63        75.31        139.11        83.1   \n",
       "\n",
       "   EPT_mm_November  EPT_mm_October  EPT_mm_September  \n",
       "0              NaN             NaN               NaN  \n",
       "1              NaN             NaN               NaN  \n",
       "2              NaN             NaN               NaN  \n",
       "3            152.3           151.4             130.1  \n",
       "4            152.3           151.4             130.1  \n",
       "\n",
       "[5 rows x 212 columns]"
      ]
     },
     "execution_count": 7,
     "metadata": {},
     "output_type": "execute_result"
    }
   ],
   "source": [
    "#Leitura do dataset com o pandas\n",
    "dataset = pd.read_csv('./datasets/agro/falhas_plantio_hashing.csv',sep=';',header=0,encoding='latin1')\n",
    "\n",
    "#Mostrando dataset (Apenas uma parte)\n",
    "dataset.head()"
   ]
  },
  {
   "cell_type": "markdown",
   "metadata": {},
   "source": [
    "A partir dos dados exibidos acima e da análise do dicionário de dados, podemos definir o nosso objetivo, que é realizar uma análise exploratória dos dados para identificar \"missing values\" e outliers, assim como realizar limpezas e transformações nos dados para obter uma melhor compreensão e para que os mesmos sejam adequados na entrada de um algoritmo de aprendizado de máquina.\n",
    "\n",
    "Uma vez que os objetivos foram definidos, iremos responder as questões solicitadas abaixo."
   ]
  },
  {
   "cell_type": "markdown",
   "metadata": {},
   "source": [
    "<b>Questão 1 - Formular questões que possam ser respondidas/entendidas com o conjunto de dados.</b>\n",
    "\n",
    "1) O ph do solo segue uma distribuição normal?<br>\n",
    "2) A velocidade média de plantio segue uma normal ? <br>\n",
    "3) Qual a relação entre o ph do solo e os componentes potassio, calcio e magnesio ?\n",
    "\n",
    "<b>Questão 2 - Escolher 5 atributos que representem bem o problema, justificar e analisar os seus tipos e operações.</b>\n",
    "\n",
    "Dentro todos os atributos, escolhemos aqueles que melhor se adequam a resolver nosso objetivo, assim como possuem uma mais fácil compreensão dos dados. A seguir, temos a aprensentação dos atributos:\n",
    "\n",
    "Ph - Ph do solo (Numérico intervalar) <br> \n",
    "VM - Velocidade média de plantio (Numérico intervalar) <br>\n",
    "K - Potassio (Numérico intervalar) <br>\n",
    "Ca - Cálcio (Numérico intervalar) <br>\n",
    "Mg - Magnésio (Numérico intervalar) <br>\n",
    " \n",
    "Estas características foram escolhidas por acreditarmos que são as mais relevantes para descrever o problema. Ph e VM são necessários para responder as questões 1 e 2 e K,Ca,Mg são componentes que mais afetam o Ph segundo http://www.nutricaodesafras.com.br/ph-do-solo#soil-acidity.\n",
    "\n",
    "As operações que são possível para os atributos são somas,diferenças, multiplicações e divisões. Além de ser possível calcular estatísticas como média, desvio padrão, correlação e etc.\n",
    "\n",
    "<b>Questão 3 - Fazer uma análise exploratória com base nase medidas vistas em aula.</b>\n",
    "\n",
    "Iremos realizar uma análise exploratória dos dados para tentar responder as perguntas realizadas na questão 1. Assim, inicialmente iremos verificar a normalidade do Ph e velocidade média do solo graficamente"
   ]
  },
  {
   "cell_type": "code",
   "execution_count": 8,
   "metadata": {},
   "outputs": [
    {
     "data": {
      "image/png": "[encoded data removed]",
      "text/plain": [
       "<matplotlib.figure.Figure at 0x7f01b0ba4860>"
      ]
     },
     "metadata": {},
     "output_type": "display_data"
    },
    {
     "data": {
      "image/png": "[encoded data removed]",
      "text/plain": [
       "<matplotlib.figure.Figure at 0x7f01b0bc7a20>"
      ]
     },
     "metadata": {},
     "output_type": "display_data"
    }
   ],
   "source": [
    "#Ignorando os Nan values\n",
    "agro = dataset.dropna()\n",
    "\n",
    "agro['Ph'].hist(bins=50)\n",
    "plt.xlabel('Ph do solo')\n",
    "plt.ylabel('Quantidade')\n",
    "plt.show()\n",
    "\n",
    "agro['VM'].hist(bins=100)\n",
    "plt.xlabel('Velocidade média de plantio')\n",
    "plt.ylabel('Quantidade')\n",
    "plt.show()"
   ]
  },
  {
   "cell_type": "markdown",
   "metadata": {},
   "source": [
    "A partir dessa análise gráfica será possível responder as perguntas 1 e 2. Agora, devemos calcular o relacionamento entre potassio,calcio e magnesio com o ph do solo. Para realizar isso, utilizaremos novamente a medida de correlação graficamente e numericamente"
   ]
  },
  {
   "cell_type": "code",
   "execution_count": 9,
   "metadata": {},
   "outputs": [
    {
     "data": {
      "image/png": "[encoded data removed]",
      "text/plain": [
       "<matplotlib.figure.Figure at 0x7f01b00cf198>"
      ]
     },
     "metadata": {},
     "output_type": "display_data"
    },
    {
     "data": {
      "image/png": "[encoded data removed]",
      "text/plain": [
       "<matplotlib.figure.Figure at 0x7f01abfc7dd8>"
      ]
     },
     "metadata": {},
     "output_type": "display_data"
    },
    {
     "data": {
      "image/png": "[encoded data removed]",
      "text/plain": [
       "<matplotlib.figure.Figure at 0x7f01abfac550>"
      ]
     },
     "metadata": {},
     "output_type": "display_data"
    }
   ],
   "source": [
    "plt.scatter(agro['Ph'].values,agro['K'].values)\n",
    "plt.xlabel('Ph')\n",
    "plt.ylabel('Potassio')\n",
    "plt.show()\n",
    "\n",
    "plt.scatter(agro['Ph'].values,agro['Ca'].values)\n",
    "plt.xlabel('Ph')\n",
    "plt.ylabel('Calcio')\n",
    "plt.show()\n",
    "\n",
    "plt.scatter(agro['Ph'].values,agro['Mg'].values)\n",
    "plt.xlabel('Ph')\n",
    "plt.ylabel('Magnesio')\n",
    "plt.show()"
   ]
  },
  {
   "cell_type": "code",
   "execution_count": 10,
   "metadata": {},
   "outputs": [
    {
     "name": "stdout",
     "output_type": "stream",
     "text": [
      "Correlacao entre Ph e potassio 0.04781524030289483\n",
      "Correlacao entre Ph e calcio 0.48155120276587393\n",
      "Correlacao entre Ph e magnesio 0.20511033535914167\n"
     ]
    }
   ],
   "source": [
    "print(\"Correlacao entre Ph e potassio \" + str(np.corrcoef(agro['Ph'].values,agro['K'].values)[0,1]))\n",
    "print(\"Correlacao entre Ph e calcio \" + str(np.corrcoef(agro['Ph'].values,agro['Ca'].values)[0,1]))\n",
    "print(\"Correlacao entre Ph e magnesio \" + str(np.corrcoef(agro['Ph'].values,agro['Mg'].values)[0,1]))"
   ]
  },
  {
   "cell_type": "markdown",
   "metadata": {},
   "source": [
    "<b>Questão 4 - Reanalisar 3 as questões elaboradas no primeiro exercício, com base na análise exploratória efetuada no exercício anterior.</b>\n",
    "\n",
    "Com a análise realizada, podemos efetuar as seguintes hipóteses para as perguntas formuladas: <br>\n",
    "1) O Ph do solo entre as várias observações feitas tende a seguir uma normal, porque o seu histograma tende a seguir tal modelo.<br>\n",
    "2) A mesma ideia do Ph equivale para a velocidade média de plantio.<br>\n",
    "3) Verificamos graficamente e numericamente que quem possui uma correlação,e portanto uma certa dependência entre os dados, é o Ph com o cálcio. Sabemos que quimicamente esse é um resultado a ser esperado, e como podemos ver existe uma correlação de aproximadamente 0.5, o que sugere que um aumento do cálcio implica mais um menos em um aumento do Ph do solo.<br>\n",
    "\n",
    "<b>Questão 5 - Analisar os problemas do conjunto de dados escolhido e os seus impactos na formulação/entendimento dos dados.</b>\n",
    "\n",
    "O conjunto de dados proposto possui diversos problemas de \"missing values\". Como não temos conhecimento o suficiente sobre o plantio ou sobre o dataset e nem temos a disposição um especialista da área, decidimos excluir tais tuplas que possuem esses valores. Lembramos que nem sempre isso é o ideal. Muitas vezes é possível inferir tais valores, mas como escrito anteriomente, isso não é possível em nosso caso.\n",
    "\n",
    "Além dos \"missing values\", notamos um ponto imporante ao analisar os gráficos de correlação. Em basicamente todos existem outiliers, fato que fica mais evidente no gráfico entre Ph e e Magnésio. Tais valores, devem ser investigados para saber se existem porque houve um erro na digitação, erro na amostragem ou se ele for um valor válido, então o porque dele não seguir um padrão. Salientamos que tal análise é fundamental, pois estes outliers podem provocar tremendas alterações nas previsões dos algoritmos de machine learning."
   ]
  }
 ],
 "metadata": {
  "kernelspec": {
   "display_name": "Python 3",
   "language": "python",
   "name": "python3"
  },
  "language_info": {
   "codemirror_mode": {
    "name": "ipython",
    "version": 3
   },
   "file_extension": ".py",
   "mimetype": "text/x-python",
   "name": "python",
   "nbconvert_exporter": "python",
   "pygments_lexer": "ipython3",
   "version": "3.6.4"
  }
 },
 "nbformat": 4,
 "nbformat_minor": 2
}
