{
 "cells": [
  {
   "cell_type": "markdown",
   "metadata": {},
   "source": [
    "DESCREVER OBJETIVOS"
   ]
  },
  {
   "cell_type": "code",
   "execution_count": 1,
   "metadata": {},
   "outputs": [],
   "source": [
    "#Armazenando os dados\n",
    "obitos <- c(0,3,0,3,0,1,3,3,7,29,41,45,3,16,36,11)\n",
    "\n",
    "pop <- c(33679,21131,10599,4495,6002,4396,2813,1664,34414,25429,13271,4765,5881,6493,3466,769)\n",
    "\n",
    "tabela <- expand.grid(FaixaEtaria = c('40-49','50-59','60-69','70-80'),Cigarros = c('0','1-9','10-30','30+'))\n",
    "\n",
    "dados <- cbind(tabela,obitos,pop)"
   ]
  },
  {
   "cell_type": "code",
   "execution_count": 2,
   "metadata": {},
   "outputs": [],
   "source": [
    "#Criando o modelo por mínimos quadrados\n",
    "mod <- glm(obitos ~ offset(log(pop)) + FaixaEtaria + Cigarros, family = poisson,data=dados)"
   ]
  },
  {
   "cell_type": "code",
   "execution_count": 3,
   "metadata": {},
   "outputs": [
    {
     "data": {
      "text/plain": [
       "\n",
       "Call:\n",
       "glm(formula = obitos ~ offset(log(pop)) + FaixaEtaria + Cigarros, \n",
       "    family = poisson, data = dados)\n",
       "\n",
       "Deviance Residuals: \n",
       "     Min        1Q    Median        3Q       Max  \n",
       "-2.04919  -0.74414  -0.04008   0.47261   1.21623  \n",
       "\n",
       "Coefficients:\n",
       "                 Estimate Std. Error z value Pr(>|z|)    \n",
       "(Intercept)      -11.4241     0.5094 -22.424  < 2e-16 ***\n",
       "FaixaEtaria50-59   1.7693     0.3473   5.095 3.49e-07 ***\n",
       "FaixaEtaria60-69   2.8973     0.3357   8.630  < 2e-16 ***\n",
       "FaixaEtaria70-80   3.7915     0.3409  11.121  < 2e-16 ***\n",
       "Cigarros1-9        1.4090     0.5566   2.531   0.0114 *  \n",
       "Cigarros10-30      2.8662     0.4182   6.854 7.20e-12 ***\n",
       "Cigarros30+        3.7581     0.4269   8.803  < 2e-16 ***\n",
       "---\n",
       "Signif. codes:  0 ‘***’ 0.001 ‘**’ 0.01 ‘*’ 0.05 ‘.’ 0.1 ‘ ’ 1\n",
       "\n",
       "(Dispersion parameter for poisson family taken to be 1)\n",
       "\n",
       "    Null deviance: 472.596  on 15  degrees of freedom\n",
       "Residual deviance:  11.912  on  9  degrees of freedom\n",
       "AIC: 77.391\n",
       "\n",
       "Number of Fisher Scoring iterations: 5\n"
      ]
     },
     "metadata": {},
     "output_type": "display_data"
    }
   ],
   "source": [
    "#Avaliação do modelo\n",
    "summary(mod)"
   ]
  }
 ],
 "metadata": {
  "kernelspec": {
   "display_name": "R",
   "language": "R",
   "name": "ir"
  },
  "language_info": {
   "codemirror_mode": "r",
   "file_extension": ".r",
   "mimetype": "text/x-r-source",
   "name": "R",
   "pygments_lexer": "r",
   "version": "3.4.3"
  }
 },
 "nbformat": 4,
 "nbformat_minor": 2
}
