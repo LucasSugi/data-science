{
 "cells": [
  {
   "cell_type": "markdown",
   "metadata": {},
   "source": [
    "# Óbitos por câncer de pulmão\n",
    "\n",
    "Iremos analisar o número de mortes por câncer de pulmão em uma população composta por médicos britânicos, segundo sua faixa etária e o consumo médio diário de cigarros. \n",
    "\n",
    "Ao longo do documento realizaremos algumas análises e responderemos as seguintes questões:\n",
    "\n",
    "- Quais são as variáveis resposta e explicativas envolvidas no estudo.\n",
    "- Qual o modelo proposto.\n",
    "- Ajuste do modelo e estatísticas utilizadas para isso.\n",
    "- Descrição sobre a significância individual dos parâmetros. Estatísticas utilizadas para tais conclusões?\n",
    "- Equação estimada pelo modelo.\n",
    "- Interpretação dos parâmetros do modelo."
   ]
  },
  {
   "cell_type": "code",
   "execution_count": 1,
   "metadata": {},
   "outputs": [
    {
     "data": {
      "text/html": [
       "<table>\n",
       "<thead><tr><th scope=col>FaixaEtaria</th><th scope=col>Cigarros</th><th scope=col>obitos</th><th scope=col>pop</th></tr></thead>\n",
       "<tbody>\n",
       "\t<tr><td>40-49</td><td>0    </td><td>0    </td><td>33679</td></tr>\n",
       "\t<tr><td>50-59</td><td>0    </td><td>3    </td><td>21131</td></tr>\n",
       "\t<tr><td>60-69</td><td>0    </td><td>0    </td><td>10599</td></tr>\n",
       "\t<tr><td>70-80</td><td>0    </td><td>3    </td><td> 4495</td></tr>\n",
       "\t<tr><td>40-49</td><td>1-9  </td><td>0    </td><td> 6002</td></tr>\n",
       "\t<tr><td>50-59</td><td>1-9  </td><td>1    </td><td> 4396</td></tr>\n",
       "</tbody>\n",
       "</table>\n"
      ],
      "text/latex": [
       "\\begin{tabular}{r|llll}\n",
       " FaixaEtaria & Cigarros & obitos & pop\\\\\n",
       "\\hline\n",
       "\t 40-49 & 0     & 0     & 33679\\\\\n",
       "\t 50-59 & 0     & 3     & 21131\\\\\n",
       "\t 60-69 & 0     & 0     & 10599\\\\\n",
       "\t 70-80 & 0     & 3     &  4495\\\\\n",
       "\t 40-49 & 1-9   & 0     &  6002\\\\\n",
       "\t 50-59 & 1-9   & 1     &  4396\\\\\n",
       "\\end{tabular}\n"
      ],
      "text/markdown": [
       "\n",
       "FaixaEtaria | Cigarros | obitos | pop | \n",
       "|---|---|---|---|---|---|\n",
       "| 40-49 | 0     | 0     | 33679 | \n",
       "| 50-59 | 0     | 3     | 21131 | \n",
       "| 60-69 | 0     | 0     | 10599 | \n",
       "| 70-80 | 0     | 3     |  4495 | \n",
       "| 40-49 | 1-9   | 0     |  6002 | \n",
       "| 50-59 | 1-9   | 1     |  4396 | \n",
       "\n",
       "\n"
      ],
      "text/plain": [
       "  FaixaEtaria Cigarros obitos pop  \n",
       "1 40-49       0        0      33679\n",
       "2 50-59       0        3      21131\n",
       "3 60-69       0        0      10599\n",
       "4 70-80       0        3       4495\n",
       "5 40-49       1-9      0       6002\n",
       "6 50-59       1-9      1       4396"
      ]
     },
     "metadata": {},
     "output_type": "display_data"
    }
   ],
   "source": [
    "#Armazenando os dados\n",
    "obitos <- c(0,3,0,3,0,1,3,3,7,29,41,45,3,16,36,11)\n",
    "pop <- c(33679,21131,10599,4495,6002,4396,2813,1664,34414,25429,13271,4765,5881,6493,3466,769)\n",
    "tabela <- expand.grid(FaixaEtaria = c('40-49','50-59','60-69','70-80'),Cigarros = c('0','1-9','10-30','30+'))\n",
    "\n",
    "#Concatenando em uma tabela\n",
    "dados <- cbind(tabela,obitos,pop)\n",
    "\n",
    "#Mostrando parte dos dados\n",
    "head(dados)"
   ]
  },
  {
   "cell_type": "markdown",
   "metadata": {},
   "source": [
    "## Variável resposta e explicativas\n",
    "\n",
    "Note que o objetivo deste documento é analisar o número de óbitos (`obitos`), logo, essa será a nossa variável resposta, i.e, o que desejamos estimar. A faixa etaria (`FaixaEtaria`), número de cigarros diário (`Cigarros`) e população (`pop`) serão nossas variáveis explicativas.\n",
    "\n",
    "## Modelo estatístico\n",
    "\n",
    "Assim, a partir das variáveis explicativas tentaremos estimar os óbitos por meio de um modelo linear generalizado (mlg ou glm em inglês) que será definido da seguinte maneira:\n",
    "\n",
    "- Componente aleatório: `Poisson `\n",
    "- Função de ligação: `Log`\n",
    "\n",
    "A explicação da utilização desses componentes é que a distribuição `Poisson` é geralmente adequada quando a variável resposta avalia as contagens com ocorrências raras e a função de ligação `log` foi escolhida por em geral possuir bom desempenho e poder descritivo quando combinada com a `Poisson`. Deve-se lembrar também que tal ligação é conhecida por ser canônica e possui características estatísticas interessantes na modelagem."
   ]
  },
  {
   "cell_type": "code",
   "execution_count": 2,
   "metadata": {},
   "outputs": [],
   "source": [
    "#Criação do modelo utilizando glm\n",
    "mod <- glm(obitos ~ offset(log(pop)) + FaixaEtaria + Cigarros, family = poisson,data=dados)\n",
    "mod.sum = summary(mod)"
   ]
  },
  {
   "cell_type": "markdown",
   "metadata": {},
   "source": [
    "**chamada**: `glm(formula = obitos ~ offset(log(pop)) + FaixaEtaria + Cigarros, family = poisson, data = dados)`\n"
   ]
  },
  {
   "cell_type": "code",
   "execution_count": 3,
   "metadata": {},
   "outputs": [
    {
     "name": "stdout",
     "output_type": "stream",
     "text": [
      "Residuals deviance"
     ]
    },
    {
     "data": {
      "text/html": [
       "<table>\n",
       "<thead><tr><th scope=col>0%</th><th scope=col>25%</th><th scope=col>50%</th><th scope=col>75%</th><th scope=col>100%</th></tr></thead>\n",
       "<tbody>\n",
       "\t<tr><td>-2.049188 </td><td>-0.7441448</td><td>-0.0400812</td><td>0.4726137 </td><td>1.216231  </td></tr>\n",
       "</tbody>\n",
       "</table>\n"
      ],
      "text/latex": [
       "\\begin{tabular}{lllll}\n",
       " 0\\% & 25\\% & 50\\% & 75\\% & 100\\%\\\\\n",
       "\\hline\n",
       "\t -2.049188  & -0.7441448 & -0.0400812 & 0.4726137  & 1.216231  \\\\\n",
       "\\end{tabular}\n"
      ],
      "text/markdown": [
       "\n",
       "0% | 25% | 50% | 75% | 100% | \n",
       "|---|\n",
       "| -2.049188  | -0.7441448 | -0.0400812 | 0.4726137  | 1.216231   | \n",
       "\n",
       "\n"
      ],
      "text/plain": [
       "     0%        25%        50%        75%       100%    \n",
       "[1,] -2.049188 -0.7441448 -0.0400812 0.4726137 1.216231"
      ]
     },
     "metadata": {},
     "output_type": "display_data"
    },
    {
     "name": "stdout",
     "output_type": "stream",
     "text": [
      "Coefficients"
     ]
    },
    {
     "data": {
      "text/html": [
       "<table>\n",
       "<thead><tr><th></th><th scope=col>Estimate</th><th scope=col>Std. Error</th><th scope=col>z value</th><th scope=col>Pr(&gt;|z|)</th></tr></thead>\n",
       "<tbody>\n",
       "\t<tr><th scope=row>(Intercept)</th><td>-11.424072   </td><td>0.5094496    </td><td>-22.424343   </td><td>2.278319e-111</td></tr>\n",
       "\t<tr><th scope=row>FaixaEtaria50-59</th><td>  1.769270   </td><td>0.3472644    </td><td>  5.094878   </td><td> 3.489660e-07</td></tr>\n",
       "\t<tr><th scope=row>FaixaEtaria60-69</th><td>  2.897297   </td><td>0.3357193    </td><td>  8.630120   </td><td> 6.128762e-18</td></tr>\n",
       "\t<tr><th scope=row>FaixaEtaria70-80</th><td>  3.791517   </td><td>0.3409320    </td><td> 11.121035   </td><td> 9.911530e-29</td></tr>\n",
       "\t<tr><th scope=row>Cigarros1-9</th><td>  1.408968   </td><td>0.5566426    </td><td>  2.531190   </td><td> 1.136764e-02</td></tr>\n",
       "\t<tr><th scope=row>Cigarros10-30</th><td>  2.866185   </td><td>0.4182040    </td><td>  6.853558   </td><td> 7.203538e-12</td></tr>\n",
       "\t<tr><th scope=row>Cigarros30+</th><td>  3.758070   </td><td>0.4269112    </td><td>  8.802931   </td><td> 1.332887e-18</td></tr>\n",
       "</tbody>\n",
       "</table>\n"
      ],
      "text/latex": [
       "\\begin{tabular}{r|llll}\n",
       "  & Estimate & Std. Error & z value & Pr(>\\textbar{}z\\textbar{})\\\\\n",
       "\\hline\n",
       "\t(Intercept) & -11.424072    & 0.5094496     & -22.424343    & 2.278319e-111\\\\\n",
       "\tFaixaEtaria50-59 &   1.769270    & 0.3472644     &   5.094878    &  3.489660e-07\\\\\n",
       "\tFaixaEtaria60-69 &   2.897297    & 0.3357193     &   8.630120    &  6.128762e-18\\\\\n",
       "\tFaixaEtaria70-80 &   3.791517    & 0.3409320     &  11.121035    &  9.911530e-29\\\\\n",
       "\tCigarros1-9 &   1.408968    & 0.5566426     &   2.531190    &  1.136764e-02\\\\\n",
       "\tCigarros10-30 &   2.866185    & 0.4182040     &   6.853558    &  7.203538e-12\\\\\n",
       "\tCigarros30+ &   3.758070    & 0.4269112     &   8.802931    &  1.332887e-18\\\\\n",
       "\\end{tabular}\n"
      ],
      "text/markdown": [
       "\n",
       "| <!--/--> | Estimate | Std. Error | z value | Pr(>|z|) | \n",
       "|---|---|---|---|---|---|---|\n",
       "| (Intercept) | -11.424072    | 0.5094496     | -22.424343    | 2.278319e-111 | \n",
       "| FaixaEtaria50-59 |   1.769270    | 0.3472644     |   5.094878    |  3.489660e-07 | \n",
       "| FaixaEtaria60-69 |   2.897297    | 0.3357193     |   8.630120    |  6.128762e-18 | \n",
       "| FaixaEtaria70-80 |   3.791517    | 0.3409320     |  11.121035    |  9.911530e-29 | \n",
       "| Cigarros1-9 |   1.408968    | 0.5566426     |   2.531190    |  1.136764e-02 | \n",
       "| Cigarros10-30 |   2.866185    | 0.4182040     |   6.853558    |  7.203538e-12 | \n",
       "| Cigarros30+ |   3.758070    | 0.4269112     |   8.802931    |  1.332887e-18 | \n",
       "\n",
       "\n"
      ],
      "text/plain": [
       "                 Estimate   Std. Error z value    Pr(>|z|)     \n",
       "(Intercept)      -11.424072 0.5094496  -22.424343 2.278319e-111\n",
       "FaixaEtaria50-59   1.769270 0.3472644    5.094878  3.489660e-07\n",
       "FaixaEtaria60-69   2.897297 0.3357193    8.630120  6.128762e-18\n",
       "FaixaEtaria70-80   3.791517 0.3409320   11.121035  9.911530e-29\n",
       "Cigarros1-9        1.408968 0.5566426    2.531190  1.136764e-02\n",
       "Cigarros10-30      2.866185 0.4182040    6.853558  7.203538e-12\n",
       "Cigarros30+        3.758070 0.4269112    8.802931  1.332887e-18"
      ]
     },
     "metadata": {},
     "output_type": "display_data"
    }
   ],
   "source": [
    "#Avaliação do modelo\n",
    "cat(\"Residuals deviance\")\n",
    "t(quantile(mod.sum$deviance.resid))\n",
    "cat(\"Coefficients\")\n",
    "mod.sum$coefficients"
   ]
  },
  {
   "cell_type": "markdown",
   "metadata": {},
   "source": [
    "**(Dispersion parameter for poisson family taken to be 1)**\n",
    "\n",
    "\n",
    "- **Null deviance:** 472.596  on 15  degrees of freedom\n",
    "- **Residual deviance:**  11.912  on  9  degrees of freedom\n",
    "- **AIC:** 77.391\n",
    "- **Number of Fisher Scoring iterations:** 5\n",
    "\n",
    "## Ajuste do modelo\n",
    "\n",
    "Analisando a saída da função `summary` vemos que o desvio residual é relativamente baixo e comparando-o com o desvio nulo vemos que há uma grande diferença entre eles, logo, pode-se inferir que a utilização de outras variáveis (tirando a `offset`) auxiliou na modelagem. Portanto, acreditamos que nosso modelo está bem ajustado.\n",
    "\n",
    "## Significância dos parâmetros\n",
    "\n",
    "Analisando o `p-value` calculado em cima do `z-value` verificamos que as suas probabilidades são bem pequenas, isso significa que a chance da hipótese nula ser aceita é muito pequena, ou seja, mesmo que utilizassemos um coeficiente de significância bem pequeno, ainda rejeitaríamos a hipótese nula. Como tal hipótese considera que os beta's são iguais a 0 e nós a rejeitamos, podemos concluir que nenhum dos coeficientes calculados devem ser desconsiderados, logo todos possuem uma alta significância no modelo.\n",
    "\n",
    "Podemos também usar a função deviance de Poisson para verificar o ajuste do modelo, segundo o sumário, o desvio residual foi de `D = 11.912`. Comparamos este desvio com uma chi-quadrado  `x²(n-p)` com `n = 16` sendo o número de observações e `n = 4` o número de variáveis, portanto `x²(16-4) = x²(12) = 21.026`. Neste caso, `D < x²(n-p)` que implica hipótese não rejeitada.\n",
    "\n",
    "## Equação estimada\n",
    "\n",
    "Dado a saída da função `summary`, verificamos que a equação proposta pelo modelo possui a seguinte forma\n",
    "\n",
    "`Y = 1.7693X1 + 2.8973X2 + 3.7915X3 + 1.4090X4 + 2.8662X5 + 3.7581X6 -11.4241`\n",
    "\n",
    "onde\n",
    "\n",
    "`Y` = variável resposta (número de óbitos) <br>\n",
    "`X1` = Faixa etária 50-59<br>\n",
    "`X2` = Faixa etária 60-69<br>\n",
    "`X3` = Faixa etária 70-80<br>\n",
    "`X4` = Cigarros 1-9<br>\n",
    "`X5` = Cigarros 10-30<br>\n",
    "`X6` = Cigarros 30+<br>\n",
    "\n",
    "\n",
    "## Interpretação dos parâmetros\n",
    "\n",
    "Os parâmetros selecionados para o modelo são \"transformações\" dos parâmetros originais, pois estes eram em sua maioria categóricos (tratando faixas de valor como uma categoria) e aqueles são variáveis binárias que indicam se uma categoria ocorreu ou não em determinada observação.\n",
    "\n",
    "Não obstante os atributos pareçam ser novos, a semântica continua a mesma e o modelo faz sentido. Ao analisarmos a probabilidade de um `z-value` ser mais relevante do que aquele dado pelo modelo percebe-se que idades mais elevadas e números maiores de cigarro por dia têm uma influência maior no óbito (por isso é improvável que os pesos sejam maiores).\n",
    "\n",
    "Importante observar que os óbitos no modelo são por câncer de pulmão e têm possivelmente alguma correlação com o consumo de cigarros.\n",
    "\n",
    "## Conclusão\n",
    "\n",
    "Pelas análises feitas anteriomente podemos concluir que quanto maior a idade e o número médio de cigarros, a pessoa tende a possuir uma maior\n",
    "probabilidade de ter câncer de pulmão. Tal fato é coerente com a realidade, pois quanto mais avançado a idade de uma pessoa, mais chances ela tem de ter doença, assim como quanto maior o número de cigarros, maiores os danos no pulmão."
   ]
  }
 ],
 "metadata": {
  "kernelspec": {
   "display_name": "R",
   "language": "R",
   "name": "ir"
  },
  "language_info": {
   "codemirror_mode": "r",
   "file_extension": ".r",
   "mimetype": "text/x-r-source",
   "name": "R",
   "pygments_lexer": "r",
   "version": "3.4.3"
  }
 },
 "nbformat": 4,
 "nbformat_minor": 2
}
