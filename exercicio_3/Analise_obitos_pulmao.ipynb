{
 "cells": [
  {
   "cell_type": "markdown",
   "metadata": {},
   "source": [
    "# Óbitos por câncer de pulmão\n",
    "\n",
    "Iremos analisar o número de mortes por câncer de pulmão em uma população composta por médicos britânicos, segundo sua faixa etária e o consumo médio diário de cigarros. \n",
    "\n",
    "Ao longo do documento realizaremos algumas análises e responderemos as seguintes questões:\n",
    "\n",
    "- Quais são as variáveis resposta e explicativas envolvidas no estudo.\n",
    "- Qual o modelo proposto.\n",
    "- Ajuste do modelo e estatísticas utilizadas para isso.\n",
    "- Descrição sobre a significância individual dos parâmetros. Estatísticas utilizadas para tais conclusões?\n",
    "- Equação estimada pelo modelo.\n",
    "- Interpretação dos parâmetros do modelo."
   ]
  },
  {
   "cell_type": "code",
   "execution_count": 1,
   "metadata": {},
   "outputs": [
    {
     "data": {
      "text/html": [
       "<table>\n",
       "<thead><tr><th scope=col>FaixaEtaria</th><th scope=col>Cigarros</th><th scope=col>obitos</th><th scope=col>pop</th></tr></thead>\n",
       "<tbody>\n",
       "\t<tr><td>40-49</td><td>0    </td><td>0    </td><td>33679</td></tr>\n",
       "\t<tr><td>50-59</td><td>0    </td><td>3    </td><td>21131</td></tr>\n",
       "\t<tr><td>60-69</td><td>0    </td><td>0    </td><td>10599</td></tr>\n",
       "\t<tr><td>70-80</td><td>0    </td><td>3    </td><td> 4495</td></tr>\n",
       "\t<tr><td>40-49</td><td>1-9  </td><td>0    </td><td> 6002</td></tr>\n",
       "\t<tr><td>50-59</td><td>1-9  </td><td>1    </td><td> 4396</td></tr>\n",
       "</tbody>\n",
       "</table>\n"
      ],
      "text/latex": [
       "\\begin{tabular}{r|llll}\n",
       " FaixaEtaria & Cigarros & obitos & pop\\\\\n",
       "\\hline\n",
       "\t 40-49 & 0     & 0     & 33679\\\\\n",
       "\t 50-59 & 0     & 3     & 21131\\\\\n",
       "\t 60-69 & 0     & 0     & 10599\\\\\n",
       "\t 70-80 & 0     & 3     &  4495\\\\\n",
       "\t 40-49 & 1-9   & 0     &  6002\\\\\n",
       "\t 50-59 & 1-9   & 1     &  4396\\\\\n",
       "\\end{tabular}\n"
      ],
      "text/markdown": [
       "\n",
       "FaixaEtaria | Cigarros | obitos | pop | \n",
       "|---|---|---|---|---|---|\n",
       "| 40-49 | 0     | 0     | 33679 | \n",
       "| 50-59 | 0     | 3     | 21131 | \n",
       "| 60-69 | 0     | 0     | 10599 | \n",
       "| 70-80 | 0     | 3     |  4495 | \n",
       "| 40-49 | 1-9   | 0     |  6002 | \n",
       "| 50-59 | 1-9   | 1     |  4396 | \n",
       "\n",
       "\n"
      ],
      "text/plain": [
       "  FaixaEtaria Cigarros obitos pop  \n",
       "1 40-49       0        0      33679\n",
       "2 50-59       0        3      21131\n",
       "3 60-69       0        0      10599\n",
       "4 70-80       0        3       4495\n",
       "5 40-49       1-9      0       6002\n",
       "6 50-59       1-9      1       4396"
      ]
     },
     "metadata": {},
     "output_type": "display_data"
    }
   ],
   "source": [
    "#Armazenando os dados\n",
    "obitos <- c(0,3,0,3,0,1,3,3,7,29,41,45,3,16,36,11)\n",
    "pop <- c(33679,21131,10599,4495,6002,4396,2813,1664,34414,25429,13271,4765,5881,6493,3466,769)\n",
    "tabela <- expand.grid(FaixaEtaria = c('40-49','50-59','60-69','70-80'),Cigarros = c('0','1-9','10-30','30+'))\n",
    "\n",
    "#Concatenando em uma tabela\n",
    "dados <- cbind(tabela,obitos,pop)\n",
    "\n",
    "#Mostrando parte dos dados\n",
    "head(dados)"
   ]
  },
  {
   "cell_type": "markdown",
   "metadata": {},
   "source": [
    "## Variável resposta e explicativas\n",
    "\n",
    "Note que o objetivo deste documento é analisar o número de óbitos, logo, essa será a nossa variável resposta, i.e, o que desejamos estimar. A faixa etaria, número de cigarros diário e população serão nossas variáveis explicativas.\n",
    "\n",
    "## Modelo estatístico\n",
    "\n",
    "Assim, a partir das variáveis explicativas tentaremos estimar os óbitos por meio de um modelo linear generalizado (mlg ou glm em inglês) que será definido da seguinte maneira:\n",
    "\n",
    "- Componente aleatório: Poisson \n",
    "- Função de ligação: Log\n",
    "\n",
    "A explicação da utilização desses componentes é que a distribuição Poisson é geralmente adequada quanto a variável resposta avalia as contagens e a função de ligação log é usada pois em geral ela possui bom desempenho e poder descritivo quando usado com a Poisson. Deve-se lembrar também que tal ligação é conhecida por ser canônica e possui características estatísticas interessantes na modelagem."
   ]
  },
  {
   "cell_type": "code",
   "execution_count": 2,
   "metadata": {},
   "outputs": [],
   "source": [
    "#Criação do modelo utilizando glm\n",
    "mod <- glm(obitos ~ offset(log(pop)) + FaixaEtaria + Cigarros, family = poisson,data=dados)"
   ]
  },
  {
   "cell_type": "code",
   "execution_count": 3,
   "metadata": {},
   "outputs": [
    {
     "data": {
      "text/plain": [
       "\n",
       "Call:\n",
       "glm(formula = obitos ~ offset(log(pop)) + FaixaEtaria + Cigarros, \n",
       "    family = poisson, data = dados)\n",
       "\n",
       "Deviance Residuals: \n",
       "     Min        1Q    Median        3Q       Max  \n",
       "-2.04919  -0.74414  -0.04008   0.47261   1.21623  \n",
       "\n",
       "Coefficients:\n",
       "                 Estimate Std. Error z value Pr(>|z|)    \n",
       "(Intercept)      -11.4241     0.5094 -22.424  < 2e-16 ***\n",
       "FaixaEtaria50-59   1.7693     0.3473   5.095 3.49e-07 ***\n",
       "FaixaEtaria60-69   2.8973     0.3357   8.630  < 2e-16 ***\n",
       "FaixaEtaria70-80   3.7915     0.3409  11.121  < 2e-16 ***\n",
       "Cigarros1-9        1.4090     0.5566   2.531   0.0114 *  \n",
       "Cigarros10-30      2.8662     0.4182   6.854 7.20e-12 ***\n",
       "Cigarros30+        3.7581     0.4269   8.803  < 2e-16 ***\n",
       "---\n",
       "Signif. codes:  0 ‘***’ 0.001 ‘**’ 0.01 ‘*’ 0.05 ‘.’ 0.1 ‘ ’ 1\n",
       "\n",
       "(Dispersion parameter for poisson family taken to be 1)\n",
       "\n",
       "    Null deviance: 472.596  on 15  degrees of freedom\n",
       "Residual deviance:  11.912  on  9  degrees of freedom\n",
       "AIC: 77.391\n",
       "\n",
       "Number of Fisher Scoring iterations: 5\n"
      ]
     },
     "metadata": {},
     "output_type": "display_data"
    }
   ],
   "source": [
    "#Avaliação do modelo\n",
    "summary(mod)"
   ]
  },
  {
   "cell_type": "markdown",
   "metadata": {},
   "source": [
    "## Ajuste do modelo\n",
    "\n",
    "Analisando a saída da função summary vemos que o desvio residual é relativamente baixo e comparando-o com o desvio nulo vemos que há uma grande diferença entre eles, logo, pode-se inferir que a utilização de outras variáveis (tirando a offset) auxiliou no modelagem. Portanto, acreditamos que nosso modelo está bem ajustado.\n",
    "\n",
    "## Significância dos parâmetros\n",
    "\n",
    "Analisando o p-value calculado em cima do z-value verificamos que as suas probabilidades são bem pequenas, isso signigica que a chance da hipótese nula ser aceita é muito pequena, ou seja, mesmo que utilizassemos um coeficiente de significância bem pequeno, ainda rejeitaríamos a hipótese nula. Como tal hipótese considera que os beta's são iguais a 0 e nós a rejeitamos, podemos concluir que nenhum dos coeficientes calculados devem ser desconsiderados, logo todos possuem uma alta significância no modelo.\n",
    "\n",
    "## Equação estimada\n",
    "\n",
    "Dado a saída da função summary, verificamos que a equação proposta pelo modelo possui a seguinte forma\n",
    "\n",
    "Y = 1.7693X1 + 2.8973X2 + 3.7915X3 + 1.4090X4 + 2.8662X5 + 3.7581X6 -11.4241\n",
    "\n",
    "onde\n",
    "\n",
    "Y = variável resposta (número de óbitos) <br>\n",
    "X1 = Faixa etária 50-59<br>\n",
    "X2 = Faixa etária 60-69<br>\n",
    "X3 = Faixa etária 70-80<br>\n",
    "X4 = Cigarros 1-9<br>\n",
    "X5 = Cigarros 10-30<br>\n",
    "X6 = Cigarros 30+<br>\n",
    "\n",
    "\n",
    "## Interpretação dos parâmetros"
   ]
  }
 ],
 "metadata": {
  "kernelspec": {
   "display_name": "R",
   "language": "R",
   "name": "ir"
  },
  "language_info": {
   "codemirror_mode": "r",
   "file_extension": ".r",
   "mimetype": "text/x-r-source",
   "name": "R",
   "pygments_lexer": "r",
   "version": "3.4.3"
  }
 },
 "nbformat": 4,
 "nbformat_minor": 2
}
