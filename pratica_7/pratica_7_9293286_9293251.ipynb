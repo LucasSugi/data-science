{
 "cells": [
  {
   "cell_type": "markdown",
   "metadata": {},
   "source": [
    "# Prática 7: Experimentos - Parte VII\n",
    "\n",
    "### Kelvin Guilherme de Oliveira - 9293286\n",
    "### Lucas Yudi Sugi - 9293251"
   ]
  },
  {
   "cell_type": "markdown",
   "metadata": {},
   "source": [
    "O trabalho desenvolvido nessa atividade prática tem como objetivo realizar uma avaliação do algoritmo de classificação por meio de métricas extraídas da matriz de confusão, curva ROC e teste de hipóteses.\n",
    "\n",
    "Iremos continuar o trabalho desenvolvido na prática 6, na qual foi utilizado o dataset Breast Cancer.\n",
    "\n",
    "## Dataset: Breast Cancer"
   ]
  },
  {
   "cell_type": "code",
   "execution_count": 1,
   "metadata": {},
   "outputs": [],
   "source": [
    "import pandas as pd\n",
    "import matplotlib.pyplot as plt\n",
    "import numpy as np\n",
    "import seaborn as sns\n",
    "import warnings\n",
    "warnings.filterwarnings(\"ignore\")\n",
    "%matplotlib inline"
   ]
  },
  {
   "cell_type": "code",
   "execution_count": 2,
   "metadata": {},
   "outputs": [
    {
     "data": {
      "text/html": [
       "<div>\n",
       "<style scoped>\n",
       "    .dataframe tbody tr th:only-of-type {\n",
       "        vertical-align: middle;\n",
       "    }\n",
       "\n",
       "    .dataframe tbody tr th {\n",
       "        vertical-align: top;\n",
       "    }\n",
       "\n",
       "    .dataframe thead th {\n",
       "        text-align: right;\n",
       "    }\n",
       "</style>\n",
       "<table border=\"1\" class=\"dataframe\">\n",
       "  <thead>\n",
       "    <tr style=\"text-align: right;\">\n",
       "      <th></th>\n",
       "      <th>area</th>\n",
       "      <th>smoothness</th>\n",
       "      <th>texture</th>\n",
       "      <th>class</th>\n",
       "    </tr>\n",
       "  </thead>\n",
       "  <tbody>\n",
       "    <tr>\n",
       "      <th>0</th>\n",
       "      <td>1001.0</td>\n",
       "      <td>0.9053</td>\n",
       "      <td>0.006399</td>\n",
       "      <td>M</td>\n",
       "    </tr>\n",
       "    <tr>\n",
       "      <th>1</th>\n",
       "      <td>1326.0</td>\n",
       "      <td>0.7339</td>\n",
       "      <td>0.005225</td>\n",
       "      <td>M</td>\n",
       "    </tr>\n",
       "    <tr>\n",
       "      <th>2</th>\n",
       "      <td>1203.0</td>\n",
       "      <td>0.7869</td>\n",
       "      <td>0.006150</td>\n",
       "      <td>M</td>\n",
       "    </tr>\n",
       "    <tr>\n",
       "      <th>3</th>\n",
       "      <td>386.1</td>\n",
       "      <td>1.1560</td>\n",
       "      <td>0.009110</td>\n",
       "      <td>M</td>\n",
       "    </tr>\n",
       "    <tr>\n",
       "      <th>4</th>\n",
       "      <td>1297.0</td>\n",
       "      <td>0.7813</td>\n",
       "      <td>0.011490</td>\n",
       "      <td>M</td>\n",
       "    </tr>\n",
       "  </tbody>\n",
       "</table>\n",
       "</div>"
      ],
      "text/plain": [
       "     area  smoothness   texture class\n",
       "0  1001.0      0.9053  0.006399     M\n",
       "1  1326.0      0.7339  0.005225     M\n",
       "2  1203.0      0.7869  0.006150     M\n",
       "3   386.1      1.1560  0.009110     M\n",
       "4  1297.0      0.7813  0.011490     M"
      ]
     },
     "execution_count": 2,
     "metadata": {},
     "output_type": "execute_result"
    }
   ],
   "source": [
    "#Leitura do dataset com o pandas\n",
    "dataset = pd.read_csv('./breast_cancer/wdbc.data',sep=',',header=None,encoding='latin1')\n",
    "\n",
    "#Extração dos atributos necesssários\n",
    "breast_cancer = dataset.iloc[:,[5,13,16,1]]\n",
    "\n",
    "#Renomeando as colunas\n",
    "breast_cancer.columns = ['area','smoothness','texture','class']\n",
    "\n",
    "#Mostrando os dados\n",
    "breast_cancer.head()"
   ]
  },
  {
   "cell_type": "markdown",
   "metadata": {},
   "source": [
    "### 1 - Métrica de avaliação"
   ]
  },
  {
   "cell_type": "code",
   "execution_count": 3,
   "metadata": {},
   "outputs": [],
   "source": [
    "from sklearn.tree import DecisionTreeClassifier\n",
    "from sklearn.model_selection import KFold\n",
    "import warnings\n",
    "warnings.filterwarnings('ignore')\n",
    "\n",
    "def classificacao(data, columns, target,folds=5):\n",
    "    import numpy as np\n",
    "    # inicializa os modelos com os parâmetros solicitados\n",
    "    dt = DecisionTreeClassifier(criterion='gini', splitter='best', min_samples_split=int(len(data)*0.1))\n",
    "    \n",
    "    # prepara validação cruzada\n",
    "    cv = KFold(n_splits=folds, shuffle=True)\n",
    "    \n",
    "    for train_index, test_index in cv.split(data):\n",
    "        # separa conjunto de treino e de teste\n",
    "        x_train, y_train = data.iloc[train_index, columns], data.iloc[train_index, target]\n",
    "        x_test, y_test = data.iloc[test_index, columns], data.iloc[test_index, target]\n",
    "            \n",
    "        # faz o treino do modelo\n",
    "        clf = dt.fit(X=x_train, y=y_train)\n",
    "            \n",
    "        # valores predito pelo classificador\n",
    "        y_pred = clf.predict(x_test)\n",
    "        # rótulos verdadeiros convertidos para array\n",
    "        y_test = np.array(y_test)\n",
    "        \n",
    "    #retorna os ultimos valores\n",
    "    return y_pred,y_test"
   ]
  },
  {
   "cell_type": "code",
   "execution_count": 4,
   "metadata": {},
   "outputs": [],
   "source": [
    "#Classificando novamente para retornar os valores preditos e verdadeiros\n",
    "y_pred, y_test = classificacao(breast_cancer,[0,1,2], 3,folds=10)"
   ]
  },
  {
   "cell_type": "code",
   "execution_count": 5,
   "metadata": {},
   "outputs": [
    {
     "name": "stdout",
     "output_type": "stream",
     "text": [
      "Acurácia:  0.8392857142857143\n",
      "Especificidade:  0.8888888888888888\n",
      "Revocação/Sensibilidade:  0.75\n",
      "Precisão:  0.7894736842105263\n",
      "Medida-F1: 0.7692307692307694\n"
     ]
    }
   ],
   "source": [
    "from sklearn.metrics import confusion_matrix\n",
    "\n",
    "#Criando a matriz de confusão\n",
    "tn, fp, fn, tp = confusion_matrix(y_test, y_pred).ravel()\n",
    "\n",
    "#Calculos e print's\n",
    "rev = tp/(tp+fn)\n",
    "prec = tp/(tp+fp)\n",
    "print('Acurácia: ',(tn+tp)/(tn+fp+fn+tp))\n",
    "print('Especificidade: ',tn/(tn+fp))\n",
    "print('Revocação/Sensibilidade: ',rev)\n",
    "print('Precisão: ',prec)\n",
    "print('Medida-F1:',2/((1/prec) + (1/rev)))"
   ]
  },
  {
   "cell_type": "markdown",
   "metadata": {},
   "source": [
    "TEXTO"
   ]
  },
  {
   "cell_type": "markdown",
   "metadata": {},
   "source": [
    "### 2 - Curva ROC e AUC"
   ]
  },
  {
   "cell_type": "code",
   "execution_count": 6,
   "metadata": {},
   "outputs": [],
   "source": [
    "from sklearn.tree import DecisionTreeClassifier\n",
    "from sklearn.neighbors import KNeighborsClassifier\n",
    "from sklearn.model_selection import train_test_split\n",
    "import warnings\n",
    "warnings.filterwarnings('ignore')\n",
    "\n",
    "def classificacao(data, columns, target,folds=5, model='dt'):\n",
    "\n",
    "    import numpy as np\n",
    "    # inicializa os modelos com os parâmetros solicitados\n",
    "    if(model == 'dt'):\n",
    "        c = DecisionTreeClassifier(criterion='gini', splitter='best', min_samples_split=int(len(data)*0.1))\n",
    "    else:\n",
    "        c = KNeighborsClassifier(n_neighbors=3, weights='uniform', algorithm='auto')\n",
    "    \n",
    "    #Split em treino (80%) em teste (20%)\n",
    "    x_train, x_test, y_train, y_test = train_test_split(data.iloc[:,columns],data.iloc[:,target],test_size=0.2)\n",
    "    \n",
    "    # faz o treino do modelo\n",
    "    clf = c.fit(X=x_train, y=y_train)\n",
    "            \n",
    "    # valores predito pelo classificador\n",
    "    y_prob = clf.predict_proba(x_test)\n",
    "    # rótulos verdadeiros convertidos para array\n",
    "    y_test = np.array(y_test)\n",
    "    \n",
    "    return y_prob,y_test"
   ]
  },
  {
   "cell_type": "code",
   "execution_count": 7,
   "metadata": {},
   "outputs": [],
   "source": [
    "#Probabilidades da previsao e valor esperado\n",
    "y_prob_dt, y_test_dt = classificacao(breast_cancer,[0,1,2], 3,folds=10)\n",
    "y_prob_3nn, y_test_3nn = classificacao(breast_cancer,[0,1,2], 3,folds=10,model='3nn')"
   ]
  },
  {
   "cell_type": "code",
   "execution_count": 8,
   "metadata": {},
   "outputs": [],
   "source": [
    "#Binarizando\n",
    "def to_bin(x):\n",
    "    if(x == 'M'):\n",
    "        return 1\n",
    "    else:\n",
    "        return 0\n",
    "\n",
    "y_test_dt = list(map(to_bin,y_test_dt))\n",
    "y_test_3nn = list(map(to_bin,y_test_3nn))"
   ]
  },
  {
   "cell_type": "code",
   "execution_count": 9,
   "metadata": {},
   "outputs": [
    {
     "data": {
      "image/png": "[encoded data removed]",
      "text/plain": [
       "<matplotlib.figure.Figure at 0x7f6d07fbd128>"
      ]
     },
     "metadata": {},
     "output_type": "display_data"
    }
   ],
   "source": [
    "from sklearn.metrics import roc_curve\n",
    "\n",
    "#Curva ROC\n",
    "plt.subplots_adjust(wspace=0.5)\n",
    "plt.suptitle('ROC')\n",
    "\n",
    "#ROC - DT\n",
    "fpr, tpr, thresholds = roc_curve(y_test_dt,y_prob_dt[:,1])\n",
    "ax = plt.subplot(121)\n",
    "ax.set_title('DT')\n",
    "ax.set_xlabel('fpr')\n",
    "ax.set_ylabel('tpr')\n",
    "plt.plot(fpr,tpr)\n",
    "\n",
    "#ROC - 3NN\n",
    "fpr, tpr, thresholds = roc_curve(y_test_3nn,y_prob_3nn[:,1])\n",
    "ax = plt.subplot(122)\n",
    "ax.set_title('3NN')\n",
    "ax.set_xlabel('fpr')\n",
    "ax.set_ylabel('tpr')\n",
    "plt.plot(fpr,tpr)\n",
    "plt.show()"
   ]
  },
  {
   "cell_type": "code",
   "execution_count": 10,
   "metadata": {},
   "outputs": [
    {
     "name": "stdout",
     "output_type": "stream",
     "text": [
      "AUC DT:  0.9380067567567567\n",
      "AUC 3NN: 0.9211148648648649\n"
     ]
    }
   ],
   "source": [
    "from sklearn.metrics import roc_auc_score\n",
    "\n",
    "#Medida AUC\n",
    "print('AUC DT: ',roc_auc_score(y_test_dt,y_prob_dt[:,1]))\n",
    "print('AUC 3NN:',roc_auc_score(y_test_3nn,y_prob_3nn[:,1]))"
   ]
  },
  {
   "cell_type": "markdown",
   "metadata": {},
   "source": [
    "### 3 - Desempenho dos classificadores"
   ]
  },
  {
   "cell_type": "code",
   "execution_count": 11,
   "metadata": {},
   "outputs": [],
   "source": [
    "from sklearn.tree import DecisionTreeClassifier\n",
    "from sklearn.neighbors import KNeighborsClassifier\n",
    "from sklearn.model_selection import train_test_split\n",
    "import warnings\n",
    "warnings.filterwarnings('ignore')\n",
    "\n",
    "def classificacao(data, columns, target,score,folds=5, model='dt'):\n",
    "\n",
    "    import numpy as np\n",
    "    # inicializa os modelos com os parâmetros solicitados\n",
    "    if(model == 'dt'):\n",
    "        c = DecisionTreeClassifier(criterion='gini', splitter='best', min_samples_split=int(len(data)*0.1))\n",
    "    else:\n",
    "        c = KNeighborsClassifier(n_neighbors=3, weights='uniform', algorithm='auto')\n",
    "    \n",
    "    # prepara validação cruzada\n",
    "    cv = KFold(n_splits=folds, shuffle=True)\n",
    "    \n",
    "    results = []\n",
    "    for train_index, test_index in cv.split(data):\n",
    "        # separa conjunto de treino e de teste\n",
    "        x_train, y_train = data.iloc[train_index, columns], data.iloc[train_index, target]\n",
    "        x_test, y_test = data.iloc[test_index, columns], data.iloc[test_index, target]\n",
    "            \n",
    "        # faz o treino do modelo\n",
    "        clf = c.fit(X=x_train, y=y_train)\n",
    "            \n",
    "        # valores predito pelo classificador\n",
    "        y_pred = clf.predict(x_test)\n",
    "        # rótulos verdadeiros convertidos para array\n",
    "        y_test = np.array(y_test)\n",
    "        \n",
    "        # realiza predição no conjunto de teste e salva o resultado\n",
    "        results.append( score(y_test, y_pred) )\n",
    "        \n",
    "    return results"
   ]
  },
  {
   "cell_type": "code",
   "execution_count": 12,
   "metadata": {},
   "outputs": [],
   "source": [
    "#Definindo função que penaliza a taxa de falso positivo\n",
    "def pen_falso_positivo(y_true, y_pred):\n",
    "    count = 0\n",
    "    for i,j in enumerate(y_pred):\n",
    "        if y_true[i] == 'B' and j == 'M':\n",
    "            count += 2\n",
    "        elif y_true[i] == 'M' and j == 'B':\n",
    "            count += 1\n",
    "    return count/len(y_true)"
   ]
  },
  {
   "cell_type": "code",
   "execution_count": 13,
   "metadata": {},
   "outputs": [
    {
     "name": "stdout",
     "output_type": "stream",
     "text": [
      "Ttest_indResult(statistic=-1.3717275217004035, pvalue=0.18700543442335377)\n"
     ]
    }
   ],
   "source": [
    "from scipy import stats\n",
    "from scipy.stats import ttest_ind\n",
    "np.random.seed(12345678)\n",
    "\n",
    "# 10-fold Cross Validation\n",
    "clf_custom_cross_validation_dt = classificacao(breast_cancer,[0,1,2], 3, pen_falso_positivo,folds=10)\n",
    "clf_custom_cross_validation_3nn = classificacao(breast_cancer,[0,1,2], 3, pen_falso_positivo,folds=10,model='3nn')\n",
    "print(ttest_ind(clf_custom_cross_validation_dt,clf_custom_cross_validation_3nn))"
   ]
  }
 ],
 "metadata": {
  "kernelspec": {
   "display_name": "Python 3",
   "language": "python",
   "name": "python3"
  },
  "language_info": {
   "codemirror_mode": {
    "name": "ipython",
    "version": 3
   },
   "file_extension": ".py",
   "mimetype": "text/x-python",
   "name": "python",
   "nbconvert_exporter": "python",
   "pygments_lexer": "ipython3",
   "version": "3.6.4"
  }
 },
 "nbformat": 4,
 "nbformat_minor": 2
}
