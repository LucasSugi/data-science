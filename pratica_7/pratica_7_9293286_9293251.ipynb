{
 "cells": [
  {
   "cell_type": "markdown",
   "metadata": {},
   "source": [
    "# Prática 7: Experimentos - Parte VII\n",
    "\n",
    "### Kelvin Guilherme de Oliveira - 9293286\n",
    "### Lucas Yudi Sugi - 9293251"
   ]
  },
  {
   "cell_type": "markdown",
   "metadata": {},
   "source": [
    "O trabalho desenvolvido nessa atividade prática tem como objetivo realizar uma avaliação do algoritmo de classificação por meio de métricas extraídas da matriz de confusão, da curva ROC e do teste de hipóteses.\n",
    "\n",
    "Iremos continuar o trabalho desenvolvido na prática 6, na qual foi utilizado o dataset Breast Cancer.\n",
    "\n",
    "## Dataset: Breast Cancer"
   ]
  },
  {
   "cell_type": "code",
   "execution_count": 1,
   "metadata": {},
   "outputs": [],
   "source": [
    "import pandas as pd\n",
    "import matplotlib.pyplot as plt\n",
    "import numpy as np\n",
    "import seaborn as sns\n",
    "import warnings\n",
    "warnings.filterwarnings(\"ignore\")\n",
    "%matplotlib inline"
   ]
  },
  {
   "cell_type": "code",
   "execution_count": 2,
   "metadata": {},
   "outputs": [
    {
     "data": {
      "text/html": [
       "<div>\n",
       "<style scoped>\n",
       "    .dataframe tbody tr th:only-of-type {\n",
       "        vertical-align: middle;\n",
       "    }\n",
       "\n",
       "    .dataframe tbody tr th {\n",
       "        vertical-align: top;\n",
       "    }\n",
       "\n",
       "    .dataframe thead th {\n",
       "        text-align: right;\n",
       "    }\n",
       "</style>\n",
       "<table border=\"1\" class=\"dataframe\">\n",
       "  <thead>\n",
       "    <tr style=\"text-align: right;\">\n",
       "      <th></th>\n",
       "      <th>area</th>\n",
       "      <th>smoothness</th>\n",
       "      <th>texture</th>\n",
       "      <th>class</th>\n",
       "    </tr>\n",
       "  </thead>\n",
       "  <tbody>\n",
       "    <tr>\n",
       "      <th>0</th>\n",
       "      <td>1001.0</td>\n",
       "      <td>0.9053</td>\n",
       "      <td>0.006399</td>\n",
       "      <td>M</td>\n",
       "    </tr>\n",
       "    <tr>\n",
       "      <th>1</th>\n",
       "      <td>1326.0</td>\n",
       "      <td>0.7339</td>\n",
       "      <td>0.005225</td>\n",
       "      <td>M</td>\n",
       "    </tr>\n",
       "    <tr>\n",
       "      <th>2</th>\n",
       "      <td>1203.0</td>\n",
       "      <td>0.7869</td>\n",
       "      <td>0.006150</td>\n",
       "      <td>M</td>\n",
       "    </tr>\n",
       "    <tr>\n",
       "      <th>3</th>\n",
       "      <td>386.1</td>\n",
       "      <td>1.1560</td>\n",
       "      <td>0.009110</td>\n",
       "      <td>M</td>\n",
       "    </tr>\n",
       "    <tr>\n",
       "      <th>4</th>\n",
       "      <td>1297.0</td>\n",
       "      <td>0.7813</td>\n",
       "      <td>0.011490</td>\n",
       "      <td>M</td>\n",
       "    </tr>\n",
       "  </tbody>\n",
       "</table>\n",
       "</div>"
      ],
      "text/plain": [
       "     area  smoothness   texture class\n",
       "0  1001.0      0.9053  0.006399     M\n",
       "1  1326.0      0.7339  0.005225     M\n",
       "2  1203.0      0.7869  0.006150     M\n",
       "3   386.1      1.1560  0.009110     M\n",
       "4  1297.0      0.7813  0.011490     M"
      ]
     },
     "execution_count": 2,
     "metadata": {},
     "output_type": "execute_result"
    }
   ],
   "source": [
    "#Leitura do dataset com o pandas\n",
    "dataset = pd.read_csv('./breast_cancer/wdbc.data',sep=',',header=None,encoding='latin1')\n",
    "\n",
    "#Extração dos atributos necesssários\n",
    "breast_cancer = dataset.iloc[:,[5,13,16,1]]\n",
    "\n",
    "#Renomeando as colunas\n",
    "breast_cancer.columns = ['area','smoothness','texture','class']\n",
    "\n",
    "#Mostrando os dados\n",
    "breast_cancer.head()"
   ]
  },
  {
   "cell_type": "markdown",
   "metadata": {},
   "source": [
    "### 1 - Métricas de Avaliação"
   ]
  },
  {
   "cell_type": "code",
   "execution_count": 3,
   "metadata": {},
   "outputs": [],
   "source": [
    "from sklearn.svm import SVC\n",
    "from sklearn.tree import DecisionTreeClassifier\n",
    "from sklearn.neighbors import KNeighborsClassifier\n",
    "from sklearn.linear_model import Perceptron\n",
    "from sklearn.model_selection import KFold\n",
    "\n",
    "def classificacao(data, columns, target, folds=5):\n",
    "    # inicializa os modelos com os parâmetros solicitados\n",
    "    prcp = Perceptron()\n",
    "    svm_n = SVC(C=10*len(data), kernel='poly', degree=3, gamma=1, coef0=1, cache_size=500, max_iter=1e6)\n",
    "    dt = DecisionTreeClassifier(criterion='gini', splitter='best', min_samples_split=int(len(data)*0.1))\n",
    "    _3nn = KNeighborsClassifier(n_neighbors=3, weights='uniform', algorithm='auto')\n",
    "    _5nn = KNeighborsClassifier(n_neighbors=5, weights='uniform', algorithm='auto')\n",
    "    _7nn = KNeighborsClassifier(n_neighbors=7, weights='uniform', algorithm='auto')\n",
    "    \n",
    "    clfs = [prcp, svm_n, dt, _3nn, _5nn, _7nn]\n",
    "    clfs_names = ['perceptron', 'svm_poly', 'dt', '3nn', '5nn', '7nn']\n",
    "    \n",
    "    # prepara validação cruzada\n",
    "    cv = KFold(n_splits=folds, shuffle=True)\n",
    "    \n",
    "    # itera para cada classificador fazendo treino e teste\n",
    "    results_test = {'perceptron':[], 'svm_poly':[], 'dt':[], '3nn':[], '5nn':[], '7nn':[]}\n",
    "    results_pred = {'perceptron':[], 'svm_poly':[], 'dt':[], '3nn':[], '5nn':[], '7nn':[]}\n",
    "    for c, c_name in zip(clfs, clfs_names):\n",
    "        for train_index, test_index in cv.split(data):\n",
    "            \n",
    "            # separa conjunto de treino e de teste\n",
    "            x_train, y_train = data.iloc[train_index, columns], data.iloc[train_index, target]\n",
    "            x_test, y_test = data.iloc[test_index, columns], data.iloc[test_index, target]\n",
    "            \n",
    "            # faz o treino do modelo\n",
    "            clf = c.fit(X=x_train, y=y_train)\n",
    "            \n",
    "            # valores predito pelo classificador\n",
    "            y_pred = clf.predict(x_test)\n",
    "            # rótulos verdadeiros convertidos para array\n",
    "            y_test = np.array(y_test)\n",
    "            \n",
    "            # realiza predição no conjunto de teste e salva o resultado\n",
    "            results_test[c_name] = np.append(y_test,results_test[c_name])\n",
    "            results_pred[c_name] = np.append(y_pred,results_pred[c_name])\n",
    "\n",
    "    return results_test, results_pred"
   ]
  },
  {
   "cell_type": "code",
   "execution_count": 4,
   "metadata": {},
   "outputs": [],
   "source": [
    "#Classificando novamente para retornar os valores preditos e verdadeiros\n",
    "results_test,results_pred = classificacao(breast_cancer,[0,1,2], 3,folds=10)"
   ]
  },
  {
   "cell_type": "code",
   "execution_count": 5,
   "metadata": {},
   "outputs": [
    {
     "name": "stdout",
     "output_type": "stream",
     "text": [
      "perceptron\n",
      "Acurácia:  0.546572934973638\n",
      "Especificidade:  0.6162464985994398\n",
      "Revocação/Sensibilidade:  0.42924528301886794\n",
      "Precisão:  0.3991228070175439\n",
      "Medida-F1: 0.41363636363636364 \n",
      "\n",
      "svm_poly\n",
      "Acurácia:  0.5114235500878734\n",
      "Especificidade:  0.4649859943977591\n",
      "Revocação/Sensibilidade:  0.589622641509434\n",
      "Precisão:  0.39556962025316456\n",
      "Medida-F1: 0.47348484848484845 \n",
      "\n",
      "dt\n",
      "Acurácia:  0.8804920913884007\n",
      "Especificidade:  0.9355742296918768\n",
      "Revocação/Sensibilidade:  0.7877358490566038\n",
      "Precisão:  0.8789473684210526\n",
      "Medida-F1: 0.8308457711442786 \n",
      "\n",
      "3nn\n",
      "Acurácia:  0.8611599297012302\n",
      "Especificidade:  0.9047619047619048\n",
      "Revocação/Sensibilidade:  0.7877358490566038\n",
      "Precisão:  0.8308457711442786\n",
      "Medida-F1: 0.8087167070217917 \n",
      "\n",
      "5nn\n",
      "Acurácia:  0.8769771528998243\n",
      "Especificidade:  0.938375350140056\n",
      "Revocação/Sensibilidade:  0.7735849056603774\n",
      "Precisão:  0.8817204301075269\n",
      "Medida-F1: 0.8241206030150754 \n",
      "\n",
      "7nn\n",
      "Acurácia:  0.8875219683655536\n",
      "Especificidade:  0.957983193277311\n",
      "Revocação/Sensibilidade:  0.7688679245283019\n",
      "Precisão:  0.9157303370786517\n",
      "Medida-F1: 0.8358974358974359 \n",
      "\n"
     ]
    }
   ],
   "source": [
    "from sklearn.metrics import confusion_matrix\n",
    "\n",
    "#Nomes dos algoritmos\n",
    "clfs_names = ['perceptron', 'svm_poly', 'dt', '3nn', '5nn', '7nn']\n",
    "\n",
    "#Matriz de confusao para cada algoritmo\n",
    "for c_name in clfs_names:\n",
    "    #Medidas\n",
    "    tn, fp, fn, tp = confusion_matrix(results_test[c_name], results_pred[c_name]).ravel()\n",
    "    \n",
    "    #Métricas\n",
    "    rev = tp/(tp+fn)\n",
    "    prec = tp/(tp+fp)\n",
    "    print(c_name)\n",
    "    print('Acurácia: ',(tn+tp)/(tn+fp+fn+tp))\n",
    "    print('Especificidade: ',tn/(tn+fp))\n",
    "    print('Revocação/Sensibilidade: ',rev)\n",
    "    print('Precisão: ',prec)\n",
    "    print('Medida-F1:',2/((1/prec) + (1/rev)),'\\n')"
   ]
  },
  {
   "cell_type": "markdown",
   "metadata": {},
   "source": [
    "As medidas calculadas a partir da matriz de confusão são interessantes para avaliar o desempenho dos algoritmos de Aprendizado de Máquina. Com as medidas, podemos entender qual dos algoritmos é o mais adequado ao nosso objetivo, contudo, tais medidas precisam ser avaliadas com muito cuidado, pois um dataset mal tratado (sem limpeza, sem transformações e com desbalanceamento) podem levar a conclusões erradas. Por exemplo, caso haja  muitos valores da classe negativo, então a revocação e especificidade será afetada, e, da mesma forma, muitos valores positivos afetaríam a precisão.\n",
    "\n",
    "Em nosso dataset, não houveram problemas nas medidas. Aparentemente todas elas refletem bem o algoritmo aplicado ao dataset, como pode ser verificado pelos resultados apresentados acima. Além disso, é interessante notar que o 'perceptron' e o 'svm' possuem um desempenho baixo, e os outros classificadores são bem parecidos. Esse mesmo fato já foi observado na prática anterior."
   ]
  },
  {
   "cell_type": "markdown",
   "metadata": {},
   "source": [
    "### 2 - Curva ROC e AUC"
   ]
  },
  {
   "cell_type": "markdown",
   "metadata": {},
   "source": [
    "Para verificar a curva ROC e fazer o cálculo da AUC, escolhemos utilizar os algoritmos classificadores 'dt' e '3nn', apenas por observar que eles possuem um desempenho melhor sobre o conjunto de dados. Para tal, definimos uma nova função 'classificacao', que pode ser observada abaixo."
   ]
  },
  {
   "cell_type": "code",
   "execution_count": 6,
   "metadata": {},
   "outputs": [],
   "source": [
    "from sklearn.model_selection import train_test_split\n",
    "\n",
    "def classificacao(data, columns, target):\n",
    "    # inicializa os modelos com os parâmetros solicitados\n",
    "    dt = DecisionTreeClassifier(criterion='gini', splitter='best', min_samples_split=int(len(data)*0.1))\n",
    "    _3nn = KNeighborsClassifier(n_neighbors=3, weights='uniform', algorithm='auto')\n",
    "    \n",
    "    #Classificadores\n",
    "    clfs = [dt,_3nn]\n",
    "    clfs_names = ['dt','3nn']\n",
    "    \n",
    "    #Resultado\n",
    "    results = {'dt':(),'3nn':()}\n",
    "    \n",
    "    for c,c_name in zip(clfs,clfs_names):\n",
    "        #Split em treino (80%) em teste (20%)\n",
    "        x_train, x_test, y_train, y_test = train_test_split(data.iloc[:,columns],data.iloc[:,target],test_size=0.2)\n",
    "\n",
    "        # faz o treino do modelo\n",
    "        clf = c.fit(X=x_train, y=y_train)\n",
    "\n",
    "        # valores predito pelo classificador\n",
    "        y_prob = clf.predict_proba(x_test)\n",
    "        # rótulos verdadeiros convertidos para array\n",
    "        y_test = np.array(y_test)\n",
    "        \n",
    "        #Concatenando valores\n",
    "        results[c_name] = (y_prob,y_test)\n",
    "    \n",
    "    return results"
   ]
  },
  {
   "cell_type": "code",
   "execution_count": 7,
   "metadata": {
    "scrolled": true
   },
   "outputs": [],
   "source": [
    "#Probabilidades da previsao e valor esperado\n",
    "results = classificacao(breast_cancer,[0,1,2], 3)\n",
    "\n",
    "#Armazenando em novas variáveis\n",
    "y_prob_3nn = results['3nn'][0]\n",
    "y_test_3nn = results['3nn'][1]\n",
    "\n",
    "y_prob_dt = results['dt'][0]\n",
    "y_test_dt = results['dt'][1]"
   ]
  },
  {
   "cell_type": "markdown",
   "metadata": {},
   "source": [
    "Após a execução dos algoritmos, com os resultados em mãos pudemos então calcular a curva ROC e a AUC para os dois classificadores executados. Por conta de limitações das funções utilizadas, precisamos binarizar a classe do nosso dataset, o que foi feito abaixo."
   ]
  },
  {
   "cell_type": "code",
   "execution_count": 8,
   "metadata": {},
   "outputs": [],
   "source": [
    "#Binarizando\n",
    "def to_bin(x):\n",
    "    if(x == 'M'):\n",
    "        return 1\n",
    "    else:\n",
    "        return 0\n",
    "    \n",
    "y_test_dt = list(map(to_bin,y_test_dt))\n",
    "y_test_3nn = list(map(to_bin,y_test_3nn))"
   ]
  },
  {
   "cell_type": "markdown",
   "metadata": {},
   "source": [
    "#### Plotando a Curva ROC"
   ]
  },
  {
   "cell_type": "code",
   "execution_count": 9,
   "metadata": {},
   "outputs": [
    {
     "data": {
      "text/plain": [
       "<matplotlib.figure.Figure at 0x7fc70967fba8>"
      ]
     },
     "metadata": {},
     "output_type": "display_data"
    },
    {
     "data": {
      "image/png": "[encoded data removed]",
      "text/plain": [
       "<matplotlib.figure.Figure at 0x7fc7154ebcf8>"
      ]
     },
     "metadata": {},
     "output_type": "display_data"
    }
   ],
   "source": [
    "from sklearn.metrics import roc_curve\n",
    "\n",
    "#Curva ROC\n",
    "plt.subplots_adjust(wspace=0.5)\n",
    "plt.suptitle('ROC')\n",
    "plt.figure(figsize=(10,5))\n",
    "\n",
    "#ROC - DT\n",
    "fpr, tpr, thresholds = roc_curve(y_test_dt,y_prob_dt[:,1])\n",
    "ax = plt.subplot(121)\n",
    "ax.set_title('DT')\n",
    "ax.set_xlabel('fpr')\n",
    "ax.set_ylabel('tpr')\n",
    "plt.plot(fpr,tpr)\n",
    "\n",
    "#ROC - 3NN\n",
    "fpr, tpr, thresholds = roc_curve(y_test_3nn,y_prob_3nn[:,1])\n",
    "ax = plt.subplot(122)\n",
    "ax.set_title('3NN')\n",
    "ax.set_xlabel('fpr')\n",
    "ax.set_ylabel('tpr')\n",
    "plt.plot(fpr,tpr)\n",
    "plt.show()"
   ]
  },
  {
   "cell_type": "markdown",
   "metadata": {},
   "source": [
    "#### Calculando a Medida AUC"
   ]
  },
  {
   "cell_type": "code",
   "execution_count": 10,
   "metadata": {},
   "outputs": [
    {
     "name": "stdout",
     "output_type": "stream",
     "text": [
      "AUC DT:  0.8801256613756614\n",
      "AUC 3NN: 0.8825593050451052\n"
     ]
    }
   ],
   "source": [
    "from sklearn.metrics import roc_auc_score\n",
    "\n",
    "#Medida AUC\n",
    "print('AUC DT: ',roc_auc_score(y_test_dt,y_prob_dt[:,1]))\n",
    "print('AUC 3NN:',roc_auc_score(y_test_3nn,y_prob_3nn[:,1]))"
   ]
  },
  {
   "cell_type": "markdown",
   "metadata": {},
   "source": [
    "### 3 - Desempenho dos classificadores\n",
    "\n",
    "A curva ROC serve para verificar qual relação entre custo (TFP) e benefício (TVP). A sua área é chamada de AUC e, com ela, podemos facilmente verificar qual algoritmo é melhor, pois quanto maior esta medida resumida, melhor o classificador é.\n",
    "\n",
    "Em nossos gráficos é possível verificar que a árvore decisão ('dt') possui uma área maior, e portanto, tem um melhor desempenho."
   ]
  },
  {
   "cell_type": "markdown",
   "metadata": {},
   "source": [
    "### 4 - Teste de hipótese\n",
    "\n",
    "Iremos realizar o teste de hipótese na finalidade de verificar se os classificadores 3nn e arvóre de decisão possuem valores de erros amostrais iguais. Desse modo, iremos definir que nossa hipótese nula (H0) é tal que a média dos erros de 3nn seja igual a média da árvore de decisão.\n",
    "\n",
    "Como nossos dados seguem uma distribuição normal iremos utilizar o T-test independente."
   ]
  },
  {
   "cell_type": "code",
   "execution_count": 11,
   "metadata": {},
   "outputs": [],
   "source": [
    "def classificacao(data, columns, target,score,folds=5):\n",
    "    # inicializa os modelos com os parâmetros solicitados\n",
    "    dt = DecisionTreeClassifier(criterion='gini', splitter='best', min_samples_split=int(len(data)*0.1))\n",
    "    _3nn = KNeighborsClassifier(n_neighbors=3, weights='uniform', algorithm='auto')\n",
    "    \n",
    "    clfs = [dt, _3nn]\n",
    "    clfs_names = ['dt','3nn']\n",
    "    \n",
    "    # prepara validação cruzada\n",
    "    cv = KFold(n_splits=folds, shuffle=True)\n",
    "    \n",
    "    results = {'dt':[],'3nn':[]}\n",
    "    for c,c_name in zip(clfs,clfs_names):\n",
    "        for train_index, test_index in cv.split(data):\n",
    "            # separa conjunto de treino e de teste\n",
    "            x_train, y_train = data.iloc[train_index, columns], data.iloc[train_index, target]\n",
    "            x_test, y_test = data.iloc[test_index, columns], data.iloc[test_index, target]\n",
    "\n",
    "            # faz o treino do modelo\n",
    "            clf = c.fit(X=x_train, y=y_train)\n",
    "\n",
    "            # valores predito pelo classificador\n",
    "            y_pred = clf.predict(x_test)\n",
    "            # rótulos verdadeiros convertidos para array\n",
    "            y_test = np.array(y_test)\n",
    "\n",
    "            #Armazena o erro do classificador\n",
    "            results[c_name] = np.append(results[c_name],score(y_test, y_pred))\n",
    "        \n",
    "    return results"
   ]
  },
  {
   "cell_type": "code",
   "execution_count": 12,
   "metadata": {},
   "outputs": [],
   "source": [
    "#Definindo função que penaliza a taxa de falso positivo\n",
    "def pen_falso_positivo(y_true, y_pred):\n",
    "    count = 0\n",
    "    for i,j in enumerate(y_pred):\n",
    "        if y_true[i] == 'B' and j == 'M':\n",
    "            count += 2\n",
    "        elif y_true[i] == 'M' and j == 'B':\n",
    "            count += 1\n",
    "    return count/len(y_true)"
   ]
  },
  {
   "cell_type": "code",
   "execution_count": 13,
   "metadata": {},
   "outputs": [
    {
     "name": "stdout",
     "output_type": "stream",
     "text": [
      "Statistic: -1.3717275217004035\n",
      "P-value:  0.18700543442335377\n"
     ]
    }
   ],
   "source": [
    "from scipy import stats\n",
    "from scipy.stats import ttest_ind\n",
    "np.random.seed(12345678)\n",
    "\n",
    "# 10-fold Cross Validation\n",
    "results = classificacao(breast_cancer,[0,1,2], 3, pen_falso_positivo,folds=10)\n",
    "statistic,pvalue = ttest_ind(results['dt'],results['3nn'])\n",
    "\n",
    "print('Statistic:', statistic)\n",
    "print('P-value: ',pvalue)"
   ]
  },
  {
   "cell_type": "markdown",
   "metadata": {},
   "source": [
    "#### Conclusão"
   ]
  },
  {
   "cell_type": "markdown",
   "metadata": {},
   "source": [
    "Dado um nível de significância (alpha) igual à 5%, é possível constatar que o p-value é maior que 0.05, logo, não há evidências de que deveríamos rejeitar a hipótese, ou de que os erros amostrais são iguais. De qualquer forma é interessante notar que, como o valor da estatística 't' é negativo, temos que a distribuição de erros de 'dt' está mais à esquerda, o que indica que ela possui um erro menor."
   ]
  }
 ],
 "metadata": {
  "kernelspec": {
   "display_name": "Python 3",
   "language": "python",
   "name": "python3"
  },
  "language_info": {
   "codemirror_mode": {
    "name": "ipython",
    "version": 3
   },
   "file_extension": ".py",
   "mimetype": "text/x-python",
   "name": "python",
   "nbconvert_exporter": "python",
   "pygments_lexer": "ipython3",
   "version": "3.6.4"
  }
 },
 "nbformat": 4,
 "nbformat_minor": 2
}
