{
 "cells": [
  {
   "cell_type": "code",
   "execution_count": 1,
   "metadata": {},
   "outputs": [
    {
     "name": "stderr",
     "output_type": "stream",
     "text": [
      "Loading required package: lattice\n",
      "Loading required package: ggplot2\n",
      "Loading required package: gplots\n",
      "\n",
      "Attaching package: ‘gplots’\n",
      "\n",
      "The following object is masked from ‘package:stats’:\n",
      "\n",
      "    lowess\n",
      "\n",
      "Loading required package: Matrix\n",
      "Loading required package: foreach\n",
      "Loaded glmnet 2.0-13\n",
      "\n",
      "Type 'citation(\"pROC\")' for a citation.\n",
      "\n",
      "Attaching package: ‘pROC’\n",
      "\n",
      "The following object is masked from ‘package:glmnet’:\n",
      "\n",
      "    auc\n",
      "\n",
      "The following objects are masked from ‘package:stats’:\n",
      "\n",
      "    cov, smooth, var\n",
      "\n"
     ]
    }
   ],
   "source": [
    "#Bibliotecas\n",
    "source('utils.r',local=TRUE)"
   ]
  },
  {
   "cell_type": "code",
   "execution_count": 2,
   "metadata": {},
   "outputs": [],
   "source": [
    "#Leitura do dataset já tratado\n",
    "data_frame = read_dataset(split=FALSE)"
   ]
  },
  {
   "cell_type": "code",
   "execution_count": 3,
   "metadata": {},
   "outputs": [
    {
     "data": {
      "text/html": [
       "<dl class=dl-horizontal>\n",
       "\t<dt>(Intercept)</dt>\n",
       "\t\t<dd>3.64817495945235</dd>\n",
       "\t<dt>t_emprego</dt>\n",
       "\t\t<dd>2.11642221001953</dd>\n",
       "\t<dt>t_endereco</dt>\n",
       "\t\t<dd>0.487048086208809</dd>\n",
       "\t<dt>div</dt>\n",
       "\t\t<dd>-1.62961781122086</dd>\n",
       "\t<dt>renda</dt>\n",
       "\t\t<dd>0.666934170161248</dd>\n",
       "\t<dt>t_emprego:renda</dt>\n",
       "\t\t<dd>-0.400525665712856</dd>\n",
       "</dl>\n"
      ],
      "text/latex": [
       "\\begin{description*}\n",
       "\\item[(Intercept)] 3.64817495945235\n",
       "\\item[t\\textbackslash{}\\_emprego] 2.11642221001953\n",
       "\\item[t\\textbackslash{}\\_endereco] 0.487048086208809\n",
       "\\item[div] -1.62961781122086\n",
       "\\item[renda] 0.666934170161248\n",
       "\\item[t\\textbackslash{}\\_emprego:renda] -0.400525665712856\n",
       "\\end{description*}\n"
      ],
      "text/markdown": [
       "(Intercept)\n",
       ":   3.64817495945235t_emprego\n",
       ":   2.11642221001953t_endereco\n",
       ":   0.487048086208809div\n",
       ":   -1.62961781122086renda\n",
       ":   0.666934170161248t_emprego:renda\n",
       ":   -0.400525665712856\n",
       "\n"
      ],
      "text/plain": [
       "    (Intercept)       t_emprego      t_endereco             div           renda \n",
       "      3.6481750       2.1164222       0.4870481      -1.6296178       0.6669342 \n",
       "t_emprego:renda \n",
       "     -0.4005257 "
      ]
     },
     "metadata": {},
     "output_type": "display_data"
    },
    {
     "data": {
      "text/html": [
       "<dl class=dl-horizontal>\n",
       "\t<dt>(Intercept)</dt>\n",
       "\t\t<dd>1.42720145624176</dd>\n",
       "\t<dt>t_emprego</dt>\n",
       "\t\t<dd>1.39164263697756</dd>\n",
       "\t<dt>t_endereco</dt>\n",
       "\t\t<dd>0.488717729035801</dd>\n",
       "\t<dt>div</dt>\n",
       "\t\t<dd>-0.822788452222698</dd>\n",
       "\t<dt>renda</dt>\n",
       "\t\t<dd>2.33561217612547</dd>\n",
       "\t<dt>div:renda</dt>\n",
       "\t\t<dd>-0.553386496980133</dd>\n",
       "</dl>\n"
      ],
      "text/latex": [
       "\\begin{description*}\n",
       "\\item[(Intercept)] 1.42720145624176\n",
       "\\item[t\\textbackslash{}\\_emprego] 1.39164263697756\n",
       "\\item[t\\textbackslash{}\\_endereco] 0.488717729035801\n",
       "\\item[div] -0.822788452222698\n",
       "\\item[renda] 2.33561217612547\n",
       "\\item[div:renda] -0.553386496980133\n",
       "\\end{description*}\n"
      ],
      "text/markdown": [
       "(Intercept)\n",
       ":   1.42720145624176t_emprego\n",
       ":   1.39164263697756t_endereco\n",
       ":   0.488717729035801div\n",
       ":   -0.822788452222698renda\n",
       ":   2.33561217612547div:renda\n",
       ":   -0.553386496980133\n",
       "\n"
      ],
      "text/plain": [
       "(Intercept)   t_emprego  t_endereco         div       renda   div:renda \n",
       "  1.4272015   1.3916426   0.4887177  -0.8227885   2.3356122  -0.5533865 "
      ]
     },
     "metadata": {},
     "output_type": "display_data"
    }
   ],
   "source": [
    "#Modelos alternativos\n",
    "alternative1 = glm(formula = default ~ t_emprego + t_endereco + div + renda + renda:t_emprego, family = binomial(link = logit), data = data_frame)\n",
    "alternative2 = glm(formula = default ~ t_emprego + t_endereco + div + renda + renda:div, family = binomial(link = logit), data = data_frame)\n",
    "\n",
    "#Coeficientes dos modelos\n",
    "coef(alternative1)\n",
    "coef(alternative2)\n",
    "\n",
    "#Note que as estimativas dos coeficientes de cada modelo são diferentes\n",
    "#Isso é causado pela interação.\n",
    "#É interessante notar, por exemplo, a diferença de renda nos modelos. \n",
    "#Enquanto que em alternative1 esse valor é razoavelmente baixo, o modelo\n",
    "#alternative2 dá um peso muito grande a ele.\n",
    "#Novamente salientamos que os tomadores de decisão precisão avaliar qual\n",
    "#variável deve possuir um peso maior, possibilitando escolher o modelo adequado."
   ]
  },
  {
   "cell_type": "code",
   "execution_count": 4,
   "metadata": {},
   "outputs": [
    {
     "data": {
      "text/html": [
       "<table>\n",
       "<thead><tr><th></th><th scope=col>ICfloor</th><th scope=col>odss</th><th scope=col>ICceil</th></tr></thead>\n",
       "<tbody>\n",
       "\t<tr><th scope=row>t_emprego</th><td>4.177 </td><td>8.301 </td><td>16.497</td></tr>\n",
       "\t<tr><th scope=row>t_endereco</th><td>1.222 </td><td>1.628 </td><td> 2.168</td></tr>\n",
       "\t<tr><th scope=row>div</th><td>0.130 </td><td>0.196 </td><td> 0.295</td></tr>\n",
       "\t<tr><th scope=row>renda</th><td>1.200 </td><td>1.948 </td><td> 3.162</td></tr>\n",
       "\t<tr><th scope=row>t_emprego:renda</th><td>0.528 </td><td>0.670 </td><td> 0.851</td></tr>\n",
       "</tbody>\n",
       "</table>\n"
      ],
      "text/latex": [
       "\\begin{tabular}{r|lll}\n",
       "  & ICfloor & odss & ICceil\\\\\n",
       "\\hline\n",
       "\tt\\_emprego & 4.177  & 8.301  & 16.497\\\\\n",
       "\tt\\_endereco & 1.222  & 1.628  &  2.168\\\\\n",
       "\tdiv & 0.130  & 0.196  &  0.295\\\\\n",
       "\trenda & 1.200  & 1.948  &  3.162\\\\\n",
       "\tt\\_emprego:renda & 0.528  & 0.670  &  0.851\\\\\n",
       "\\end{tabular}\n"
      ],
      "text/markdown": [
       "\n",
       "| <!--/--> | ICfloor | odss | ICceil | \n",
       "|---|---|---|---|---|\n",
       "| t_emprego | 4.177  | 8.301  | 16.497 | \n",
       "| t_endereco | 1.222  | 1.628  |  2.168 | \n",
       "| div | 0.130  | 0.196  |  0.295 | \n",
       "| renda | 1.200  | 1.948  |  3.162 | \n",
       "| t_emprego:renda | 0.528  | 0.670  |  0.851 | \n",
       "\n",
       "\n"
      ],
      "text/plain": [
       "                ICfloor odss  ICceil\n",
       "t_emprego       4.177   8.301 16.497\n",
       "t_endereco      1.222   1.628  2.168\n",
       "div             0.130   0.196  0.295\n",
       "renda           1.200   1.948  3.162\n",
       "t_emprego:renda 0.528   0.670  0.851"
      ]
     },
     "metadata": {},
     "output_type": "display_data"
    },
    {
     "data": {
      "text/html": [
       "<table>\n",
       "<thead><tr><th></th><th scope=col>ICfloor</th><th scope=col>odss</th><th scope=col>ICceil</th></tr></thead>\n",
       "<tbody>\n",
       "\t<tr><th scope=row>t_emprego</th><td>2.624 </td><td> 4.021</td><td> 6.164</td></tr>\n",
       "\t<tr><th scope=row>t_endereco</th><td>1.213 </td><td> 1.630</td><td> 2.192</td></tr>\n",
       "\t<tr><th scope=row>div</th><td>0.258 </td><td> 0.439</td><td> 0.746</td></tr>\n",
       "\t<tr><th scope=row>renda</th><td>3.262 </td><td>10.336</td><td>32.751</td></tr>\n",
       "\t<tr><th scope=row>div:renda</th><td>0.433 </td><td> 0.575</td><td> 0.763</td></tr>\n",
       "</tbody>\n",
       "</table>\n"
      ],
      "text/latex": [
       "\\begin{tabular}{r|lll}\n",
       "  & ICfloor & odss & ICceil\\\\\n",
       "\\hline\n",
       "\tt\\_emprego & 2.624  &  4.021 &  6.164\\\\\n",
       "\tt\\_endereco & 1.213  &  1.630 &  2.192\\\\\n",
       "\tdiv & 0.258  &  0.439 &  0.746\\\\\n",
       "\trenda & 3.262  & 10.336 & 32.751\\\\\n",
       "\tdiv:renda & 0.433  &  0.575 &  0.763\\\\\n",
       "\\end{tabular}\n"
      ],
      "text/markdown": [
       "\n",
       "| <!--/--> | ICfloor | odss | ICceil | \n",
       "|---|---|---|---|---|\n",
       "| t_emprego | 2.624  |  4.021 |  6.164 | \n",
       "| t_endereco | 1.213  |  1.630 |  2.192 | \n",
       "| div | 0.258  |  0.439 |  0.746 | \n",
       "| renda | 3.262  | 10.336 | 32.751 | \n",
       "| div:renda | 0.433  |  0.575 |  0.763 | \n",
       "\n",
       "\n"
      ],
      "text/plain": [
       "           ICfloor odss   ICceil\n",
       "t_emprego  2.624    4.021  6.164\n",
       "t_endereco 1.213    1.630  2.192\n",
       "div        0.258    0.439  0.746\n",
       "renda      3.262   10.336 32.751\n",
       "div:renda  0.433    0.575  0.763"
      ]
     },
     "metadata": {},
     "output_type": "display_data"
    }
   ],
   "source": [
    "#Efeito dos parâmetros com IC\n",
    "odds1 = exp(summary(alternative1)$coefficients[,1] + \n",
    "(matrix(rep(qnorm(c(0.025,0.5,0.975)),6),nrow=6,byrow=TRUE) * summary(alternative1)$coefficients[,2]))\n",
    "\n",
    "odds2 = exp(summary(alternative2)$coefficients[,1] + \n",
    "(matrix(rep(qnorm(c(0.025,0.5,0.975)),6),nrow=6,byrow=TRUE) * summary(alternative2)$coefficients[,2]))\n",
    "\n",
    "#Mudando nome das colunas\n",
    "colnames(odds1) = c('ICfloor','odss','ICceil')\n",
    "colnames(odds2) = c('ICfloor','odss','ICceil')\n",
    "\n",
    "#Criando dataframe\n",
    "odds1 = data.frame(odds1,row.names = names(alternative1$coefficients))[-1,]\n",
    "odds2 = data.frame(odds2,row.names = names(alternative2$coefficients))[-1,]\n",
    "\n",
    "#Arredondando valores\n",
    "odds1 = round(odds1,3)\n",
    "odds2 = round(odds2,3)\n",
    "\n",
    "#Apresentando resultado\n",
    "odds1\n",
    "odds2\n",
    "\n",
    "#Note pelos valores calculados que dependendo do modelo e da iteração as variáveis possuem efeitos\n",
    "#completamente diferentes quanto a magnitude. Desse modo, cabe ao tomadores de decisão escolher \n",
    "#qual variável possuirá um peso maior no seu problema. \n",
    "#Perceba também que todos os ODDS estão dentro do IC calculado.\n",
    "#Para maiores detalhes sobre a análise verifique o relatório em anexo neste projeto."
   ]
  }
 ],
 "metadata": {
  "kernelspec": {
   "display_name": "R",
   "language": "R",
   "name": "ir"
  },
  "language_info": {
   "codemirror_mode": "r",
   "file_extension": ".r",
   "mimetype": "text/x-r-source",
   "name": "R",
   "pygments_lexer": "r",
   "version": "3.4.3"
  }
 },
 "nbformat": 4,
 "nbformat_minor": 2
}
