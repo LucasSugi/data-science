{
 "cells": [
  {
   "cell_type": "code",
   "execution_count": 1,
   "metadata": {},
   "outputs": [
    {
     "name": "stderr",
     "output_type": "stream",
     "text": [
      "Loading required package: lattice\n",
      "Loading required package: ggplot2\n",
      "Loading required package: Matrix\n",
      "Loading required package: foreach\n",
      "Loaded glmnet 2.0-13\n",
      "\n",
      "Loading required package: gplots\n",
      "\n",
      "Attaching package: ‘gplots’\n",
      "\n",
      "The following object is masked from ‘package:stats’:\n",
      "\n",
      "    lowess\n",
      "\n",
      "Type 'citation(\"pROC\")' for a citation.\n",
      "\n",
      "Attaching package: ‘pROC’\n",
      "\n",
      "The following object is masked from ‘package:glmnet’:\n",
      "\n",
      "    auc\n",
      "\n",
      "The following objects are masked from ‘package:stats’:\n",
      "\n",
      "    cov, smooth, var\n",
      "\n"
     ]
    }
   ],
   "source": [
    "#Carregando libs\n",
    "library(readxl)\n",
    "library(caret)\n",
    "library(MASS)\n",
    "library(glmnet)\n",
    "source('utils.R',local=TRUE)"
   ]
  },
  {
   "cell_type": "code",
   "execution_count": 2,
   "metadata": {},
   "outputs": [],
   "source": [
    "#LEITURA E TRATAMENTO DO DATASET\n",
    "\n",
    "#Leitura da base de dados\n",
    "base6 <- read_excel(\"base6.xls\",sheet=2)\n",
    "\n",
    "#Removendo id de cliente\n",
    "base6 = base6[,-1]\n",
    "\n",
    "#Transformando censura como variavel categoria\n",
    "base6$censura = as.factor(base6$censura)\n",
    "\n",
    "#Transformando o índice B2B como variavel categorica\n",
    "base6$indB2B = as.factor(base6$indB2B)\n",
    "\n",
    "#Aplicando padronização nas variaveis numericas\n",
    "base6[,c(1,3,5,6,7,8)] = scale(base6[,c(1,3,5,6,7,8)])"
   ]
  },
  {
   "cell_type": "code",
   "execution_count": 3,
   "metadata": {},
   "outputs": [
    {
     "name": "stdout",
     "output_type": "stream",
     "text": [
      "Start:  AIC=421.86\n",
      "censura ~ valorGasto + indB2B + receita + nEmpregados + TotalProdutos + \n",
      "    TotalFreq\n",
      "\n",
      "                Df Deviance    AIC\n",
      "- indB2B         1   379.78 417.07\n",
      "- TotalFreq      1   384.13 421.41\n",
      "<none>               378.36 421.86\n",
      "- receita        1   389.68 426.97\n",
      "- TotalProdutos  1   475.89 513.17\n",
      "- nEmpregados    1   512.97 550.26\n",
      "- valorGasto     1   513.76 551.05\n",
      "\n",
      "Step:  AIC=417.07\n",
      "censura ~ valorGasto + receita + nEmpregados + TotalProdutos + \n",
      "    TotalFreq\n",
      "\n",
      "                Df Deviance    AIC\n",
      "- TotalFreq      1   385.35 416.42\n",
      "<none>               379.78 417.07\n",
      "- receita        1   392.12 423.19\n",
      "- TotalProdutos  1   478.34 509.41\n",
      "- valorGasto     1   516.14 547.22\n",
      "- nEmpregados    1   517.64 548.71\n",
      "\n",
      "Step:  AIC=416.42\n",
      "censura ~ valorGasto + receita + nEmpregados + TotalProdutos\n",
      "\n",
      "                Df Deviance    AIC\n",
      "<none>               385.35 416.42\n",
      "- receita        1   396.58 421.44\n",
      "- TotalProdutos  1   481.22 506.08\n",
      "- valorGasto     1   520.69 545.54\n",
      "- nEmpregados    1   521.56 546.42\n",
      "Start:  AIC=392.36\n",
      "censura ~ valorGasto + indB2B + receita + nEmpregados + TotalProdutos + \n",
      "    TotalFreq\n",
      "\n",
      "                Df Deviance    AIC\n",
      "- indB2B         1   379.78 391.78\n",
      "<none>               378.36 392.36\n",
      "- TotalFreq      1   384.13 396.13\n",
      "- receita        1   389.68 401.68\n",
      "- TotalProdutos  1   475.89 487.89\n",
      "- nEmpregados    1   512.97 524.97\n",
      "- valorGasto     1   513.76 525.76\n",
      "\n",
      "Step:  AIC=391.78\n",
      "censura ~ valorGasto + receita + nEmpregados + TotalProdutos + \n",
      "    TotalFreq\n",
      "\n",
      "                Df Deviance    AIC\n",
      "<none>               379.78 391.78\n",
      "- TotalFreq      1   385.35 395.35\n",
      "- receita        1   392.12 402.12\n",
      "- TotalProdutos  1   478.34 488.34\n",
      "- valorGasto     1   516.14 526.14\n",
      "- nEmpregados    1   517.64 527.64\n",
      "Start:  AIC=392.36\n",
      "censura ~ valorGasto + indB2B + receita + nEmpregados + TotalProdutos + \n",
      "    TotalFreq\n",
      "\n",
      "Start:  AIC=392.36\n",
      "censura ~ valorGasto + indB2B + receita + nEmpregados + TotalProdutos + \n",
      "    TotalFreq\n",
      "\n",
      "                Df Deviance    AIC\n",
      "- indB2B         1   379.78 391.78\n",
      "<none>               378.36 392.36\n",
      "- TotalFreq      1   384.13 396.13\n",
      "- receita        1   389.68 401.68\n",
      "- TotalProdutos  1   475.89 487.89\n",
      "- nEmpregados    1   512.97 524.97\n",
      "- valorGasto     1   513.76 525.76\n",
      "\n",
      "Step:  AIC=391.78\n",
      "censura ~ valorGasto + receita + nEmpregados + TotalProdutos + \n",
      "    TotalFreq\n",
      "\n",
      "                Df Deviance    AIC\n",
      "<none>               379.78 391.78\n",
      "+ indB2B         1   378.36 392.36\n",
      "- TotalFreq      1   385.35 395.35\n",
      "- receita        1   392.12 402.12\n",
      "- TotalProdutos  1   478.34 488.34\n",
      "- valorGasto     1   516.14 526.14\n",
      "- nEmpregados    1   517.64 527.64\n"
     ]
    },
    {
     "data": {
      "text/html": [
       "<dl class=dl-horizontal>\n",
       "\t<dt>(Intercept)</dt>\n",
       "\t\t<dd>0.235771374611068</dd>\n",
       "\t<dt>valorGasto</dt>\n",
       "\t\t<dd>-1.6932538798894</dd>\n",
       "\t<dt>receita</dt>\n",
       "\t\t<dd>0.431288410016649</dd>\n",
       "\t<dt>nEmpregados</dt>\n",
       "\t\t<dd>1.64232811594833</dd>\n",
       "\t<dt>TotalProdutos</dt>\n",
       "\t\t<dd>1.28646261648228</dd>\n",
       "</dl>\n"
      ],
      "text/latex": [
       "\\begin{description*}\n",
       "\\item[(Intercept)] 0.235771374611068\n",
       "\\item[valorGasto] -1.6932538798894\n",
       "\\item[receita] 0.431288410016649\n",
       "\\item[nEmpregados] 1.64232811594833\n",
       "\\item[TotalProdutos] 1.28646261648228\n",
       "\\end{description*}\n"
      ],
      "text/markdown": [
       "(Intercept)\n",
       ":   0.235771374611068valorGasto\n",
       ":   -1.6932538798894receita\n",
       ":   0.431288410016649nEmpregados\n",
       ":   1.64232811594833TotalProdutos\n",
       ":   1.28646261648228\n",
       "\n"
      ],
      "text/plain": [
       "  (Intercept)    valorGasto       receita   nEmpregados TotalProdutos \n",
       "    0.2357714    -1.6932539     0.4312884     1.6423281     1.2864626 "
      ]
     },
     "metadata": {},
     "output_type": "display_data"
    },
    {
     "data": {
      "text/html": [
       "<dl class=dl-horizontal>\n",
       "\t<dt>(Intercept)</dt>\n",
       "\t\t<dd>0.23486012460794</dd>\n",
       "\t<dt>valorGasto</dt>\n",
       "\t\t<dd>-1.71739935086377</dd>\n",
       "\t<dt>receita</dt>\n",
       "\t\t<dd>0.456678788642822</dd>\n",
       "\t<dt>nEmpregados</dt>\n",
       "\t\t<dd>1.67321522322149</dd>\n",
       "\t<dt>TotalProdutos</dt>\n",
       "\t\t<dd>1.32321316211243</dd>\n",
       "\t<dt>TotalFreq</dt>\n",
       "\t\t<dd>0.30211408256744</dd>\n",
       "</dl>\n"
      ],
      "text/latex": [
       "\\begin{description*}\n",
       "\\item[(Intercept)] 0.23486012460794\n",
       "\\item[valorGasto] -1.71739935086377\n",
       "\\item[receita] 0.456678788642822\n",
       "\\item[nEmpregados] 1.67321522322149\n",
       "\\item[TotalProdutos] 1.32321316211243\n",
       "\\item[TotalFreq] 0.30211408256744\n",
       "\\end{description*}\n"
      ],
      "text/markdown": [
       "(Intercept)\n",
       ":   0.23486012460794valorGasto\n",
       ":   -1.71739935086377receita\n",
       ":   0.456678788642822nEmpregados\n",
       ":   1.67321522322149TotalProdutos\n",
       ":   1.32321316211243TotalFreq\n",
       ":   0.30211408256744\n",
       "\n"
      ],
      "text/plain": [
       "  (Intercept)    valorGasto       receita   nEmpregados TotalProdutos \n",
       "    0.2348601    -1.7173994     0.4566788     1.6732152     1.3232132 \n",
       "    TotalFreq \n",
       "    0.3021141 "
      ]
     },
     "metadata": {},
     "output_type": "display_data"
    },
    {
     "data": {
      "text/html": [
       "<dl class=dl-horizontal>\n",
       "\t<dt>(Intercept)</dt>\n",
       "\t\t<dd>0.436396588799861</dd>\n",
       "\t<dt>valorGasto</dt>\n",
       "\t\t<dd>-1.71379701852187</dd>\n",
       "\t<dt>indB2B1</dt>\n",
       "\t\t<dd>-0.320198943602428</dd>\n",
       "\t<dt>receita</dt>\n",
       "\t\t<dd>0.440599843289367</dd>\n",
       "\t<dt>nEmpregados</dt>\n",
       "\t\t<dd>1.65837770416043</dd>\n",
       "\t<dt>TotalProdutos</dt>\n",
       "\t\t<dd>1.318866713768</dd>\n",
       "\t<dt>TotalFreq</dt>\n",
       "\t\t<dd>0.309175569093925</dd>\n",
       "</dl>\n"
      ],
      "text/latex": [
       "\\begin{description*}\n",
       "\\item[(Intercept)] 0.436396588799861\n",
       "\\item[valorGasto] -1.71379701852187\n",
       "\\item[indB2B1] -0.320198943602428\n",
       "\\item[receita] 0.440599843289367\n",
       "\\item[nEmpregados] 1.65837770416043\n",
       "\\item[TotalProdutos] 1.318866713768\n",
       "\\item[TotalFreq] 0.309175569093925\n",
       "\\end{description*}\n"
      ],
      "text/markdown": [
       "(Intercept)\n",
       ":   0.436396588799861valorGasto\n",
       ":   -1.71379701852187indB2B1\n",
       ":   -0.320198943602428receita\n",
       ":   0.440599843289367nEmpregados\n",
       ":   1.65837770416043TotalProdutos\n",
       ":   1.318866713768TotalFreq\n",
       ":   0.309175569093925\n",
       "\n"
      ],
      "text/plain": [
       "  (Intercept)    valorGasto       indB2B1       receita   nEmpregados \n",
       "    0.4363966    -1.7137970    -0.3201989     0.4405998     1.6583777 \n",
       "TotalProdutos     TotalFreq \n",
       "    1.3188667     0.3091756 "
      ]
     },
     "metadata": {},
     "output_type": "display_data"
    },
    {
     "data": {
      "text/html": [
       "<dl class=dl-horizontal>\n",
       "\t<dt>(Intercept)</dt>\n",
       "\t\t<dd>0.23486012460794</dd>\n",
       "\t<dt>valorGasto</dt>\n",
       "\t\t<dd>-1.71739935086377</dd>\n",
       "\t<dt>receita</dt>\n",
       "\t\t<dd>0.456678788642822</dd>\n",
       "\t<dt>nEmpregados</dt>\n",
       "\t\t<dd>1.67321522322149</dd>\n",
       "\t<dt>TotalProdutos</dt>\n",
       "\t\t<dd>1.32321316211243</dd>\n",
       "\t<dt>TotalFreq</dt>\n",
       "\t\t<dd>0.30211408256744</dd>\n",
       "</dl>\n"
      ],
      "text/latex": [
       "\\begin{description*}\n",
       "\\item[(Intercept)] 0.23486012460794\n",
       "\\item[valorGasto] -1.71739935086377\n",
       "\\item[receita] 0.456678788642822\n",
       "\\item[nEmpregados] 1.67321522322149\n",
       "\\item[TotalProdutos] 1.32321316211243\n",
       "\\item[TotalFreq] 0.30211408256744\n",
       "\\end{description*}\n"
      ],
      "text/markdown": [
       "(Intercept)\n",
       ":   0.23486012460794valorGasto\n",
       ":   -1.71739935086377receita\n",
       ":   0.456678788642822nEmpregados\n",
       ":   1.67321522322149TotalProdutos\n",
       ":   1.32321316211243TotalFreq\n",
       ":   0.30211408256744\n",
       "\n"
      ],
      "text/plain": [
       "  (Intercept)    valorGasto       receita   nEmpregados TotalProdutos \n",
       "    0.2348601    -1.7173994     0.4566788     1.6732152     1.3232132 \n",
       "    TotalFreq \n",
       "    0.3021141 "
      ]
     },
     "metadata": {},
     "output_type": "display_data"
    },
    {
     "data": {
      "text/plain": [
       "7 x 1 sparse Matrix of class \"dgCMatrix\"\n",
       "                        1\n",
       "(Intercept)    0.19690167\n",
       "valorGasto    -1.09206205\n",
       "indB2B1        .         \n",
       "receita        0.15036703\n",
       "nEmpregados    1.07110715\n",
       "TotalProdutos  0.81438947\n",
       "TotalFreq      0.04396586"
      ]
     },
     "metadata": {},
     "output_type": "display_data"
    }
   ],
   "source": [
    "#SELEÇÃO DE VARIÁVEIS\n",
    "#OLHAR EXPLICAÇÃO NO RELATÓRIO\n",
    "\n",
    "#Removendo Duracao pois foi visto que causa problemas\n",
    "#principalmente na regressão logistica(separação perfeita) e no qda\n",
    "base6 = base6[,-1]\n",
    "\n",
    "#Regressão logistica\n",
    "logistic_regression = glm(formula = censura ~ .,data=base6, family = binomial(link = logit))\n",
    "\n",
    "#Iremos criar modelos com os métodos de seleção de variáveis na regressão logistica\n",
    "#para averigurar quais delas parecem ser mais importantes\n",
    "model1 = step(logistic_regression,k = log(nrow(base6)))\n",
    "\n",
    "model2 = stepAIC(logistic_regression,direction = c('backward'))\n",
    "\n",
    "model3 = stepAIC(logistic_regression,direction = c('forward'))\n",
    "\n",
    "model4 = stepAIC(logistic_regression,direction = c('both'))\n",
    "\n",
    "x = model.matrix(censura ~ ., data = base6)[, -1]\n",
    "y <- ifelse(base6$censura == 0, 0, 1)\n",
    "\n",
    "#Regularização com método Lasso\n",
    "model5 <- cv.glmnet(x, y, family = 'binomial', alpha = 1, nfolds = 10)\n",
    "\n",
    "#Coeficientes de cada modelo\n",
    "coef(model1)\n",
    "coef(model2)\n",
    "coef(model3)\n",
    "coef(model4)\n",
    "coef(model5)\n",
    "\n",
    "#Removendo o indice B2B porque aparenta nao afetar o modelo\n",
    "base6 = base6[,-3]\n",
    "\n",
    "#Removendo TotalFreq porque aparenta nao afetar o modelo\n",
    "base6 = base6[,-6]\n",
    "\n",
    "#Removendo receita porque aparenta nao afetar o modelo\n",
    "base6 = base6[,-3]"
   ]
  },
  {
   "cell_type": "code",
   "execution_count": 4,
   "metadata": {},
   "outputs": [],
   "source": [
    "#AVALIANDO OS MODELOS\n",
    "\n",
    "#Vetores que conteram as medias\n",
    "meanACC1 = meanACC2 = meanACC3 = meanACC4 = meanACC5 = c()\n",
    "meanSEN1 = meanSEN2 = meanSEN3 = meanSEN4 = meanSEN5 = c()\n",
    "meanESP1 = meanESP2 = meanESP3 = meanESP4 = meanESP5 = c()\n",
    "meanAUC1 = meanAUC2 = meanAUC3 = meanAUC4 = meanAUC5 = c()\n",
    "\n",
    "for(i in 1:50){\n",
    "    #Indices para separar dataset\n",
    "    index = createDataPartition(y=base6$censura,p=0.6,list=FALSE)\n",
    "\n",
    "    #Separando dados em treino e teste\n",
    "    train = base6[index,]\n",
    "    test = base6[-index,]\n",
    "\n",
    "    #MODELOS DE CLASSIFICACAO\n",
    "\n",
    "    #Regressão logistica\n",
    "    logistic_regression = glm(formula = censura ~ .,data=train, family = binomial(link = logit))\n",
    "\n",
    "    #Knn\n",
    "    knn <- train(censura ~ ., data = train, method = \"knn\", tuneLength = 10,trControl = trainControl(method = \"cv\"))    \n",
    "\n",
    "    #Discriminante linear\n",
    "    lda = train(censura ~ ., data=train, method=\"lda\", trControl = trainControl(method = \"cv\"))\n",
    "\n",
    "    #Discriminante quadratico\n",
    "    qda = train(censura ~ ., data=train, method=\"qda\", trControl = trainControl(method = \"cv\"))\n",
    "\n",
    "    #Arvore de decisao\n",
    "    dtree = train(censura ~ ., data=train, method=\"rpart\", trControl = trainControl(method = \"cv\"))\n",
    "    \n",
    "    #AVALIAÇÃO DOS MODELOS\n",
    "\n",
    "    #Matriz de confusao e métricas \n",
    "    confMat = confusion_matrix(logistic_regression,test,type='glm')\n",
    "    metric1 = metric_confusion_matrix(confMat)\n",
    "\n",
    "    confMat = confusion_matrix(knn,test,type='caret')\n",
    "    metric2 = metric_confusion_matrix(confMat)\n",
    "\n",
    "    confMat = confusion_matrix(lda,test,type='caret')\n",
    "    metric3 = metric_confusion_matrix(confMat)\n",
    "\n",
    "    confMat = confusion_matrix(qda,test,type='caret')\n",
    "    metric4 = metric_confusion_matrix(confMat)\n",
    "\n",
    "    confMat = confusion_matrix(dtree,test,type='caret')\n",
    "    metric5 = metric_confusion_matrix(confMat)\n",
    "\n",
    "    #Calculando AUC de cada modelo\n",
    "    auc1 = extract_auc(logistic_regression,test,type='glm')\n",
    "    auc2 = extract_auc(knn,test,type='caret')\n",
    "    auc3 = extract_auc(lda,test,type='caret')\n",
    "    auc4 = extract_auc(qda,test,type='caret')\n",
    "    auc5 = extract_auc(dtree,test,type='caret')\n",
    "    \n",
    "    #Media da acuracia, sensibilidade e especificidade\n",
    "    meanACC1 = c(meanACC1,metric1$accuracy)\n",
    "    meanACC2 = c(meanACC2,metric2$accuracy)\n",
    "    meanACC3 = c(meanACC3,metric3$accuracy)\n",
    "    meanACC4 = c(meanACC4,metric4$accuracy)\n",
    "    meanACC5 = c(meanACC5,metric5$accuracy)\n",
    "    \n",
    "    meanSEN1 = c(meanSEN1,metric1$sens)\n",
    "    meanSEN2 = c(meanSEN2,metric2$sens)\n",
    "    meanSEN3 = c(meanSEN3,metric3$sens)\n",
    "    meanSEN4 = c(meanSEN4,metric4$sens)\n",
    "    meanSEN5 = c(meanSEN5,metric5$sens)\n",
    "    \n",
    "    meanESP1 = c(meanESP1,metric1$espec)\n",
    "    meanESP2 = c(meanESP2,metric2$espec)\n",
    "    meanESP3 = c(meanESP3,metric3$espec)\n",
    "    meanESP4 = c(meanESP4,metric4$espec)\n",
    "    meanESP5 = c(meanESP5,metric5$espec)\n",
    "    \n",
    "    #Media dos AUC's\n",
    "    meanAUC1 = c(meanAUC1,extract_auc(logistic_regression,test,type='glm'))\n",
    "    meanAUC2 = c(meanAUC2,extract_auc(knn,test,type='caret'))\n",
    "    meanAUC3 = c(meanAUC3,extract_auc(lda,test,type='caret'))\n",
    "    meanAUC4 = c(meanAUC4,extract_auc(qda,test,type='caret'))\n",
    "    meanAUC5 = c(meanAUC5,extract_auc(knn,test,type='caret'))\n",
    "}"
   ]
  },
  {
   "cell_type": "code",
   "execution_count": 5,
   "metadata": {},
   "outputs": [
    {
     "data": {
      "text/html": [
       "<table>\n",
       "<thead><tr><th></th><th scope=col>Accuracy</th><th scope=col>Sens</th><th scope=col>Espec</th><th scope=col>AUC</th></tr></thead>\n",
       "<tbody>\n",
       "\t<tr><th scope=row>Logistic Regression</th><td>0.808 </td><td>0.831 </td><td>0.782 </td><td>89.260</td></tr>\n",
       "\t<tr><th scope=row>knn</th><td>0.825 </td><td>0.881 </td><td>0.760 </td><td>90.952</td></tr>\n",
       "\t<tr><th scope=row>Lda</th><td>0.807 </td><td>0.834 </td><td>0.774 </td><td>89.263</td></tr>\n",
       "\t<tr><th scope=row>Qda</th><td>0.833 </td><td>0.849 </td><td>0.816 </td><td>91.650</td></tr>\n",
       "\t<tr><th scope=row>Dtree</th><td>0.775 </td><td>0.808 </td><td>0.736 </td><td>90.952</td></tr>\n",
       "</tbody>\n",
       "</table>\n"
      ],
      "text/latex": [
       "\\begin{tabular}{r|llll}\n",
       "  & Accuracy & Sens & Espec & AUC\\\\\n",
       "\\hline\n",
       "\tLogistic Regression & 0.808  & 0.831  & 0.782  & 89.260\\\\\n",
       "\tknn & 0.825  & 0.881  & 0.760  & 90.952\\\\\n",
       "\tLda & 0.807  & 0.834  & 0.774  & 89.263\\\\\n",
       "\tQda & 0.833  & 0.849  & 0.816  & 91.650\\\\\n",
       "\tDtree & 0.775  & 0.808  & 0.736  & 90.952\\\\\n",
       "\\end{tabular}\n"
      ],
      "text/markdown": [
       "\n",
       "| <!--/--> | Accuracy | Sens | Espec | AUC | \n",
       "|---|---|---|---|---|\n",
       "| Logistic Regression | 0.808  | 0.831  | 0.782  | 89.260 | \n",
       "| knn | 0.825  | 0.881  | 0.760  | 90.952 | \n",
       "| Lda | 0.807  | 0.834  | 0.774  | 89.263 | \n",
       "| Qda | 0.833  | 0.849  | 0.816  | 91.650 | \n",
       "| Dtree | 0.775  | 0.808  | 0.736  | 90.952 | \n",
       "\n",
       "\n"
      ],
      "text/plain": [
       "                    Accuracy Sens  Espec AUC   \n",
       "Logistic Regression 0.808    0.831 0.782 89.260\n",
       "knn                 0.825    0.881 0.760 90.952\n",
       "Lda                 0.807    0.834 0.774 89.263\n",
       "Qda                 0.833    0.849 0.816 91.650\n",
       "Dtree               0.775    0.808 0.736 90.952"
      ]
     },
     "metadata": {},
     "output_type": "display_data"
    }
   ],
   "source": [
    "#Apanhado geral dos resultados\n",
    "resume = round(data.frame(rbind(mean(meanACC1),mean(meanACC2),mean(meanACC3),mean(meanACC4),mean(meanACC5))),3)\n",
    "resume = cbind(resume,round(data.frame(rbind(mean(meanSEN1),mean(meanSEN2),mean(meanSEN3),mean(meanSEN4),mean(meanSEN5))),3))\n",
    "resume = cbind(resume,round(data.frame(rbind(mean(meanESP1),mean(meanESP2),mean(meanESP3),mean(meanESP4),mean(meanESP5))),3))\n",
    "resume = cbind(resume,round(data.frame(rbind(mean(meanAUC1),mean(meanAUC2),mean(meanAUC3),mean(meanAUC4),mean(meanAUC5))),3))\n",
    "\n",
    "names(resume) = c('Accuracy','Sens','Espec','AUC')\n",
    "rownames(resume) = c('Logistic Regression','knn','Lda','Qda','Dtree')\n",
    "resume"
   ]
  },
  {
   "cell_type": "code",
   "execution_count": 6,
   "metadata": {},
   "outputs": [],
   "source": [
    "#TREINAMENTO COM A BASE COMPLETA\n",
    "\n",
    "#Regressão logistica\n",
    "logistic_regression = glm(formula = censura ~ .,data=base6, family = binomial(link = logit))\n",
    "\n",
    "#Knn\n",
    "knn <- train(censura ~ ., data = base6, method = \"knn\", tuneLength = 10,trControl = trainControl(method = \"cv\"))    \n",
    "\n",
    "#Discriminante linear\n",
    "lda = train(censura ~ ., data=base6, method=\"lda\", trControl = trainControl(method = \"cv\"))\n",
    "\n",
    "#Discriminante quadratico\n",
    "qda = train(censura ~ ., data=base6, method=\"qda\", trControl = trainControl(method = \"cv\"))\n",
    "\n",
    "#Arvore de decisao\n",
    "dtree = train(censura ~ ., data=base6, method=\"rpart\", trControl = trainControl(method = \"cv\"))"
   ]
  },
  {
   "cell_type": "code",
   "execution_count": 7,
   "metadata": {},
   "outputs": [
    {
     "data": {
      "text/html": [
       "<dl class=dl-horizontal>\n",
       "\t<dt>threshold</dt>\n",
       "\t\t<dd>0.405</dd>\n",
       "\t<dt>specificity</dt>\n",
       "\t\t<dd>83.19</dd>\n",
       "\t<dt>sensitivity</dt>\n",
       "\t\t<dd>85.821</dd>\n",
       "</dl>\n"
      ],
      "text/latex": [
       "\\begin{description*}\n",
       "\\item[threshold] 0.405\n",
       "\\item[specificity] 83.19\n",
       "\\item[sensitivity] 85.821\n",
       "\\end{description*}\n"
      ],
      "text/markdown": [
       "threshold\n",
       ":   0.405specificity\n",
       ":   83.19sensitivity\n",
       ":   85.821\n",
       "\n"
      ],
      "text/plain": [
       "  threshold specificity sensitivity \n",
       "      0.405      83.190      85.821 "
      ]
     },
     "metadata": {},
     "output_type": "display_data"
    },
    {
     "data": {
      "text/html": [
       "<dl class=dl-horizontal>\n",
       "\t<dt>threshold</dt>\n",
       "\t\t<dd>0.451</dd>\n",
       "\t<dt>specificity</dt>\n",
       "\t\t<dd>85.345</dd>\n",
       "\t<dt>sensitivity</dt>\n",
       "\t\t<dd>83.582</dd>\n",
       "</dl>\n"
      ],
      "text/latex": [
       "\\begin{description*}\n",
       "\\item[threshold] 0.451\n",
       "\\item[specificity] 85.345\n",
       "\\item[sensitivity] 83.582\n",
       "\\end{description*}\n"
      ],
      "text/markdown": [
       "threshold\n",
       ":   0.451specificity\n",
       ":   85.345sensitivity\n",
       ":   83.582\n",
       "\n"
      ],
      "text/plain": [
       "  threshold specificity sensitivity \n",
       "      0.451      85.345      83.582 "
      ]
     },
     "metadata": {},
     "output_type": "display_data"
    },
    {
     "data": {
      "text/html": [
       "<dl class=dl-horizontal>\n",
       "\t<dt>threshold</dt>\n",
       "\t\t<dd>0.595</dd>\n",
       "\t<dt>specificity</dt>\n",
       "\t\t<dd>70.259</dd>\n",
       "\t<dt>sensitivity</dt>\n",
       "\t\t<dd>95.149</dd>\n",
       "</dl>\n"
      ],
      "text/latex": [
       "\\begin{description*}\n",
       "\\item[threshold] 0.595\n",
       "\\item[specificity] 70.259\n",
       "\\item[sensitivity] 95.149\n",
       "\\end{description*}\n"
      ],
      "text/markdown": [
       "threshold\n",
       ":   0.595specificity\n",
       ":   70.259sensitivity\n",
       ":   95.149\n",
       "\n"
      ],
      "text/plain": [
       "  threshold specificity sensitivity \n",
       "      0.595      70.259      95.149 "
      ]
     },
     "metadata": {},
     "output_type": "display_data"
    },
    {
     "data": {
      "text/html": [
       "<dl class=dl-horizontal>\n",
       "\t<dt>threshold</dt>\n",
       "\t\t<dd>0.703</dd>\n",
       "\t<dt>specificity</dt>\n",
       "\t\t<dd>69.397</dd>\n",
       "\t<dt>sensitivity</dt>\n",
       "\t\t<dd>95.896</dd>\n",
       "</dl>\n"
      ],
      "text/latex": [
       "\\begin{description*}\n",
       "\\item[threshold] 0.703\n",
       "\\item[specificity] 69.397\n",
       "\\item[sensitivity] 95.896\n",
       "\\end{description*}\n"
      ],
      "text/markdown": [
       "threshold\n",
       ":   0.703specificity\n",
       ":   69.397sensitivity\n",
       ":   95.896\n",
       "\n"
      ],
      "text/plain": [
       "  threshold specificity sensitivity \n",
       "      0.703      69.397      95.896 "
      ]
     },
     "metadata": {},
     "output_type": "display_data"
    }
   ],
   "source": [
    "#CUSTOS\n",
    "\n",
    "#Custo de um TN é 0.5 vezes maior que um TP\n",
    "cost(knn,base6,type='caret',c(0.5, 268/500))\n",
    "cost(qda,base6,type='caret',c(0.5, 268/500))\n",
    "\n",
    "\n",
    "#Custo de um TN é 2 vezes maior que um TP\n",
    "cost(knn,base6,type='caret',c(2, 268/500))\n",
    "cost(qda,base6,type='caret',c(2, 268/500))"
   ]
  }
 ],
 "metadata": {
  "kernelspec": {
   "display_name": "R",
   "language": "R",
   "name": "ir"
  },
  "language_info": {
   "codemirror_mode": "r",
   "file_extension": ".r",
   "mimetype": "text/x-r-source",
   "name": "R",
   "pygments_lexer": "r",
   "version": "3.4.3"
  }
 },
 "nbformat": 4,
 "nbformat_minor": 2
}
