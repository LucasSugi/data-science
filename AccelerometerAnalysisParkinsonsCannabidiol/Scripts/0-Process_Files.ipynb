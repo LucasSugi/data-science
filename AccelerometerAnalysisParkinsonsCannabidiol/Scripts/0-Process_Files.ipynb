{
 "cells": [
  {
   "cell_type": "markdown",
   "metadata": {},
   "source": [
    "# Process Files\n",
    "\n",
    "Iremos realizar um pré-processamento nos dados."
   ]
  },
  {
   "cell_type": "code",
   "execution_count": 1,
   "metadata": {},
   "outputs": [],
   "source": [
    "import os\n",
    "import numpy as np\n",
    "import pandas as pd\n",
    "from sklearn.preprocessing import LabelEncoder\n",
    "from featureExtraction import featuresFromDataframe\n",
    "from readAccelerometerData import createDatasetFromFiles"
   ]
  },
  {
   "cell_type": "code",
   "execution_count": 2,
   "metadata": {},
   "outputs": [],
   "source": [
    "#Setando diretorio Data como o atual\n",
    "os.chdir('../Data')\n",
    "\n",
    "#Criando dataframe com os dados\n",
    "dataf = createDatasetFromFiles()\n",
    "\n",
    "# extracts from accelerometer data (0) and maximum frequency 32, without filtering\n",
    "feats0_32 = featuresFromDataframe(dataf, 0, maxfr=32, filtering=False)\n",
    "\n",
    "#Criando dataframe\n",
    "df_features = pd.DataFrame(feats0_32)\n",
    "\n",
    "#Sort names\n",
    "df_features.sort_values(0,inplace=True)\n",
    "\n",
    "#Criando encoder\n",
    "le = LabelEncoder().fit(df_features[0])\n",
    "\n",
    "#Codificando o nome das pessoas\n",
    "df_features[0] = ['person_' + str(ID) for ID in le.transform(df_features[0])]\n",
    "\n",
    "#Salvando dados\n",
    "df_features.to_csv('features.csv',index=False)"
   ]
  },
  {
   "cell_type": "markdown",
   "metadata": {},
   "source": [
    "O dataframe df_features possui colunas no seguinte formato:\n",
    "\n",
    "- Nome da pessoa\n",
    "- Número da avaliação em que se tomou a droga 1\n",
    "- Droga 1 (64 colunas):\n",
    "    -  Medidas (8 colunas):\n",
    "        - Features (18 colunas).\n",
    "- Droga 2 (64 colunas):\n",
    "    - Medidas (8 colunas):\n",
    "        - Features (18 colunas).\n",
    "        \n",
    "Cada linha corresponde a uma pessoa."
   ]
  },
  {
   "cell_type": "code",
   "execution_count": 3,
   "metadata": {},
   "outputs": [],
   "source": [
    "#Dataframe com os dados transformados\n",
    "df_final = pd.DataFrame()\n",
    "\n",
    "#Range das colunas com atributos da serie temporal\n",
    "start = 2\n",
    "end = 20\n",
    "step = 18\n",
    "\n",
    "#Roda para os 16 arquivos\n",
    "for i in range(16):\n",
    "    df_final = df_final.append(pd.DataFrame(df_features.iloc[:,start:end].values))\n",
    "\n",
    "    #Atualiza range para pegar outro arquivo\n",
    "    start+=step\n",
    "    end+=step\n",
    "\n",
    "#Setando nome para as colunas\n",
    "df_final.columns = ['pse', 'pspf1', 'pspf2', 'pspf3', 'psp1', 'psp2', 'psp3', 'wpsf','RMS','range','mean','var','skew','kurt','jerk_mean','jerk_std','jerk_skew','jerk_kur']"
   ]
  },
  {
   "cell_type": "code",
   "execution_count": 4,
   "metadata": {},
   "outputs": [],
   "source": [
    "#Dataframe com os dados transformados\n",
    "df_final = pd.DataFrame()\n",
    "\n",
    "#Range das colunas com atributos da serie temporal\n",
    "start = 2\n",
    "end = 20\n",
    "step = 18\n",
    "\n",
    "#Roda para os 16 arquivos\n",
    "for i in range(16):\n",
    "    df_final = df_final.append(pd.DataFrame(df_features.iloc[:,start:end].values))\n",
    "\n",
    "    #Atualiza range para pegar outro arquivo\n",
    "    start+=step\n",
    "    end+=step\n",
    "\n",
    "#Setando nome para as colunas\n",
    "df_final.columns = ['pse', 'pspf1', 'pspf2', 'pspf3', 'psp1', 'psp2', 'psp3', 'wpsf','RMS','range','mean','var','skew','kurt','jerk_mean','jerk_std','jerk_skew','jerk_kur']\n",
    "\n",
    "#Criando colunas nome, avaliacao, tipo de droga tomada e measure\n",
    "df_final['name'] = np.tile(df_features.iloc[:,0],16)\n",
    "df_final['evaluate'] = np.tile(df_features.iloc[:,1],16)\n",
    "df_final['measure'] = np.tile(np.repeat([1,2,3,4,5,6,7,8],22),2)\n",
    "df_final['drug'] = np.repeat([1,2],176)\n",
    "\n",
    "#Sort\n",
    "df_final.sort_values(by=['name','drug','measure'],inplace=True)\n",
    "\n",
    "#Mudando tipo das colunas\n",
    "df_final.loc[:,['pspf1','pspf2','pspf3']] = df_final[['pspf1','pspf2','pspf3']].astype('int')\n",
    "\n",
    "#Mapeando droga\n",
    "df_final.loc[:,'drug'] = df_final['drug'].map({1:'placebo',2:'CBD'})\n",
    "\n",
    "#Filtro para a avaliacao\n",
    "filter_evaluate = ((df_final['evaluate'] == 1) & (df_final['drug'] == 'placebo')) | ((df_final['evaluate'] == 2) & (df_final['drug'] == 'CBD'))\n",
    "\n",
    "#Mapeando medida\n",
    "df_final['measure'] = df_final['measure'].map({1:'B',3:'P',4:'A',5:'S1',6:'S2',7:'F1',8:'F2'})\n",
    "\n",
    "#Setando dados - Agora evaluate indica o numero da avalicao\n",
    "df_final.loc[filter_evaluate,'evaluate'] = 1\n",
    "df_final.loc[~filter_evaluate,'evaluate'] = 2\n",
    "\n",
    "#Filtrando - exclusao da medida 2 por nao ser relevante segundo os medicos\n",
    "df_final.dropna(inplace=True)\n",
    "\n",
    "#Nome como index\n",
    "df_final.set_index('name',inplace=True)\n",
    "\n",
    "#Salvando dados\n",
    "df_final.loc[:,['pse','pspf1','pspf2','pspf3','psp1','psp2','psp3','wpsf','evaluate','measure','drug']].to_csv('parkinson_v1.csv')\n",
    "df_final.to_csv('parkinson_v2.csv')"
   ]
  },
  {
   "cell_type": "markdown",
   "metadata": {},
   "source": [
    "# Observações\n",
    "\n",
    "- Os scripts <b>featureExtraction.py</b> e <b>readAccelerometerData.py</b> foram desenvolvidos pelo professor Moacir e seus códigos originais se encontram em https://github.com/maponti/AccelerometerAnalysisParkinsonsCannabidiol. \n",
    "\n",
    "- Os dados 'brutos' não se encontram neste repositório por questões de confidencialidade das pessoas envolvidas no experimento. Assim não é possível executar este notebook."
   ]
  }
 ],
 "metadata": {
  "kernelspec": {
   "display_name": "Python 3",
   "language": "python",
   "name": "python3"
  },
  "language_info": {
   "codemirror_mode": {
    "name": "ipython",
    "version": 3
   },
   "file_extension": ".py",
   "mimetype": "text/x-python",
   "name": "python",
   "nbconvert_exporter": "python",
   "pygments_lexer": "ipython3",
   "version": "3.7.1"
  }
 },
 "nbformat": 4,
 "nbformat_minor": 2
}
