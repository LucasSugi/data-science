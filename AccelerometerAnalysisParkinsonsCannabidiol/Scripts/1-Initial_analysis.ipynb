{
 "cells": [
  {
   "cell_type": "markdown",
   "metadata": {},
   "source": [
    "# Análises estatísticas\n",
    "\n",
    "A partir de várias análises estatísticas iremos entender melhor os dados assim como gerar possíveis insights."
   ]
  },
  {
   "cell_type": "markdown",
   "metadata": {},
   "source": [
    "# 1. Conhecendo os dados\n",
    "\n",
    "Iremos conhecer os atributos dos dados assim como outras estatísticas básicas."
   ]
  },
  {
   "cell_type": "code",
   "execution_count": null,
   "metadata": {},
   "outputs": [],
   "source": [
    "import os\n",
    "import numpy as np\n",
    "import pandas as pd\n",
    "import matplotlib.pyplot as plt\n",
    "import seaborn as sns\n",
    "from scipy.stats import f_oneway\n",
    "from scipy.stats import boxcox\n",
    "from sklearn.preprocessing import StandardScaler, MinMaxScaler"
   ]
  },
  {
   "cell_type": "code",
   "execution_count": null,
   "metadata": {},
   "outputs": [],
   "source": [
    "#Setando diretorio Data como o atual\n",
    "os.chdir('../Data')\n",
    "\n",
    "#Leitura dos dados\n",
    "df_parkinson = pd.read_csv('parkinson_v1.csv',index_col='name')\n",
    "\n",
    "#Apresentacao dos dados\n",
    "df_parkinson.head()"
   ]
  },
  {
   "cell_type": "markdown",
   "metadata": {},
   "source": [
    "Temos um total de 22 pessoas com Doença de Parkinson (PD) sendo que para cada uma houve duas coletas, que foram divididas em 2 experimentos com intervalo de 15 dias entre cada um. O experimento foi realizado de maneira cruzada, isso significa que em algum momento a pessoa tomou o placebo e em outro o Canabidiol (CBD).\n",
    "\n",
    "Para cada experimento coletaram-se 7 amostras ao longo do tempo na qual extraiu-se 8 atributos, que são:\n",
    "\n",
    "- pse: Entropia do Espectro de Potência.\n",
    "- pspf1: Frequência de Pico do Espectro de Potência\n",
    "- pspf2: Frequência de Pico do Espectro de Potência\n",
    "- pspf3: Frequência de Pico do Espectro de Potência\n",
    "- psp1: Pico do Espectro de Potência\n",
    "- psp2: Pico do Espectro de Potência\n",
    "- psp3: Pico do Espectro de Potência\n",
    "- wspf: Pico de Frequência Ponderada do Espectro de Potência\n",
    "\n",
    "Além desses atributos temos as seguintes informações nos dados:\n",
    "\n",
    "- name: Nome da pessoa.\n",
    "- measure: Medida realizada ao longo do tempo.\n",
    "    - B: Basal\n",
    "    - P: Pré-estresse\n",
    "    - A: Antecipatória\n",
    "    - S1: Início discurso\n",
    "    - S2: Fim discurso\n",
    "    - F1: Pós-estresse 1\n",
    "    - F2: Pós-estresse 2\n",
    "- evaluate: Indicação do número da avaliação (1 ou 2).\n",
    "- drug: Droga sendo administrada (placebo ou CBD).\n",
    "\n",
    "Observação:\n",
    "- wspf = psp1 * pspf1"
   ]
  },
  {
   "cell_type": "code",
   "execution_count": null,
   "metadata": {},
   "outputs": [],
   "source": [
    "#Quantidade de amostras e atributos\n",
    "df_parkinson.shape"
   ]
  },
  {
   "cell_type": "code",
   "execution_count": null,
   "metadata": {},
   "outputs": [],
   "source": [
    "#Quantidade de pessoas\n",
    "len(df_parkinson.index.unique())"
   ]
  },
  {
   "cell_type": "code",
   "execution_count": null,
   "metadata": {},
   "outputs": [],
   "source": [
    "#Estatísticas básicas\n",
    "df_parkinson.drop(columns=['measure','evaluate','drug']).describe()"
   ]
  },
  {
   "cell_type": "markdown",
   "metadata": {},
   "source": [
    "Podemos ver que temos um total de 308 amostras que foram coletadas para um total de 22 pessoas. Lembrando que cada pessoa gerou 16 amostras (8 do placebo e 8 do CBD) ao longo do tempo.\n",
    "\n",
    "Tirando o atributo pse, os demais aparentam ter valores muito grande a partir do percentil 75, isso nos chama a atenção para possíveis outliers."
   ]
  },
  {
   "cell_type": "markdown",
   "metadata": {},
   "source": [
    "# 2. Análises\n",
    "\n",
    "\n",
    "Análise estatística dos dados."
   ]
  },
  {
   "cell_type": "markdown",
   "metadata": {},
   "source": [
    "## 2.1 Análise dos dados divididos por tipo de droga\n",
    "\n",
    "\n",
    "Análise estatística na qual iremos dividir os dados em dois grupos que são as classes das drogas. O propósito disso é identificar se há diferenças signiticativas para os grupos de pessoas com PD após o uso ou não do CBD."
   ]
  },
  {
   "cell_type": "code",
   "execution_count": null,
   "metadata": {},
   "outputs": [],
   "source": [
    "'''Plota varios boxplot definido por x e cols'''\n",
    "def boxplot(df,cols,x):\n",
    "    \n",
    "    #Iremos plotar 3 graficos por linhas\n",
    "    ncol = 3\n",
    "    \n",
    "    #Numero de linhas é calculado automaticamente\n",
    "    nrow = int(len(cols)/3)+1\n",
    "    \n",
    "    fig = plt.figure(figsize=(15,9))\n",
    "    fig.subplots_adjust(wspace=0.3,hspace=0.3)\n",
    "    for index,c in enumerate(cols):\n",
    "        ax = fig.add_subplot(nrow,ncol,index+1)\n",
    "        ax.xaxis.label.set_size(15)\n",
    "        ax.yaxis.label.set_size(15)\n",
    "        sns.boxplot(data=df,x=x,y=c)\n",
    "    plt.show()\n",
    "\n",
    "'''Plota um pairplot customizado'''\n",
    "def pairplot(df,col_plot,hue):\n",
    "    \n",
    "    #Pairplot\n",
    "    g = sns.pairplot(data=df,hue=hue,vars=col_plot)\n",
    "\n",
    "    #Quantidade de colunas para plotar\n",
    "    n = len(col_plot)\n",
    "    \n",
    "    #Customizando figura\n",
    "    for index in range(n):\n",
    "        \n",
    "        #Muda o tamanho de xticklabels \n",
    "        for tick_x in g.axes[n-1][index].get_xticklabels():\n",
    "            tick_x.set_fontsize(13)\n",
    "\n",
    "        #Muda o tamanho de yticklabels\n",
    "        for tick_y in g.axes[index][0].get_yticklabels():\n",
    "            tick_y.set_fontsize(13)\n",
    "\n",
    "        #Muda o tamanho de xlabel/ylabel\n",
    "        g.axes[n-1][index].xaxis.label.set_size(15)\n",
    "        g.axes[index][0].yaxis.label.set_size(15)\n",
    "\n",
    "    #Muda tamanho das legendas\n",
    "    g.fig.get_children()[-1].properties()['title'].set_fontsize(15)\n",
    "    g.fig.get_children()[-1].prop.set_size(15)\n",
    "    plt.show()"
   ]
  },
  {
   "cell_type": "code",
   "execution_count": null,
   "metadata": {},
   "outputs": [],
   "source": [
    "#Colunas numericas\n",
    "numeric_cols = df_parkinson.columns[1:-3].values\n",
    "\n",
    "#Pairplot\n",
    "pairplot(df_parkinson,numeric_cols,'drug')"
   ]
  },
  {
   "cell_type": "markdown",
   "metadata": {},
   "source": [
    "Dados que as distribuições aparentam ser assimétricas, iremos aplicar a box cox com o intuito de normalizar os dados."
   ]
  },
  {
   "cell_type": "code",
   "execution_count": null,
   "metadata": {},
   "outputs": [],
   "source": [
    "#Normalização via boxcox\n",
    "for col in numeric_cols:\n",
    "    df_parkinson.loc[:,col],_ = boxcox(df_parkinson.loc[:,col])\n",
    "    \n",
    "#Normalizacao dos dados - media 0 e desvio padrao 1\n",
    "# df_parkinson.loc[:,numeric_cols] = StandardScaler().fit_transform(df_parkinson.loc[:,numeric_cols])\n",
    "\n",
    "#Normalizacao dos dados - min 0 e max 1\n",
    "df_parkinson.loc[:,numeric_cols] = MinMaxScaler().fit_transform(df_parkinson.loc[:,numeric_cols])"
   ]
  },
  {
   "cell_type": "code",
   "execution_count": null,
   "metadata": {},
   "outputs": [],
   "source": [
    "#Pairplot\n",
    "pairplot(df_parkinson,numeric_cols,'drug')"
   ]
  },
  {
   "cell_type": "code",
   "execution_count": null,
   "metadata": {},
   "outputs": [],
   "source": [
    "#Boxplot divido por droga\n",
    "boxplot(df_parkinson,numeric_cols,'drug')"
   ]
  },
  {
   "cell_type": "markdown",
   "metadata": {},
   "source": [
    "Pelo boxplot aparentemente não há nenhuma diferença significativa nos grupos, mas há outliers.\n",
    "\n",
    "E segundo o pairplot existe algumas relações lineares como é o caso dos psp's e pse com outras variáveis.\n",
    "\n",
    "Além disso, em todos os atributos os espaços aparentam estar com as clases sobrepostas. Usar um classificador nesses dados provavelmente não produzirá bons resultados."
   ]
  },
  {
   "cell_type": "code",
   "execution_count": null,
   "metadata": {},
   "outputs": [],
   "source": [
    "#Divide dataset por droga\n",
    "df_drug1 = df_parkinson[df_parkinson['drug'] == 'placebo'].copy()\n",
    "df_drug2 = df_parkinson[df_parkinson['drug'] == 'CBD'].copy()"
   ]
  },
  {
   "cell_type": "code",
   "execution_count": null,
   "metadata": {},
   "outputs": [],
   "source": [
    "#Heatmap das correlações\n",
    "fig = plt.figure(figsize=(16,5))\n",
    "ax = fig.add_subplot(131,title='Placebo')\n",
    "sns.heatmap(round(df_drug1.loc[:,numeric_cols].corr(),2),vmin=-1,vmax=1,annot=True,ax=ax)\n",
    "ax = fig.add_subplot(132,title='CBD')\n",
    "sns.heatmap(round(df_drug2.loc[:,numeric_cols].corr(),2),vmin=-1,vmax=1,annot=True,ax=ax)\n",
    "ax = fig.add_subplot(133,title='Tudo')\n",
    "sns.heatmap(round(df_parkinson.loc[:,numeric_cols].corr(),2),vmin=-1,vmax=1,annot=True,ax=ax)\n",
    "plt.show()"
   ]
  },
  {
   "cell_type": "markdown",
   "metadata": {},
   "source": [
    "Olhando o heatmap temos que as principais correlações são:\n",
    "- psp's entre si (Positiva).\n",
    "- wspf com todos os psp's (Positiva).\n",
    "- wpsf com pse (Negativa).\n",
    "- psp1 com pse (Negativa)"
   ]
  },
  {
   "cell_type": "code",
   "execution_count": null,
   "metadata": {},
   "outputs": [],
   "source": [
    "#ANOVA entre os atributos\n",
    "_, pvalue = f_oneway(df_drug1.loc[:,numeric_cols],df_drug2.loc[:,numeric_cols])\n",
    "dict(zip(numeric_cols,pvalue))"
   ]
  },
  {
   "cell_type": "markdown",
   "metadata": {},
   "source": [
    "Segundo o anova temos difenças significativas em psp2 e psp3."
   ]
  },
  {
   "cell_type": "markdown",
   "metadata": {},
   "source": [
    "## 2.2 Análise dos dados dividos por tipo de droga porém sumarizados ao longo do tempo\n",
    "\n",
    "Iremos realizar as análises nos mesmos grupos propostos anteriomente, contudo, faremos uma sumarização dos dados temporais para cada pessoa no seu respectivo grupo."
   ]
  },
  {
   "cell_type": "code",
   "execution_count": null,
   "metadata": {},
   "outputs": [],
   "source": [
    "#Média de cada atributo por droga e pessoa - sumarização dos dados temporais\n",
    "df_summary_parkinson = df_parkinson.drop(columns='evaluate').groupby(['drug','name']).agg(np.mean).reset_index()"
   ]
  },
  {
   "cell_type": "code",
   "execution_count": null,
   "metadata": {},
   "outputs": [],
   "source": [
    "#Boxplot divido por grupo para as medias dos atributos de cada pessoa\n",
    "boxplot(df_summary_parkinson,numeric_cols,'drug')"
   ]
  },
  {
   "cell_type": "code",
   "execution_count": null,
   "metadata": {},
   "outputs": [],
   "source": [
    "#Divindo dataset por tipo de droga\n",
    "df_drug1 = df_summary_parkinson[df_summary_parkinson['drug'] == 'placebo'].copy()\n",
    "df_drug2 = df_summary_parkinson[df_summary_parkinson['drug'] == 'CBD'].copy()\n",
    "\n",
    "#ANOVA entre os atributos\n",
    "_, pvalue = f_oneway(df_drug1.loc[:,numeric_cols],df_drug2.loc[:,numeric_cols])\n",
    "dict(zip(numeric_cols,pvalue))"
   ]
  },
  {
   "cell_type": "markdown",
   "metadata": {},
   "source": [
    "Realizando a média para as séries temporais temos que os boxplot's tendem a ficar mais 'shifitados'. Contudo, isso possívelmente ocorreu por causa da sumarização dos outliers, que tenderam a sumir por causa da média.\n",
    "\n",
    "Segundo o ANOVA temos diferença apenas no atributo psp3."
   ]
  },
  {
   "cell_type": "code",
   "execution_count": null,
   "metadata": {},
   "outputs": [],
   "source": [
    "#Pairplot\n",
    "pairplot(df_summary_parkinson,numeric_cols,'drug')"
   ]
  },
  {
   "cell_type": "code",
   "execution_count": null,
   "metadata": {},
   "outputs": [],
   "source": [
    "#Heatmap\n",
    "fig = plt.figure(figsize=(16,7))\n",
    "ax = fig.add_subplot(121)\n",
    "ax = sns.heatmap(df_drug1.loc[:,numeric_cols].corr(),vmin=-1,vmax=1,annot=True,ax=ax)\n",
    "ax = fig.add_subplot(122)\n",
    "sns.heatmap(df_drug2.loc[:,numeric_cols].corr(),vmin=-1,vmax=1,annot=True,ax=ax)\n",
    "plt.show()"
   ]
  },
  {
   "cell_type": "markdown",
   "metadata": {},
   "source": [
    "É interessante notar que a sumarização deixou mais visível que as classes estão distribuídas de maneira 'aleatória' para cada atributo no espaço. \n",
    "\n",
    "As correlações ficaram praticamente as mesmas com excecão de uma adição:\n",
    "- pse com pspf1 (Positiva)."
   ]
  },
  {
   "cell_type": "code",
   "execution_count": null,
   "metadata": {},
   "outputs": [],
   "source": [
    "#Desvio padrão de cada atributo por droga e pessoa - sumarização dos dados temporais\n",
    "df_summary_parkinson = df_parkinson.drop(columns=['measure','evaluate']).groupby(['drug','name']).agg(np.std).reset_index()"
   ]
  },
  {
   "cell_type": "code",
   "execution_count": null,
   "metadata": {},
   "outputs": [],
   "source": [
    "#Boxplot divido por grupo para o desvio padrão dos atributos de cada pessoa\n",
    "boxplot(df_summary_parkinson,numeric_cols,'drug')"
   ]
  },
  {
   "cell_type": "code",
   "execution_count": null,
   "metadata": {},
   "outputs": [],
   "source": [
    "#Divindo dataset por tipo de droga\n",
    "df_drug1 = df_summary_parkinson[df_summary_parkinson['drug'] == 'placebo'].copy()\n",
    "df_drug2 = df_summary_parkinson[df_summary_parkinson['drug'] == 'CBD'].copy()\n",
    "\n",
    "#ANOVA entre os atributos\n",
    "_, pvalue = f_oneway(df_drug1.loc[:,numeric_cols],df_drug2.loc[:,numeric_cols])\n",
    "dict(zip(numeric_cols,pvalue))"
   ]
  },
  {
   "cell_type": "code",
   "execution_count": null,
   "metadata": {},
   "outputs": [],
   "source": [
    "#Pairplot\n",
    "pairplot(df_summary_parkinson,numeric_cols,'drug')"
   ]
  },
  {
   "cell_type": "markdown",
   "metadata": {},
   "source": [
    "Segundo o ANOVA não há diferenças significativas apenas em pse. Nos chama a atenção novamente que os boxplot's estão mais 'shifitados' assim como os espaços das variáveis parecem ser mais divisíveis.\n",
    "\n",
    "Possívelmente uma combinação da média e desvio padrão dos atributos pode ser útil."
   ]
  },
  {
   "cell_type": "markdown",
   "metadata": {},
   "source": [
    "## 2.3 Análise dos dados divididos por tipo de droga e com métricas resumidas por amostra\n",
    "\n",
    "Iremos utilizar o mesmo agrupamento anterior mas agora com as métricas resumidas ao longo das amostras com o mesmo objetivo de avaliar diferenças significativas."
   ]
  },
  {
   "cell_type": "code",
   "execution_count": null,
   "metadata": {},
   "outputs": [],
   "source": [
    "#Copia\n",
    "df_summary_parkinson = df_parkinson.copy()\n",
    "\n",
    "#Excluindo colunas desnecessarias\n",
    "df_summary_parkinson.drop(columns=['measure','evaluate','pse','pspf1','pspf2','pspf3','psp1','psp2','psp3'],inplace=True)\n",
    "\n",
    "#Calculando resumos por amostras\n",
    "df_summary_parkinson['pspf_mean'] = df_parkinson.apply(lambda x: x[['pspf1','pspf2','pspf3']].mean(),axis=1)\n",
    "df_summary_parkinson['pspf_std'] = df_parkinson.apply(lambda x: x[['pspf1','pspf2','pspf3']].std(),axis=1)\n",
    "df_summary_parkinson['psp_mean'] = df_parkinson.apply(lambda x: x[['psp1','psp2','psp3']].mean(),axis=1)\n",
    "df_summary_parkinson['psp_std'] = df_parkinson.apply(lambda x: x[['psp1','psp2','psp3']].std(),axis=1)"
   ]
  },
  {
   "cell_type": "code",
   "execution_count": null,
   "metadata": {},
   "outputs": [],
   "source": [
    "#Colunas numericas\n",
    "numeric_cols = df_summary_parkinson.select_dtypes('float').columns.values"
   ]
  },
  {
   "cell_type": "code",
   "execution_count": null,
   "metadata": {},
   "outputs": [],
   "source": [
    "#Boxplot\n",
    "boxplot(df_summary_parkinson,numeric_cols,'drug')\n",
    "\n",
    "#Divindo dataset por tipo de droga\n",
    "df_drug1 = df_summary_parkinson[df_summary_parkinson['drug'] == 'placebo'].copy()\n",
    "df_drug2 = df_summary_parkinson[df_summary_parkinson['drug'] == 'CBD'].copy()\n",
    "\n",
    "#ANOVA entre os atributos\n",
    "_, pvalue = f_oneway(df_drug1.loc[:,numeric_cols],df_drug2.loc[:,numeric_cols])\n",
    "dict(zip(numeric_cols,pvalue))"
   ]
  },
  {
   "cell_type": "code",
   "execution_count": null,
   "metadata": {},
   "outputs": [],
   "source": [
    "#Pairplot\n",
    "pairplot(df_summary_parkinson,numeric_cols,'drug')"
   ]
  },
  {
   "cell_type": "markdown",
   "metadata": {},
   "source": [
    "Como podemos ver a distribuição no espaço ainda é aleatória, contudo, foi possível obter uma signifiância no atributo pse_mean."
   ]
  },
  {
   "cell_type": "markdown",
   "metadata": {},
   "source": [
    "## 2.4 Análise dos dados dividos por tipo de droga porém sumarizados ao longo do tempo e por amostra\n",
    "\n",
    "Iremos adicionar as outras análises o fato de que para cada amostra iremos sumarizar os dados, por exemplo, para uma amostra iremos calcular a média de psp1,psp2 e psp3. Depois disso realizaremos novamente um resumo ao longo do tempo e depois novas análises para os grupos dividos por tipo de droga."
   ]
  },
  {
   "cell_type": "code",
   "execution_count": null,
   "metadata": {},
   "outputs": [],
   "source": [
    "#Copia do dataframe sem as colunas que seram resumidas\n",
    "df_summary_parkinson = df_parkinson.drop(columns=['evaluate','measure','pspf1','pspf2','pspf3','psp1','psp2','psp3']).copy()\n",
    "\n",
    "#Resumo das metricas por meio da media\n",
    "df_summary_parkinson['pspf'] = df_parkinson.apply(lambda x: x[['pspf1','pspf2','pspf3']].mean(),axis=1)\n",
    "df_summary_parkinson['psp'] = df_parkinson.apply(lambda x: x[['psp1','psp2','psp3']].mean(),axis=1)\n",
    "\n",
    "#Resumo das metricas ao longo do tempo\n",
    "df_summary_parkinson = df_summary_parkinson.groupby(['drug','name']).agg(np.mean).reset_index()\n",
    "\n",
    "#Colunas numericas\n",
    "numeric_cols = df_summary_parkinson.columns[2:].values"
   ]
  },
  {
   "cell_type": "code",
   "execution_count": null,
   "metadata": {},
   "outputs": [],
   "source": [
    "#Boxplot\n",
    "boxplot(df_summary_parkinson,numeric_cols,'drug')"
   ]
  },
  {
   "cell_type": "code",
   "execution_count": null,
   "metadata": {},
   "outputs": [],
   "source": [
    "#Pairplot\n",
    "pairplot(df_summary_parkinson,numeric_cols,'drug')"
   ]
  },
  {
   "cell_type": "markdown",
   "metadata": {},
   "source": [
    "Praticamente as mesmas conclusões obtidas pela seção anterior."
   ]
  },
  {
   "cell_type": "markdown",
   "metadata": {},
   "source": [
    "## 2.5 Análise dos dados divididos por tipo de avaliação\n",
    "\n",
    "Iremos agora dividir os dados por meio da avaliação com o objetivo de verificar se dependendo dela os resultados da droga são diferentes."
   ]
  },
  {
   "cell_type": "code",
   "execution_count": null,
   "metadata": {},
   "outputs": [],
   "source": [
    "#Colunas numericas\n",
    "numeric_cols = df_parkinson.columns[2:-2].values\n",
    "\n",
    "#Divindo dados\n",
    "df_evaluate1 = df_parkinson[df_parkinson['evaluate'] == 1]\n",
    "df_evaluate2 = df_parkinson[df_parkinson['evaluate'] == 2]"
   ]
  },
  {
   "cell_type": "code",
   "execution_count": null,
   "metadata": {},
   "outputs": [],
   "source": [
    "#Boxplot\n",
    "boxplot(df_evaluate1,numeric_cols,'drug')"
   ]
  },
  {
   "cell_type": "code",
   "execution_count": null,
   "metadata": {},
   "outputs": [],
   "source": [
    "#Boxplot\n",
    "boxplot(df_evaluate2,numeric_cols,'drug')"
   ]
  },
  {
   "cell_type": "code",
   "execution_count": null,
   "metadata": {},
   "outputs": [],
   "source": [
    "#ANOVA entre os atributos\n",
    "_, pvalue = f_oneway(df_evaluate1.loc[df_evaluate1['drug'] == 'placebo',numeric_cols],df_evaluate1.loc[df_evaluate1['drug'] == 'CBD',numeric_cols])\n",
    "dict(zip(numeric_cols,pvalue))"
   ]
  },
  {
   "cell_type": "code",
   "execution_count": null,
   "metadata": {},
   "outputs": [],
   "source": [
    "#ANOVA entre os atributos\n",
    "_, pvalue = f_oneway(df_evaluate2.loc[df_evaluate2['drug'] == 'placebo',numeric_cols],df_evaluate2.loc[df_evaluate2['drug'] == 'CBD',numeric_cols])\n",
    "dict(zip(numeric_cols,pvalue))"
   ]
  },
  {
   "cell_type": "markdown",
   "metadata": {},
   "source": [
    "É interessante notar que para o atributo psp3 as interpreções são diferentes dependendo da avaliação. Além disso, foi interessante constatar que os p-valores diferentes de uma avaliação para outra. \n",
    "\n",
    "Possívelmente essas diferenças ocorrem porque após o primeiro teste as pessoas já estão mais acostumadas."
   ]
  },
  {
   "cell_type": "markdown",
   "metadata": {},
   "source": [
    "## 2.6 Análise dos dados divididos por tipo de medida\n",
    "\n",
    "Iremos realizar análises estatísticas nos dados separados por medida no intuito de averiguar se para diferentes instâncias de tempo temos diferenças significativas.\n",
    "\n",
    "### 2.6.1 Boxplot's"
   ]
  },
  {
   "cell_type": "code",
   "execution_count": null,
   "metadata": {},
   "outputs": [],
   "source": [
    "#Dividindo dataset por medida\n",
    "df_measureB = df_parkinson[df_parkinson['measure'] == 'B'].drop(columns=['measure','evaluate'])\n",
    "df_measureP = df_parkinson[df_parkinson['measure'] == 'P'].drop(columns=['measure','evaluate'])\n",
    "df_measureA = df_parkinson[df_parkinson['measure'] == 'A'].drop(columns=['measure','evaluate'])\n",
    "df_measureS1 = df_parkinson[df_parkinson['measure'] == 'S1'].drop(columns=['measure','evaluate'])\n",
    "df_measureS2 = df_parkinson[df_parkinson['measure'] == 'S2'].drop(columns=['measure','evaluate'])\n",
    "df_measureF1 = df_parkinson[df_parkinson['measure'] == 'F1'].drop(columns=['measure','evaluate'])\n",
    "df_measureF2 = df_parkinson[df_parkinson['measure'] == 'F2'].drop(columns=['measure','evaluate'])\n",
    "\n",
    "#Colunas numericas\n",
    "numeric_cols = df_measureB.columns.values[:-1]"
   ]
  },
  {
   "cell_type": "code",
   "execution_count": null,
   "metadata": {},
   "outputs": [],
   "source": [
    "#Boxplot - medida B\n",
    "boxplot(df_measureB,numeric_cols,'drug')\n",
    "\n",
    "#ANOVA\n",
    "_,pvalue = f_oneway(df_measureB.loc[df_measureB['drug'] == 'placebo',numeric_cols],df_measureB.loc[df_measureB['drug'] == 'CBD',numeric_cols])\n",
    "print(dict(zip(numeric_cols,pvalue)))"
   ]
  },
  {
   "cell_type": "code",
   "execution_count": null,
   "metadata": {},
   "outputs": [],
   "source": [
    "#Boxplot - medida P\n",
    "boxplot(df_measureP,numeric_cols,'drug')\n",
    "\n",
    "#ANOVA\n",
    "_,pvalue = f_oneway(df_measureP.loc[df_measureP['drug'] == 'placebo',numeric_cols],df_measureP.loc[df_measureP['drug'] == 'CBD',numeric_cols])\n",
    "print(dict(zip(numeric_cols,pvalue)))"
   ]
  },
  {
   "cell_type": "code",
   "execution_count": null,
   "metadata": {},
   "outputs": [],
   "source": [
    "#Boxplot - medida A\n",
    "boxplot(df_measureA,numeric_cols,'drug')\n",
    "\n",
    "#ANOVA\n",
    "_,pvalue = f_oneway(df_measureA.loc[df_measureA['drug'] == 'placebo',numeric_cols],df_measureA.loc[df_measureA['drug'] == 'CBD',numeric_cols])\n",
    "print(dict(zip(numeric_cols,pvalue)))"
   ]
  },
  {
   "cell_type": "code",
   "execution_count": null,
   "metadata": {},
   "outputs": [],
   "source": [
    "#Boxplot - medida S1\n",
    "boxplot(df_measureS1,numeric_cols,'drug')\n",
    "\n",
    "#ANOVA\n",
    "_,pvalue = f_oneway(df_measureS1.loc[df_measureS1['drug'] == 'placebo',numeric_cols],df_measureS1.loc[df_measureS1['drug'] == 'CBD',numeric_cols])\n",
    "print(dict(zip(numeric_cols,pvalue)))"
   ]
  },
  {
   "cell_type": "code",
   "execution_count": null,
   "metadata": {},
   "outputs": [],
   "source": [
    "#Boxplot - medida S2\n",
    "boxplot(df_measureS2,numeric_cols,'drug')\n",
    "\n",
    "#ANOVA\n",
    "_,pvalue = f_oneway(df_measureS2.loc[df_measureS2['drug'] == 'placebo',numeric_cols],df_measureS2.loc[df_measureS2['drug'] == 'CBD',numeric_cols])\n",
    "print(dict(zip(numeric_cols,pvalue)))"
   ]
  },
  {
   "cell_type": "code",
   "execution_count": null,
   "metadata": {},
   "outputs": [],
   "source": [
    "#Boxplot - medida F1\n",
    "boxplot(df_measureF1,numeric_cols,'drug')\n",
    "\n",
    "#ANOVA\n",
    "_,pvalue = f_oneway(df_measureF1.loc[df_measureF1['drug'] == 'placebo',numeric_cols],df_measureF1.loc[df_measureF1['drug'] == 'CBD',numeric_cols])\n",
    "print(dict(zip(numeric_cols,pvalue)))"
   ]
  },
  {
   "cell_type": "code",
   "execution_count": null,
   "metadata": {},
   "outputs": [],
   "source": [
    "#Boxplot - medida F2\n",
    "boxplot(df_measureF2,numeric_cols,'drug')\n",
    "\n",
    "#ANOVA\n",
    "_,pvalue = f_oneway(df_measureF2.loc[df_measureF2['drug'] == 'placebo',numeric_cols],df_measureF2.loc[df_measureF2['drug'] == 'CBD',numeric_cols])\n",
    "print(dict(zip(numeric_cols,pvalue)))"
   ]
  },
  {
   "cell_type": "markdown",
   "metadata": {},
   "source": [
    "Note que não há diferenças muito grandes entre os grupos para nenhuma das fases, apesar de em alguns boxplot's termos um shift maior comparado com todos os dados juntos. Nos chama a atenção que dependendo da fase a mediana dos atributos tendem a ter 'shifts' diferentes entre os grupos. Por exemplo, o pspf3 na fase F1 é diferente do da fase F2."
   ]
  },
  {
   "cell_type": "markdown",
   "metadata": {},
   "source": [
    "### 2.6.2 Pairplot"
   ]
  },
  {
   "cell_type": "code",
   "execution_count": null,
   "metadata": {},
   "outputs": [],
   "source": [
    "#Pairplot - medida B\n",
    "pairplot(df_measureB,numeric_cols,'drug')"
   ]
  },
  {
   "cell_type": "code",
   "execution_count": null,
   "metadata": {},
   "outputs": [],
   "source": [
    "#Pairplot - medida P\n",
    "pairplot(df_measureP,numeric_cols,'drug')"
   ]
  },
  {
   "cell_type": "code",
   "execution_count": null,
   "metadata": {},
   "outputs": [],
   "source": [
    "#Pairplot - medida A\n",
    "pairplot(df_measureA,numeric_cols,'drug')"
   ]
  },
  {
   "cell_type": "code",
   "execution_count": null,
   "metadata": {},
   "outputs": [],
   "source": [
    "#Pairplot - medida S1\n",
    "pairplot(df_measureS1,numeric_cols,'drug')"
   ]
  },
  {
   "cell_type": "code",
   "execution_count": null,
   "metadata": {},
   "outputs": [],
   "source": [
    "#Pairplot - medida S2\n",
    "pairplot(df_measureS2,numeric_cols,'drug')"
   ]
  },
  {
   "cell_type": "code",
   "execution_count": null,
   "metadata": {},
   "outputs": [],
   "source": [
    "#Pairplot - medida F1\n",
    "pairplot(df_measureF1,numeric_cols,'drug')"
   ]
  },
  {
   "cell_type": "code",
   "execution_count": null,
   "metadata": {},
   "outputs": [],
   "source": [
    "#Pairplot - medida F2\n",
    "pairplot(df_measureF2,numeric_cols,'drug')"
   ]
  },
  {
   "cell_type": "markdown",
   "metadata": {},
   "source": [
    "Pelos pairplot's não é possível verificar nenhum espaço que seja muito separável."
   ]
  },
  {
   "cell_type": "markdown",
   "metadata": {},
   "source": [
    "## 2.7 Análise dos dados divididos por tipo de medida e com métricas resumidas por amostra\n",
    "\n",
    "Iremos utilizar o mesmo agrupamento anterior mas agora com as métricas resumidas ao longo das amostras com o mesmo objetivo de avaliar diferenças significativas."
   ]
  },
  {
   "cell_type": "code",
   "execution_count": null,
   "metadata": {},
   "outputs": [],
   "source": [
    "#Dividindo dataset por medida\n",
    "df_measureB = df_parkinson[df_parkinson['measure'] == 'B'].drop(columns=['measure','evaluate'])\n",
    "df_measureP = df_parkinson[df_parkinson['measure'] == 'P'].drop(columns=['measure','evaluate'])\n",
    "df_measureA = df_parkinson[df_parkinson['measure'] == 'A'].drop(columns=['measure','evaluate'])\n",
    "df_measureS1 = df_parkinson[df_parkinson['measure'] == 'S1'].drop(columns=['measure','evaluate'])\n",
    "df_measureS2 = df_parkinson[df_parkinson['measure'] == 'S2'].drop(columns=['measure','evaluate'])\n",
    "df_measureF1 = df_parkinson[df_parkinson['measure'] == 'F1'].drop(columns=['measure','evaluate'])\n",
    "df_measureF2 = df_parkinson[df_parkinson['measure'] == 'F2'].drop(columns=['measure','evaluate'])"
   ]
  },
  {
   "cell_type": "code",
   "execution_count": null,
   "metadata": {},
   "outputs": [],
   "source": [
    "#Calculando resumos para cada dataframe\n",
    "for df in [df_measureB,df_measureP,df_measureA,df_measureS1,df_measureS2,df_measureF1,df_measureF2]:\n",
    "    df['pspf_mean'] = df.apply(lambda x: x[['pspf1','pspf2','pspf3']].mean(),axis=1)\n",
    "    df['pspf_std'] = df.apply(lambda x: x[['pspf1','pspf2','pspf3']].std(),axis=1)\n",
    "    df['psp_mean'] = df.apply(lambda x: x[['psp1','psp2','psp3']].mean(),axis=1)\n",
    "    df['psp_std'] = df.apply(lambda x: x[['psp1','psp2','psp3']].std(),axis=1)\n",
    "\n",
    "    #Excluindo colunas desnecessarias\n",
    "    df.drop(columns=['pspf1','pspf2','pspf3','psp1','psp2','psp3'],inplace=True)"
   ]
  },
  {
   "cell_type": "code",
   "execution_count": null,
   "metadata": {},
   "outputs": [],
   "source": [
    "#Colunas numericas\n",
    "numeric_cols = df_measureB.drop(columns='drug').columns.values\n",
    "\n",
    "#Boxplot - medida B\n",
    "boxplot(df_measureB,numeric_cols,'drug')\n",
    "\n",
    "#ANOVA\n",
    "_,pvalue = f_oneway(df_measureB.loc[df_measureB['drug'] == 'placebo',numeric_cols],df_measureB.loc[df_measureB['drug'] == 'CBD',numeric_cols])\n",
    "print(dict(zip(numeric_cols,pvalue)))"
   ]
  },
  {
   "cell_type": "code",
   "execution_count": null,
   "metadata": {},
   "outputs": [],
   "source": [
    "#Boxplot - medida P\n",
    "boxplot(df_measureP,numeric_cols,'drug')\n",
    "\n",
    "#ANOVA\n",
    "_,pvalue = f_oneway(df_measureP.loc[df_measureP['drug'] == 'placebo',numeric_cols],df_measureP.loc[df_measureP['drug'] == 'CBD',numeric_cols])\n",
    "print(dict(zip(numeric_cols,pvalue)))"
   ]
  },
  {
   "cell_type": "code",
   "execution_count": null,
   "metadata": {},
   "outputs": [],
   "source": [
    "#Boxplot - medida A\n",
    "boxplot(df_measureA,numeric_cols,'drug')\n",
    "\n",
    "#ANOVA\n",
    "_,pvalue = f_oneway(df_measureA.loc[df_measureA['drug'] == 'placebo',numeric_cols],df_measureA.loc[df_measureA['drug'] == 'CBD',numeric_cols])\n",
    "print(dict(zip(numeric_cols,pvalue)))"
   ]
  },
  {
   "cell_type": "code",
   "execution_count": null,
   "metadata": {},
   "outputs": [],
   "source": [
    "#Boxplot - medida S1\n",
    "boxplot(df_measureS1,numeric_cols,'drug')\n",
    "\n",
    "#ANOVA\n",
    "_,pvalue = f_oneway(df_measureS1.loc[df_measureS1['drug'] == 'placebo',numeric_cols],df_measureS1.loc[df_measureS1['drug'] == 'CBD',numeric_cols])\n",
    "print(dict(zip(numeric_cols,pvalue)))"
   ]
  },
  {
   "cell_type": "code",
   "execution_count": null,
   "metadata": {},
   "outputs": [],
   "source": [
    "#Boxplot - medida S2\n",
    "boxplot(df_measureS2,numeric_cols,'drug')\n",
    "\n",
    "#ANOVA\n",
    "_,pvalue = f_oneway(df_measureS2.loc[df_measureS2['drug'] == 'placebo',numeric_cols],df_measureS2.loc[df_measureS2['drug'] == 'CBD',numeric_cols])\n",
    "print(dict(zip(numeric_cols,pvalue)))"
   ]
  },
  {
   "cell_type": "code",
   "execution_count": null,
   "metadata": {},
   "outputs": [],
   "source": [
    "#Boxplot - medida F1\n",
    "boxplot(df_measureF1,numeric_cols,'drug')\n",
    "\n",
    "#ANOVA\n",
    "_,pvalue = f_oneway(df_measureF1.loc[df_measureF1['drug'] == 'placebo',numeric_cols],df_measureF1.loc[df_measureF1['drug'] == 'CBD',numeric_cols])\n",
    "print(dict(zip(numeric_cols,pvalue)))"
   ]
  },
  {
   "cell_type": "code",
   "execution_count": null,
   "metadata": {},
   "outputs": [],
   "source": [
    "#Boxplot - medida F2\n",
    "boxplot(df_measureF2,numeric_cols,'drug')\n",
    "\n",
    "#ANOVA\n",
    "_,pvalue = f_oneway(df_measureF2.loc[df_measureF2['drug'] == 'placebo',numeric_cols],df_measureF2.loc[df_measureF2['drug'] == 'CBD',numeric_cols])\n",
    "print(dict(zip(numeric_cols,pvalue)))"
   ]
  },
  {
   "cell_type": "markdown",
   "metadata": {},
   "source": [
    "Mesmas conclusões para as medidas calculadas no tópico 2.6"
   ]
  },
  {
   "cell_type": "markdown",
   "metadata": {},
   "source": [
    "# 3. Conclusões\n",
    "\n",
    "- Sem nenhum tratamento nos dados provavelmente não será possível usar nenhum algoritmo de machine learning.\n",
    "- Na forma como eles estão, não há diferenças significativas entre os grupos divididos por tipo de droga.\n",
    "- Usar sumarização nos dados temporais pode ser uma boa ideia como médio e desvio padrão em conjunto por apararentemente gerar espaços mais separaveis.\n",
    "- Lembrando que ao realizar resumos nas métricas estaremos diminuindo o número de amostras.\n",
    "- Realizar resumos por amostra não parece ser interessante por não ter produzido resultados interessantes.\n",
    "- Dependendo da fase as conclusões para um mesmo atributo pode ser diferente pois quando voce analisa os boxplot's temos que 'shift's diferentes. Além disso, temos que há fases na qual as diferenças aparenta ser mais significativa. Portanto, pode ser interessante gerar variáveis dummies que indiquem qual o tipo de fase a pessoa se encontra."
   ]
  }
 ],
 "metadata": {
  "kernelspec": {
   "display_name": "Python 3",
   "language": "python",
   "name": "python3"
  },
  "language_info": {
   "codemirror_mode": {
    "name": "ipython",
    "version": 3
   },
   "file_extension": ".py",
   "mimetype": "text/x-python",
   "name": "python",
   "nbconvert_exporter": "python",
   "pygments_lexer": "ipython3",
   "version": "3.7.1"
  }
 },
 "nbformat": 4,
 "nbformat_minor": 2
}
