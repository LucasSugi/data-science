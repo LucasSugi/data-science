{
 "cells": [
  {
   "cell_type": "markdown",
   "metadata": {},
   "source": [
    "# Pre-processing\n",
    "\n",
    "Before we analyze the dataset we will perform some cleaning."
   ]
  },
  {
   "cell_type": "code",
   "execution_count": 1,
   "metadata": {},
   "outputs": [],
   "source": [
    "# Import's\n",
    "import numpy as np\n",
    "import pandas as pd\n",
    "import re\n",
    "import requests\n",
    "import matplotlib.pyplot as plt\n",
    "from bs4 import BeautifulSoup"
   ]
  },
  {
   "cell_type": "markdown",
   "metadata": {},
   "source": [
    "# 1. Cleaning\n",
    "\n",
    "## 1.1 UserList"
   ]
  },
  {
   "cell_type": "code",
   "execution_count": 2,
   "metadata": {},
   "outputs": [],
   "source": [
    "# Reading data\n",
    "userList = pd.read_csv('UserList.csv')"
   ]
  },
  {
   "cell_type": "markdown",
   "metadata": {},
   "source": [
    "We will drop two columns in userList:\n",
    "\n",
    "- user_id: username it's an unique identifier two and it's used on another databases. So it's not necessary this column.\n",
    "- acess_rank: Every sample has NA values in this column.\n",
    "- last_online: For our analysis we don't will use this column."
   ]
  },
  {
   "cell_type": "code",
   "execution_count": 3,
   "metadata": {},
   "outputs": [
    {
     "data": {
      "text/plain": [
       "(302675, 17)"
      ]
     },
     "execution_count": 3,
     "metadata": {},
     "output_type": "execute_result"
    }
   ],
   "source": [
    "# Check amount\n",
    "userList.shape"
   ]
  },
  {
   "cell_type": "code",
   "execution_count": 4,
   "metadata": {},
   "outputs": [],
   "source": [
    "# Cols to drop\n",
    "drop_cols = ['user_id','access_rank','last_online']\n",
    "userList = userList.drop(columns = drop_cols)"
   ]
  },
  {
   "cell_type": "code",
   "execution_count": 5,
   "metadata": {},
   "outputs": [
    {
     "data": {
      "text/plain": [
       "username                         1\n",
       "user_watching                    0\n",
       "user_completed                   0\n",
       "user_onhold                      0\n",
       "user_dropped                     0\n",
       "user_plantowatch                 0\n",
       "user_days_spent_watching         0\n",
       "gender                       84875\n",
       "location                    145901\n",
       "birth_date                  133926\n",
       "join_date                      129\n",
       "stats_mean_score               129\n",
       "stats_rewatched                129\n",
       "stats_episodes                 129\n",
       "dtype: int64"
      ]
     },
     "execution_count": 5,
     "metadata": {},
     "output_type": "execute_result"
    }
   ],
   "source": [
    "# Check for NA values\n",
    "userList.isna().sum()"
   ]
  },
  {
   "cell_type": "code",
   "execution_count": 6,
   "metadata": {},
   "outputs": [],
   "source": [
    "# We can't do anything with gender and username so we will just delete rows without value\n",
    "userList = userList.dropna(subset=['gender','username'])"
   ]
  },
  {
   "cell_type": "code",
   "execution_count": 8,
   "metadata": {},
   "outputs": [
    {
     "data": {
      "text/plain": [
       "array(['Female', 'Male', 'Non-Binary'], dtype=object)"
      ]
     },
     "execution_count": 8,
     "metadata": {},
     "output_type": "execute_result"
    }
   ],
   "source": [
    "# Check unique values\n",
    "userList['gender'].unique()"
   ]
  },
  {
   "cell_type": "code",
   "execution_count": 12,
   "metadata": {},
   "outputs": [],
   "source": [
    "# Remove rows with non-binary\n",
    "userList = userList[~userList['gender'].map(lambda x: x=='Non-Binary')]"
   ]
  },
  {
   "cell_type": "markdown",
   "metadata": {},
   "source": [
    "I prefer delete these rows than impute some value because I think doing this will disrupt our analyzes."
   ]
  },
  {
   "cell_type": "code",
   "execution_count": 13,
   "metadata": {},
   "outputs": [
    {
     "data": {
      "text/plain": [
       "array(['Chennai, India ', 'Manila', 'Detroit,Michigan', 'Nayarit, Mexico',\n",
       "       'Malaysia, Kuantan', 'Nijmegen, Nederland', nan, 'California',\n",
       "       'Poland', 'Norberg Sweden', 'Nebraska', 'England,Manchester',\n",
       "       '~ Hungary ~', 'United Kingdom', 'manila', 'home', 'socal =)',\n",
       "       'Mexico', 'Hamilton Ontario', 'Nevada USA', 'Chicago, IL',\n",
       "       'San Jose, CA', 'somewhere really hot', 'Guess',\n",
       "       'Camaragibe, Pernambuco', 'ａｕｓｔｒｉａ。', 'Canada',\n",
       "       'Rhineland-Palatinate, Germany', 'Philadelphia PA',\n",
       "       'The Crimson World (England :P)', 'Carbonear, Newfoundland',\n",
       "       'Shiraz', 'Romania', 'SC, Brasil', 'Vienna, Austria', 'ROSTOV',\n",
       "       'Parana, Brasil', 'Santa Barbar, California', 'Salisbury NC',\n",
       "       'Kemerovo, Russia', 'Starlight Breaker', 'India',\n",
       "       'Sofia, Bulgaria', 'New South Wales', 'Buenos Aires, Argentina',\n",
       "       'Cairo, Egypt', 'Pelotas,Brasil', 'Chester, California',\n",
       "       'Justinside a Reality Marble', '014'], dtype=object)"
      ]
     },
     "execution_count": 13,
     "metadata": {},
     "output_type": "execute_result"
    }
   ],
   "source": [
    "# If you check column location, you will notice that we have many wrong values\n",
    "userList['location'].unique()[:50]"
   ]
  },
  {
   "cell_type": "code",
   "execution_count": 14,
   "metadata": {},
   "outputs": [],
   "source": [
    "'''\n",
    "\n",
    "Get all countries's names\n",
    "\n",
    "'''\n",
    "def get_countries():\n",
    "    # Request to website\n",
    "    page = requests.get('https://www.britannica.com/topic/list-of-countries-1993160')\n",
    "\n",
    "    # Parsing the page\n",
    "    soup = BeautifulSoup(page.text,'html.parser')\n",
    "\n",
    "    # Get all countries (exclude two first lines because don't have information)\n",
    "    all_countries = soup.find_all(class_='md-crosslink')[2:]\n",
    "\n",
    "    # Get all countries's name\n",
    "    return [x.get_text().lower() for x in all_countries]"
   ]
  },
  {
   "cell_type": "markdown",
   "metadata": {},
   "source": [
    "Let's try to normalize the column location. To do this we will get all countries name and compare with our column. Values that don't match will be consider like 'unknown'."
   ]
  },
  {
   "cell_type": "code",
   "execution_count": 15,
   "metadata": {},
   "outputs": [],
   "source": [
    "# Get all countries\n",
    "all_countries = get_countries()"
   ]
  },
  {
   "cell_type": "code",
   "execution_count": 16,
   "metadata": {},
   "outputs": [
    {
     "name": "stderr",
     "output_type": "stream",
     "text": [
      "/home/sugi/anaconda3/lib/python3.7/site-packages/ipykernel_launcher.py:2: SettingWithCopyWarning: \n",
      "A value is trying to be set on a copy of a slice from a DataFrame.\n",
      "Try using .loc[row_indexer,col_indexer] = value instead\n",
      "\n",
      "See the caveats in the documentation: http://pandas.pydata.org/pandas-docs/stable/indexing.html#indexing-view-versus-copy\n",
      "  \n"
     ]
    }
   ],
   "source": [
    "# Transform all values to lower\n",
    "userList['location'] = userList['location'].map(lambda x: 'unknown' if type(x) == float else x.lower())"
   ]
  },
  {
   "cell_type": "code",
   "execution_count": 17,
   "metadata": {},
   "outputs": [],
   "source": [
    "'''\n",
    "\n",
    "Check with row has some country.\n",
    "If we find more than 1 ou 0 contry\n",
    "thr return value will be unknown\n",
    "\n",
    "'''\n",
    "def check_country(x):\n",
    "        # Check if exist country\n",
    "        country = [country for country in all_countries if country in x]\n",
    "        \n",
    "        # Check if it's one or not\n",
    "        if(len(country) != 1):\n",
    "            return 'unknown'\n",
    "        return country[0]"
   ]
  },
  {
   "cell_type": "code",
   "execution_count": 18,
   "metadata": {},
   "outputs": [
    {
     "name": "stderr",
     "output_type": "stream",
     "text": [
      "/home/sugi/anaconda3/lib/python3.7/site-packages/ipykernel_launcher.py:2: SettingWithCopyWarning: \n",
      "A value is trying to be set on a copy of a slice from a DataFrame.\n",
      "Try using .loc[row_indexer,col_indexer] = value instead\n",
      "\n",
      "See the caveats in the documentation: http://pandas.pydata.org/pandas-docs/stable/indexing.html#indexing-view-versus-copy\n",
      "  \n"
     ]
    }
   ],
   "source": [
    "# Check countries\n",
    "userList['location'] = userList['location'].map(lambda x: check_country(x))"
   ]
  },
  {
   "cell_type": "markdown",
   "metadata": {},
   "source": [
    "We were able to normalize the column location. But as you can see below we have many countries unknown. Because of this we will exclude such lines as well."
   ]
  },
  {
   "cell_type": "code",
   "execution_count": 19,
   "metadata": {},
   "outputs": [],
   "source": [
    "# Delete unknown countries\n",
    "userList = userList[userList['location'] != 'unknown']"
   ]
  },
  {
   "cell_type": "markdown",
   "metadata": {},
   "source": [
    "Now let's tranform column birth_date to age."
   ]
  },
  {
   "cell_type": "code",
   "execution_count": 20,
   "metadata": {},
   "outputs": [],
   "source": [
    "# Creating column age\n",
    "userList['age'] = userList['birth_date'].map(lambda x: x if type(x) == float else 2019-int(x.split('-')[0]))\n",
    "\n",
    "# Delete column birth_date\n",
    "del userList['birth_date']"
   ]
  },
  {
   "cell_type": "markdown",
   "metadata": {},
   "source": [
    "We will fill na values with median. In general this aproach it's better than mean and mode."
   ]
  },
  {
   "cell_type": "code",
   "execution_count": 21,
   "metadata": {},
   "outputs": [],
   "source": [
    "# Fill na with median\n",
    "userList['age'] = userList['age'].fillna(userList['age'].median())"
   ]
  },
  {
   "cell_type": "code",
   "execution_count": 22,
   "metadata": {},
   "outputs": [
    {
     "data": {
      "text/plain": [
       "<matplotlib.axes._subplots.AxesSubplot at 0x7ff4c0b156a0>"
      ]
     },
     "execution_count": 22,
     "metadata": {},
     "output_type": "execute_result"
    },
    {
     "data": {
      "image/png": "[encoded data removed]",
      "text/plain": [
       "<Figure size 1080x648 with 1 Axes>"
      ]
     },
     "metadata": {
      "needs_background": "light"
     },
     "output_type": "display_data"
    }
   ],
   "source": [
    "# Plot histogram about age\n",
    "plt.figure(figsize=(15,9))\n",
    "userList['age'][userList['age']>0].hist(bins=40)"
   ]
  },
  {
   "cell_type": "markdown",
   "metadata": {},
   "source": [
    "You can see in the histogram above that our data seems to be more or less normaly. Because of it we will truncate values in the following way:\n",
    "\n",
    "- Values less than Q1-1.5(IQR) will be truncate to Q1-1.5(IQR)\n",
    "- Values more than Q3+1.5(IQR) will be truncate to Q3+1.5(IQR)\n",
    "\n",
    "Where Q1 and Q3 are first and third quartile and IQR is Q3-Q1."
   ]
  },
  {
   "cell_type": "code",
   "execution_count": 23,
   "metadata": {},
   "outputs": [],
   "source": [
    "# Computing values\n",
    "Q3 = userList['age'].quantile(q=0.75)\n",
    "Q1 = userList['age'].quantile(q=0.25)\n",
    "IQR = Q3-Q1\n",
    "factor = 1.5*(IQR)"
   ]
  },
  {
   "cell_type": "code",
   "execution_count": 24,
   "metadata": {},
   "outputs": [],
   "source": [
    "# Truncating values\n",
    "userList['age'] = userList['age'].map(lambda x: Q3+factor if x > Q3+factor else x)\n",
    "userList['age'] = userList['age'].map(lambda x: Q1-factor if x < Q1-factor else x)"
   ]
  },
  {
   "cell_type": "code",
   "execution_count": 25,
   "metadata": {},
   "outputs": [],
   "source": [
    "# Let's salve the new data\n",
    "userList.to_csv('UserListCleaned.csv',index=False)"
   ]
  },
  {
   "cell_type": "markdown",
   "metadata": {},
   "source": [
    "## 1.2 AnimeList"
   ]
  },
  {
   "cell_type": "code",
   "execution_count": 20,
   "metadata": {},
   "outputs": [],
   "source": [
    "# Reading data\n",
    "animeList = pd.read_csv('AnimeList.csv')"
   ]
  },
  {
   "cell_type": "code",
   "execution_count": 21,
   "metadata": {},
   "outputs": [],
   "source": [
    "# Discard animes that are not aired yet\n",
    "animeList = animeList[animeList['status'] != 'Not yet aired']\n",
    "\n",
    "# Columns to drop\n",
    "drop_cols = ['title_english','title_japanese','title_synonyms','image_url','status','aired_string','background','producer','opening_theme','ending_theme','broadcast','related']\n",
    "\n",
    "# Drop cols\n",
    "animeList = animeList.drop(columns=drop_cols)"
   ]
  },
  {
   "cell_type": "markdown",
   "metadata": {},
   "source": [
    "We discard animes that are not yet aired because the don't have much information for us. Beyond this, other columns are exclude becase some of them have the same information in another columns or don't have anything to add in our analysis."
   ]
  },
  {
   "cell_type": "code",
   "execution_count": 22,
   "metadata": {},
   "outputs": [
    {
     "data": {
      "text/plain": [
       "anime_id          0\n",
       "title             0\n",
       "type              0\n",
       "source            0\n",
       "episodes          0\n",
       "airing            0\n",
       "aired             0\n",
       "duration          0\n",
       "rating            0\n",
       "score             0\n",
       "scored_by         0\n",
       "rank           1244\n",
       "popularity        0\n",
       "members           0\n",
       "favorites         0\n",
       "premiered     10117\n",
       "licensor      10783\n",
       "studio         5754\n",
       "genre            56\n",
       "dtype: int64"
      ]
     },
     "execution_count": 22,
     "metadata": {},
     "output_type": "execute_result"
    }
   ],
   "source": [
    "# Check for na values\n",
    "animeList.isna().sum()"
   ]
  },
  {
   "cell_type": "code",
   "execution_count": 23,
   "metadata": {},
   "outputs": [],
   "source": [
    "# In rank, licensor and studio it's not possible imput values, so let's drop rows without this information\n",
    "animeList = animeList.dropna(subset=['rank','licensor','studio'])"
   ]
  },
  {
   "cell_type": "code",
   "execution_count": 24,
   "metadata": {},
   "outputs": [],
   "source": [
    "# In premiered first we will exclude None information on aired\n",
    "\n",
    "# Regular expression\n",
    "exp = re.compile('.*None,.*')\n",
    "\n",
    "# Delete rows\n",
    "animeList = animeList[animeList['aired'].map(lambda x: False if exp.match(x) else True)]"
   ]
  },
  {
   "cell_type": "markdown",
   "metadata": {},
   "source": [
    "In column aired we have the month that anime start airing. So with these we can fill column premiered using these rules:\n",
    "\n",
    "- from 12 to 3: Winter\n",
    "- from 3 to 6: Spring\n",
    "- from 6 to 9: Summer\n",
    "- from 9 to 12: Fall\n",
    "\n",
    "Before we do this, let's transform both columns."
   ]
  },
  {
   "cell_type": "code",
   "execution_count": 25,
   "metadata": {},
   "outputs": [],
   "source": [
    "# Delete year\n",
    "animeList['premiered'] = animeList['premiered'].map(lambda x: x if type(x) == float else x.split(' ')[0])"
   ]
  },
  {
   "cell_type": "code",
   "execution_count": 26,
   "metadata": {},
   "outputs": [],
   "source": [
    "# Regular expression to extract dates\n",
    "exp = re.compile('[0-9]{4}-[0-9]{2}-[0-9]{2}')\n",
    "\n",
    "# We just will store the start aired\n",
    "animeList['aired'] = animeList['aired'].map(lambda x: exp.findall(x)[0])\n",
    "\n",
    "# Convert to datetime\n",
    "animeList['aired'] = pd.to_datetime(animeList['aired'])"
   ]
  },
  {
   "cell_type": "code",
   "execution_count": 27,
   "metadata": {},
   "outputs": [],
   "source": [
    "'''\n",
    "\n",
    "Get the correct premiered\n",
    "\n",
    "'''\n",
    "def get_premiered(x):\n",
    "    if(x.month>3 and x.month<=6):\n",
    "        return 'Sprint'\n",
    "    if(x.month>=6 and x.month<=9):\n",
    "        return 'Summer'\n",
    "    if(x.month>=9 and x.month<=12):\n",
    "        return 'Fall'\n",
    "    else:\n",
    "        return 'Winter'"
   ]
  },
  {
   "cell_type": "code",
   "execution_count": 28,
   "metadata": {},
   "outputs": [],
   "source": [
    "# Get temporary premiered\n",
    "tmp_premiered = animeList['aired'].apply(get_premiered)\n",
    "\n",
    "# Get index from values that are NA\n",
    "index = animeList.loc[animeList['premiered'].isna(),'premiered'].index\n",
    "\n",
    "# Fill na\n",
    "animeList.loc[animeList['premiered'].isna(),'premiered'] = tmp_premiered[index].values"
   ]
  },
  {
   "cell_type": "markdown",
   "metadata": {},
   "source": [
    "Now we will fix column duration."
   ]
  },
  {
   "cell_type": "code",
   "execution_count": 29,
   "metadata": {},
   "outputs": [],
   "source": [
    "# Regular expression\n",
    "exp = re.compile('^[0-9]{1,2} min.*')\n",
    "\n",
    "# First transformation where duration just has min\n",
    "animeList['duration'] = animeList['duration'].map(lambda x: x.split(' ')[0] if exp.match(x) else x)"
   ]
  },
  {
   "cell_type": "code",
   "execution_count": 30,
   "metadata": {},
   "outputs": [],
   "source": [
    "# Delete rows that have seconds of episode and unknown\n",
    "animeList = animeList[animeList['duration'] != 'Unknown']\n",
    "animeList = animeList[~animeList['duration'].map(lambda x: 'sec' in x)]"
   ]
  },
  {
   "cell_type": "code",
   "execution_count": 31,
   "metadata": {},
   "outputs": [],
   "source": [
    "'''\n",
    "\n",
    "Convert hour to min\n",
    "\n",
    "'''\n",
    "def transform_hour_to_min(x):\n",
    "    if(len(x.split('. '))>1):\n",
    "        hour = (int(x.split(' ')[0]) * 60)\n",
    "        try:\n",
    "            min_ = int(x.split('. ')[1].split(' ')[0])\n",
    "        except:\n",
    "            min_ = 0\n",
    "        return str(hour + min_)\n",
    "    else:\n",
    "        return str(int(x.split(' ')[0]) * 60)"
   ]
  },
  {
   "cell_type": "code",
   "execution_count": 32,
   "metadata": {},
   "outputs": [],
   "source": [
    "# Regular expression\n",
    "exp = re.compile('^[0-9] hr.*')\n",
    "\n",
    "# Second transformation where duration has hr\n",
    "animeList['duration'] = animeList['duration'].map(lambda x: transform_hour_to_min(x) if exp.match(x) else x).astype(int)"
   ]
  },
  {
   "cell_type": "markdown",
   "metadata": {},
   "source": [
    "Columns genre, licensor and studio sometimes have more than one value. Because of it, first we will just normalize them."
   ]
  },
  {
   "cell_type": "code",
   "execution_count": 33,
   "metadata": {},
   "outputs": [],
   "source": [
    "# Normalizing\n",
    "animeList['genre'] = animeList['genre'].map(lambda x: x.lower().replace(' ',''))\n",
    "animeList['licensor'] = animeList['licensor'].map(lambda x: x.lower())\n",
    "animeList['studio'] = animeList['studio'].map(lambda x: x.lower())"
   ]
  },
  {
   "cell_type": "markdown",
   "metadata": {},
   "source": [
    "Now, we will take just the top 20 most popular studios and licensor. The left will be considery like others. This aproach it's valid because a lot of studios and licensors with just some values. So it's better consider just the top."
   ]
  },
  {
   "cell_type": "code",
   "execution_count": 34,
   "metadata": {},
   "outputs": [],
   "source": [
    "# Top 20 licensor\n",
    "top_licensor = animeList.groupby('licensor').size().sort_values(ascending=False)[:20].index.values\n",
    "animeList.loc[~animeList['licensor'].isin(top_licensor),'licensor'] = 'others'\n",
    "\n",
    "# Top 20 studio\n",
    "top_studio = animeList.groupby('studio').size().sort_values(ascending=False)[:20].index.values\n",
    "animeList.loc[~animeList['studio'].isin(top_studio),'studio'] = 'others'"
   ]
  },
  {
   "cell_type": "code",
   "execution_count": 35,
   "metadata": {},
   "outputs": [],
   "source": [
    "# Our data is done, so let's sabe them\n",
    "animeList.to_csv('AnimeListCleaned.csv',index=False)"
   ]
  },
  {
   "cell_type": "markdown",
   "metadata": {},
   "source": [
    "## 1.3 UserAnimeList\n",
    "\n",
    "The others datasets have few data so it's possible to use pandas. But now, in dataset UserAnimeList we have approximately 5 GB which makes it impossible to perform the analyzes (my machine has only 8GM of ram).Because of this we will use the Spark framework to perform the processing. "
   ]
  },
  {
   "cell_type": "code",
   "execution_count": 36,
   "metadata": {
    "scrolled": false
   },
   "outputs": [],
   "source": [
    "# Creating spark session\n",
    "sp = SparkSession.builder.master('local').appName('MAL').getOrCreate()"
   ]
  },
  {
   "cell_type": "code",
   "execution_count": 37,
   "metadata": {},
   "outputs": [],
   "source": [
    "# Reading data\n",
    "userAnimeList = sp.read.csv('UserAnimeList.csv',header=True)"
   ]
  },
  {
   "cell_type": "code",
   "execution_count": 38,
   "metadata": {},
   "outputs": [],
   "source": [
    "# Number of samples\n",
    "nrow = userAnimeList.count()"
   ]
  },
  {
   "cell_type": "code",
   "execution_count": 39,
   "metadata": {},
   "outputs": [
    {
     "name": "stdout",
     "output_type": "stream",
     "text": [
      "root\n",
      " |-- username: string (nullable = true)\n",
      " |-- anime_id: string (nullable = true)\n",
      " |-- my_watched_episodes: string (nullable = true)\n",
      " |-- my_start_date: string (nullable = true)\n",
      " |-- my_finish_date: string (nullable = true)\n",
      " |-- my_score: string (nullable = true)\n",
      " |-- my_status: string (nullable = true)\n",
      " |-- my_rewatching: string (nullable = true)\n",
      " |-- my_rewatching_ep: string (nullable = true)\n",
      " |-- my_last_updated: string (nullable = true)\n",
      " |-- my_tags: string (nullable = true)\n",
      "\n"
     ]
    }
   ],
   "source": [
    "# Columns in dataset\n",
    "userAnimeList.printSchema()"
   ]
  },
  {
   "cell_type": "markdown",
   "metadata": {},
   "source": [
    "Again we will delete some columns because it's not interesting for our analysis:\n",
    "\n",
    "- my_start_date\n",
    "- my_finish_date\n",
    "- my_last_updated\n",
    "- my_tags"
   ]
  },
  {
   "cell_type": "code",
   "execution_count": 40,
   "metadata": {},
   "outputs": [],
   "source": [
    "# Cols to drop\n",
    "drop_cols = ['my_start_date','my_finish_date','my_last_updated','my_tags']\n",
    "userAnimeList = userAnimeList.drop(*drop_cols)"
   ]
  },
  {
   "cell_type": "code",
   "execution_count": 41,
   "metadata": {},
   "outputs": [
    {
     "name": "stdout",
     "output_type": "stream",
     "text": [
      "root\n",
      " |-- username: string (nullable = true)\n",
      " |-- anime_id: string (nullable = true)\n",
      " |-- my_watched_episodes: string (nullable = true)\n",
      " |-- my_score: string (nullable = true)\n",
      " |-- my_status: string (nullable = true)\n",
      " |-- my_rewatching: string (nullable = true)\n",
      " |-- my_rewatching_ep: string (nullable = true)\n",
      "\n"
     ]
    }
   ],
   "source": [
    "# Schema\n",
    "userAnimeList.printSchema()"
   ]
  },
  {
   "cell_type": "code",
   "execution_count": 42,
   "metadata": {},
   "outputs": [
    {
     "data": {
      "text/plain": [
       "[Row(username='karthiga', anime_id='21', my_watched_episodes='586', my_score='9', my_status='1', my_rewatching=None, my_rewatching_ep='0'),\n",
       " Row(username='karthiga', anime_id='59', my_watched_episodes='26', my_score='7', my_status='2', my_rewatching=None, my_rewatching_ep='0'),\n",
       " Row(username='karthiga', anime_id='74', my_watched_episodes='26', my_score='7', my_status='2', my_rewatching=None, my_rewatching_ep='0'),\n",
       " Row(username='karthiga', anime_id='120', my_watched_episodes='26', my_score='7', my_status='2', my_rewatching=None, my_rewatching_ep='0'),\n",
       " Row(username='karthiga', anime_id='178', my_watched_episodes='26', my_score='7', my_status='2', my_rewatching='0', my_rewatching_ep='0'),\n",
       " Row(username='karthiga', anime_id='210', my_watched_episodes='161', my_score='7', my_status='2', my_rewatching=None, my_rewatching_ep='0'),\n",
       " Row(username='karthiga', anime_id='232', my_watched_episodes='70', my_score='6', my_status='2', my_rewatching=None, my_rewatching_ep='0'),\n",
       " Row(username='karthiga', anime_id='233', my_watched_episodes='78', my_score='6', my_status='2', my_rewatching=None, my_rewatching_ep='0'),\n",
       " Row(username='karthiga', anime_id='249', my_watched_episodes='167', my_score='8', my_status='2', my_rewatching=None, my_rewatching_ep='0'),\n",
       " Row(username='karthiga', anime_id='269', my_watched_episodes='366', my_score='10', my_status='2', my_rewatching=None, my_rewatching_ep='0'),\n",
       " Row(username='karthiga', anime_id='721', my_watched_episodes='38', my_score='7', my_status='2', my_rewatching=None, my_rewatching_ep='0'),\n",
       " Row(username='karthiga', anime_id='853', my_watched_episodes='26', my_score='7', my_status='2', my_rewatching=None, my_rewatching_ep='0'),\n",
       " Row(username='karthiga', anime_id='857', my_watched_episodes='25', my_score='10', my_status='2', my_rewatching='0', my_rewatching_ep='0'),\n",
       " Row(username='karthiga', anime_id='957', my_watched_episodes='39', my_score='8', my_status='2', my_rewatching=None, my_rewatching_ep='0'),\n",
       " Row(username='karthiga', anime_id='966', my_watched_episodes='506', my_score='10', my_status='1', my_rewatching=None, my_rewatching_ep='0'),\n",
       " Row(username='karthiga', anime_id='1557', my_watched_episodes='26', my_score='8', my_status='2', my_rewatching=None, my_rewatching_ep='0'),\n",
       " Row(username='karthiga', anime_id='1571', my_watched_episodes='25', my_score='8', my_status='2', my_rewatching=None, my_rewatching_ep='0'),\n",
       " Row(username='karthiga', anime_id='1579', my_watched_episodes='25', my_score='9', my_status='2', my_rewatching=None, my_rewatching_ep='0'),\n",
       " Row(username='karthiga', anime_id='1698', my_watched_episodes='23', my_score='7', my_status='2', my_rewatching=None, my_rewatching_ep='0'),\n",
       " Row(username='karthiga', anime_id='1735', my_watched_episodes='303', my_score='9', my_status='1', my_rewatching=None, my_rewatching_ep='0'),\n",
       " Row(username='karthiga', anime_id='1914', my_watched_episodes='39', my_score='7', my_status='2', my_rewatching=None, my_rewatching_ep='0'),\n",
       " Row(username='karthiga', anime_id='1974', my_watched_episodes='51', my_score='8', my_status='2', my_rewatching=None, my_rewatching_ep='0'),\n",
       " Row(username='karthiga', anime_id='2104', my_watched_episodes='26', my_score='7', my_status='2', my_rewatching=None, my_rewatching_ep='0'),\n",
       " Row(username='karthiga', anime_id='2564', my_watched_episodes='12', my_score='5', my_status='2', my_rewatching=None, my_rewatching_ep='0'),\n",
       " Row(username='karthiga', anime_id='2787', my_watched_episodes='24', my_score='8', my_status='2', my_rewatching=None, my_rewatching_ep='0'),\n",
       " Row(username='karthiga', anime_id='3092', my_watched_episodes='12', my_score='8', my_status='2', my_rewatching=None, my_rewatching_ep='0'),\n",
       " Row(username='karthiga', anime_id='3731', my_watched_episodes='25', my_score='8', my_status='2', my_rewatching=None, my_rewatching_ep='0'),\n",
       " Row(username='karthiga', anime_id='4224', my_watched_episodes='25', my_score='6', my_status='2', my_rewatching=None, my_rewatching_ep='0'),\n",
       " Row(username='karthiga', anime_id='4477', my_watched_episodes='11', my_score='8', my_status='2', my_rewatching=None, my_rewatching_ep='0'),\n",
       " Row(username='karthiga', anime_id='4722', my_watched_episodes='25', my_score='8', my_status='2', my_rewatching=None, my_rewatching_ep='0'),\n",
       " Row(username='karthiga', anime_id='4814', my_watched_episodes='12', my_score='7', my_status='2', my_rewatching=None, my_rewatching_ep='0'),\n",
       " Row(username='karthiga', anime_id='5262', my_watched_episodes='51', my_score='7', my_status='2', my_rewatching=None, my_rewatching_ep='0'),\n",
       " Row(username='karthiga', anime_id='5690', my_watched_episodes='11', my_score='8', my_status='2', my_rewatching=None, my_rewatching_ep='0'),\n",
       " Row(username='karthiga', anime_id='5835', my_watched_episodes='39', my_score='7', my_status='2', my_rewatching=None, my_rewatching_ep='0'),\n",
       " Row(username='karthiga', anime_id='6045', my_watched_episodes='25', my_score='6', my_status='2', my_rewatching=None, my_rewatching_ep='0'),\n",
       " Row(username='karthiga', anime_id='6586', my_watched_episodes='50', my_score='6', my_status='2', my_rewatching=None, my_rewatching_ep='0'),\n",
       " Row(username='karthiga', anime_id='6645', my_watched_episodes='12', my_score='5', my_status='2', my_rewatching=None, my_rewatching_ep='0'),\n",
       " Row(username='karthiga', anime_id='7054', my_watched_episodes='26', my_score='9', my_status='2', my_rewatching=None, my_rewatching_ep='0'),\n",
       " Row(username='karthiga', anime_id='7674', my_watched_episodes='25', my_score='7', my_status='2', my_rewatching=None, my_rewatching_ep='0'),\n",
       " Row(username='karthiga', anime_id='7817', my_watched_episodes='12', my_score='5', my_status='2', my_rewatching=None, my_rewatching_ep='0'),\n",
       " Row(username='karthiga', anime_id='9513', my_watched_episodes='60', my_score='7', my_status='2', my_rewatching=None, my_rewatching_ep='0'),\n",
       " Row(username='karthiga', anime_id='9656', my_watched_episodes='12', my_score='8', my_status='2', my_rewatching=None, my_rewatching_ep='0'),\n",
       " Row(username='karthiga', anime_id='9863', my_watched_episodes='77', my_score='7', my_status='2', my_rewatching=None, my_rewatching_ep='0'),\n",
       " Row(username='karthiga', anime_id='9926', my_watched_episodes='12', my_score='7', my_status='2', my_rewatching=None, my_rewatching_ep='0'),\n",
       " Row(username='karthiga', anime_id='10030', my_watched_episodes='25', my_score='8', my_status='2', my_rewatching=None, my_rewatching_ep='0'),\n",
       " Row(username='karthiga', anime_id='10800', my_watched_episodes='25', my_score='7', my_status='2', my_rewatching='0', my_rewatching_ep='0'),\n",
       " Row(username='karthiga', anime_id='11013', my_watched_episodes='12', my_score='8', my_status='2', my_rewatching=None, my_rewatching_ep='0'),\n",
       " Row(username='karthiga', anime_id='11123', my_watched_episodes='12', my_score='7', my_status='2', my_rewatching=None, my_rewatching_ep='0'),\n",
       " Row(username='karthiga', anime_id='11759', my_watched_episodes='24', my_score='5', my_status='2', my_rewatching=None, my_rewatching_ep='0'),\n",
       " Row(username='karthiga', anime_id='12365', my_watched_episodes='25', my_score='8', my_status='2', my_rewatching=None, my_rewatching_ep='0'),\n",
       " Row(username='karthiga', anime_id='14227', my_watched_episodes='13', my_score='8', my_status='2', my_rewatching=None, my_rewatching_ep='0'),\n",
       " Row(username='karthiga', anime_id='14397', my_watched_episodes='0', my_score='7', my_status='3', my_rewatching='0', my_rewatching_ep='0'),\n",
       " Row(username='karthiga', anime_id='14713', my_watched_episodes='13', my_score='10', my_status='2', my_rewatching=None, my_rewatching_ep='0'),\n",
       " Row(username='RedvelvetDaisuki', anime_id='1', my_watched_episodes='26', my_score='8', my_status='2', my_rewatching=None, my_rewatching_ep='0'),\n",
       " Row(username='RedvelvetDaisuki', anime_id='7', my_watched_episodes='0', my_score='0', my_status='6', my_rewatching='0', my_rewatching_ep='0'),\n",
       " Row(username='RedvelvetDaisuki', anime_id='16', my_watched_episodes='4', my_score='4', my_status='3', my_rewatching=None, my_rewatching_ep='0'),\n",
       " Row(username='RedvelvetDaisuki', anime_id='19', my_watched_episodes='74', my_score='9', my_status='2', my_rewatching=None, my_rewatching_ep='0'),\n",
       " Row(username='RedvelvetDaisuki', anime_id='20', my_watched_episodes='220', my_score='9', my_status='2', my_rewatching=None, my_rewatching_ep='0'),\n",
       " Row(username='RedvelvetDaisuki', anime_id='21', my_watched_episodes='0', my_score='0', my_status='3', my_rewatching='0', my_rewatching_ep='0'),\n",
       " Row(username='RedvelvetDaisuki', anime_id='24', my_watched_episodes='0', my_score='0', my_status='6', my_rewatching=None, my_rewatching_ep='0'),\n",
       " Row(username='RedvelvetDaisuki', anime_id='25', my_watched_episodes='0', my_score='0', my_status='6', my_rewatching='0', my_rewatching_ep='0'),\n",
       " Row(username='RedvelvetDaisuki', anime_id='26', my_watched_episodes='22', my_score='6', my_status='2', my_rewatching=None, my_rewatching_ep='0'),\n",
       " Row(username='RedvelvetDaisuki', anime_id='30', my_watched_episodes='26', my_score='8', my_status='2', my_rewatching=None, my_rewatching_ep='0'),\n",
       " Row(username='RedvelvetDaisuki', anime_id='31', my_watched_episodes='1', my_score='7', my_status='2', my_rewatching=None, my_rewatching_ep='0'),\n",
       " Row(username='RedvelvetDaisuki', anime_id='32', my_watched_episodes='1', my_score='9', my_status='2', my_rewatching=None, my_rewatching_ep='0'),\n",
       " Row(username='RedvelvetDaisuki', anime_id='33', my_watched_episodes='1', my_score='0', my_status='1', my_rewatching=None, my_rewatching_ep='0'),\n",
       " Row(username='RedvelvetDaisuki', anime_id='43', my_watched_episodes='0', my_score='0', my_status='6', my_rewatching=None, my_rewatching_ep='0'),\n",
       " Row(username='RedvelvetDaisuki', anime_id='44', my_watched_episodes='4', my_score='9', my_status='2', my_rewatching=None, my_rewatching_ep='0'),\n",
       " Row(username='RedvelvetDaisuki', anime_id='45', my_watched_episodes='94', my_score='8', my_status='2', my_rewatching=None, my_rewatching_ep='0'),\n",
       " Row(username='RedvelvetDaisuki', anime_id='47', my_watched_episodes='0', my_score='0', my_status='6', my_rewatching='0', my_rewatching_ep='0'),\n",
       " Row(username='RedvelvetDaisuki', anime_id='52', my_watched_episodes='0', my_score='0', my_status='6', my_rewatching='0', my_rewatching_ep='0'),\n",
       " Row(username='RedvelvetDaisuki', anime_id='57', my_watched_episodes='0', my_score='0', my_status='6', my_rewatching='0', my_rewatching_ep='0'),\n",
       " Row(username='RedvelvetDaisuki', anime_id='60', my_watched_episodes='0', my_score='0', my_status='6', my_rewatching=None, my_rewatching_ep='0'),\n",
       " Row(username='RedvelvetDaisuki', anime_id='68', my_watched_episodes='0', my_score='0', my_status='6', my_rewatching=None, my_rewatching_ep='0'),\n",
       " Row(username='RedvelvetDaisuki', anime_id='93', my_watched_episodes='8', my_score='0', my_status='3', my_rewatching=None, my_rewatching_ep='0'),\n",
       " Row(username='RedvelvetDaisuki', anime_id='104', my_watched_episodes='0', my_score='0', my_status='6', my_rewatching='0', my_rewatching_ep='0'),\n",
       " Row(username='RedvelvetDaisuki', anime_id='107', my_watched_episodes='0', my_score='0', my_status='6', my_rewatching='0', my_rewatching_ep='0'),\n",
       " Row(username='RedvelvetDaisuki', anime_id='108', my_watched_episodes='0', my_score='0', my_status='6', my_rewatching='0', my_rewatching_ep='0'),\n",
       " Row(username='RedvelvetDaisuki', anime_id='120', my_watched_episodes='1', my_score='3', my_status='3', my_rewatching=None, my_rewatching_ep='0'),\n",
       " Row(username='RedvelvetDaisuki', anime_id='121', my_watched_episodes='51', my_score='6', my_status='2', my_rewatching=None, my_rewatching_ep='0'),\n",
       " Row(username='RedvelvetDaisuki', anime_id='123', my_watched_episodes='52', my_score='8', my_status='2', my_rewatching=None, my_rewatching_ep='0'),\n",
       " Row(username='RedvelvetDaisuki', anime_id='130', my_watched_episodes='0', my_score='0', my_status='6', my_rewatching=None, my_rewatching_ep='0'),\n",
       " Row(username='RedvelvetDaisuki', anime_id='131', my_watched_episodes='0', my_score='0', my_status='6', my_rewatching=None, my_rewatching_ep='0'),\n",
       " Row(username='RedvelvetDaisuki', anime_id='134', my_watched_episodes='13', my_score='5', my_status='2', my_rewatching=None, my_rewatching_ep='0'),\n",
       " Row(username='RedvelvetDaisuki', anime_id='135', my_watched_episodes='0', my_score='0', my_status='6', my_rewatching=None, my_rewatching_ep='0'),\n",
       " Row(username='RedvelvetDaisuki', anime_id='136', my_watched_episodes='0', my_score='0', my_status='6', my_rewatching=None, my_rewatching_ep='0'),\n",
       " Row(username='RedvelvetDaisuki', anime_id='145', my_watched_episodes='26', my_score='8', my_status='2', my_rewatching=None, my_rewatching_ep='0'),\n",
       " Row(username='RedvelvetDaisuki', anime_id='149', my_watched_episodes='12', my_score='2', my_status='2', my_rewatching=None, my_rewatching_ep='0'),\n",
       " Row(username='RedvelvetDaisuki', anime_id='150', my_watched_episodes='3', my_score='0', my_status='3', my_rewatching=None, my_rewatching_ep='0'),\n",
       " Row(username='RedvelvetDaisuki', anime_id='153', my_watched_episodes='0', my_score='0', my_status='6', my_rewatching='0', my_rewatching_ep='0'),\n",
       " Row(username='RedvelvetDaisuki', anime_id='164', my_watched_episodes='1', my_score='9', my_status='2', my_rewatching=None, my_rewatching_ep='0'),\n",
       " Row(username='RedvelvetDaisuki', anime_id='165', my_watched_episodes='0', my_score='0', my_status='6', my_rewatching=None, my_rewatching_ep='0'),\n",
       " Row(username='RedvelvetDaisuki', anime_id='198', my_watched_episodes='0', my_score='0', my_status='6', my_rewatching='0', my_rewatching_ep='0'),\n",
       " Row(username='RedvelvetDaisuki', anime_id='199', my_watched_episodes='1', my_score='8', my_status='2', my_rewatching=None, my_rewatching_ep='0'),\n",
       " Row(username='RedvelvetDaisuki', anime_id='202', my_watched_episodes='0', my_score='0', my_status='6', my_rewatching=None, my_rewatching_ep='0'),\n",
       " Row(username='RedvelvetDaisuki', anime_id='205', my_watched_episodes='26', my_score='8', my_status='2', my_rewatching=None, my_rewatching_ep='0'),\n",
       " Row(username='RedvelvetDaisuki', anime_id='208', my_watched_episodes='3', my_score='5', my_status='2', my_rewatching=None, my_rewatching_ep='0'),\n",
       " Row(username='RedvelvetDaisuki', anime_id='209', my_watched_episodes='0', my_score='0', my_status='6', my_rewatching='0', my_rewatching_ep='0'),\n",
       " Row(username='RedvelvetDaisuki', anime_id='226', my_watched_episodes='13', my_score='4', my_status='2', my_rewatching=None, my_rewatching_ep='0'),\n",
       " Row(username='RedvelvetDaisuki', anime_id='227', my_watched_episodes='6', my_score='8', my_status='2', my_rewatching=None, my_rewatching_ep='0')]"
      ]
     },
     "execution_count": 42,
     "metadata": {},
     "output_type": "execute_result"
    }
   ],
   "source": [
    "# Show some rows\n",
    "userAnimeList.take(100)"
   ]
  },
  {
   "cell_type": "markdown",
   "metadata": {},
   "source": [
    "You can see above that columns my_rewatching and my_rewatching_ep have a lot of values None and 0, consecutively. Because of this let's explore these two columns."
   ]
  },
  {
   "cell_type": "code",
   "execution_count": 43,
   "metadata": {},
   "outputs": [],
   "source": [
    "# Compute some statistics\n",
    "statistics = userAnimeList.describe(['my_rewatching','my_rewatching_ep'])"
   ]
  },
  {
   "cell_type": "code",
   "execution_count": 44,
   "metadata": {},
   "outputs": [
    {
     "data": {
      "text/html": [
       "<div>\n",
       "<style scoped>\n",
       "    .dataframe tbody tr th:only-of-type {\n",
       "        vertical-align: middle;\n",
       "    }\n",
       "\n",
       "    .dataframe tbody tr th {\n",
       "        vertical-align: top;\n",
       "    }\n",
       "\n",
       "    .dataframe thead th {\n",
       "        text-align: right;\n",
       "    }\n",
       "</style>\n",
       "<table border=\"1\" class=\"dataframe\">\n",
       "  <thead>\n",
       "    <tr style=\"text-align: right;\">\n",
       "      <th></th>\n",
       "      <th>summary</th>\n",
       "      <th>my_rewatching</th>\n",
       "      <th>my_rewatching_ep</th>\n",
       "    </tr>\n",
       "  </thead>\n",
       "  <tbody>\n",
       "    <tr>\n",
       "      <th>0</th>\n",
       "      <td>count</td>\n",
       "      <td>63334578</td>\n",
       "      <td>80076306</td>\n",
       "    </tr>\n",
       "    <tr>\n",
       "      <th>1</th>\n",
       "      <td>mean</td>\n",
       "      <td>9.482069093769412E-4</td>\n",
       "      <td>7.4066751407698</td>\n",
       "    </tr>\n",
       "    <tr>\n",
       "      <th>2</th>\n",
       "      <td>stddev</td>\n",
       "      <td>0.6655954555573731</td>\n",
       "      <td>11109.72805140888</td>\n",
       "    </tr>\n",
       "    <tr>\n",
       "      <th>3</th>\n",
       "      <td>min</td>\n",
       "      <td></td>\n",
       "      <td></td>\n",
       "    </tr>\n",
       "    <tr>\n",
       "      <th>4</th>\n",
       "      <td>max</td>\n",
       "      <td>Świat alternatywny</td>\n",
       "      <td>paralk</td>\n",
       "    </tr>\n",
       "  </tbody>\n",
       "</table>\n",
       "</div>"
      ],
      "text/plain": [
       "  summary         my_rewatching   my_rewatching_ep\n",
       "0   count              63334578           80076306\n",
       "1    mean  9.482069093769412E-4    7.4066751407698\n",
       "2  stddev    0.6655954555573731  11109.72805140888\n",
       "3     min                                         \n",
       "4     max    Świat alternatywny             paralk"
      ]
     },
     "execution_count": 44,
     "metadata": {},
     "output_type": "execute_result"
    }
   ],
   "source": [
    "# Show statistics\n",
    "statistics = statistics.toPandas()\n",
    "statistics"
   ]
  },
  {
   "cell_type": "code",
   "execution_count": 45,
   "metadata": {},
   "outputs": [
    {
     "data": {
      "text/plain": [
       "0.2112601296493496"
      ]
     },
     "execution_count": 45,
     "metadata": {},
     "output_type": "execute_result"
    }
   ],
   "source": [
    "# Percentage of na values - my_rewatching\n",
    "1-(int(statistics['my_rewatching'][0])/nrow)"
   ]
  },
  {
   "cell_type": "code",
   "execution_count": 46,
   "metadata": {},
   "outputs": [
    {
     "data": {
      "text/plain": [
       "0.00276630543588674"
      ]
     },
     "execution_count": 46,
     "metadata": {},
     "output_type": "execute_result"
    }
   ],
   "source": [
    "# Percentage of na values - my_rewatching_ep\n",
    "1-(int(statistics['my_rewatching_ep'][0])/nrow)"
   ]
  },
  {
   "cell_type": "markdown",
   "metadata": {},
   "source": [
    "So the column my_rewatching have almost approximately 20% of Na values and most of valid values are 0 (check the mean and stddev). So I don't think this column has a lot of information. It's better drop.\n",
    "\n",
    "Column my_rewatching_ep has strange values. His mean and stddev it's 7.4, ~11109. That's values it's very strange for watch episodes so let's explore them more."
   ]
  },
  {
   "cell_type": "code",
   "execution_count": 47,
   "metadata": {},
   "outputs": [],
   "source": [
    "# Drop column\n",
    "userAnimeList = userAnimeList.drop('my_rewatching')"
   ]
  },
  {
   "cell_type": "code",
   "execution_count": 48,
   "metadata": {},
   "outputs": [],
   "source": [
    "# Change type\n",
    "userAnimeList = userAnimeList.withColumn('my_rewatching_ep',userAnimeList['my_rewatching_ep'].cast('int'))"
   ]
  },
  {
   "cell_type": "code",
   "execution_count": 49,
   "metadata": {},
   "outputs": [],
   "source": [
    "# Verify what values are different from 0\n",
    "my_rewatching_ep = userAnimeList.select('my_rewatching_ep').filter(userAnimeList['my_rewatching_ep'] != 0)"
   ]
  },
  {
   "cell_type": "code",
   "execution_count": 50,
   "metadata": {},
   "outputs": [
    {
     "data": {
      "text/plain": [
       "11967"
      ]
     },
     "execution_count": 50,
     "metadata": {},
     "output_type": "execute_result"
    }
   ],
   "source": [
    "# Verify how many samples we have\n",
    "my_rewatching_ep.count()"
   ]
  },
  {
   "cell_type": "markdown",
   "metadata": {},
   "source": [
    "We have 11967 samples (it's not too big) so it's possible convert this data to pandas."
   ]
  },
  {
   "cell_type": "code",
   "execution_count": 51,
   "metadata": {},
   "outputs": [],
   "source": [
    "# Convert to pandas\n",
    "my_rewatching_ep = my_rewatching_ep.toPandas()"
   ]
  },
  {
   "cell_type": "code",
   "execution_count": 52,
   "metadata": {},
   "outputs": [
    {
     "data": {
      "text/html": [
       "<div>\n",
       "<style scoped>\n",
       "    .dataframe tbody tr th:only-of-type {\n",
       "        vertical-align: middle;\n",
       "    }\n",
       "\n",
       "    .dataframe tbody tr th {\n",
       "        vertical-align: top;\n",
       "    }\n",
       "\n",
       "    .dataframe thead th {\n",
       "        text-align: right;\n",
       "    }\n",
       "</style>\n",
       "<table border=\"1\" class=\"dataframe\">\n",
       "  <thead>\n",
       "    <tr style=\"text-align: right;\">\n",
       "      <th></th>\n",
       "      <th>my_rewatching_ep</th>\n",
       "    </tr>\n",
       "  </thead>\n",
       "  <tbody>\n",
       "    <tr>\n",
       "      <th>1290</th>\n",
       "      <td>305</td>\n",
       "    </tr>\n",
       "    <tr>\n",
       "      <th>2416</th>\n",
       "      <td>315</td>\n",
       "    </tr>\n",
       "    <tr>\n",
       "      <th>2430</th>\n",
       "      <td>345</td>\n",
       "    </tr>\n",
       "    <tr>\n",
       "      <th>4697</th>\n",
       "      <td>653</td>\n",
       "    </tr>\n",
       "    <tr>\n",
       "      <th>6987</th>\n",
       "      <td>690</td>\n",
       "    </tr>\n",
       "    <tr>\n",
       "      <th>7005</th>\n",
       "      <td>366</td>\n",
       "    </tr>\n",
       "    <tr>\n",
       "      <th>7034</th>\n",
       "      <td>429</td>\n",
       "    </tr>\n",
       "    <tr>\n",
       "      <th>7919</th>\n",
       "      <td>343</td>\n",
       "    </tr>\n",
       "    <tr>\n",
       "      <th>9535</th>\n",
       "      <td>407</td>\n",
       "    </tr>\n",
       "    <tr>\n",
       "      <th>9857</th>\n",
       "      <td>2011</td>\n",
       "    </tr>\n",
       "    <tr>\n",
       "      <th>9863</th>\n",
       "      <td>5644513</td>\n",
       "    </tr>\n",
       "    <tr>\n",
       "      <th>10897</th>\n",
       "      <td>403</td>\n",
       "    </tr>\n",
       "    <tr>\n",
       "      <th>10921</th>\n",
       "      <td>398</td>\n",
       "    </tr>\n",
       "    <tr>\n",
       "      <th>11314</th>\n",
       "      <td>366</td>\n",
       "    </tr>\n",
       "    <tr>\n",
       "      <th>11818</th>\n",
       "      <td>29192</td>\n",
       "    </tr>\n",
       "    <tr>\n",
       "      <th>11819</th>\n",
       "      <td>16777215</td>\n",
       "    </tr>\n",
       "    <tr>\n",
       "      <th>11820</th>\n",
       "      <td>16777215</td>\n",
       "    </tr>\n",
       "    <tr>\n",
       "      <th>11821</th>\n",
       "      <td>16777215</td>\n",
       "    </tr>\n",
       "    <tr>\n",
       "      <th>11822</th>\n",
       "      <td>16777215</td>\n",
       "    </tr>\n",
       "    <tr>\n",
       "      <th>11823</th>\n",
       "      <td>16777215</td>\n",
       "    </tr>\n",
       "    <tr>\n",
       "      <th>11824</th>\n",
       "      <td>10792</td>\n",
       "    </tr>\n",
       "    <tr>\n",
       "      <th>11825</th>\n",
       "      <td>16777215</td>\n",
       "    </tr>\n",
       "    <tr>\n",
       "      <th>11826</th>\n",
       "      <td>16777215</td>\n",
       "    </tr>\n",
       "    <tr>\n",
       "      <th>11827</th>\n",
       "      <td>16777215</td>\n",
       "    </tr>\n",
       "    <tr>\n",
       "      <th>11828</th>\n",
       "      <td>16777215</td>\n",
       "    </tr>\n",
       "    <tr>\n",
       "      <th>11829</th>\n",
       "      <td>16777215</td>\n",
       "    </tr>\n",
       "    <tr>\n",
       "      <th>11830</th>\n",
       "      <td>16777215</td>\n",
       "    </tr>\n",
       "    <tr>\n",
       "      <th>11831</th>\n",
       "      <td>16777215</td>\n",
       "    </tr>\n",
       "    <tr>\n",
       "      <th>11832</th>\n",
       "      <td>16777215</td>\n",
       "    </tr>\n",
       "    <tr>\n",
       "      <th>11833</th>\n",
       "      <td>16777215</td>\n",
       "    </tr>\n",
       "    <tr>\n",
       "      <th>11834</th>\n",
       "      <td>16777215</td>\n",
       "    </tr>\n",
       "    <tr>\n",
       "      <th>11835</th>\n",
       "      <td>16777215</td>\n",
       "    </tr>\n",
       "    <tr>\n",
       "      <th>11836</th>\n",
       "      <td>16777215</td>\n",
       "    </tr>\n",
       "    <tr>\n",
       "      <th>11837</th>\n",
       "      <td>16777215</td>\n",
       "    </tr>\n",
       "    <tr>\n",
       "      <th>11838</th>\n",
       "      <td>16777215</td>\n",
       "    </tr>\n",
       "    <tr>\n",
       "      <th>11839</th>\n",
       "      <td>16777215</td>\n",
       "    </tr>\n",
       "    <tr>\n",
       "      <th>11840</th>\n",
       "      <td>16777215</td>\n",
       "    </tr>\n",
       "    <tr>\n",
       "      <th>11841</th>\n",
       "      <td>16777215</td>\n",
       "    </tr>\n",
       "    <tr>\n",
       "      <th>11844</th>\n",
       "      <td>16777215</td>\n",
       "    </tr>\n",
       "    <tr>\n",
       "      <th>11845</th>\n",
       "      <td>16777215</td>\n",
       "    </tr>\n",
       "    <tr>\n",
       "      <th>11846</th>\n",
       "      <td>16777215</td>\n",
       "    </tr>\n",
       "    <tr>\n",
       "      <th>11847</th>\n",
       "      <td>16777215</td>\n",
       "    </tr>\n",
       "    <tr>\n",
       "      <th>11848</th>\n",
       "      <td>16777215</td>\n",
       "    </tr>\n",
       "    <tr>\n",
       "      <th>11849</th>\n",
       "      <td>16777215</td>\n",
       "    </tr>\n",
       "    <tr>\n",
       "      <th>11850</th>\n",
       "      <td>16777215</td>\n",
       "    </tr>\n",
       "    <tr>\n",
       "      <th>11851</th>\n",
       "      <td>16777215</td>\n",
       "    </tr>\n",
       "    <tr>\n",
       "      <th>11852</th>\n",
       "      <td>16777215</td>\n",
       "    </tr>\n",
       "    <tr>\n",
       "      <th>11853</th>\n",
       "      <td>16777215</td>\n",
       "    </tr>\n",
       "    <tr>\n",
       "      <th>11854</th>\n",
       "      <td>16777215</td>\n",
       "    </tr>\n",
       "    <tr>\n",
       "      <th>11855</th>\n",
       "      <td>16777215</td>\n",
       "    </tr>\n",
       "    <tr>\n",
       "      <th>11856</th>\n",
       "      <td>16777215</td>\n",
       "    </tr>\n",
       "  </tbody>\n",
       "</table>\n",
       "</div>"
      ],
      "text/plain": [
       "       my_rewatching_ep\n",
       "1290                305\n",
       "2416                315\n",
       "2430                345\n",
       "4697                653\n",
       "6987                690\n",
       "7005                366\n",
       "7034                429\n",
       "7919                343\n",
       "9535                407\n",
       "9857               2011\n",
       "9863            5644513\n",
       "10897               403\n",
       "10921               398\n",
       "11314               366\n",
       "11818             29192\n",
       "11819          16777215\n",
       "11820          16777215\n",
       "11821          16777215\n",
       "11822          16777215\n",
       "11823          16777215\n",
       "11824             10792\n",
       "11825          16777215\n",
       "11826          16777215\n",
       "11827          16777215\n",
       "11828          16777215\n",
       "11829          16777215\n",
       "11830          16777215\n",
       "11831          16777215\n",
       "11832          16777215\n",
       "11833          16777215\n",
       "11834          16777215\n",
       "11835          16777215\n",
       "11836          16777215\n",
       "11837          16777215\n",
       "11838          16777215\n",
       "11839          16777215\n",
       "11840          16777215\n",
       "11841          16777215\n",
       "11844          16777215\n",
       "11845          16777215\n",
       "11846          16777215\n",
       "11847          16777215\n",
       "11848          16777215\n",
       "11849          16777215\n",
       "11850          16777215\n",
       "11851          16777215\n",
       "11852          16777215\n",
       "11853          16777215\n",
       "11854          16777215\n",
       "11855          16777215\n",
       "11856          16777215"
      ]
     },
     "execution_count": 52,
     "metadata": {},
     "output_type": "execute_result"
    }
   ],
   "source": [
    "# Show samples with more than 300\n",
    "my_rewatching_ep[my_rewatching_ep['my_rewatching_ep'] > 300]"
   ]
  },
  {
   "cell_type": "code",
   "execution_count": 53,
   "metadata": {},
   "outputs": [
    {
     "data": {
      "text/plain": [
       "0.01490315452719403"
      ]
     },
     "execution_count": 53,
     "metadata": {},
     "output_type": "execute_result"
    }
   ],
   "source": [
    "# Percentage of values that are not 0\n",
    "(my_rewatching_ep.shape[0]/nrow) * 100"
   ]
  },
  {
   "cell_type": "markdown",
   "metadata": {},
   "source": [
    "We can see that there are some really very strange values like 16777215, possibly it's a purposed user error. Beyond it, there are other reasonably high values for this column that do not make much sense.\n",
    "\n",
    "In addition, the valid values (different from zero) are only ~ 0.014% of the total, that is, there are few values for analysis.\n",
    "\n",
    "Again, I believe that this column does not have enough information for the analyzes, so we will exclude them.\n",
    "\n",
    "After that, our pre-processing is finished. Just save the dataset now."
   ]
  },
  {
   "cell_type": "code",
   "execution_count": 54,
   "metadata": {},
   "outputs": [],
   "source": [
    "# Drop column\n",
    "userAnimeList = userAnimeList.drop('my_rewatching_ep')"
   ]
  },
  {
   "cell_type": "code",
   "execution_count": 55,
   "metadata": {},
   "outputs": [],
   "source": [
    "# Save new data\n",
    "userAnimeList.repartition(1).write.csv('UserAnimeListCleaned',header=True)"
   ]
  }
 ],
 "metadata": {
  "kernelspec": {
   "display_name": "Python 3",
   "language": "python",
   "name": "python3"
  },
  "language_info": {
   "codemirror_mode": {
    "name": "ipython",
    "version": 3
   },
   "file_extension": ".py",
   "mimetype": "text/x-python",
   "name": "python",
   "nbconvert_exporter": "python",
   "pygments_lexer": "ipython3",
   "version": "3.7.3"
  }
 },
 "nbformat": 4,
 "nbformat_minor": 2
}
