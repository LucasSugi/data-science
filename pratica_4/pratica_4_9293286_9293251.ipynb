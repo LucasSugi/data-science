{
 "cells": [
  {
   "cell_type": "markdown",
   "metadata": {},
   "source": [
    "# Prática 4: Pré-Processamento\n",
    "\n",
    "### Kelvin Guilherme de Oliveira - 9293286\n",
    "### Lucas Yudi Sugi - 9293251"
   ]
  },
  {
   "cell_type": "markdown",
   "metadata": {},
   "source": [
    "Intro"
   ]
  },
  {
   "cell_type": "markdown",
   "metadata": {},
   "source": [
    "## Dataset: Falhos de plantio\n",
    "\n"
   ]
  },
  {
   "cell_type": "code",
   "execution_count": 1,
   "metadata": {},
   "outputs": [],
   "source": [
    "import pandas as pd\n",
    "import matplotlib.pyplot as plt\n",
    "import numpy as np\n",
    "import seaborn as sns\n",
    "import warnings\n",
    "warnings.filterwarnings(\"ignore\")\n",
    "%matplotlib inline"
   ]
  },
  {
   "cell_type": "code",
   "execution_count": 2,
   "metadata": {
    "scrolled": false
   },
   "outputs": [
    {
     "name": "stdout",
     "output_type": "stream",
     "text": [
      "Porcentagem de amostras com problema no dataset:  0.4712789590606157\n"
     ]
    }
   ],
   "source": [
    "#Leitura do dataset com o pandas\n",
    "dataset = pd.read_csv('./datasets/agro/falhas_plantio_hashing.csv',sep=';',header=0,encoding='latin1',thousands=',')\n",
    "\n",
    "#Extração dos atributos necessários\n",
    "agro = dataset[['Perc_Falha','Perc_Infest_Inv','VM','Ph','FERT_L']].copy()\n",
    "\n",
    "#Contando as linhas com Nan valores\n",
    "counter = 0\n",
    "for i in range(len(agro)):\n",
    "    if(agro.iloc[i,:].isna().sum() != 0):\n",
    "        counter += 1\n",
    "\n",
    "print(\"Porcentagem de amostras com problema no dataset: \",counter/len(agro))"
   ]
  },
  {
   "cell_type": "code",
   "execution_count": 3,
   "metadata": {},
   "outputs": [
    {
     "data": {
      "text/plain": [
       "Perc_Falha         0.056173\n",
       "Perc_Infest_Inv    0.000000\n",
       "VM                 0.413996\n",
       "Ph                 0.246271\n",
       "FERT_L             0.002222\n",
       "dtype: float64"
      ]
     },
     "execution_count": 3,
     "metadata": {},
     "output_type": "execute_result"
    }
   ],
   "source": [
    "#Porcentagem de Nan por atributo\n",
    "agro.isna().sum() / len(agro)"
   ]
  },
  {
   "cell_type": "markdown",
   "metadata": {},
   "source": [
    "Responder pergunta 1\n",
    "\n",
    "Falar que além dos problemas de Nan valores também temos muitos zeros nas colunas Perc_Infest_Inv e FERT_L (que foram descobertos por causas das praticas anteriores). Devemos remover ambos para que o algoritmo de aprendizado de maquina possa alcancar uma maior acuracia"
   ]
  },
  {
   "cell_type": "markdown",
   "metadata": {},
   "source": [
    "Responder pergunta 2"
   ]
  },
  {
   "cell_type": "code",
   "execution_count": 4,
   "metadata": {},
   "outputs": [
    {
     "data": {
      "text/plain": [
       "Perc_Falha         0.000000\n",
       "Perc_Infest_Inv    0.000000\n",
       "VM                 0.401984\n",
       "Ph                 0.252858\n",
       "FERT_L             0.002354\n",
       "dtype: float64"
      ]
     },
     "execution_count": 4,
     "metadata": {},
     "output_type": "execute_result"
    }
   ],
   "source": [
    "#Remoção dos Nan valores para a classe\n",
    "agro = agro[~agro['Perc_Falha'].isna()]\n",
    "\n",
    "#Porcentagem de Nan por atributo\n",
    "agro.isna().sum() / len(agro)"
   ]
  },
  {
   "cell_type": "code",
   "execution_count": 5,
   "metadata": {},
   "outputs": [],
   "source": [
    "#Cálculo dos quantils para gerar as classes\n",
    "classeA = agro['Perc_Falha'].quantile(q=0.20)\n",
    "classeB = agro['Perc_Falha'].quantile(q=0.40)\n",
    "classeC = agro['Perc_Falha'].quantile(q=0.60)\n",
    "classeD = agro['Perc_Falha'].quantile(q=0.80)\n",
    "\n",
    "#Converte os intervalos para uma classe\n",
    "def convert(x):\n",
    "    if(x < classeA):\n",
    "        return 'A'\n",
    "    elif((x > classeA) & (x < classeB)):\n",
    "        return 'B'\n",
    "    elif((x > classeB) & (x < classeC)):\n",
    "        return 'C'\n",
    "    elif((x > classeC) & (x < classeD)):\n",
    "        return 'D'\n",
    "    else:\n",
    "        return 'E'\n",
    "    \n",
    "agro['Perc_Falha'] = agro['Perc_Falha'].apply(convert)"
   ]
  },
  {
   "cell_type": "code",
   "execution_count": 6,
   "metadata": {},
   "outputs": [
    {
     "data": {
      "text/plain": [
       "Perc_Falha         0.000000\n",
       "Perc_Infest_Inv    0.000000\n",
       "VM                 0.343164\n",
       "Ph                 0.123324\n",
       "FERT_L             0.000000\n",
       "dtype: float64"
      ]
     },
     "execution_count": 6,
     "metadata": {},
     "output_type": "execute_result"
    }
   ],
   "source": [
    "#Remoção dos 0 nas colunas (Tambem remove Nan)\n",
    "agro = agro[(agro['Perc_Infest_Inv'] != 0) & (agro['FERT_L'] != 0)]\n",
    "\n",
    "#Recalculando porcentagens de Nan por atributo\n",
    "agro.isna().sum() / len(agro)"
   ]
  },
  {
   "cell_type": "code",
   "execution_count": 7,
   "metadata": {
    "scrolled": true
   },
   "outputs": [
    {
     "data": {
      "text/html": [
       "<div>\n",
       "<style scoped>\n",
       "    .dataframe tbody tr th:only-of-type {\n",
       "        vertical-align: middle;\n",
       "    }\n",
       "\n",
       "    .dataframe tbody tr th {\n",
       "        vertical-align: top;\n",
       "    }\n",
       "\n",
       "    .dataframe thead th {\n",
       "        text-align: right;\n",
       "    }\n",
       "</style>\n",
       "<table border=\"1\" class=\"dataframe\">\n",
       "  <thead>\n",
       "    <tr style=\"text-align: right;\">\n",
       "      <th></th>\n",
       "      <th>Perc_Falha</th>\n",
       "      <th>Perc_Infest_Inv</th>\n",
       "      <th>VM</th>\n",
       "      <th>Ph</th>\n",
       "      <th>FERT_L</th>\n",
       "    </tr>\n",
       "  </thead>\n",
       "  <tbody>\n",
       "    <tr>\n",
       "      <th>2438</th>\n",
       "      <td>A</td>\n",
       "      <td>0.1226</td>\n",
       "      <td>6.57</td>\n",
       "      <td>4.5</td>\n",
       "      <td>1.15</td>\n",
       "    </tr>\n",
       "    <tr>\n",
       "      <th>2439</th>\n",
       "      <td>A</td>\n",
       "      <td>0.0664</td>\n",
       "      <td>6.47</td>\n",
       "      <td>4.5</td>\n",
       "      <td>1.15</td>\n",
       "    </tr>\n",
       "    <tr>\n",
       "      <th>2440</th>\n",
       "      <td>B</td>\n",
       "      <td>0.1133</td>\n",
       "      <td>6.14</td>\n",
       "      <td>4.5</td>\n",
       "      <td>1.15</td>\n",
       "    </tr>\n",
       "    <tr>\n",
       "      <th>2441</th>\n",
       "      <td>A</td>\n",
       "      <td>0.0136</td>\n",
       "      <td>6.94</td>\n",
       "      <td>4.7</td>\n",
       "      <td>1.15</td>\n",
       "    </tr>\n",
       "    <tr>\n",
       "      <th>2442</th>\n",
       "      <td>A</td>\n",
       "      <td>0.0551</td>\n",
       "      <td>6.62</td>\n",
       "      <td>5.9</td>\n",
       "      <td>1.15</td>\n",
       "    </tr>\n",
       "  </tbody>\n",
       "</table>\n",
       "</div>"
      ],
      "text/plain": [
       "     Perc_Falha  Perc_Infest_Inv    VM   Ph  FERT_L\n",
       "2438          A           0.1226  6.57  4.5    1.15\n",
       "2439          A           0.0664  6.47  4.5    1.15\n",
       "2440          B           0.1133  6.14  4.5    1.15\n",
       "2441          A           0.0136  6.94  4.7    1.15\n",
       "2442          A           0.0551  6.62  5.9    1.15"
      ]
     },
     "execution_count": 7,
     "metadata": {},
     "output_type": "execute_result"
    }
   ],
   "source": [
    "#Limpeza 1 - Remove os NaN valores\n",
    "agro1 = agro.dropna().copy()\n",
    "\n",
    "#Mostando os dados\n",
    "agro1.head()"
   ]
  },
  {
   "cell_type": "code",
   "execution_count": 8,
   "metadata": {},
   "outputs": [
    {
     "name": "stdout",
     "output_type": "stream",
     "text": [
      "Média de VM:  6.2717755102040815\n",
      "Média de Ph:  4.856666666666655\n",
      "Mediana de VM: 6.28\n",
      "Mediana de Ph: 4.75\n"
     ]
    }
   ],
   "source": [
    "#Imprimindo as medias de cada atributo\n",
    "print(\"Média de VM: \",agro['VM'].mean())\n",
    "print(\"Média de Ph: \",agro['Ph'].mean())\n",
    "\n",
    "#Imprimindo as medianas de cada atributo\n",
    "print(\"Mediana de VM:\",agro['VM'].median())\n",
    "print(\"Mediana de Ph:\",agro['Ph'].median())"
   ]
  },
  {
   "cell_type": "code",
   "execution_count": 9,
   "metadata": {},
   "outputs": [
    {
     "data": {
      "text/html": [
       "<div>\n",
       "<style scoped>\n",
       "    .dataframe tbody tr th:only-of-type {\n",
       "        vertical-align: middle;\n",
       "    }\n",
       "\n",
       "    .dataframe tbody tr th {\n",
       "        vertical-align: top;\n",
       "    }\n",
       "\n",
       "    .dataframe thead th {\n",
       "        text-align: right;\n",
       "    }\n",
       "</style>\n",
       "<table border=\"1\" class=\"dataframe\">\n",
       "  <thead>\n",
       "    <tr style=\"text-align: right;\">\n",
       "      <th></th>\n",
       "      <th>Perc_Falha</th>\n",
       "      <th>Perc_Infest_Inv</th>\n",
       "      <th>VM</th>\n",
       "      <th>Ph</th>\n",
       "      <th>FERT_L</th>\n",
       "    </tr>\n",
       "  </thead>\n",
       "  <tbody>\n",
       "    <tr>\n",
       "      <th>2438</th>\n",
       "      <td>A</td>\n",
       "      <td>0.1226</td>\n",
       "      <td>6.57</td>\n",
       "      <td>4.5</td>\n",
       "      <td>1.15</td>\n",
       "    </tr>\n",
       "    <tr>\n",
       "      <th>2439</th>\n",
       "      <td>A</td>\n",
       "      <td>0.0664</td>\n",
       "      <td>6.47</td>\n",
       "      <td>4.5</td>\n",
       "      <td>1.15</td>\n",
       "    </tr>\n",
       "    <tr>\n",
       "      <th>2440</th>\n",
       "      <td>B</td>\n",
       "      <td>0.1133</td>\n",
       "      <td>6.14</td>\n",
       "      <td>4.5</td>\n",
       "      <td>1.15</td>\n",
       "    </tr>\n",
       "    <tr>\n",
       "      <th>2441</th>\n",
       "      <td>A</td>\n",
       "      <td>0.0136</td>\n",
       "      <td>6.94</td>\n",
       "      <td>4.7</td>\n",
       "      <td>1.15</td>\n",
       "    </tr>\n",
       "    <tr>\n",
       "      <th>2442</th>\n",
       "      <td>A</td>\n",
       "      <td>0.0551</td>\n",
       "      <td>6.62</td>\n",
       "      <td>5.9</td>\n",
       "      <td>1.15</td>\n",
       "    </tr>\n",
       "  </tbody>\n",
       "</table>\n",
       "</div>"
      ],
      "text/plain": [
       "     Perc_Falha  Perc_Infest_Inv    VM   Ph  FERT_L\n",
       "2438          A           0.1226  6.57  4.5    1.15\n",
       "2439          A           0.0664  6.47  4.5    1.15\n",
       "2440          B           0.1133  6.14  4.5    1.15\n",
       "2441          A           0.0136  6.94  4.7    1.15\n",
       "2442          A           0.0551  6.62  5.9    1.15"
      ]
     },
     "execution_count": 9,
     "metadata": {},
     "output_type": "execute_result"
    }
   ],
   "source": [
    "#Transformação - Substituir os NaN valores pela mediana nos atributos VM e Ph e Perc_Falha\n",
    "agro2 = agro.copy()\n",
    "\n",
    "median = agro2['VM'].median()\n",
    "agro2['VM'] = agro2['VM'].fillna(median)\n",
    "\n",
    "median = agro2['Ph'].median()\n",
    "agro2['Ph'] = agro2['Ph'].fillna(median)\n",
    "\n",
    "#Mostando os dados\n",
    "agro2.head()"
   ]
  },
  {
   "cell_type": "code",
   "execution_count": 10,
   "metadata": {},
   "outputs": [],
   "source": [
    "from sklearn.svm import SVC, SVR\n",
    "from sklearn.tree import DecisionTreeClassifier, DecisionTreeRegressor\n",
    "from sklearn.neighbors import KNeighborsClassifier, KNeighborsRegressor\n",
    "\n",
    "from sklearn.model_selection import KFold\n",
    "from sklearn.metrics import mean_squared_error\n",
    "from numpy import mean, std\n",
    "\n",
    "\n",
    "def reg_clas(data, columns, target, regression=False):\n",
    "    \"\"\"\n",
    "    Executa classificação ou regressão do conjunto de dados passado\n",
    "    ---------------------------------------------------------------\n",
    "    data:       DataFrame. Conjunto de dados\n",
    "    columns:    Lista de inteiros. Índice das colunas utilizadas no treinamento e teste\n",
    "    target:     Inteiro. Índice da coluna alvo\n",
    "    regression: Boleano. True para realizar uma regressão e False para classificação\n",
    "    ---------------------------------------------------------------\n",
    "    Realiza a classificação/regressão em 4 modelos (SVM com kernel linear, \n",
    "    SVM com kernel polinomial de grau 3, Árvore de decisão, e knn com k=5)\n",
    "    Plot o gráfico de desempenho para cada classificador/regressor.\n",
    "    Retorna um dicionário com os classificadores/regressores treinados e as medidas de desempenho\n",
    "    \"\"\"\n",
    "    \n",
    "    # inicializa os modelos com os parâmetros solicitados\n",
    "    if regression:\n",
    "        svm_l = SVR(C=10*len(data), kernel='linear', cache_size=500, max_iter=1e6)\n",
    "        svm_n = SVR(C=10*len(data), kernel='poly', degree=3, gamma=1, coef0=1, cache_size=500, max_iter=1e6)\n",
    "        dt = DecisionTreeRegressor(criterion='mse', splitter='best', min_samples_split=int(len(data)*0.05))\n",
    "        knn = KNeighborsRegressor(n_neighbors=5, weights='uniform', algorithm='kd_tree')\n",
    "    else:\n",
    "        svm_l = SVC(C=10*len(data), kernel='linear', cache_size=500, max_iter=1e6)\n",
    "        svm_n = SVC(C=10*len(data), kernel='poly', degree=3, gamma=1, coef0=1, cache_size=500, max_iter=1e6)\n",
    "        dt = DecisionTreeClassifier(criterion='gini', splitter='best', min_samples_split=int(len(data)*0.1))\n",
    "        knn = KNeighborsClassifier(n_neighbors=5, weights='uniform', algorithm='kd_tree')\n",
    "    \n",
    "    clfs = [svm_l, svm_n, dt, knn]\n",
    "    clfs_names = ['svm_linear', 'svm_poly', 'dt', 'knn']\n",
    "    \n",
    "    # prepara validação cruzada\n",
    "    # faz divisão do dataset em 5 partes\n",
    "    cv = KFold(n_splits=5, shuffle=True)\n",
    "    \n",
    "    # itera para cada classificador fazendo treino e teste\n",
    "    results = {'svm_linear':[], 'svm_poly':[], 'dt':[], 'knn':[]}\n",
    "    for c, c_name in zip(clfs, clfs_names):\n",
    "        for train_index, test_index in cv.split(data):\n",
    "            \n",
    "            # separa conjunto de treino e de teste\n",
    "            x_train, y_train = data.iloc[train_index, columns], data.iloc[train_index, target]\n",
    "            x_test, y_test = data.iloc[test_index, columns], data.iloc[test_index, target]\n",
    "            \n",
    "            # faz o treino do modelo\n",
    "            clf = c.fit(X=x_train, y=y_train)\n",
    "            \n",
    "            # realiza predição no conjunto de teste e salva o resultado\n",
    "            if regression:\n",
    "                results[c_name].append( mean_squared_error(clf.predict(x_test), y_test) )\n",
    "            else:\n",
    "                results[c_name].append( clf.score(x_test, y_test) )\n",
    "    \n",
    "    # faz o plot de desempenho dos classificadores/regressores\n",
    "    plt.figure(figsize=(8,8))\n",
    "    plt.bar(range(1, len(clfs)+1), [mean(results[name]) for name in clfs_names], \n",
    "                                yerr=[std(results[name]) for name in clfs_names])\n",
    "    plt.xticks(range(1, len(clfs)+1), clfs_names, rotation=45)\n",
    "    title = 'Desempenho dos regressores - erro quadrático médio' if regression else \\\n",
    "            'Desempenho dos classificadores - acurácia'\n",
    "    plt.title(title)\n",
    "    plt.show()\n",
    "    \n",
    "    return {'results': results, 'clfs':clfs}"
   ]
  },
  {
   "cell_type": "code",
   "execution_count": 11,
   "metadata": {},
   "outputs": [
    {
     "data": {
      "image/png": "[encoded data removed]",
      "text/plain": [
       "<matplotlib.figure.Figure at 0x7fe0a9fec5f8>"
      ]
     },
     "metadata": {},
     "output_type": "display_data"
    },
    {
     "data": {
      "text/plain": [
       "{'clfs': [SVC(C=4900, cache_size=500, class_weight=None, coef0=0.0,\n",
       "    decision_function_shape='ovr', degree=3, gamma='auto', kernel='linear',\n",
       "    max_iter=1000000.0, probability=False, random_state=None, shrinking=True,\n",
       "    tol=0.001, verbose=False),\n",
       "  SVC(C=4900, cache_size=500, class_weight=None, coef0=1,\n",
       "    decision_function_shape='ovr', degree=3, gamma=1, kernel='poly',\n",
       "    max_iter=1000000.0, probability=False, random_state=None, shrinking=True,\n",
       "    tol=0.001, verbose=False),\n",
       "  DecisionTreeClassifier(class_weight=None, criterion='gini', max_depth=None,\n",
       "              max_features=None, max_leaf_nodes=None,\n",
       "              min_impurity_decrease=0.0, min_impurity_split=None,\n",
       "              min_samples_leaf=1, min_samples_split=49,\n",
       "              min_weight_fraction_leaf=0.0, presort=False, random_state=None,\n",
       "              splitter='best'),\n",
       "  KNeighborsClassifier(algorithm='kd_tree', leaf_size=30, metric='minkowski',\n",
       "             metric_params=None, n_jobs=1, n_neighbors=5, p=2,\n",
       "             weights='uniform')],\n",
       " 'results': {'dt': [0.32653061224489793,\n",
       "   0.32653061224489793,\n",
       "   0.3673469387755102,\n",
       "   0.20408163265306123,\n",
       "   0.32653061224489793],\n",
       "  'knn': [0.1836734693877551,\n",
       "   0.23469387755102042,\n",
       "   0.3163265306122449,\n",
       "   0.29591836734693877,\n",
       "   0.2653061224489796],\n",
       "  'svm_linear': [0.2653061224489796,\n",
       "   0.22448979591836735,\n",
       "   0.2755102040816326,\n",
       "   0.25510204081632654,\n",
       "   0.2653061224489796],\n",
       "  'svm_poly': [0.3163265306122449,\n",
       "   0.25510204081632654,\n",
       "   0.17346938775510204,\n",
       "   0.21428571428571427,\n",
       "   0.21428571428571427]}}"
      ]
     },
     "execution_count": 11,
     "metadata": {},
     "output_type": "execute_result"
    }
   ],
   "source": [
    "#Classificação\n",
    "data = agro1\n",
    "columns = [1,2,3,4]\n",
    "target = 0\n",
    "\n",
    "reg_clas(data, columns, target, regression=False)"
   ]
  },
  {
   "cell_type": "code",
   "execution_count": 12,
   "metadata": {},
   "outputs": [
    {
     "data": {
      "image/png": "[encoded data removed]",
      "text/plain": [
       "<matplotlib.figure.Figure at 0x7fe0a2e854e0>"
      ]
     },
     "metadata": {},
     "output_type": "display_data"
    },
    {
     "data": {
      "text/plain": [
       "{'clfs': [SVC(C=7460, cache_size=500, class_weight=None, coef0=0.0,\n",
       "    decision_function_shape='ovr', degree=3, gamma='auto', kernel='linear',\n",
       "    max_iter=1000000.0, probability=False, random_state=None, shrinking=True,\n",
       "    tol=0.001, verbose=False),\n",
       "  SVC(C=7460, cache_size=500, class_weight=None, coef0=1,\n",
       "    decision_function_shape='ovr', degree=3, gamma=1, kernel='poly',\n",
       "    max_iter=1000000.0, probability=False, random_state=None, shrinking=True,\n",
       "    tol=0.001, verbose=False),\n",
       "  DecisionTreeClassifier(class_weight=None, criterion='gini', max_depth=None,\n",
       "              max_features=None, max_leaf_nodes=None,\n",
       "              min_impurity_decrease=0.0, min_impurity_split=None,\n",
       "              min_samples_leaf=1, min_samples_split=74,\n",
       "              min_weight_fraction_leaf=0.0, presort=False, random_state=None,\n",
       "              splitter='best'),\n",
       "  KNeighborsClassifier(algorithm='kd_tree', leaf_size=30, metric='minkowski',\n",
       "             metric_params=None, n_jobs=1, n_neighbors=5, p=2,\n",
       "             weights='uniform')],\n",
       " 'results': {'dt': [0.2733333333333333,\n",
       "   0.2214765100671141,\n",
       "   0.3221476510067114,\n",
       "   0.24161073825503357,\n",
       "   0.2483221476510067],\n",
       "  'knn': [0.31333333333333335,\n",
       "   0.28859060402684567,\n",
       "   0.30201342281879195,\n",
       "   0.24161073825503357,\n",
       "   0.35570469798657717],\n",
       "  'svm_linear': [0.30666666666666664,\n",
       "   0.21476510067114093,\n",
       "   0.26174496644295303,\n",
       "   0.2550335570469799,\n",
       "   0.2550335570469799],\n",
       "  'svm_poly': [0.18,\n",
       "   0.16778523489932887,\n",
       "   0.18791946308724833,\n",
       "   0.20134228187919462,\n",
       "   0.2483221476510067]}}"
      ]
     },
     "execution_count": 12,
     "metadata": {},
     "output_type": "execute_result"
    }
   ],
   "source": [
    "#Classificação\n",
    "data = agro2\n",
    "columns = [1,2,3,4]\n",
    "target = 0\n",
    "\n",
    "reg_clas(data, columns, target, regression=False)"
   ]
  }
 ],
 "metadata": {
  "kernelspec": {
   "display_name": "Python 3",
   "language": "python",
   "name": "python3"
  },
  "language_info": {
   "codemirror_mode": {
    "name": "ipython",
    "version": 3
   },
   "file_extension": ".py",
   "mimetype": "text/x-python",
   "name": "python",
   "nbconvert_exporter": "python",
   "pygments_lexer": "ipython3",
   "version": "3.6.4"
  }
 },
 "nbformat": 4,
 "nbformat_minor": 2
}
