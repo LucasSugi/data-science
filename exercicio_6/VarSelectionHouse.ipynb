{
 "cells": [
  {
   "cell_type": "markdown",
   "metadata": {},
   "source": [
    "# Seleção de variáveis\n",
    "\n",
    "Neste notebook iremos estudar o dataset __houses__ com o objetivo de avaliar a interação de primeira e segunda ordem que as variáveis causam umas nas outras. Além disso, será aplicado uma seleção de variáveis por meio do método stepwise."
   ]
  },
  {
   "cell_type": "code",
   "execution_count": 1,
   "metadata": {},
   "outputs": [
    {
     "data": {
      "text/html": [
       "<table>\n",
       "<thead><tr><th scope=col>case</th><th scope=col>taxes</th><th scope=col>beds</th><th scope=col>baths</th><th scope=col>new</th><th scope=col>price</th><th scope=col>size</th></tr></thead>\n",
       "<tbody>\n",
       "\t<tr><td>1    </td><td>3104 </td><td>4    </td><td>2    </td><td>0    </td><td>279.9</td><td>2048 </td></tr>\n",
       "\t<tr><td>2    </td><td>1173 </td><td>2    </td><td>1    </td><td>0    </td><td>146.5</td><td> 912 </td></tr>\n",
       "\t<tr><td>3    </td><td>3076 </td><td>4    </td><td>2    </td><td>0    </td><td>237.7</td><td>1654 </td></tr>\n",
       "\t<tr><td>4    </td><td>1608 </td><td>3    </td><td>2    </td><td>0    </td><td>200.0</td><td>2068 </td></tr>\n",
       "\t<tr><td>5    </td><td>1454 </td><td>3    </td><td>3    </td><td>0    </td><td>159.9</td><td>1477 </td></tr>\n",
       "\t<tr><td>6    </td><td>2997 </td><td>3    </td><td>2    </td><td>1    </td><td>499.9</td><td>3153 </td></tr>\n",
       "</tbody>\n",
       "</table>\n"
      ],
      "text/latex": [
       "\\begin{tabular}{r|lllllll}\n",
       " case & taxes & beds & baths & new & price & size\\\\\n",
       "\\hline\n",
       "\t 1     & 3104  & 4     & 2     & 0     & 279.9 & 2048 \\\\\n",
       "\t 2     & 1173  & 2     & 1     & 0     & 146.5 &  912 \\\\\n",
       "\t 3     & 3076  & 4     & 2     & 0     & 237.7 & 1654 \\\\\n",
       "\t 4     & 1608  & 3     & 2     & 0     & 200.0 & 2068 \\\\\n",
       "\t 5     & 1454  & 3     & 3     & 0     & 159.9 & 1477 \\\\\n",
       "\t 6     & 2997  & 3     & 2     & 1     & 499.9 & 3153 \\\\\n",
       "\\end{tabular}\n"
      ],
      "text/markdown": [
       "\n",
       "case | taxes | beds | baths | new | price | size | \n",
       "|---|---|---|---|---|---|\n",
       "| 1     | 3104  | 4     | 2     | 0     | 279.9 | 2048  | \n",
       "| 2     | 1173  | 2     | 1     | 0     | 146.5 |  912  | \n",
       "| 3     | 3076  | 4     | 2     | 0     | 237.7 | 1654  | \n",
       "| 4     | 1608  | 3     | 2     | 0     | 200.0 | 2068  | \n",
       "| 5     | 1454  | 3     | 3     | 0     | 159.9 | 1477  | \n",
       "| 6     | 2997  | 3     | 2     | 1     | 499.9 | 3153  | \n",
       "\n",
       "\n"
      ],
      "text/plain": [
       "  case taxes beds baths new price size\n",
       "1 1    3104  4    2     0   279.9 2048\n",
       "2 2    1173  2    1     0   146.5  912\n",
       "3 3    3076  4    2     0   237.7 1654\n",
       "4 4    1608  3    2     0   200.0 2068\n",
       "5 5    1454  3    3     0   159.9 1477\n",
       "6 6    2997  3    2     1   499.9 3153"
      ]
     },
     "metadata": {},
     "output_type": "display_data"
    }
   ],
   "source": [
    "#Leitura e apresentacao do dataset\n",
    "casas <- read.table(\"houses.dat\", header=T)\n",
    "head(casas)"
   ]
  },
  {
   "cell_type": "markdown",
   "metadata": {},
   "source": [
    "Ajuste de dois modelos com todos os parâmetros (exceto taxes) avaliando a interação de primeira e segunda ordem."
   ]
  },
  {
   "cell_type": "code",
   "execution_count": 2,
   "metadata": {
    "scrolled": true
   },
   "outputs": [
    {
     "data": {
      "text/plain": [
       "\n",
       "Call:\n",
       "glm(formula = price ~ beds + baths + new + size, family = gaussian(link = \"identity\"))\n",
       "\n",
       "Deviance Residuals: \n",
       "     Min        1Q    Median        3Q       Max  \n",
       "-215.747   -30.833    -5.574    18.800   164.471  \n",
       "\n",
       "Coefficients:\n",
       "             Estimate Std. Error t value Pr(>|t|)    \n",
       "(Intercept) -28.84922   27.26116  -1.058  0.29262    \n",
       "beds         -8.20238   10.44984  -0.785  0.43445    \n",
       "baths         5.27378   13.08017   0.403  0.68772    \n",
       "new          54.56238   19.21489   2.840  0.00553 ** \n",
       "size          0.11812    0.01232   9.585 1.27e-15 ***\n",
       "---\n",
       "Signif. codes:  0 ‘***’ 0.001 ‘**’ 0.01 ‘*’ 0.05 ‘.’ 0.1 ‘ ’ 1\n",
       "\n",
       "(Dispersion parameter for gaussian family taken to be 2943.411)\n",
       "\n",
       "    Null deviance: 1015150  on 99  degrees of freedom\n",
       "Residual deviance:  279624  on 95  degrees of freedom\n",
       "AIC: 1089.4\n",
       "\n",
       "Number of Fisher Scoring iterations: 2\n"
      ]
     },
     "metadata": {},
     "output_type": "display_data"
    },
    {
     "data": {
      "text/plain": [
       "\n",
       "Call:\n",
       "glm(formula = price ~ (beds + baths + new + size)^2, family = gaussian(link = \"identity\"))\n",
       "\n",
       "Deviance Residuals: \n",
       "     Min        1Q    Median        3Q       Max  \n",
       "-138.303   -28.479    -3.314    18.240   179.437  \n",
       "\n",
       "Coefficients:\n",
       "              Estimate Std. Error t value Pr(>|t|)    \n",
       "(Intercept)  1.391e+02  6.662e+01   2.087 0.039727 *  \n",
       "beds        -5.954e+01  3.330e+01  -1.788 0.077180 .  \n",
       "baths        1.426e+01  4.703e+01   0.303 0.762432    \n",
       "new          1.033e+02  1.065e+02   0.970 0.334441    \n",
       "size        -1.948e-03  5.613e-02  -0.035 0.972395    \n",
       "beds:baths   8.135e-01  1.750e+01   0.046 0.963028    \n",
       "beds:new    -1.045e+01  4.017e+01  -0.260 0.795403    \n",
       "beds:size    3.277e-02  1.661e-02   1.972 0.051690 .  \n",
       "baths:new   -1.043e+02  5.181e+01  -2.014 0.047075 *  \n",
       "baths:size  -3.083e-03  1.590e-02  -0.194 0.846715    \n",
       "new:size     1.053e-01  3.069e-02   3.431 0.000915 ***\n",
       "---\n",
       "Signif. codes:  0 ‘***’ 0.001 ‘**’ 0.01 ‘*’ 0.05 ‘.’ 0.1 ‘ ’ 1\n",
       "\n",
       "(Dispersion parameter for gaussian family taken to be 2448.499)\n",
       "\n",
       "    Null deviance: 1015150  on 99  degrees of freedom\n",
       "Residual deviance:  217916  on 89  degrees of freedom\n",
       "AIC: 1076.5\n",
       "\n",
       "Number of Fisher Scoring iterations: 2\n"
      ]
     },
     "metadata": {},
     "output_type": "display_data"
    }
   ],
   "source": [
    "#Ajustando os modelos\n",
    "modN1 = with(casas,glm(price ~ beds + baths + new + size, family = gaussian(link=\"identity\")))\n",
    "modN2 = with(casas,glm(price ~ (beds + baths + new + size)^2, family = gaussian(link=\"identity\")))\n",
    "\n",
    "#Mostrando dados do modelo\n",
    "summary(modN1)\n",
    "summary(modN2)"
   ]
  },
  {
   "cell_type": "markdown",
   "metadata": {},
   "source": [
    "Analisando o p-value de cada variável vemos que existem umas que são mais relevantes e outras não. Note no modelo 2 (modN2) que as interações de segunda ordem mais relevantes são __new:size e baths:size__. Isso nos demonstra que existe relações entre variáveis que devemos considerar em nossa modelagem. Por exemplo, o valor da casa ser nova aparenta afetar o seu tamanho.\n",
    "\n",
    "Vamos testar se há igualdade dos desvios para ambos os modelos por meio do teste F. Isso nos demonstrará se os modelos são estatísticamente iguais ou não."
   ]
  },
  {
   "cell_type": "code",
   "execution_count": 3,
   "metadata": {},
   "outputs": [
    {
     "data": {
      "text/html": [
       "<table>\n",
       "<thead><tr><th scope=col>Resid. Df</th><th scope=col>Resid. Dev</th><th scope=col>Df</th><th scope=col>Deviance</th><th scope=col>F</th><th scope=col>Pr(&gt;F)</th></tr></thead>\n",
       "<tbody>\n",
       "\t<tr><td>95          </td><td>279624.1    </td><td>NA          </td><td>      NA    </td><td>      NA    </td><td>          NA</td></tr>\n",
       "\t<tr><td>89          </td><td>217916.4    </td><td> 6          </td><td>61707.71    </td><td>4.200377    </td><td>0.0009127911</td></tr>\n",
       "</tbody>\n",
       "</table>\n"
      ],
      "text/latex": [
       "\\begin{tabular}{r|llllll}\n",
       " Resid. Df & Resid. Dev & Df & Deviance & F & Pr(>F)\\\\\n",
       "\\hline\n",
       "\t 95           & 279624.1     & NA           &       NA     &       NA     &           NA\\\\\n",
       "\t 89           & 217916.4     &  6           & 61707.71     & 4.200377     & 0.0009127911\\\\\n",
       "\\end{tabular}\n"
      ],
      "text/markdown": [
       "\n",
       "Resid. Df | Resid. Dev | Df | Deviance | F | Pr(>F) | \n",
       "|---|---|\n",
       "| 95           | 279624.1     | NA           |       NA     |       NA     |           NA | \n",
       "| 89           | 217916.4     |  6           | 61707.71     | 4.200377     | 0.0009127911 | \n",
       "\n",
       "\n"
      ],
      "text/plain": [
       "  Resid. Df Resid. Dev Df Deviance F        Pr(>F)      \n",
       "1 95        279624.1   NA       NA       NA           NA\n",
       "2 89        217916.4    6 61707.71 4.200377 0.0009127911"
      ]
     },
     "metadata": {},
     "output_type": "display_data"
    }
   ],
   "source": [
    "#Testando se os desvios são iguais\n",
    "anova(modN1,modN2,test='F')"
   ]
  },
  {
   "cell_type": "markdown",
   "metadata": {},
   "source": [
    "Pelo resultado do p-value vemos que deve-se rejeitar a hipótese nula de que ambos possuem desvios iguais. Sabendo que os modelos são diferentes iremos criar um novo que contenha as interações mais relevantes. Após esse passo iremos remove-las individualmente para verificar o seu efeito no modelo."
   ]
  },
  {
   "cell_type": "code",
   "execution_count": 4,
   "metadata": {},
   "outputs": [
    {
     "data": {
      "text/plain": [
       "\n",
       "Call:\n",
       "lm(formula = price ~ beds + baths + new + size + baths * new + \n",
       "    new * size)\n",
       "\n",
       "Residuals:\n",
       "     Min       1Q   Median       3Q      Max \n",
       "-177.127  -29.451   -3.575   16.559  184.867 \n",
       "\n",
       "Coefficients:\n",
       "              Estimate Std. Error t value Pr(>|t|)    \n",
       "(Intercept)  -28.24361   26.30667  -1.074 0.285767    \n",
       "beds          -4.38277    9.96498  -0.440 0.661090    \n",
       "baths         14.68847   12.83526   1.144 0.255401    \n",
       "new           58.10608   81.21488   0.715 0.476117    \n",
       "size           0.09863    0.01296   7.610 2.19e-11 ***\n",
       "baths:new   -103.91647   47.76275  -2.176 0.032114 *  \n",
       "new:size       0.10757    0.03022   3.560 0.000586 ***\n",
       "---\n",
       "Signif. codes:  0 ‘***’ 0.001 ‘**’ 0.01 ‘*’ 0.05 ‘.’ 0.1 ‘ ’ 1\n",
       "\n",
       "Residual standard error: 51.4 on 93 degrees of freedom\n",
       "Multiple R-squared:  0.758,\tAdjusted R-squared:  0.7424 \n",
       "F-statistic: 48.55 on 6 and 93 DF,  p-value: < 2.2e-16\n"
      ]
     },
     "metadata": {},
     "output_type": "display_data"
    },
    {
     "data": {
      "text/plain": [
       "\n",
       "Call:\n",
       "lm(formula = price ~ beds + baths + new + size + new:size)\n",
       "\n",
       "Residuals:\n",
       "     Min       1Q   Median       3Q      Max \n",
       "-181.045  -27.047   -5.318   14.777  189.677 \n",
       "\n",
       "Coefficients:\n",
       "             Estimate Std. Error t value Pr(>|t|)    \n",
       "(Intercept) -19.80698   26.53101  -0.747  0.45719    \n",
       "beds         -5.07973   10.15570  -0.500  0.61811    \n",
       "baths         7.63252   12.66301   0.603  0.54813    \n",
       "new         -80.07128   51.61507  -1.551  0.12419    \n",
       "size          0.10326    0.01304   7.921 4.68e-12 ***\n",
       "new:size      0.06173    0.02208   2.795  0.00628 ** \n",
       "---\n",
       "Signif. codes:  0 ‘***’ 0.001 ‘**’ 0.01 ‘*’ 0.05 ‘.’ 0.1 ‘ ’ 1\n",
       "\n",
       "Residual standard error: 52.41 on 94 degrees of freedom\n",
       "Multiple R-squared:  0.7457,\tAdjusted R-squared:  0.7322 \n",
       "F-statistic: 55.13 on 5 and 94 DF,  p-value: < 2.2e-16\n"
      ]
     },
     "metadata": {},
     "output_type": "display_data"
    },
    {
     "data": {
      "text/plain": [
       "\n",
       "Call:\n",
       "lm(formula = price ~ beds + baths + new + size + baths:new)\n",
       "\n",
       "Residuals:\n",
       "     Min       1Q   Median       3Q      Max \n",
       "-212.664  -31.048   -5.088   18.072  167.790 \n",
       "\n",
       "Coefficients:\n",
       "             Estimate Std. Error t value Pr(>|t|)    \n",
       "(Intercept) -26.71176   27.88880  -0.958    0.341    \n",
       "beds         -7.97357   10.51145  -0.759    0.450    \n",
       "baths         4.52548   13.26817   0.341    0.734    \n",
       "new          20.96484   85.39741   0.245    0.807    \n",
       "size          0.11721    0.01258   9.319 5.16e-15 ***\n",
       "baths:new    14.65982   36.29788   0.404    0.687    \n",
       "---\n",
       "Signif. codes:  0 ‘***’ 0.001 ‘**’ 0.01 ‘*’ 0.05 ‘.’ 0.1 ‘ ’ 1\n",
       "\n",
       "Residual standard error: 54.49 on 94 degrees of freedom\n",
       "Multiple R-squared:  0.725,\tAdjusted R-squared:  0.7104 \n",
       "F-statistic: 49.57 on 5 and 94 DF,  p-value: < 2.2e-16\n"
      ]
     },
     "metadata": {},
     "output_type": "display_data"
    }
   ],
   "source": [
    "#Modelo com as interações mais relevantes\n",
    "modN3 = with(casas,lm(price ~ beds + baths + new + size + baths*new + new*size))\n",
    "\n",
    "#Descrição do modelo 3\n",
    "summary(modN3)\n",
    "\n",
    "#Removendo uma interação\n",
    "summary(update(modN3,.~. - new:baths))\n",
    "\n",
    "#Removendo outra interação\n",
    "summary(update(modN3,.~. - new:size))"
   ]
  },
  {
   "cell_type": "markdown",
   "metadata": {},
   "source": [
    "Analisando as 3 opções do terceiro modelo criado, note que o último indica que apenas size é uma variável relevante. Por isso iremos descartá-lo. Comparando o primeiro com o segundo notamos que o seu valor de adjusted R-squared são bem parecidos. Como o segundo consegue explicar bem os dados com menos parâmetros iremos escolhe-lo para continuar este notebook.\n",
    "\n",
    "Dado a opção 2 do terceiro modelo vamos remover a variável baths e avaliar o efeito disso."
   ]
  },
  {
   "cell_type": "code",
   "execution_count": 5,
   "metadata": {},
   "outputs": [
    {
     "data": {
      "text/plain": [
       "\n",
       "Call:\n",
       "lm(formula = price ~ beds + new + size + new:size)\n",
       "\n",
       "Residuals:\n",
       "     Min       1Q   Median       3Q      Max \n",
       "-181.982  -28.088   -6.876   15.571  194.062 \n",
       "\n",
       "Coefficients:\n",
       "             Estimate Std. Error t value Pr(>|t|)    \n",
       "(Intercept) -14.67865   25.04536  -0.586  0.55921    \n",
       "beds         -3.81395    9.90285  -0.385  0.70100    \n",
       "new         -77.65111   51.28592  -1.514  0.13332    \n",
       "size          0.10694    0.01148   9.316 4.78e-15 ***\n",
       "new:size      0.06084    0.02196   2.771  0.00673 ** \n",
       "---\n",
       "Signif. codes:  0 ‘***’ 0.001 ‘**’ 0.01 ‘*’ 0.05 ‘.’ 0.1 ‘ ’ 1\n",
       "\n",
       "Residual standard error: 52.23 on 95 degrees of freedom\n",
       "Multiple R-squared:  0.7447,\tAdjusted R-squared:  0.734 \n",
       "F-statistic: 69.28 on 4 and 95 DF,  p-value: < 2.2e-16\n"
      ]
     },
     "metadata": {},
     "output_type": "display_data"
    }
   ],
   "source": [
    "modN4 = update(modN3,.~. - new:baths - baths)\n",
    "summary(modN4)"
   ]
  }
 ],
 "metadata": {
  "kernelspec": {
   "display_name": "R",
   "language": "R",
   "name": "ir"
  },
  "language_info": {
   "codemirror_mode": "r",
   "file_extension": ".r",
   "mimetype": "text/x-r-source",
   "name": "R",
   "pygments_lexer": "r",
   "version": "3.4.3"
  }
 },
 "nbformat": 4,
 "nbformat_minor": 2
}
